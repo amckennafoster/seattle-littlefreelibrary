{
 "cells": [
  {
   "cell_type": "markdown",
   "metadata": {},
   "source": [
    "# Pull in data from Seattle Public Library\n",
    "\n",
    "This notebook also creates the figure comparing the publication dates between public library books and LFL books.\n",
    "It also sets up the data files with the percent fiction and percent juvenile books per library branch."
   ]
  },
  {
   "cell_type": "code",
   "execution_count": 1,
   "metadata": {
    "scrolled": true
   },
   "outputs": [],
   "source": [
    "#import the required libraries\n",
    "import os\n",
    "import csv\n",
    "import requests\n",
    "import json as json\n",
    "import pandas as pd\n",
    "from pandas.io.json import json_normalize\n",
    "import datetime\n",
    "import numpy as np\n",
    "import matplotlib.pyplot as plt\n",
    "#is this needed?\n",
    "%matplotlib inline \n",
    "from matplotlib import cm\n",
    "import seaborn as sns\n",
    "from matplotlib.ticker import PercentFormatter\n",
    "import scipy.stats as sps\n"
   ]
  },
  {
   "cell_type": "markdown",
   "metadata": {},
   "source": [
    "## The following are api calls that provide some useful information"
   ]
  },
  {
   "cell_type": "code",
   "execution_count": null,
   "metadata": {},
   "outputs": [],
   "source": [
    "#Counts the number of books from 11/1/2019. Over 1.4 million\n",
    "https://data.seattle.gov/resource/6vkj-f5xf.json?$select=count(BibNum)&reportdate=2019-11-01T00:00:00.000\n",
    "#get list of neighborhoods\n",
    "https://data.seattle.gov/resource/6vkj-f5xf.json?$query=select distinct ItemLocation\n",
    "#See number by a neightborhood\n",
    "https://data.seattle.gov/resource/6vkj-f5xf.json?$select=count(BibNum)&ItemLocation=cen\n",
    "#I think we need: col, mon, qna, GWD or gwd? (I think gwd), nga, uni AND net, mgm (Madrona Sally Goaldman for central).\n",
    "#None in Laurelhusrt\n",
    "#This returns counts by location:\n",
    "https://data.seattle.gov/resource/6vkj-f5xf.json?$select=ItemLocation,count(BibNum)&$group=ItemLocation\n",
    "\n",
    "#Not sure if this works    \n",
    "https://data.seattle.gov/resource/6vkj-f5xf.json?$query=select count(BibNum) where ItemLocation=col OR ItemLocation=mon\n",
    "    \n",
    "    "
   ]
  },
  {
   "cell_type": "markdown",
   "metadata": {},
   "source": [
    "## Skip to Analysis if you have files already"
   ]
  },
  {
   "cell_type": "markdown",
   "metadata": {},
   "source": [
    "## Open json file"
   ]
  },
  {
   "cell_type": "code",
   "execution_count": 2,
   "metadata": {},
   "outputs": [],
   "source": [
    "#Open up the files for reading\n",
    "with open(\"SPL-bibCOUNTS-May2019.json\", \"r\") as read_file: #Replace this with the filename of your choice\n",
    "    jmay = json.load(read_file)\n",
    "with open(\"SPL-bibCOUNTS-July2019.json\", \"r\") as read_file: #Replace this with the filename of your choice\n",
    "    jjuly = json.load(read_file)\n"
   ]
  },
  {
   "cell_type": "markdown",
   "metadata": {},
   "source": [
    "## Get the number of books in branches\n"
   ]
  },
  {
   "cell_type": "code",
   "execution_count": 21,
   "metadata": {},
   "outputs": [],
   "source": [
    "#This gets the recent ones for the neighborhoods and the date\n",
    "coldate1 = '\"2019-05-01T00:00:00.000\"'\n",
    "coldate2 = '\"2019-07-01T00:00:00.000\"'\n",
    "may=requests.get('https://data.seattle.gov/resource/6vkj-f5xf.json?$select=ItemLocation,count(BibNum)&$where=reportdate='+coldate1+'&$group=ItemLocation') #build string according to SOCRATA's convention to get public data assets\n",
    "july=requests.get('https://data.seattle.gov/resource/6vkj-f5xf.json?$select=ItemLocation,count(BibNum)&$where=reportdate='+coldate2+'&$group=ItemLocation') #build string according to SOCRATA's convention to get public data assets\n",
    "\n",
    "#THis one gets all:\n",
    "#r=requests.get('https://data.seattle.gov/resource/6vkj-f5xf.json?$select=ItemLocation,count(BibNum)&$group=ItemLocation') #build string according to SOCRATA's convention to get public data assets\n",
    "jmay=json.loads(may.text) #parse the json into a list\n",
    "jjuly=json.loads(july.text) #parse the json into a list\n"
   ]
  },
  {
   "cell_type": "code",
   "execution_count": 22,
   "metadata": {},
   "outputs": [
    {
     "name": "stdout",
     "output_type": "stream",
     "text": [
      "65\n",
      "33\n",
      "32\n"
     ]
    }
   ],
   "source": [
    "test = jmay +jjuly\n",
    "print(len(test))\n",
    "print(len(jmay))\n",
    "print(len(jjuly))"
   ]
  },
  {
   "cell_type": "code",
   "execution_count": 23,
   "metadata": {},
   "outputs": [
    {
     "data": {
      "text/plain": [
       "{'ItemLocation': 'col', 'count_BibNum': '32701'}"
      ]
     },
     "execution_count": 23,
     "metadata": {},
     "output_type": "execute_result"
    }
   ],
   "source": [
    "#jmay[0]\n",
    "jjuly[0]\n"
   ]
  },
  {
   "cell_type": "markdown",
   "metadata": {},
   "source": [
    "## Save the json files"
   ]
  },
  {
   "cell_type": "code",
   "execution_count": 24,
   "metadata": {},
   "outputs": [],
   "source": [
    "with open('SPL-bibCOUNTS-May2019.json', \"w\") as write_file:\n",
    "    json.dump(jmay, write_file)\n",
    "with open('SPL-bibCOUNTS-July2019.json', \"w\") as write_file:\n",
    "    json.dump(jjuly, write_file)"
   ]
  },
  {
   "cell_type": "markdown",
   "metadata": {},
   "source": [
    "## Get the count of books in your branches\n"
   ]
  },
  {
   "cell_type": "code",
   "execution_count": 39,
   "metadata": {},
   "outputs": [
    {
     "name": "stdout",
     "output_type": "stream",
     "text": [
      "List built: 7 elements\n",
      "List built: 2 elements\n"
     ]
    }
   ],
   "source": [
    "#OLD data collection: col, mon, qna, GWD or gwd? (I think gwd), nga, uni AND net, mgm\n",
    "#Better update: col, mon, qna, gwd, nga, net, mgm and dth (these two are for Central)\n",
    "#Just to have the data, get net for May to compare with Laurelhurst\n",
    "mayhoods = jmay #create a json file to mess with\n",
    "julyhoods = jjuly\n",
    "\n",
    "branches1=[] #dim list as a empty list\n",
    "\n",
    "for c in mayhoods:  #d is the dictionary of parsed json\n",
    "        if c['ItemLocation']=='col':\n",
    "            branches1.append(c['count_BibNum'])\n",
    "        if c['ItemLocation']=='mgm':\n",
    "            branches1.append(c['count_BibNum'])\n",
    "        if c['ItemLocation']=='dth':\n",
    "            branches1.append(c['count_BibNum'])\n",
    "        if c['ItemLocation']=='qna':\n",
    "            branches1.append(c['count_BibNum'])\n",
    "        if c['ItemLocation']=='gwd':\n",
    "            branches1.append(c['count_BibNum'])\n",
    "        if c['ItemLocation']=='nga':\n",
    "            branches1.append(c['count_BibNum'])\n",
    "        if c['ItemLocation']=='net': #This is for laurelhurst\n",
    "            branches1.append(c['count_BibNum'])\n",
    "\n",
    "            \n",
    "branches2=[] #dim list as a empty list\n",
    "\n",
    "for c in julyhoods:  #d is the dictionary of parsed json\n",
    "        if c['ItemLocation']=='net': #This is for Ravenna\n",
    "            branches2.append(c['count_BibNum'])\n",
    "        if c['ItemLocation']=='mon':\n",
    "            branches2.append(c['count_BibNum'])\n",
    "\n",
    "print(\"List built:\", len(branches1),\"elements\") #print how many elements are in lists\n",
    "print(\"List built:\", len(branches2),\"elements\")"
   ]
  },
  {
   "cell_type": "code",
   "execution_count": 40,
   "metadata": {},
   "outputs": [
    {
     "name": "stdout",
     "output_type": "stream",
     "text": [
      "0    31488\n",
      "1    34276\n",
      "2    51710\n",
      "3    48137\n",
      "4    23893\n",
      "5    60289\n",
      "6    10226\n",
      "Name: bibcount, dtype: int64\n",
      "0    16425\n",
      "1    60672\n",
      "Name: bibcount, dtype: int64\n"
     ]
    }
   ],
   "source": [
    "#Convert the dictionary to a dataframe\n",
    "bibctsmay = pd.DataFrame(branches1, columns=['bibcount'])\n",
    "bibctsmay = pd.to_numeric(bibctsmay['bibcount'])\n",
    "\n",
    "bibctsjuly = pd.DataFrame(branches2, columns=['bibcount'])\n",
    "bibctsjuly = pd.to_numeric(bibctsjuly['bibcount'])\n",
    "\n",
    "print(bibctsmay.head(10))\n",
    "print(bibctsjuly.head(10))\n"
   ]
  },
  {
   "cell_type": "code",
   "execution_count": 41,
   "metadata": {},
   "outputs": [
    {
     "name": "stdout",
     "output_type": "stream",
     "text": [
      "260019\n",
      "77097\n"
     ]
    }
   ],
   "source": [
    "#This is needed to get the totals for the next part which is gathering the actual data\n",
    "maybooks=bibctsmay.sum()\n",
    "julybooks=bibctsjuly.sum()\n",
    "print(maybooks)\n",
    "print(julybooks)"
   ]
  },
  {
   "cell_type": "markdown",
   "metadata": {},
   "source": [
    "# Retrieve Recent Records"
   ]
  },
  {
   "cell_type": "markdown",
   "metadata": {},
   "source": [
    "### Open previous json if alread gathered, then skip to create CSV"
   ]
  },
  {
   "cell_type": "code",
   "execution_count": 3,
   "metadata": {},
   "outputs": [
    {
     "data": {
      "text/plain": [
       "337116"
      ]
     },
     "execution_count": 3,
     "metadata": {},
     "output_type": "execute_result"
    }
   ],
   "source": [
    "#Open up the file for reading (this file location is on a harddrive because it's too big to push to GitHub)\n",
    "with open(\"C:/Users/Andre/Documents/Research/Free_little_lib/DataAnalysis/SPL/SPL-Study-Data.json\", \"r\") as read_file: #Replace this with the filename of your choice\n",
    "    alldata = json.load(read_file)\n",
    "count=len(alldata)\n",
    "count"
   ]
  },
  {
   "cell_type": "markdown",
   "metadata": {},
   "source": [
    "## Collect the data"
   ]
  },
  {
   "cell_type": "code",
   "execution_count": 43,
   "metadata": {},
   "outputs": [
    {
     "name": "stdout",
     "output_type": "stream",
     "text": [
      "337116\n"
     ]
    }
   ],
   "source": [
    "#This works in browser: https://data.seattle.gov/resource/6vkj-f5xf.json?$where=ItemLocation= 'col' or ItemLocation='mon' or ItemLocation='qna' or ItemLocation='gwd' or ItemLocation='mgm' or ItemLocation='nga' or ItemLocation='uni' or ItemLocation='net' and reportdate='2019-11-01T00:00:00.000'&$limit=\n",
    "#This gets the recent ones and limits the number to what was calculated above\n",
    "s=requests.get('https://data.seattle.gov/resource/6vkj-f5xf.json?$where=ItemLocation= \"col\" and reportdate=\"2019-05-01T00:00:00.000\" or ItemLocation=\"qna\" and reportdate=\"2019-05-01T00:00:00.000\" or ItemLocation=\"gwd\" and reportdate=\"2019-05-01T00:00:00.000\" or ItemLocation=\"mgm\" and reportdate=\"2019-05-01T00:00:00.000\" or ItemLocation=\"nga\" and reportdate=\"2019-05-01T00:00:00.000\" or ItemLocation=\"net\" and reportdate=\"2019-05-01T00:00:00.000\" or ItemLocation=\"dth\" and reportdate=\"2019-05-01T00:00:00.000\"&$limit='+str(maybooks)) #build string according to SOCRATA's convention to get public data assets\n",
    "t=requests.get('https://data.seattle.gov/resource/6vkj-f5xf.json?$where=ItemLocation= \"mon\" and reportdate=\"2019-07-01T00:00:00.000\" or ItemLocation=\"net\" and reportdate=\"2019-07-01T00:00:00.000\"&$limit='+str(julybooks)) #build string according to SOCRATA's convention to get public data assets\n",
    "\n",
    "#Check this: https://stackoverflow.com/questions/42078161/python-appending-json-object-to-exisiting-json-object\n",
    "\n",
    "#THis one gets all:\n",
    "#r=requests.get('https://data.seattle.gov/resource/6vkj-f5xf.json?$select=ItemLocation,count(BibNum)&$group=ItemLocation') #build string according to SOCRATA's convention to get public data assets\n",
    "\n",
    "\n",
    "l=json.loads(s.text)\n",
    "m=json.loads(t.text)\n",
    "alldata= l + m\n",
    "print(len(alldata))\n"
   ]
  },
  {
   "cell_type": "markdown",
   "metadata": {},
   "source": [
    "## Save the json file"
   ]
  },
  {
   "cell_type": "code",
   "execution_count": 44,
   "metadata": {},
   "outputs": [],
   "source": [
    "with open('SPL-Study-Data.json', \"w\") as write_file:\n",
    "    json.dump(alldata, write_file)"
   ]
  },
  {
   "cell_type": "markdown",
   "metadata": {},
   "source": [
    "# Create CSV\n",
    "dataframe created by transforming the alldata json file"
   ]
  },
  {
   "cell_type": "markdown",
   "metadata": {},
   "source": [
    "#### Skip this if CSV is already created"
   ]
  },
  {
   "cell_type": "code",
   "execution_count": 45,
   "metadata": {},
   "outputs": [
    {
     "name": "stdout",
     "output_type": "stream",
     "text": [
      "The resulting dataframe has 337116 rows\n"
     ]
    }
   ],
   "source": [
    "metadata=open('SPL-Study-Data.csv', 'w', newline='', encoding='utf-8')\n",
    "csv.writer(metadata).writerow(['bibnum','title','author','isbn','reportdate','publicationyear','itemtype','itemcollection','itemlocation'])\n",
    "\n",
    "for i in alldata:\n",
    "    csv.writer(metadata).writerow([i['bibnum'],\n",
    "        i.get('title'),\n",
    "        i.get('author'),\n",
    "        i.get('isbn'),\n",
    "        i.get('reportdate'),\n",
    "        i.get('publicationyear'),\n",
    "        i.get('itemtype'),\n",
    "        i['itemcollection'],\n",
    "        i['itemlocation']])                                  \n",
    "        #i.get('isbn'), #For any of these .get(), adding \",'N/A'\" will fill the null cells with 'N/A'.\n",
    "                                   \n",
    "\n",
    "metadata.close() #Close the output file, release all locks\n",
    "\n",
    "#Open up the same file as a dataframe. Encode cp1252 avoids a utf-8 error.  But here cp1252 produces an error!\n",
    "df = pd.read_csv('SPL-Study-Data.csv',encoding='utf-8')\n",
    "\n",
    "print('The resulting dataframe has',len(df),'rows')"
   ]
  },
  {
   "cell_type": "code",
   "execution_count": 46,
   "metadata": {},
   "outputs": [
    {
     "data": {
      "text/html": [
       "<div>\n",
       "<style scoped>\n",
       "    .dataframe tbody tr th:only-of-type {\n",
       "        vertical-align: middle;\n",
       "    }\n",
       "\n",
       "    .dataframe tbody tr th {\n",
       "        vertical-align: top;\n",
       "    }\n",
       "\n",
       "    .dataframe thead th {\n",
       "        text-align: right;\n",
       "    }\n",
       "</style>\n",
       "<table border=\"1\" class=\"dataframe\">\n",
       "  <thead>\n",
       "    <tr style=\"text-align: right;\">\n",
       "      <th></th>\n",
       "      <th>bibnum</th>\n",
       "      <th>title</th>\n",
       "      <th>author</th>\n",
       "      <th>isbn</th>\n",
       "      <th>reportdate</th>\n",
       "      <th>publicationyear</th>\n",
       "      <th>itemtype</th>\n",
       "      <th>itemcollection</th>\n",
       "      <th>itemlocation</th>\n",
       "    </tr>\n",
       "  </thead>\n",
       "  <tbody>\n",
       "    <tr>\n",
       "      <th>0</th>\n",
       "      <td>2680854</td>\n",
       "      <td>Towers of midnight / Robert Jordan and Brandon...</td>\n",
       "      <td>Jordan, Robert, 1948-2007</td>\n",
       "      <td>0765325942, 9780765325945</td>\n",
       "      <td>2019-05-01T00:00:00.000</td>\n",
       "      <td>2010.</td>\n",
       "      <td>acbk</td>\n",
       "      <td>nasf</td>\n",
       "      <td>dth</td>\n",
       "    </tr>\n",
       "  </tbody>\n",
       "</table>\n",
       "</div>"
      ],
      "text/plain": [
       "    bibnum                                              title  \\\n",
       "0  2680854  Towers of midnight / Robert Jordan and Brandon...   \n",
       "\n",
       "                      author                       isbn  \\\n",
       "0  Jordan, Robert, 1948-2007  0765325942, 9780765325945   \n",
       "\n",
       "                reportdate publicationyear itemtype itemcollection  \\\n",
       "0  2019-05-01T00:00:00.000           2010.     acbk           nasf   \n",
       "\n",
       "  itemlocation  \n",
       "0          dth  "
      ]
     },
     "execution_count": 46,
     "metadata": {},
     "output_type": "execute_result"
    }
   ],
   "source": [
    "df.head(1)"
   ]
  },
  {
   "cell_type": "code",
   "execution_count": 2,
   "metadata": {},
   "outputs": [],
   "source": [
    "#Open previously created csv file if needed:\n",
    "#This is raw data\n",
    "df = pd.read_csv('C:/Users/Andre/Documents/Research/Free_little_lib/DataAnalysis/SPL/SPL-Study-Data.csv',encoding='utf-8')"
   ]
  },
  {
   "cell_type": "markdown",
   "metadata": {},
   "source": [
    "## Open data dictionary file to map fiction/nonfiction and media type"
   ]
  },
  {
   "cell_type": "code",
   "execution_count": 3,
   "metadata": {},
   "outputs": [
    {
     "data": {
      "text/html": [
       "<div>\n",
       "<style scoped>\n",
       "    .dataframe tbody tr th:only-of-type {\n",
       "        vertical-align: middle;\n",
       "    }\n",
       "\n",
       "    .dataframe tbody tr th {\n",
       "        vertical-align: top;\n",
       "    }\n",
       "\n",
       "    .dataframe thead th {\n",
       "        text-align: right;\n",
       "    }\n",
       "</style>\n",
       "<table border=\"1\" class=\"dataframe\">\n",
       "  <thead>\n",
       "    <tr style=\"text-align: right;\">\n",
       "      <th></th>\n",
       "      <th>itemtype</th>\n",
       "      <th>format</th>\n",
       "    </tr>\n",
       "  </thead>\n",
       "  <tbody>\n",
       "    <tr>\n",
       "      <th>0</th>\n",
       "      <td>acart</td>\n",
       "      <td>Art</td>\n",
       "    </tr>\n",
       "    <tr>\n",
       "      <th>1</th>\n",
       "      <td>acphoto</td>\n",
       "      <td>Art</td>\n",
       "    </tr>\n",
       "  </tbody>\n",
       "</table>\n",
       "</div>"
      ],
      "text/plain": [
       "  itemtype format\n",
       "0    acart    Art\n",
       "1  acphoto    Art"
      ]
     },
     "execution_count": 3,
     "metadata": {},
     "output_type": "execute_result"
    }
   ],
   "source": [
    "#Get the datadictionary\n",
    "dftype = pd.read_csv('SPL-datadict-type.csv',encoding='utf-8')\n",
    "dftype.head(2)"
   ]
  },
  {
   "cell_type": "code",
   "execution_count": 4,
   "metadata": {},
   "outputs": [],
   "source": [
    "#Create a new dataframe with the data dictionary info type. Inner join is intersection so removes rows with no partner in other dataframe\n",
    "dfall = pd.merge(df, dftype, on='itemtype', how='inner')"
   ]
  },
  {
   "cell_type": "code",
   "execution_count": 5,
   "metadata": {},
   "outputs": [
    {
     "data": {
      "text/html": [
       "<div>\n",
       "<style scoped>\n",
       "    .dataframe tbody tr th:only-of-type {\n",
       "        vertical-align: middle;\n",
       "    }\n",
       "\n",
       "    .dataframe tbody tr th {\n",
       "        vertical-align: top;\n",
       "    }\n",
       "\n",
       "    .dataframe thead th {\n",
       "        text-align: right;\n",
       "    }\n",
       "</style>\n",
       "<table border=\"1\" class=\"dataframe\">\n",
       "  <thead>\n",
       "    <tr style=\"text-align: right;\">\n",
       "      <th></th>\n",
       "      <th>itemcollection</th>\n",
       "      <th>type</th>\n",
       "    </tr>\n",
       "  </thead>\n",
       "  <tbody>\n",
       "    <tr>\n",
       "      <th>0</th>\n",
       "      <td>ncenf</td>\n",
       "      <td>Nonfiction</td>\n",
       "    </tr>\n",
       "    <tr>\n",
       "      <th>1</th>\n",
       "      <td>cabob</td>\n",
       "      <td>NaN</td>\n",
       "    </tr>\n",
       "  </tbody>\n",
       "</table>\n",
       "</div>"
      ],
      "text/plain": [
       "  itemcollection        type\n",
       "0          ncenf  Nonfiction\n",
       "1          cabob         NaN"
      ]
     },
     "execution_count": 5,
     "metadata": {},
     "output_type": "execute_result"
    }
   ],
   "source": [
    "dfcol = pd.read_csv('SPL-datadict-collection.csv',encoding='utf-8')\n",
    "dfcol.head(2)"
   ]
  },
  {
   "cell_type": "code",
   "execution_count": 6,
   "metadata": {},
   "outputs": [],
   "source": [
    "#Create a new dataframe with the data dictionary info collection. Inner join is intersection so removes rows with no partner in other dataframe\n",
    "dfall = pd.merge(dfall, dfcol, on='itemcollection', how='inner')"
   ]
  },
  {
   "cell_type": "code",
   "execution_count": 7,
   "metadata": {},
   "outputs": [
    {
     "name": "stdout",
     "output_type": "stream",
     "text": [
      "<class 'pandas.core.frame.DataFrame'>\n",
      "Int64Index: 337116 entries, 0 to 337115\n",
      "Data columns (total 11 columns):\n",
      " #   Column           Non-Null Count   Dtype \n",
      "---  ------           --------------   ----- \n",
      " 0   bibnum           337116 non-null  int64 \n",
      " 1   title            337115 non-null  object\n",
      " 2   author           290629 non-null  object\n",
      " 3   isbn             297979 non-null  object\n",
      " 4   reportdate       337116 non-null  object\n",
      " 5   publicationyear  336805 non-null  object\n",
      " 6   itemtype         337116 non-null  object\n",
      " 7   itemcollection   337116 non-null  object\n",
      " 8   itemlocation     337116 non-null  object\n",
      " 9   format           337094 non-null  object\n",
      " 10  type             336556 non-null  object\n",
      "dtypes: int64(1), object(10)\n",
      "memory usage: 30.9+ MB\n"
     ]
    }
   ],
   "source": [
    "dfall.info()"
   ]
  },
  {
   "cell_type": "markdown",
   "metadata": {},
   "source": [
    "## Pare down to books"
   ]
  },
  {
   "cell_type": "code",
   "execution_count": 9,
   "metadata": {},
   "outputs": [],
   "source": [
    "dfbook = dfall.loc[(dfall['format']=='Book') | (dfall['format']=='Audiobook Disc')]\n",
    "#adding in the audiobook disc adds 13 items to the list. LFL list includes audio books."
   ]
  },
  {
   "cell_type": "code",
   "execution_count": 10,
   "metadata": {},
   "outputs": [
    {
     "name": "stdout",
     "output_type": "stream",
     "text": [
      "<class 'pandas.core.frame.DataFrame'>\n",
      "Int64Index: 279696 entries, 0 to 337100\n",
      "Data columns (total 11 columns):\n",
      " #   Column           Non-Null Count   Dtype \n",
      "---  ------           --------------   ----- \n",
      " 0   bibnum           279696 non-null  int64 \n",
      " 1   title            279696 non-null  object\n",
      " 2   author           267360 non-null  object\n",
      " 3   isbn             277534 non-null  object\n",
      " 4   reportdate       279696 non-null  object\n",
      " 5   publicationyear  279451 non-null  object\n",
      " 6   itemtype         279696 non-null  object\n",
      " 7   itemcollection   279696 non-null  object\n",
      " 8   itemlocation     279696 non-null  object\n",
      " 9   format           279696 non-null  object\n",
      " 10  type             279511 non-null  object\n",
      "dtypes: int64(1), object(10)\n",
      "memory usage: 25.6+ MB\n"
     ]
    }
   ],
   "source": [
    "dfbook.info()"
   ]
  },
  {
   "cell_type": "markdown",
   "metadata": {},
   "source": [
    "## Add neighborhood column"
   ]
  },
  {
   "cell_type": "code",
   "execution_count": 11,
   "metadata": {},
   "outputs": [
    {
     "data": {
      "text/html": [
       "<div>\n",
       "<style scoped>\n",
       "    .dataframe tbody tr th:only-of-type {\n",
       "        vertical-align: middle;\n",
       "    }\n",
       "\n",
       "    .dataframe tbody tr th {\n",
       "        vertical-align: top;\n",
       "    }\n",
       "\n",
       "    .dataframe thead th {\n",
       "        text-align: right;\n",
       "    }\n",
       "</style>\n",
       "<table border=\"1\" class=\"dataframe\">\n",
       "  <thead>\n",
       "    <tr style=\"text-align: right;\">\n",
       "      <th></th>\n",
       "      <th>itemlocation</th>\n",
       "      <th>reportdate</th>\n",
       "      <th>neighborhood</th>\n",
       "      <th>count</th>\n",
       "    </tr>\n",
       "  </thead>\n",
       "  <tbody>\n",
       "    <tr>\n",
       "      <th>0</th>\n",
       "      <td>col</td>\n",
       "      <td>2019-05-01T00:00:00.000</td>\n",
       "      <td>Columbia City</td>\n",
       "      <td>1</td>\n",
       "    </tr>\n",
       "    <tr>\n",
       "      <th>1</th>\n",
       "      <td>mon</td>\n",
       "      <td>2019-07-01T00:00:00.000</td>\n",
       "      <td>Montlake</td>\n",
       "      <td>1</td>\n",
       "    </tr>\n",
       "  </tbody>\n",
       "</table>\n",
       "</div>"
      ],
      "text/plain": [
       "  itemlocation               reportdate   neighborhood  count\n",
       "0          col  2019-05-01T00:00:00.000  Columbia City      1\n",
       "1          mon  2019-07-01T00:00:00.000       Montlake      1"
      ]
     },
     "execution_count": 11,
     "metadata": {},
     "output_type": "execute_result"
    }
   ],
   "source": [
    "dfhood = pd.read_csv('neighborhoods.csv',encoding='utf-8')\n",
    "dfhood.head(2)"
   ]
  },
  {
   "cell_type": "code",
   "execution_count": 12,
   "metadata": {},
   "outputs": [],
   "source": [
    "#Create a new dataframe with the neighborhood info. Inner join is intersection so removes rows with no partner in other dataframe\n",
    "#Laurelhurst needs data from net in may, Ravenna from net in July, that's why reportdate is needed\n",
    "dfbook = pd.merge(dfbook, dfhood, on=['itemlocation', 'reportdate'], how='inner')"
   ]
  },
  {
   "cell_type": "code",
   "execution_count": 13,
   "metadata": {},
   "outputs": [
    {
     "data": {
      "text/plain": [
       "array(['acbk', 'jcbk', 'bcbk', 'ucunkn', 'arbk', 'jrbk', 'pkbknh', 'ahbk',\n",
       "       'ucunknj', 'jrmus', 'jcmus', 'bccd'], dtype=object)"
      ]
     },
     "execution_count": 13,
     "metadata": {},
     "output_type": "execute_result"
    }
   ],
   "source": [
    "dfbook.itemtype.unique()"
   ]
  },
  {
   "cell_type": "markdown",
   "metadata": {},
   "source": [
    "# Clean book data"
   ]
  },
  {
   "cell_type": "markdown",
   "metadata": {},
   "source": [
    "## Deal with the book year data issues"
   ]
  },
  {
   "cell_type": "code",
   "execution_count": 14,
   "metadata": {},
   "outputs": [],
   "source": [
    "#Get a csv of the unique year values to look at problem values\n",
    "dfyears = dfbook.publicationyear.unique()\n",
    "dfyears = pd.DataFrame(dfyears)\n",
    "dfyears.to_csv('SPLyears.csv', mode = 'w', index=False)"
   ]
  },
  {
   "cell_type": "code",
   "execution_count": 15,
   "metadata": {},
   "outputs": [],
   "source": [
    "#Make sure all values are string (?) then get rid of all '[c', 'Â©' and then the rest of the brackets \n",
    "dfbook['publicationyear']= dfbook['publicationyear'].astype(str)\n",
    "dfbook['publicationyear'] =  dfbook['publicationyear'].apply(lambda x: x.replace('[c',''),'')\n",
    "#dfbook['publicationyear'] =  dfbook['publicationyear'].apply(lambda x: x.replace('Â©',''),'')\n",
    "dfbook['publicationyear'] =  dfbook['publicationyear'].apply(lambda x: x.replace('[','').replace(']','')) \n",
    "#dfbook['publicationyear'] = preg_replace(\"/(©|&copy;|&#169;)/\", \"\", dfbook['publicationyear'])\n",
    "#dfbook['publicationyear'] = str_replace(array('©'), array(''), dfbook['publicationyear'])"
   ]
  },
  {
   "cell_type": "code",
   "execution_count": 16,
   "metadata": {},
   "outputs": [],
   "source": [
    "#Create csv file to look at what date problems are left\n",
    "#The cleaning seems to do a very good job.  Any blanks appear to be blank at SPL too.\n",
    "dfbook.to_csv('SPL-book-data-cleaned.csv', mode = 'w', index=False)"
   ]
  },
  {
   "cell_type": "code",
   "execution_count": 17,
   "metadata": {},
   "outputs": [
    {
     "data": {
      "text/html": [
       "<div>\n",
       "<style scoped>\n",
       "    .dataframe tbody tr th:only-of-type {\n",
       "        vertical-align: middle;\n",
       "    }\n",
       "\n",
       "    .dataframe tbody tr th {\n",
       "        vertical-align: top;\n",
       "    }\n",
       "\n",
       "    .dataframe thead th {\n",
       "        text-align: right;\n",
       "    }\n",
       "</style>\n",
       "<table border=\"1\" class=\"dataframe\">\n",
       "  <thead>\n",
       "    <tr style=\"text-align: right;\">\n",
       "      <th></th>\n",
       "      <th>bibnum</th>\n",
       "      <th>title</th>\n",
       "      <th>author</th>\n",
       "      <th>isbn</th>\n",
       "      <th>reportdate</th>\n",
       "      <th>publicationyear</th>\n",
       "      <th>itemtype</th>\n",
       "      <th>itemcollection</th>\n",
       "      <th>itemlocation</th>\n",
       "      <th>format</th>\n",
       "      <th>type</th>\n",
       "      <th>neighborhood</th>\n",
       "      <th>count</th>\n",
       "    </tr>\n",
       "  </thead>\n",
       "  <tbody>\n",
       "    <tr>\n",
       "      <th>0</th>\n",
       "      <td>2680854</td>\n",
       "      <td>Towers of midnight / Robert Jordan and Brandon...</td>\n",
       "      <td>Jordan, Robert, 1948-2007</td>\n",
       "      <td>0765325942, 9780765325945</td>\n",
       "      <td>2019-05-01T00:00:00.000</td>\n",
       "      <td>2010</td>\n",
       "      <td>acbk</td>\n",
       "      <td>nasf</td>\n",
       "      <td>dth</td>\n",
       "      <td>Book</td>\n",
       "      <td>Fiction</td>\n",
       "      <td>Central District</td>\n",
       "      <td>1</td>\n",
       "    </tr>\n",
       "    <tr>\n",
       "      <th>1</th>\n",
       "      <td>3406187</td>\n",
       "      <td>The city in the middle of the night / Charlie ...</td>\n",
       "      <td>Anders, Charlie Jane</td>\n",
       "      <td>0765379961, 9780765379962, 9781466871137</td>\n",
       "      <td>2019-05-01T00:00:00.000</td>\n",
       "      <td>2019</td>\n",
       "      <td>acbk</td>\n",
       "      <td>nasf</td>\n",
       "      <td>dth</td>\n",
       "      <td>Book</td>\n",
       "      <td>Fiction</td>\n",
       "      <td>Central District</td>\n",
       "      <td>1</td>\n",
       "    </tr>\n",
       "    <tr>\n",
       "      <th>2</th>\n",
       "      <td>3023254</td>\n",
       "      <td>1634 : the Bavarian crisis / Eric Flint and Vi...</td>\n",
       "      <td>Flint, Eric</td>\n",
       "      <td>1439132763, 9781439132760</td>\n",
       "      <td>2019-05-01T00:00:00.000</td>\n",
       "      <td>2009</td>\n",
       "      <td>acbk</td>\n",
       "      <td>nasf</td>\n",
       "      <td>dth</td>\n",
       "      <td>Book</td>\n",
       "      <td>Fiction</td>\n",
       "      <td>Central District</td>\n",
       "      <td>1</td>\n",
       "    </tr>\n",
       "    <tr>\n",
       "      <th>3</th>\n",
       "      <td>3126212</td>\n",
       "      <td>Barsk : the elephants' graveyard / Lawrence M....</td>\n",
       "      <td>Schoen, Lawrence M.</td>\n",
       "      <td>0765377020, 9780765377029</td>\n",
       "      <td>2019-05-01T00:00:00.000</td>\n",
       "      <td>2015</td>\n",
       "      <td>acbk</td>\n",
       "      <td>nasf</td>\n",
       "      <td>dth</td>\n",
       "      <td>Book</td>\n",
       "      <td>Fiction</td>\n",
       "      <td>Central District</td>\n",
       "      <td>1</td>\n",
       "    </tr>\n",
       "    <tr>\n",
       "      <th>4</th>\n",
       "      <td>3284914</td>\n",
       "      <td>Provenance / Ann Leckie.</td>\n",
       "      <td>Leckie, Ann</td>\n",
       "      <td>031638867X, 9780316388672</td>\n",
       "      <td>2019-05-01T00:00:00.000</td>\n",
       "      <td>2017</td>\n",
       "      <td>acbk</td>\n",
       "      <td>nasf</td>\n",
       "      <td>dth</td>\n",
       "      <td>Book</td>\n",
       "      <td>Fiction</td>\n",
       "      <td>Central District</td>\n",
       "      <td>1</td>\n",
       "    </tr>\n",
       "  </tbody>\n",
       "</table>\n",
       "</div>"
      ],
      "text/plain": [
       "    bibnum                                              title  \\\n",
       "0  2680854  Towers of midnight / Robert Jordan and Brandon...   \n",
       "1  3406187  The city in the middle of the night / Charlie ...   \n",
       "2  3023254  1634 : the Bavarian crisis / Eric Flint and Vi...   \n",
       "3  3126212  Barsk : the elephants' graveyard / Lawrence M....   \n",
       "4  3284914                           Provenance / Ann Leckie.   \n",
       "\n",
       "                      author                                      isbn  \\\n",
       "0  Jordan, Robert, 1948-2007                 0765325942, 9780765325945   \n",
       "1       Anders, Charlie Jane  0765379961, 9780765379962, 9781466871137   \n",
       "2                Flint, Eric                 1439132763, 9781439132760   \n",
       "3        Schoen, Lawrence M.                 0765377020, 9780765377029   \n",
       "4                Leckie, Ann                 031638867X, 9780316388672   \n",
       "\n",
       "                reportdate publicationyear itemtype itemcollection  \\\n",
       "0  2019-05-01T00:00:00.000            2010     acbk           nasf   \n",
       "1  2019-05-01T00:00:00.000            2019     acbk           nasf   \n",
       "2  2019-05-01T00:00:00.000            2009     acbk           nasf   \n",
       "3  2019-05-01T00:00:00.000            2015     acbk           nasf   \n",
       "4  2019-05-01T00:00:00.000            2017     acbk           nasf   \n",
       "\n",
       "  itemlocation format     type      neighborhood  count  \n",
       "0          dth   Book  Fiction  Central District      1  \n",
       "1          dth   Book  Fiction  Central District      1  \n",
       "2          dth   Book  Fiction  Central District      1  \n",
       "3          dth   Book  Fiction  Central District      1  \n",
       "4          dth   Book  Fiction  Central District      1  "
      ]
     },
     "execution_count": 17,
     "metadata": {},
     "output_type": "execute_result"
    }
   ],
   "source": [
    "#The year values are very difficult- lots of non numeric characters.\n",
    "#Use: https://realpython.com/python-data-cleaning-numpy-pandas/#combining-str-methods-with-numpy-to-clean-columns\n",
    "\n",
    "#reg expression: r'^(\\d{4})'  This takes the first four numeric digits.  Everything else goes to NaN\n",
    "dfbook['publicationyear'] = dfbook['publicationyear'].str.extract(r'^(\\d{4})', expand=False)\n",
    "dfbook.head()"
   ]
  },
  {
   "cell_type": "code",
   "execution_count": 20,
   "metadata": {},
   "outputs": [
    {
     "data": {
      "text/plain": [
       "dtype('float64')"
      ]
     },
     "execution_count": 20,
     "metadata": {},
     "output_type": "execute_result"
    }
   ],
   "source": [
    "#Convert to numeric and show datatype\n",
    "dfbook['publicationyear'] = pd.to_numeric(dfbook['publicationyear'])\n",
    "dfbook['publicationyear'].dtype"
   ]
  },
  {
   "cell_type": "code",
   "execution_count": 21,
   "metadata": {},
   "outputs": [
    {
     "data": {
      "text/plain": [
       "0.018845460785996224"
      ]
     },
     "execution_count": 21,
     "metadata": {},
     "output_type": "execute_result"
    }
   ],
   "source": [
    "#What percent are Nan?\n",
    "dfbook['publicationyear'].isnull().sum() / len(dfbook)"
   ]
  },
  {
   "cell_type": "code",
   "execution_count": 22,
   "metadata": {},
   "outputs": [
    {
     "data": {
      "text/plain": [
       "279696"
      ]
     },
     "execution_count": 22,
     "metadata": {},
     "output_type": "execute_result"
    }
   ],
   "source": [
    "len(dfbook)"
   ]
  },
  {
   "cell_type": "code",
   "execution_count": 23,
   "metadata": {},
   "outputs": [],
   "source": [
    "#The title and author are stored in the same variable separated by \" / \".  Need to split those out.  There is an\n",
    "#author variable as well but the values are stored in many different formats\n",
    "#Rename title variable\n",
    "dfbook.rename({'title': 'titleAuthor'}, axis=1, inplace=True)\n",
    "#Split out title\n",
    "dfbook['title'] = dfbook.titleAuthor.str.replace(\"( / ).*\",\"\")\n",
    "#dfbook.head(1)"
   ]
  },
  {
   "cell_type": "code",
   "execution_count": 24,
   "metadata": {},
   "outputs": [],
   "source": [
    "#Save csv file.  THIS IS THE WORKING DATAFILE FOR THE REST OF THIS NOTEBOOK\n",
    "dfbook.to_csv('SPL-dfbook.csv', mode = 'w', index=False)"
   ]
  },
  {
   "cell_type": "markdown",
   "metadata": {},
   "source": [
    "# ANALSYS\n",
    "Should have a dfbook dataframe at this point"
   ]
  },
  {
   "cell_type": "code",
   "execution_count": 2,
   "metadata": {},
   "outputs": [],
   "source": [
    "#Open a previous CSV\n",
    "dfbook = pd.read_csv('SPL-dfbook.csv',encoding='utf-8')"
   ]
  },
  {
   "cell_type": "markdown",
   "metadata": {},
   "source": [
    "### Histogram of years"
   ]
  },
  {
   "cell_type": "code",
   "execution_count": 3,
   "metadata": {},
   "outputs": [
    {
     "data": {
      "text/html": [
       "<div>\n",
       "<style scoped>\n",
       "    .dataframe tbody tr th:only-of-type {\n",
       "        vertical-align: middle;\n",
       "    }\n",
       "\n",
       "    .dataframe tbody tr th {\n",
       "        vertical-align: top;\n",
       "    }\n",
       "\n",
       "    .dataframe thead th {\n",
       "        text-align: right;\n",
       "    }\n",
       "</style>\n",
       "<table border=\"1\" class=\"dataframe\">\n",
       "  <thead>\n",
       "    <tr style=\"text-align: right;\">\n",
       "      <th></th>\n",
       "      <th>yrpub</th>\n",
       "      <th>count</th>\n",
       "      <th>authorOfColor</th>\n",
       "      <th>nonPersonAuthor</th>\n",
       "      <th>neighborhood</th>\n",
       "      <th>collection</th>\n",
       "      <th>type</th>\n",
       "      <th>age</th>\n",
       "      <th>category1</th>\n",
       "      <th>category2</th>\n",
       "      <th>category1Code</th>\n",
       "      <th>languages</th>\n",
       "      <th>originalLang</th>\n",
       "    </tr>\n",
       "  </thead>\n",
       "  <tbody>\n",
       "    <tr>\n",
       "      <th>0</th>\n",
       "      <td>1961</td>\n",
       "      <td>1</td>\n",
       "      <td>0</td>\n",
       "      <td>0</td>\n",
       "      <td>Phinney-Greenwood</td>\n",
       "      <td>Phinney-Green2</td>\n",
       "      <td>Fiction</td>\n",
       "      <td>Young Adult</td>\n",
       "      <td>Adventure</td>\n",
       "      <td>Null</td>\n",
       "      <td>ADV</td>\n",
       "      <td>English</td>\n",
       "      <td>NaN</td>\n",
       "    </tr>\n",
       "    <tr>\n",
       "      <th>1</th>\n",
       "      <td>2012</td>\n",
       "      <td>1</td>\n",
       "      <td>0</td>\n",
       "      <td>0</td>\n",
       "      <td>Phinney-Greenwood</td>\n",
       "      <td>Phinney-Green4</td>\n",
       "      <td>Fiction</td>\n",
       "      <td>Adult</td>\n",
       "      <td>Adventure</td>\n",
       "      <td>Null</td>\n",
       "      <td>ADV</td>\n",
       "      <td>English</td>\n",
       "      <td>English</td>\n",
       "    </tr>\n",
       "    <tr>\n",
       "      <th>2</th>\n",
       "      <td>1988</td>\n",
       "      <td>1</td>\n",
       "      <td>0</td>\n",
       "      <td>0</td>\n",
       "      <td>Laurelhurst</td>\n",
       "      <td>Laurelhurst4</td>\n",
       "      <td>Fiction</td>\n",
       "      <td>Young Adult</td>\n",
       "      <td>Adventure</td>\n",
       "      <td>Null</td>\n",
       "      <td>ADV</td>\n",
       "      <td>English</td>\n",
       "      <td>English</td>\n",
       "    </tr>\n",
       "    <tr>\n",
       "      <th>3</th>\n",
       "      <td>2015</td>\n",
       "      <td>1</td>\n",
       "      <td>0</td>\n",
       "      <td>0</td>\n",
       "      <td>Northgate</td>\n",
       "      <td>Northgate3</td>\n",
       "      <td>Fiction</td>\n",
       "      <td>Adult</td>\n",
       "      <td>Adventure</td>\n",
       "      <td>Religion</td>\n",
       "      <td>ADV</td>\n",
       "      <td>English</td>\n",
       "      <td>English</td>\n",
       "    </tr>\n",
       "    <tr>\n",
       "      <th>4</th>\n",
       "      <td>1992</td>\n",
       "      <td>1</td>\n",
       "      <td>0</td>\n",
       "      <td>0</td>\n",
       "      <td>Phinney-Greenwood</td>\n",
       "      <td>Phinney-Green3</td>\n",
       "      <td>Fiction</td>\n",
       "      <td>Young Adult</td>\n",
       "      <td>Adventure</td>\n",
       "      <td>Null</td>\n",
       "      <td>ADV</td>\n",
       "      <td>English</td>\n",
       "      <td>NaN</td>\n",
       "    </tr>\n",
       "  </tbody>\n",
       "</table>\n",
       "</div>"
      ],
      "text/plain": [
       "   yrpub  count  authorOfColor  nonPersonAuthor       neighborhood  \\\n",
       "0   1961      1              0                0  Phinney-Greenwood   \n",
       "1   2012      1              0                0  Phinney-Greenwood   \n",
       "2   1988      1              0                0        Laurelhurst   \n",
       "3   2015      1              0                0          Northgate   \n",
       "4   1992      1              0                0  Phinney-Greenwood   \n",
       "\n",
       "       collection     type          age  category1 category2 category1Code  \\\n",
       "0  Phinney-Green2  Fiction  Young Adult  Adventure      Null           ADV   \n",
       "1  Phinney-Green4  Fiction        Adult  Adventure      Null           ADV   \n",
       "2    Laurelhurst4  Fiction  Young Adult  Adventure      Null           ADV   \n",
       "3      Northgate3  Fiction        Adult  Adventure  Religion           ADV   \n",
       "4  Phinney-Green3  Fiction  Young Adult  Adventure      Null           ADV   \n",
       "\n",
       "  languages originalLang  \n",
       "0   English          NaN  \n",
       "1   English      English  \n",
       "2   English      English  \n",
       "3   English      English  \n",
       "4   English          NaN  "
      ]
     },
     "execution_count": 3,
     "metadata": {},
     "output_type": "execute_result"
    }
   ],
   "source": [
    "#Open LFL year data\n",
    "lflyear = pd.read_csv('../bookData/LFL-books-years.csv',encoding='utf-8')\n",
    "lflyear.head()"
   ]
  },
  {
   "cell_type": "code",
   "execution_count": 4,
   "metadata": {},
   "outputs": [
    {
     "data": {
      "text/plain": [
       "1013"
      ]
     },
     "execution_count": 4,
     "metadata": {},
     "output_type": "execute_result"
    }
   ],
   "source": [
    "lflyear['count'].sum()"
   ]
  },
  {
   "cell_type": "code",
   "execution_count": 5,
   "metadata": {},
   "outputs": [
    {
     "data": {
      "text/html": [
       "<div>\n",
       "<style scoped>\n",
       "    .dataframe tbody tr th:only-of-type {\n",
       "        vertical-align: middle;\n",
       "    }\n",
       "\n",
       "    .dataframe tbody tr th {\n",
       "        vertical-align: top;\n",
       "    }\n",
       "\n",
       "    .dataframe thead th {\n",
       "        text-align: right;\n",
       "    }\n",
       "</style>\n",
       "<table border=\"1\" class=\"dataframe\">\n",
       "  <thead>\n",
       "    <tr style=\"text-align: right;\">\n",
       "      <th></th>\n",
       "      <th>index</th>\n",
       "      <th>bibnum</th>\n",
       "      <th>titleAuthor</th>\n",
       "      <th>author</th>\n",
       "      <th>isbn</th>\n",
       "      <th>reportdate</th>\n",
       "      <th>publicationyear</th>\n",
       "      <th>itemtype</th>\n",
       "      <th>itemcollection</th>\n",
       "      <th>itemlocation</th>\n",
       "      <th>format</th>\n",
       "      <th>type</th>\n",
       "      <th>neighborhood</th>\n",
       "      <th>count</th>\n",
       "      <th>title</th>\n",
       "    </tr>\n",
       "  </thead>\n",
       "  <tbody>\n",
       "    <tr>\n",
       "      <th>0</th>\n",
       "      <td>19441</td>\n",
       "      <td>952642</td>\n",
       "      <td>The religious instruction of the Negroes in th...</td>\n",
       "      <td>Jones, Charles Colcock, 1804-1863</td>\n",
       "      <td>NaN</td>\n",
       "      <td>2019-05-01T00:00:00.000</td>\n",
       "      <td>1842.0</td>\n",
       "      <td>acbk</td>\n",
       "      <td>naaanf</td>\n",
       "      <td>dth</td>\n",
       "      <td>Book</td>\n",
       "      <td>Nonfiction</td>\n",
       "      <td>Central District</td>\n",
       "      <td>1</td>\n",
       "      <td>The religious instruction of the Negroes in th...</td>\n",
       "    </tr>\n",
       "  </tbody>\n",
       "</table>\n",
       "</div>"
      ],
      "text/plain": [
       "   index  bibnum                                        titleAuthor  \\\n",
       "0  19441  952642  The religious instruction of the Negroes in th...   \n",
       "\n",
       "                              author isbn               reportdate  \\\n",
       "0  Jones, Charles Colcock, 1804-1863  NaN  2019-05-01T00:00:00.000   \n",
       "\n",
       "   publicationyear itemtype itemcollection itemlocation format        type  \\\n",
       "0           1842.0     acbk         naaanf          dth   Book  Nonfiction   \n",
       "\n",
       "       neighborhood  count                                              title  \n",
       "0  Central District      1  The religious instruction of the Negroes in th...  "
      ]
     },
     "execution_count": 5,
     "metadata": {},
     "output_type": "execute_result"
    }
   ],
   "source": [
    "#Earliest year\n",
    "dftemp = dfbook.sort_values(by='publicationyear', ascending=True).reset_index()\n",
    "dftemp.head(1)"
   ]
  },
  {
   "cell_type": "code",
   "execution_count": 6,
   "metadata": {},
   "outputs": [
    {
     "name": "stdout",
     "output_type": "stream",
     "text": [
      "Original: 279696  New dataset: 274376\n"
     ]
    },
    {
     "data": {
      "text/html": [
       "<div>\n",
       "<style scoped>\n",
       "    .dataframe tbody tr th:only-of-type {\n",
       "        vertical-align: middle;\n",
       "    }\n",
       "\n",
       "    .dataframe tbody tr th {\n",
       "        vertical-align: top;\n",
       "    }\n",
       "\n",
       "    .dataframe thead th {\n",
       "        text-align: right;\n",
       "    }\n",
       "</style>\n",
       "<table border=\"1\" class=\"dataframe\">\n",
       "  <thead>\n",
       "    <tr style=\"text-align: right;\">\n",
       "      <th></th>\n",
       "      <th>bibnum</th>\n",
       "      <th>titleAuthor</th>\n",
       "      <th>author</th>\n",
       "      <th>isbn</th>\n",
       "      <th>reportdate</th>\n",
       "      <th>publicationyear</th>\n",
       "      <th>itemtype</th>\n",
       "      <th>itemcollection</th>\n",
       "      <th>itemlocation</th>\n",
       "      <th>format</th>\n",
       "      <th>type</th>\n",
       "      <th>neighborhood</th>\n",
       "      <th>count</th>\n",
       "      <th>title</th>\n",
       "    </tr>\n",
       "  </thead>\n",
       "  <tbody>\n",
       "    <tr>\n",
       "      <th>0</th>\n",
       "      <td>2680854</td>\n",
       "      <td>Towers of midnight / Robert Jordan and Brandon...</td>\n",
       "      <td>Jordan, Robert, 1948-2007</td>\n",
       "      <td>0765325942, 9780765325945</td>\n",
       "      <td>2019-05-01T00:00:00.000</td>\n",
       "      <td>2010.0</td>\n",
       "      <td>acbk</td>\n",
       "      <td>nasf</td>\n",
       "      <td>dth</td>\n",
       "      <td>Book</td>\n",
       "      <td>Fiction</td>\n",
       "      <td>Central District</td>\n",
       "      <td>1</td>\n",
       "      <td>Towers of midnight</td>\n",
       "    </tr>\n",
       "    <tr>\n",
       "      <th>1</th>\n",
       "      <td>3406187</td>\n",
       "      <td>The city in the middle of the night / Charlie ...</td>\n",
       "      <td>Anders, Charlie Jane</td>\n",
       "      <td>0765379961, 9780765379962, 9781466871137</td>\n",
       "      <td>2019-05-01T00:00:00.000</td>\n",
       "      <td>2019.0</td>\n",
       "      <td>acbk</td>\n",
       "      <td>nasf</td>\n",
       "      <td>dth</td>\n",
       "      <td>Book</td>\n",
       "      <td>Fiction</td>\n",
       "      <td>Central District</td>\n",
       "      <td>1</td>\n",
       "      <td>The city in the middle of the night</td>\n",
       "    </tr>\n",
       "    <tr>\n",
       "      <th>2</th>\n",
       "      <td>3023254</td>\n",
       "      <td>1634 : the Bavarian crisis / Eric Flint and Vi...</td>\n",
       "      <td>Flint, Eric</td>\n",
       "      <td>1439132763, 9781439132760</td>\n",
       "      <td>2019-05-01T00:00:00.000</td>\n",
       "      <td>2009.0</td>\n",
       "      <td>acbk</td>\n",
       "      <td>nasf</td>\n",
       "      <td>dth</td>\n",
       "      <td>Book</td>\n",
       "      <td>Fiction</td>\n",
       "      <td>Central District</td>\n",
       "      <td>1</td>\n",
       "      <td>1634 : the Bavarian crisis</td>\n",
       "    </tr>\n",
       "    <tr>\n",
       "      <th>3</th>\n",
       "      <td>3126212</td>\n",
       "      <td>Barsk : the elephants' graveyard / Lawrence M....</td>\n",
       "      <td>Schoen, Lawrence M.</td>\n",
       "      <td>0765377020, 9780765377029</td>\n",
       "      <td>2019-05-01T00:00:00.000</td>\n",
       "      <td>2015.0</td>\n",
       "      <td>acbk</td>\n",
       "      <td>nasf</td>\n",
       "      <td>dth</td>\n",
       "      <td>Book</td>\n",
       "      <td>Fiction</td>\n",
       "      <td>Central District</td>\n",
       "      <td>1</td>\n",
       "      <td>Barsk : the elephants' graveyard</td>\n",
       "    </tr>\n",
       "    <tr>\n",
       "      <th>4</th>\n",
       "      <td>3284914</td>\n",
       "      <td>Provenance / Ann Leckie.</td>\n",
       "      <td>Leckie, Ann</td>\n",
       "      <td>031638867X, 9780316388672</td>\n",
       "      <td>2019-05-01T00:00:00.000</td>\n",
       "      <td>2017.0</td>\n",
       "      <td>acbk</td>\n",
       "      <td>nasf</td>\n",
       "      <td>dth</td>\n",
       "      <td>Book</td>\n",
       "      <td>Fiction</td>\n",
       "      <td>Central District</td>\n",
       "      <td>1</td>\n",
       "      <td>Provenance</td>\n",
       "    </tr>\n",
       "  </tbody>\n",
       "</table>\n",
       "</div>"
      ],
      "text/plain": [
       "    bibnum                                        titleAuthor  \\\n",
       "0  2680854  Towers of midnight / Robert Jordan and Brandon...   \n",
       "1  3406187  The city in the middle of the night / Charlie ...   \n",
       "2  3023254  1634 : the Bavarian crisis / Eric Flint and Vi...   \n",
       "3  3126212  Barsk : the elephants' graveyard / Lawrence M....   \n",
       "4  3284914                           Provenance / Ann Leckie.   \n",
       "\n",
       "                      author                                      isbn  \\\n",
       "0  Jordan, Robert, 1948-2007                 0765325942, 9780765325945   \n",
       "1       Anders, Charlie Jane  0765379961, 9780765379962, 9781466871137   \n",
       "2                Flint, Eric                 1439132763, 9781439132760   \n",
       "3        Schoen, Lawrence M.                 0765377020, 9780765377029   \n",
       "4                Leckie, Ann                 031638867X, 9780316388672   \n",
       "\n",
       "                reportdate  publicationyear itemtype itemcollection  \\\n",
       "0  2019-05-01T00:00:00.000           2010.0     acbk           nasf   \n",
       "1  2019-05-01T00:00:00.000           2019.0     acbk           nasf   \n",
       "2  2019-05-01T00:00:00.000           2009.0     acbk           nasf   \n",
       "3  2019-05-01T00:00:00.000           2015.0     acbk           nasf   \n",
       "4  2019-05-01T00:00:00.000           2017.0     acbk           nasf   \n",
       "\n",
       "  itemlocation format     type      neighborhood  count  \\\n",
       "0          dth   Book  Fiction  Central District      1   \n",
       "1          dth   Book  Fiction  Central District      1   \n",
       "2          dth   Book  Fiction  Central District      1   \n",
       "3          dth   Book  Fiction  Central District      1   \n",
       "4          dth   Book  Fiction  Central District      1   \n",
       "\n",
       "                                 title  \n",
       "0                   Towers of midnight  \n",
       "1  The city in the middle of the night  \n",
       "2           1634 : the Bavarian crisis  \n",
       "3     Barsk : the elephants' graveyard  \n",
       "4                           Provenance  "
      ]
     },
     "execution_count": 6,
     "metadata": {},
     "output_type": "execute_result"
    }
   ],
   "source": [
    "#Set up a dataset with years going back as far as LFLs- Want to compare apples to apples\n",
    "dfbookyr = dfbook.loc[dfbook['publicationyear']>1927]\n",
    "print(\"Original:\",len(dfbook),\" New dataset:\",len(dfbookyr))\n",
    "dfbookyr.head()"
   ]
  },
  {
   "cell_type": "code",
   "execution_count": 8,
   "metadata": {},
   "outputs": [
    {
     "data": {
      "text/plain": [
       "(1960.0, 2020.0)"
      ]
     },
     "execution_count": 8,
     "metadata": {},
     "output_type": "execute_result"
    },
    {
     "data": {
      "image/png": "[encoded data removed]",
      "text/plain": [
       "<Figure size 1152x720 with 1 Axes>"
      ]
     },
     "metadata": {},
     "output_type": "display_data"
    }
   ],
   "source": [
    "#'Density' Histogram of year published using mtlabplot (change kde to false for counts, or to get rid of gaussian line, change norm_hist to True)\n",
    "#yrhist = bks['yrpub'].plot.hist(bins=50)\n",
    "#Same thing using seaborn\n",
    "sns.set(style='white', palette=\"deep\", font_scale=1.6, rc={\"figure.figsize\": [16, 10]})\n",
    "\n",
    "#SPL\n",
    "p1= sns.distplot(\n",
    "    dfbookyr['publicationyear'], norm_hist=True, kde=False, bins=92, color=\"black\", hist_kws={\"alpha\": 1}).set(xlabel='Year Published', ylabel='Percent')\n",
    "#LFL\n",
    "p1= sns.distplot(\n",
    "    lflyear['yrpub'], norm_hist=True, kde=False, bins=92, color=\"gray\", hist_kws={\"alpha\": 0.75}).set(xlabel='Year Published', ylabel='Proportion')\n",
    "\n",
    "plt.legend(labels=['SPL','LFL'])\n",
    "plt.xlim(1960, 2020)"
   ]
  },
  {
   "cell_type": "code",
   "execution_count": 19,
   "metadata": {},
   "outputs": [
    {
     "data": {
      "text/plain": [
       "(1960.0, 2020.0)"
      ]
     },
     "execution_count": 19,
     "metadata": {},
     "output_type": "execute_result"
    },
    {
     "data": {
      "image/png": "[encoded data removed]",
      "text/plain": [
       "<Figure size 576x360 with 1 Axes>"
      ]
     },
     "metadata": {},
     "output_type": "display_data"
    }
   ],
   "source": [
    "# BY NEIGHBORHOOD\n",
    "#'Density' Histogram of year published using mtlabplot (change kde to false for counts, or to get rid of gaussian line, change norm_hist to True)\n",
    "#yrhist = bks['yrpub'].plot.hist(bins=50)\n",
    "#Same thing using seaborn\n",
    "sns.set(style='white', palette=\"deep\", font_scale=1.1, rc={\"figure.figsize\": [8, 5]})\n",
    "\n",
    "hood = \"Laurelhurst\"\n",
    "\n",
    "#dfbookyrcol = dfbookyr[dfbookyr['itemlocation']=='col']\n",
    "dfbookyrcol = dfbookyr[dfbookyr['neighborhood']==hood]\n",
    "lflyearcol = lflyear[lflyear['neighborhood']==hood]\n",
    "\n",
    "\n",
    "#SPL\n",
    "p1= sns.distplot(\n",
    "    dfbookyrcol['publicationyear'], norm_hist=True, kde=False, bins=92, color='black', hist_kws={\"alpha\": 1}).set(xlabel='Year Published', ylabel='Proportion')\n",
    "#LFL\n",
    "p1= sns.distplot(\n",
    "    lflyearcol['yrpub'], norm_hist=True, kde=False, bins=92, color = 'gray', hist_kws={\"alpha\": 1}).set(xlabel='Year Published', ylabel='Proportion')\n",
    "\n",
    "plt.legend(labels=['SPL','LFL'])\n",
    "\n",
    "plt.title(hood)\n",
    "plt.xlim(1960, 2020)"
   ]
  },
  {
   "cell_type": "code",
   "execution_count": 10,
   "metadata": {},
   "outputs": [
    {
     "data": {
      "text/plain": [
       "array(['Central District', 'Phinney-Greenwood', 'Queen Anne',\n",
       "       'Laurelhurst', 'Northgate', 'Columbia City', 'Ravenna', 'Montlake'],\n",
       "      dtype=object)"
      ]
     },
     "execution_count": 10,
     "metadata": {},
     "output_type": "execute_result"
    }
   ],
   "source": [
    "dfbookyr.neighborhood.unique()"
   ]
  },
  {
   "cell_type": "code",
   "execution_count": 7,
   "metadata": {},
   "outputs": [
    {
     "data": {
      "text/html": [
       "<div>\n",
       "<style scoped>\n",
       "    .dataframe tbody tr th:only-of-type {\n",
       "        vertical-align: middle;\n",
       "    }\n",
       "\n",
       "    .dataframe tbody tr th {\n",
       "        vertical-align: top;\n",
       "    }\n",
       "\n",
       "    .dataframe thead th {\n",
       "        text-align: right;\n",
       "    }\n",
       "</style>\n",
       "<table border=\"1\" class=\"dataframe\">\n",
       "  <thead>\n",
       "    <tr style=\"text-align: right;\">\n",
       "      <th></th>\n",
       "      <th>neighborhood</th>\n",
       "    </tr>\n",
       "  </thead>\n",
       "  <tbody>\n",
       "    <tr>\n",
       "      <th>0</th>\n",
       "      <td>Central District</td>\n",
       "    </tr>\n",
       "    <tr>\n",
       "      <th>5</th>\n",
       "      <td>Columbia City</td>\n",
       "    </tr>\n",
       "    <tr>\n",
       "      <th>3</th>\n",
       "      <td>Laurelhurst</td>\n",
       "    </tr>\n",
       "    <tr>\n",
       "      <th>7</th>\n",
       "      <td>Montlake</td>\n",
       "    </tr>\n",
       "    <tr>\n",
       "      <th>4</th>\n",
       "      <td>Northgate</td>\n",
       "    </tr>\n",
       "  </tbody>\n",
       "</table>\n",
       "</div>"
      ],
      "text/plain": [
       "       neighborhood\n",
       "0  Central District\n",
       "5     Columbia City\n",
       "3       Laurelhurst\n",
       "7          Montlake\n",
       "4         Northgate"
      ]
     },
     "execution_count": 7,
     "metadata": {},
     "output_type": "execute_result"
    }
   ],
   "source": [
    "hoods = pd.DataFrame(dict(neighborhood=dfbookyr.neighborhood.unique()))\n",
    "hoods = hoods.sort_values(by=['neighborhood'])\n",
    "hoods.head()\n"
   ]
  },
  {
   "cell_type": "code",
   "execution_count": 8,
   "metadata": {},
   "outputs": [
    {
     "name": "stdout",
     "output_type": "stream",
     "text": [
      "Central District\n",
      "Columbia City\n",
      "Laurelhurst\n",
      "Montlake\n",
      "Northgate\n",
      "Phinney-Greenwood\n",
      "Queen Anne\n",
      "Ravenna\n"
     ]
    }
   ],
   "source": [
    "for h in hoods['neighborhood']:\n",
    "    hood=h\n",
    "    print(hood)\n"
   ]
  },
  {
   "cell_type": "markdown",
   "metadata": {},
   "source": [
    "## Figure 5"
   ]
  },
  {
   "cell_type": "code",
   "execution_count": 44,
   "metadata": {},
   "outputs": [
    {
     "name": "stderr",
     "output_type": "stream",
     "text": [
      "The PostScript backend does not support transparency; partially transparent artists will be rendered opaque.\n",
      "The PostScript backend does not support transparency; partially transparent artists will be rendered opaque.\n"
     ]
    },
    {
     "data": {
      "image/png": "[encoded data removed]",
      "text/plain": [
       "<Figure size 864x648 with 8 Axes>"
      ]
     },
     "metadata": {},
     "output_type": "display_data"
    }
   ],
   "source": [
    "# BY NEIGHBORHOOD\n",
    "\n",
    "sns.set(style='white', palette=\"deep\", font_scale=1.1, rc={\"figure.figsize\": [12, 9]}) #This makes the chart nicer format\n",
    "\n",
    "n_bins= np.arange(1959.5,2020.5,1) #Sets the bin ranges explicitly so all the bars line up\n",
    "\n",
    "fig, axs = plt.subplots(4, 2, sharey=True, tight_layout = True)\n",
    "#fig.subplots_adjust(hspace=0.7, wspace=0.4)\n",
    "\n",
    "#Create the first chart with a legend\n",
    "hood0 = hoods['neighborhood'][0]\n",
    "dfbookyrcol = dfbookyr[dfbookyr['neighborhood']==hood0]\n",
    "lflyearcol = lflyear[lflyear['neighborhood']==hood0]\n",
    "#SPL\n",
    "axs[0,0].hist(dfbookyrcol['publicationyear'], bins=n_bins, density=True, color=\"black\")\n",
    "#LFL\n",
    "axs[0,0].hist( lflyearcol['yrpub'], bins=n_bins, density=True, color=\"gray\") #Use alpha=0.5 for transparency\n",
    "\n",
    "#Create line for SPL histogram. This takes a while to calculate and create. Be patient\n",
    "#x = np.linspace(1960, 2020, len(dfbookyrcol['publicationyear'])+1)\n",
    "#kde = sps.gaussian_kde(dfbookyrcol['publicationyear']) \n",
    "#axs[0].plot(x,kde.pdf(x), color=\"black\")\n",
    "\n",
    "# Now we format the y-axis to display percentage\n",
    "axs[0,0].yaxis.set_major_formatter(PercentFormatter(xmax=1))\n",
    "axs[0,0].set_title(hood0)\n",
    "axs[0,0].legend(labels=['Public Library Branch','LFL'])\n",
    "axs[0,0].set_xlim(1960,2020)\n",
    "\n",
    "#Create the other seven charts, none with a legend\n",
    "hoodschart = hoods[1:] #Create list of last seven neighborhoods\n",
    "row = [0,1,1,2,2,3,3] #row, col, and counter help locate each chart in the overall figure.\n",
    "col = [1,0,1,0,1,0,1]\n",
    "counter = 0\n",
    "for h in hoodschart['neighborhood']:\n",
    "    hood = h\n",
    "    rownum = row[counter]\n",
    "    colnum = col[counter]\n",
    "    dfbookyrcol = dfbookyr[dfbookyr['neighborhood']==hood]\n",
    "    lflyearcol = lflyear[lflyear['neighborhood']==hood]\n",
    "    \n",
    "    #SPL\n",
    "    axs[rownum,colnum].hist(dfbookyrcol['publicationyear'], bins=n_bins, density=True, color=\"black\")\n",
    "    #LFL\n",
    "    axs[rownum,colnum].hist( lflyearcol['yrpub'], bins=n_bins, density=True, color=\"gray\") #Use alpha=0.5 for transparency\n",
    "    \n",
    "    # Now we format the y-axis to display percentage\n",
    "    axs[rownum,colnum].yaxis.set_major_formatter(PercentFormatter(xmax=1))\n",
    "    axs[rownum,colnum].set_title(hood)\n",
    "    axs[rownum,colnum].set_xlim(1960,2020)\n",
    "    \n",
    "    counter+=1\n",
    "\n",
    "#Apply labels only to the outside\n",
    "for ax in axs.flat:\n",
    "    ax.set(ylabel='Proportion', xlabel='Year Published')\n",
    "\n",
    "# Hide x labels and tick labels for top plots and y ticks for right plots.\n",
    "for ax in axs.flat:\n",
    "    ax.label_outer()\n",
    "\n",
    "#Save figure \n",
    "plt.savefig('../figures/pub-dates-comparison.eps', dpi=300, format=\"eps\")\n",
    "plt.savefig('../figures/pub-dates-comparison.png', dpi=300, format=\"png\")"
   ]
  },
  {
   "cell_type": "markdown",
   "metadata": {},
   "source": [
    "### Calculate Cumulative Percentage\n",
    "This is used to see what year and above represents 90% of the books"
   ]
  },
  {
   "cell_type": "markdown",
   "metadata": {},
   "source": [
    "#### SPL"
   ]
  },
  {
   "cell_type": "code",
   "execution_count": 45,
   "metadata": {},
   "outputs": [],
   "source": [
    "#Groups by pub year \n",
    "dfSPLyr = dfbook.groupby(['publicationyear'])['count'].sum().reset_index() #total of each category\n",
    "#Sort high to low\n",
    "dfSPLyr = dfSPLyr.sort_values(by='publicationyear', ascending=False).reset_index()"
   ]
  },
  {
   "cell_type": "code",
   "execution_count": 46,
   "metadata": {},
   "outputs": [
    {
     "data": {
      "text/html": [
       "<div>\n",
       "<style scoped>\n",
       "    .dataframe tbody tr th:only-of-type {\n",
       "        vertical-align: middle;\n",
       "    }\n",
       "\n",
       "    .dataframe tbody tr th {\n",
       "        vertical-align: top;\n",
       "    }\n",
       "\n",
       "    .dataframe thead th {\n",
       "        text-align: right;\n",
       "    }\n",
       "</style>\n",
       "<table border=\"1\" class=\"dataframe\">\n",
       "  <thead>\n",
       "    <tr style=\"text-align: right;\">\n",
       "      <th></th>\n",
       "      <th>index</th>\n",
       "      <th>publicationyear</th>\n",
       "      <th>count</th>\n",
       "      <th>cumulative</th>\n",
       "    </tr>\n",
       "  </thead>\n",
       "  <tbody>\n",
       "    <tr>\n",
       "      <th>0</th>\n",
       "      <td>114</td>\n",
       "      <td>2019.0</td>\n",
       "      <td>13687</td>\n",
       "      <td>0.049875</td>\n",
       "    </tr>\n",
       "    <tr>\n",
       "      <th>1</th>\n",
       "      <td>113</td>\n",
       "      <td>2018.0</td>\n",
       "      <td>43310</td>\n",
       "      <td>0.207696</td>\n",
       "    </tr>\n",
       "    <tr>\n",
       "      <th>2</th>\n",
       "      <td>112</td>\n",
       "      <td>2017.0</td>\n",
       "      <td>39947</td>\n",
       "      <td>0.353262</td>\n",
       "    </tr>\n",
       "    <tr>\n",
       "      <th>3</th>\n",
       "      <td>111</td>\n",
       "      <td>2016.0</td>\n",
       "      <td>32406</td>\n",
       "      <td>0.471349</td>\n",
       "    </tr>\n",
       "    <tr>\n",
       "      <th>4</th>\n",
       "      <td>110</td>\n",
       "      <td>2015.0</td>\n",
       "      <td>23696</td>\n",
       "      <td>0.557697</td>\n",
       "    </tr>\n",
       "    <tr>\n",
       "      <th>5</th>\n",
       "      <td>109</td>\n",
       "      <td>2014.0</td>\n",
       "      <td>17863</td>\n",
       "      <td>0.622789</td>\n",
       "    </tr>\n",
       "    <tr>\n",
       "      <th>6</th>\n",
       "      <td>108</td>\n",
       "      <td>2013.0</td>\n",
       "      <td>15833</td>\n",
       "      <td>0.680485</td>\n",
       "    </tr>\n",
       "    <tr>\n",
       "      <th>7</th>\n",
       "      <td>107</td>\n",
       "      <td>2012.0</td>\n",
       "      <td>13403</td>\n",
       "      <td>0.729325</td>\n",
       "    </tr>\n",
       "    <tr>\n",
       "      <th>8</th>\n",
       "      <td>106</td>\n",
       "      <td>2011.0</td>\n",
       "      <td>11109</td>\n",
       "      <td>0.769806</td>\n",
       "    </tr>\n",
       "    <tr>\n",
       "      <th>9</th>\n",
       "      <td>105</td>\n",
       "      <td>2010.0</td>\n",
       "      <td>9671</td>\n",
       "      <td>0.805047</td>\n",
       "    </tr>\n",
       "    <tr>\n",
       "      <th>10</th>\n",
       "      <td>104</td>\n",
       "      <td>2009.0</td>\n",
       "      <td>7435</td>\n",
       "      <td>0.832140</td>\n",
       "    </tr>\n",
       "    <tr>\n",
       "      <th>11</th>\n",
       "      <td>103</td>\n",
       "      <td>2008.0</td>\n",
       "      <td>6369</td>\n",
       "      <td>0.855348</td>\n",
       "    </tr>\n",
       "    <tr>\n",
       "      <th>12</th>\n",
       "      <td>102</td>\n",
       "      <td>2007.0</td>\n",
       "      <td>4770</td>\n",
       "      <td>0.872730</td>\n",
       "    </tr>\n",
       "    <tr>\n",
       "      <th>13</th>\n",
       "      <td>101</td>\n",
       "      <td>2006.0</td>\n",
       "      <td>4415</td>\n",
       "      <td>0.888818</td>\n",
       "    </tr>\n",
       "    <tr>\n",
       "      <th>14</th>\n",
       "      <td>100</td>\n",
       "      <td>2005.0</td>\n",
       "      <td>3430</td>\n",
       "      <td>0.901317</td>\n",
       "    </tr>\n",
       "    <tr>\n",
       "      <th>15</th>\n",
       "      <td>99</td>\n",
       "      <td>2004.0</td>\n",
       "      <td>2917</td>\n",
       "      <td>0.911947</td>\n",
       "    </tr>\n",
       "    <tr>\n",
       "      <th>16</th>\n",
       "      <td>98</td>\n",
       "      <td>2003.0</td>\n",
       "      <td>2603</td>\n",
       "      <td>0.921432</td>\n",
       "    </tr>\n",
       "    <tr>\n",
       "      <th>17</th>\n",
       "      <td>97</td>\n",
       "      <td>2002.0</td>\n",
       "      <td>2140</td>\n",
       "      <td>0.929230</td>\n",
       "    </tr>\n",
       "    <tr>\n",
       "      <th>18</th>\n",
       "      <td>96</td>\n",
       "      <td>2001.0</td>\n",
       "      <td>1789</td>\n",
       "      <td>0.935749</td>\n",
       "    </tr>\n",
       "    <tr>\n",
       "      <th>19</th>\n",
       "      <td>95</td>\n",
       "      <td>2000.0</td>\n",
       "      <td>1585</td>\n",
       "      <td>0.941525</td>\n",
       "    </tr>\n",
       "  </tbody>\n",
       "</table>\n",
       "</div>"
      ],
      "text/plain": [
       "    index  publicationyear  count  cumulative\n",
       "0     114           2019.0  13687    0.049875\n",
       "1     113           2018.0  43310    0.207696\n",
       "2     112           2017.0  39947    0.353262\n",
       "3     111           2016.0  32406    0.471349\n",
       "4     110           2015.0  23696    0.557697\n",
       "5     109           2014.0  17863    0.622789\n",
       "6     108           2013.0  15833    0.680485\n",
       "7     107           2012.0  13403    0.729325\n",
       "8     106           2011.0  11109    0.769806\n",
       "9     105           2010.0   9671    0.805047\n",
       "10    104           2009.0   7435    0.832140\n",
       "11    103           2008.0   6369    0.855348\n",
       "12    102           2007.0   4770    0.872730\n",
       "13    101           2006.0   4415    0.888818\n",
       "14    100           2005.0   3430    0.901317\n",
       "15     99           2004.0   2917    0.911947\n",
       "16     98           2003.0   2603    0.921432\n",
       "17     97           2002.0   2140    0.929230\n",
       "18     96           2001.0   1789    0.935749\n",
       "19     95           2000.0   1585    0.941525"
      ]
     },
     "execution_count": 46,
     "metadata": {},
     "output_type": "execute_result"
    }
   ],
   "source": [
    "dfSPLyr['cumulative']=dfSPLyr['count'].cumsum()/dfSPLyr['count'].sum()\n",
    "dfSPLyr.head(20)"
   ]
  },
  {
   "cell_type": "markdown",
   "metadata": {},
   "source": [
    "#### LFL"
   ]
  },
  {
   "cell_type": "code",
   "execution_count": 47,
   "metadata": {},
   "outputs": [],
   "source": [
    "#Create new dataframe\n",
    "dfLFLyr=lflyear"
   ]
  },
  {
   "cell_type": "code",
   "execution_count": 48,
   "metadata": {},
   "outputs": [],
   "source": [
    "#Groups by pub year \n",
    "dfLFLyr = dfLFLyr.groupby(['yrpub'])['count'].sum().reset_index() #total of each category\n",
    "#Sort high to low\n",
    "dfLFLyr = dfLFLyr.sort_values(by='yrpub', ascending=False).reset_index()"
   ]
  },
  {
   "cell_type": "code",
   "execution_count": 49,
   "metadata": {},
   "outputs": [
    {
     "name": "stdout",
     "output_type": "stream",
     "text": [
      "1013\n"
     ]
    }
   ],
   "source": [
    "total = dfLFLyr['count'].sum()\n",
    "print(total)"
   ]
  },
  {
   "cell_type": "code",
   "execution_count": 50,
   "metadata": {},
   "outputs": [
    {
     "data": {
      "text/html": [
       "<div>\n",
       "<style scoped>\n",
       "    .dataframe tbody tr th:only-of-type {\n",
       "        vertical-align: middle;\n",
       "    }\n",
       "\n",
       "    .dataframe tbody tr th {\n",
       "        vertical-align: top;\n",
       "    }\n",
       "\n",
       "    .dataframe thead th {\n",
       "        text-align: right;\n",
       "    }\n",
       "</style>\n",
       "<table border=\"1\" class=\"dataframe\">\n",
       "  <thead>\n",
       "    <tr style=\"text-align: right;\">\n",
       "      <th></th>\n",
       "      <th>index</th>\n",
       "      <th>yrpub</th>\n",
       "      <th>count</th>\n",
       "      <th>cumulative</th>\n",
       "    </tr>\n",
       "  </thead>\n",
       "  <tbody>\n",
       "    <tr>\n",
       "      <th>0</th>\n",
       "      <td>67</td>\n",
       "      <td>2019</td>\n",
       "      <td>16</td>\n",
       "      <td>0.015795</td>\n",
       "    </tr>\n",
       "    <tr>\n",
       "      <th>1</th>\n",
       "      <td>66</td>\n",
       "      <td>2018</td>\n",
       "      <td>36</td>\n",
       "      <td>0.051333</td>\n",
       "    </tr>\n",
       "    <tr>\n",
       "      <th>2</th>\n",
       "      <td>65</td>\n",
       "      <td>2017</td>\n",
       "      <td>27</td>\n",
       "      <td>0.077986</td>\n",
       "    </tr>\n",
       "    <tr>\n",
       "      <th>3</th>\n",
       "      <td>64</td>\n",
       "      <td>2016</td>\n",
       "      <td>23</td>\n",
       "      <td>0.100691</td>\n",
       "    </tr>\n",
       "    <tr>\n",
       "      <th>4</th>\n",
       "      <td>63</td>\n",
       "      <td>2015</td>\n",
       "      <td>30</td>\n",
       "      <td>0.130306</td>\n",
       "    </tr>\n",
       "    <tr>\n",
       "      <th>5</th>\n",
       "      <td>62</td>\n",
       "      <td>2014</td>\n",
       "      <td>40</td>\n",
       "      <td>0.169793</td>\n",
       "    </tr>\n",
       "    <tr>\n",
       "      <th>6</th>\n",
       "      <td>61</td>\n",
       "      <td>2013</td>\n",
       "      <td>30</td>\n",
       "      <td>0.199408</td>\n",
       "    </tr>\n",
       "    <tr>\n",
       "      <th>7</th>\n",
       "      <td>60</td>\n",
       "      <td>2012</td>\n",
       "      <td>29</td>\n",
       "      <td>0.228036</td>\n",
       "    </tr>\n",
       "    <tr>\n",
       "      <th>8</th>\n",
       "      <td>59</td>\n",
       "      <td>2011</td>\n",
       "      <td>39</td>\n",
       "      <td>0.266535</td>\n",
       "    </tr>\n",
       "    <tr>\n",
       "      <th>9</th>\n",
       "      <td>58</td>\n",
       "      <td>2010</td>\n",
       "      <td>25</td>\n",
       "      <td>0.291214</td>\n",
       "    </tr>\n",
       "    <tr>\n",
       "      <th>10</th>\n",
       "      <td>57</td>\n",
       "      <td>2009</td>\n",
       "      <td>36</td>\n",
       "      <td>0.326752</td>\n",
       "    </tr>\n",
       "    <tr>\n",
       "      <th>11</th>\n",
       "      <td>56</td>\n",
       "      <td>2008</td>\n",
       "      <td>21</td>\n",
       "      <td>0.347483</td>\n",
       "    </tr>\n",
       "    <tr>\n",
       "      <th>12</th>\n",
       "      <td>55</td>\n",
       "      <td>2007</td>\n",
       "      <td>41</td>\n",
       "      <td>0.387957</td>\n",
       "    </tr>\n",
       "    <tr>\n",
       "      <th>13</th>\n",
       "      <td>54</td>\n",
       "      <td>2006</td>\n",
       "      <td>26</td>\n",
       "      <td>0.413623</td>\n",
       "    </tr>\n",
       "    <tr>\n",
       "      <th>14</th>\n",
       "      <td>53</td>\n",
       "      <td>2005</td>\n",
       "      <td>32</td>\n",
       "      <td>0.445212</td>\n",
       "    </tr>\n",
       "    <tr>\n",
       "      <th>15</th>\n",
       "      <td>52</td>\n",
       "      <td>2004</td>\n",
       "      <td>36</td>\n",
       "      <td>0.480750</td>\n",
       "    </tr>\n",
       "    <tr>\n",
       "      <th>16</th>\n",
       "      <td>51</td>\n",
       "      <td>2003</td>\n",
       "      <td>37</td>\n",
       "      <td>0.517275</td>\n",
       "    </tr>\n",
       "    <tr>\n",
       "      <th>17</th>\n",
       "      <td>50</td>\n",
       "      <td>2002</td>\n",
       "      <td>27</td>\n",
       "      <td>0.543929</td>\n",
       "    </tr>\n",
       "    <tr>\n",
       "      <th>18</th>\n",
       "      <td>49</td>\n",
       "      <td>2001</td>\n",
       "      <td>27</td>\n",
       "      <td>0.570582</td>\n",
       "    </tr>\n",
       "    <tr>\n",
       "      <th>19</th>\n",
       "      <td>48</td>\n",
       "      <td>2000</td>\n",
       "      <td>28</td>\n",
       "      <td>0.598223</td>\n",
       "    </tr>\n",
       "    <tr>\n",
       "      <th>20</th>\n",
       "      <td>47</td>\n",
       "      <td>1999</td>\n",
       "      <td>37</td>\n",
       "      <td>0.634748</td>\n",
       "    </tr>\n",
       "    <tr>\n",
       "      <th>21</th>\n",
       "      <td>46</td>\n",
       "      <td>1998</td>\n",
       "      <td>32</td>\n",
       "      <td>0.666338</td>\n",
       "    </tr>\n",
       "    <tr>\n",
       "      <th>22</th>\n",
       "      <td>45</td>\n",
       "      <td>1997</td>\n",
       "      <td>23</td>\n",
       "      <td>0.689042</td>\n",
       "    </tr>\n",
       "    <tr>\n",
       "      <th>23</th>\n",
       "      <td>44</td>\n",
       "      <td>1996</td>\n",
       "      <td>16</td>\n",
       "      <td>0.704837</td>\n",
       "    </tr>\n",
       "    <tr>\n",
       "      <th>24</th>\n",
       "      <td>43</td>\n",
       "      <td>1995</td>\n",
       "      <td>14</td>\n",
       "      <td>0.718657</td>\n",
       "    </tr>\n",
       "    <tr>\n",
       "      <th>25</th>\n",
       "      <td>42</td>\n",
       "      <td>1994</td>\n",
       "      <td>15</td>\n",
       "      <td>0.733465</td>\n",
       "    </tr>\n",
       "    <tr>\n",
       "      <th>26</th>\n",
       "      <td>41</td>\n",
       "      <td>1993</td>\n",
       "      <td>21</td>\n",
       "      <td>0.754195</td>\n",
       "    </tr>\n",
       "    <tr>\n",
       "      <th>27</th>\n",
       "      <td>40</td>\n",
       "      <td>1992</td>\n",
       "      <td>17</td>\n",
       "      <td>0.770977</td>\n",
       "    </tr>\n",
       "    <tr>\n",
       "      <th>28</th>\n",
       "      <td>39</td>\n",
       "      <td>1991</td>\n",
       "      <td>18</td>\n",
       "      <td>0.788746</td>\n",
       "    </tr>\n",
       "    <tr>\n",
       "      <th>29</th>\n",
       "      <td>38</td>\n",
       "      <td>1990</td>\n",
       "      <td>18</td>\n",
       "      <td>0.806515</td>\n",
       "    </tr>\n",
       "    <tr>\n",
       "      <th>30</th>\n",
       "      <td>37</td>\n",
       "      <td>1989</td>\n",
       "      <td>10</td>\n",
       "      <td>0.816387</td>\n",
       "    </tr>\n",
       "    <tr>\n",
       "      <th>31</th>\n",
       "      <td>36</td>\n",
       "      <td>1988</td>\n",
       "      <td>20</td>\n",
       "      <td>0.836130</td>\n",
       "    </tr>\n",
       "    <tr>\n",
       "      <th>32</th>\n",
       "      <td>35</td>\n",
       "      <td>1987</td>\n",
       "      <td>16</td>\n",
       "      <td>0.851925</td>\n",
       "    </tr>\n",
       "    <tr>\n",
       "      <th>33</th>\n",
       "      <td>34</td>\n",
       "      <td>1986</td>\n",
       "      <td>14</td>\n",
       "      <td>0.865745</td>\n",
       "    </tr>\n",
       "    <tr>\n",
       "      <th>34</th>\n",
       "      <td>33</td>\n",
       "      <td>1985</td>\n",
       "      <td>10</td>\n",
       "      <td>0.875617</td>\n",
       "    </tr>\n",
       "    <tr>\n",
       "      <th>35</th>\n",
       "      <td>32</td>\n",
       "      <td>1984</td>\n",
       "      <td>13</td>\n",
       "      <td>0.888450</td>\n",
       "    </tr>\n",
       "    <tr>\n",
       "      <th>36</th>\n",
       "      <td>31</td>\n",
       "      <td>1983</td>\n",
       "      <td>6</td>\n",
       "      <td>0.894373</td>\n",
       "    </tr>\n",
       "    <tr>\n",
       "      <th>37</th>\n",
       "      <td>30</td>\n",
       "      <td>1982</td>\n",
       "      <td>10</td>\n",
       "      <td>0.904245</td>\n",
       "    </tr>\n",
       "    <tr>\n",
       "      <th>38</th>\n",
       "      <td>29</td>\n",
       "      <td>1981</td>\n",
       "      <td>7</td>\n",
       "      <td>0.911155</td>\n",
       "    </tr>\n",
       "    <tr>\n",
       "      <th>39</th>\n",
       "      <td>28</td>\n",
       "      <td>1980</td>\n",
       "      <td>6</td>\n",
       "      <td>0.917078</td>\n",
       "    </tr>\n",
       "  </tbody>\n",
       "</table>\n",
       "</div>"
      ],
      "text/plain": [
       "    index  yrpub  count  cumulative\n",
       "0      67   2019     16    0.015795\n",
       "1      66   2018     36    0.051333\n",
       "2      65   2017     27    0.077986\n",
       "3      64   2016     23    0.100691\n",
       "4      63   2015     30    0.130306\n",
       "5      62   2014     40    0.169793\n",
       "6      61   2013     30    0.199408\n",
       "7      60   2012     29    0.228036\n",
       "8      59   2011     39    0.266535\n",
       "9      58   2010     25    0.291214\n",
       "10     57   2009     36    0.326752\n",
       "11     56   2008     21    0.347483\n",
       "12     55   2007     41    0.387957\n",
       "13     54   2006     26    0.413623\n",
       "14     53   2005     32    0.445212\n",
       "15     52   2004     36    0.480750\n",
       "16     51   2003     37    0.517275\n",
       "17     50   2002     27    0.543929\n",
       "18     49   2001     27    0.570582\n",
       "19     48   2000     28    0.598223\n",
       "20     47   1999     37    0.634748\n",
       "21     46   1998     32    0.666338\n",
       "22     45   1997     23    0.689042\n",
       "23     44   1996     16    0.704837\n",
       "24     43   1995     14    0.718657\n",
       "25     42   1994     15    0.733465\n",
       "26     41   1993     21    0.754195\n",
       "27     40   1992     17    0.770977\n",
       "28     39   1991     18    0.788746\n",
       "29     38   1990     18    0.806515\n",
       "30     37   1989     10    0.816387\n",
       "31     36   1988     20    0.836130\n",
       "32     35   1987     16    0.851925\n",
       "33     34   1986     14    0.865745\n",
       "34     33   1985     10    0.875617\n",
       "35     32   1984     13    0.888450\n",
       "36     31   1983      6    0.894373\n",
       "37     30   1982     10    0.904245\n",
       "38     29   1981      7    0.911155\n",
       "39     28   1980      6    0.917078"
      ]
     },
     "execution_count": 50,
     "metadata": {},
     "output_type": "execute_result"
    }
   ],
   "source": [
    "dfLFLyr['cumulative']=dfLFLyr['count'].cumsum()/dfLFLyr['count'].sum()\n",
    "dfLFLyr.head(40)"
   ]
  },
  {
   "cell_type": "markdown",
   "metadata": {},
   "source": [
    "# Set up a dataframe with SPL data by neighborhood\n",
    "fiction/nonfiction, percent children"
   ]
  },
  {
   "cell_type": "code",
   "execution_count": 51,
   "metadata": {},
   "outputs": [
    {
     "data": {
      "text/plain": [
       "array(['Fiction', 'Nonfiction', 'Language', 'Reference', nan],\n",
       "      dtype=object)"
      ]
     },
     "execution_count": 51,
     "metadata": {},
     "output_type": "execute_result"
    }
   ],
   "source": [
    "dfbook.type.unique()"
   ]
  },
  {
   "cell_type": "markdown",
   "metadata": {},
   "source": [
    "### Percent Fiction"
   ]
  },
  {
   "cell_type": "code",
   "execution_count": 52,
   "metadata": {},
   "outputs": [
    {
     "data": {
      "text/html": [
       "<div>\n",
       "<style scoped>\n",
       "    .dataframe tbody tr th:only-of-type {\n",
       "        vertical-align: middle;\n",
       "    }\n",
       "\n",
       "    .dataframe tbody tr th {\n",
       "        vertical-align: top;\n",
       "    }\n",
       "\n",
       "    .dataframe thead th {\n",
       "        text-align: right;\n",
       "    }\n",
       "</style>\n",
       "<table border=\"1\" class=\"dataframe\">\n",
       "  <thead>\n",
       "    <tr style=\"text-align: right;\">\n",
       "      <th></th>\n",
       "      <th>neighborhood</th>\n",
       "      <th>type</th>\n",
       "      <th>count</th>\n",
       "      <th>total</th>\n",
       "      <th>percent</th>\n",
       "    </tr>\n",
       "  </thead>\n",
       "  <tbody>\n",
       "    <tr>\n",
       "      <th>0</th>\n",
       "      <td>Central District</td>\n",
       "      <td>Fiction</td>\n",
       "      <td>23003</td>\n",
       "      <td>49029</td>\n",
       "      <td>0.469171</td>\n",
       "    </tr>\n",
       "    <tr>\n",
       "      <th>4</th>\n",
       "      <td>Columbia City</td>\n",
       "      <td>Fiction</td>\n",
       "      <td>14870</td>\n",
       "      <td>26486</td>\n",
       "      <td>0.561429</td>\n",
       "    </tr>\n",
       "    <tr>\n",
       "      <th>8</th>\n",
       "      <td>Laurelhurst</td>\n",
       "      <td>Fiction</td>\n",
       "      <td>29836</td>\n",
       "      <td>50942</td>\n",
       "      <td>0.585686</td>\n",
       "    </tr>\n",
       "    <tr>\n",
       "      <th>12</th>\n",
       "      <td>Montlake</td>\n",
       "      <td>Fiction</td>\n",
       "      <td>7731</td>\n",
       "      <td>13001</td>\n",
       "      <td>0.594647</td>\n",
       "    </tr>\n",
       "    <tr>\n",
       "      <th>15</th>\n",
       "      <td>Northgate</td>\n",
       "      <td>Fiction</td>\n",
       "      <td>16174</td>\n",
       "      <td>27569</td>\n",
       "      <td>0.586673</td>\n",
       "    </tr>\n",
       "    <tr>\n",
       "      <th>19</th>\n",
       "      <td>Phinney-Greenwood</td>\n",
       "      <td>Fiction</td>\n",
       "      <td>22772</td>\n",
       "      <td>42934</td>\n",
       "      <td>0.530395</td>\n",
       "    </tr>\n",
       "    <tr>\n",
       "      <th>23</th>\n",
       "      <td>Queen Anne</td>\n",
       "      <td>Fiction</td>\n",
       "      <td>10197</td>\n",
       "      <td>18491</td>\n",
       "      <td>0.551457</td>\n",
       "    </tr>\n",
       "    <tr>\n",
       "      <th>27</th>\n",
       "      <td>Ravenna</td>\n",
       "      <td>Fiction</td>\n",
       "      <td>29569</td>\n",
       "      <td>51059</td>\n",
       "      <td>0.579114</td>\n",
       "    </tr>\n",
       "  </tbody>\n",
       "</table>\n",
       "</div>"
      ],
      "text/plain": [
       "         neighborhood     type  count  total   percent\n",
       "0    Central District  Fiction  23003  49029  0.469171\n",
       "4       Columbia City  Fiction  14870  26486  0.561429\n",
       "8         Laurelhurst  Fiction  29836  50942  0.585686\n",
       "12           Montlake  Fiction   7731  13001  0.594647\n",
       "15          Northgate  Fiction  16174  27569  0.586673\n",
       "19  Phinney-Greenwood  Fiction  22772  42934  0.530395\n",
       "23         Queen Anne  Fiction  10197  18491  0.551457\n",
       "27            Ravenna  Fiction  29569  51059  0.579114"
      ]
     },
     "execution_count": 52,
     "metadata": {},
     "output_type": "execute_result"
    }
   ],
   "source": [
    "#Set up a dataframe with the percent fiction\n",
    "\n",
    "#Groups count by Neighborhood, and type, calculates percent\n",
    "bksfiction = dfbook.groupby(['neighborhood', 'type'])['count'].sum().reset_index() #total of each category\n",
    "bksfiction['total'] = bksfiction.groupby('neighborhood')['count'].transform('sum') #Inserts total count for the neighborhood for each type in each neighborhood \n",
    "bksfiction['percent'] = bksfiction['count']/bksfiction['total']\n",
    "\n",
    "\n",
    "#Select fiction\n",
    "fic = bksfiction.loc[bksfiction['type']=='Fiction']\n",
    "fic.head(8)"
   ]
  },
  {
   "cell_type": "code",
   "execution_count": 53,
   "metadata": {},
   "outputs": [
    {
     "name": "stdout",
     "output_type": "stream",
     "text": [
      "0.551506023018772\n"
     ]
    }
   ],
   "source": [
    "fictionbks = fic['count'].sum()\n",
    "totalbks = fic['total'].sum()\n",
    "perfic = fictionbks/totalbks\n",
    "print(perfic)"
   ]
  },
  {
   "cell_type": "code",
   "execution_count": 54,
   "metadata": {},
   "outputs": [],
   "source": [
    "#Save csv file\n",
    "fic.to_csv('SPL-fiction.csv', mode = 'w', index=False)"
   ]
  },
  {
   "cell_type": "markdown",
   "metadata": {},
   "source": [
    "### Percent Juvenile"
   ]
  },
  {
   "cell_type": "code",
   "execution_count": 55,
   "metadata": {},
   "outputs": [
    {
     "data": {
      "text/plain": [
       "array(['acbk', 'jcbk', 'bcbk', 'ucunkn', 'arbk', 'jrbk', 'pkbknh', 'ahbk',\n",
       "       'ucunknj', 'jrmus', 'jcmus', 'bccd'], dtype=object)"
      ]
     },
     "execution_count": 55,
     "metadata": {},
     "output_type": "execute_result"
    }
   ],
   "source": [
    "dfbook.itemtype.unique()\n"
   ]
  },
  {
   "cell_type": "code",
   "execution_count": 56,
   "metadata": {},
   "outputs": [
    {
     "data": {
      "text/html": [
       "<div>\n",
       "<style scoped>\n",
       "    .dataframe tbody tr th:only-of-type {\n",
       "        vertical-align: middle;\n",
       "    }\n",
       "\n",
       "    .dataframe tbody tr th {\n",
       "        vertical-align: top;\n",
       "    }\n",
       "\n",
       "    .dataframe thead th {\n",
       "        text-align: right;\n",
       "    }\n",
       "</style>\n",
       "<table border=\"1\" class=\"dataframe\">\n",
       "  <thead>\n",
       "    <tr style=\"text-align: right;\">\n",
       "      <th></th>\n",
       "      <th>neighborhood</th>\n",
       "      <th>ageletter</th>\n",
       "      <th>count</th>\n",
       "      <th>total</th>\n",
       "      <th>percent</th>\n",
       "    </tr>\n",
       "  </thead>\n",
       "  <tbody>\n",
       "    <tr>\n",
       "      <th>0</th>\n",
       "      <td>Central District</td>\n",
       "      <td>a</td>\n",
       "      <td>28750</td>\n",
       "      <td>49029</td>\n",
       "      <td>0.586388</td>\n",
       "    </tr>\n",
       "    <tr>\n",
       "      <th>1</th>\n",
       "      <td>Central District</td>\n",
       "      <td>b</td>\n",
       "      <td>7</td>\n",
       "      <td>49029</td>\n",
       "      <td>0.000143</td>\n",
       "    </tr>\n",
       "    <tr>\n",
       "      <th>2</th>\n",
       "      <td>Central District</td>\n",
       "      <td>j</td>\n",
       "      <td>20115</td>\n",
       "      <td>49029</td>\n",
       "      <td>0.410267</td>\n",
       "    </tr>\n",
       "    <tr>\n",
       "      <th>3</th>\n",
       "      <td>Central District</td>\n",
       "      <td>p</td>\n",
       "      <td>148</td>\n",
       "      <td>49029</td>\n",
       "      <td>0.003019</td>\n",
       "    </tr>\n",
       "    <tr>\n",
       "      <th>4</th>\n",
       "      <td>Central District</td>\n",
       "      <td>u</td>\n",
       "      <td>9</td>\n",
       "      <td>49029</td>\n",
       "      <td>0.000184</td>\n",
       "    </tr>\n",
       "  </tbody>\n",
       "</table>\n",
       "</div>"
      ],
      "text/plain": [
       "       neighborhood ageletter  count  total   percent\n",
       "0  Central District         a  28750  49029  0.586388\n",
       "1  Central District         b      7  49029  0.000143\n",
       "2  Central District         j  20115  49029  0.410267\n",
       "3  Central District         p    148  49029  0.003019\n",
       "4  Central District         u      9  49029  0.000184"
      ]
     },
     "execution_count": 56,
     "metadata": {},
     "output_type": "execute_result"
    }
   ],
   "source": [
    "#Set up a dataframe with the juvenile books. Uses the dfbook dataframe saved before analysis\n",
    "\n",
    "#Groups count by Neighborhood, and itemtype, calculates percent\n",
    "bksage = dfbook.groupby(['neighborhood', 'itemtype'])['count'].sum().reset_index() #total of each category\n",
    "bksage['ageletter'] = bksage['itemtype'].str[:1] #selects first letter of itemtype code (a=adult and YA, j=juvenile)\n",
    "bksagelist = bksage.groupby(['neighborhood','ageletter'])['count'].apply(lambda x : x.astype(int).sum()) #sums up the a's and j's by neighborhood\n",
    "bksage = pd.DataFrame(bksagelist).reset_index()\n",
    "bksage['total'] = bksage.groupby('neighborhood')['count'].transform('sum') #Inserts total count for the neighborhood for each type in each neighborhood\n",
    "\n",
    "bksage['percent'] = bksage['count']/bksage['total']\n",
    "\n",
    "bksage.head()\n"
   ]
  },
  {
   "cell_type": "code",
   "execution_count": 57,
   "metadata": {},
   "outputs": [
    {
     "data": {
      "text/html": [
       "<div>\n",
       "<style scoped>\n",
       "    .dataframe tbody tr th:only-of-type {\n",
       "        vertical-align: middle;\n",
       "    }\n",
       "\n",
       "    .dataframe tbody tr th {\n",
       "        vertical-align: top;\n",
       "    }\n",
       "\n",
       "    .dataframe thead th {\n",
       "        text-align: right;\n",
       "    }\n",
       "</style>\n",
       "<table border=\"1\" class=\"dataframe\">\n",
       "  <thead>\n",
       "    <tr style=\"text-align: right;\">\n",
       "      <th></th>\n",
       "      <th>neighborhood</th>\n",
       "      <th>ageletter</th>\n",
       "      <th>count</th>\n",
       "      <th>total</th>\n",
       "      <th>percent</th>\n",
       "    </tr>\n",
       "  </thead>\n",
       "  <tbody>\n",
       "    <tr>\n",
       "      <th>2</th>\n",
       "      <td>Central District</td>\n",
       "      <td>j</td>\n",
       "      <td>20115</td>\n",
       "      <td>49029</td>\n",
       "      <td>0.410267</td>\n",
       "    </tr>\n",
       "    <tr>\n",
       "      <th>7</th>\n",
       "      <td>Columbia City</td>\n",
       "      <td>j</td>\n",
       "      <td>11587</td>\n",
       "      <td>26486</td>\n",
       "      <td>0.437476</td>\n",
       "    </tr>\n",
       "    <tr>\n",
       "      <th>11</th>\n",
       "      <td>Laurelhurst</td>\n",
       "      <td>j</td>\n",
       "      <td>23079</td>\n",
       "      <td>50942</td>\n",
       "      <td>0.453045</td>\n",
       "    </tr>\n",
       "    <tr>\n",
       "      <th>15</th>\n",
       "      <td>Montlake</td>\n",
       "      <td>j</td>\n",
       "      <td>6266</td>\n",
       "      <td>13006</td>\n",
       "      <td>0.481778</td>\n",
       "    </tr>\n",
       "    <tr>\n",
       "      <th>19</th>\n",
       "      <td>Northgate</td>\n",
       "      <td>j</td>\n",
       "      <td>11591</td>\n",
       "      <td>27569</td>\n",
       "      <td>0.420436</td>\n",
       "    </tr>\n",
       "    <tr>\n",
       "      <th>23</th>\n",
       "      <td>Phinney-Greenwood</td>\n",
       "      <td>j</td>\n",
       "      <td>18297</td>\n",
       "      <td>42934</td>\n",
       "      <td>0.426166</td>\n",
       "    </tr>\n",
       "    <tr>\n",
       "      <th>27</th>\n",
       "      <td>Queen Anne</td>\n",
       "      <td>j</td>\n",
       "      <td>7791</td>\n",
       "      <td>18491</td>\n",
       "      <td>0.421340</td>\n",
       "    </tr>\n",
       "    <tr>\n",
       "      <th>31</th>\n",
       "      <td>Ravenna</td>\n",
       "      <td>j</td>\n",
       "      <td>22990</td>\n",
       "      <td>51239</td>\n",
       "      <td>0.448682</td>\n",
       "    </tr>\n",
       "  </tbody>\n",
       "</table>\n",
       "</div>"
      ],
      "text/plain": [
       "         neighborhood ageletter  count  total   percent\n",
       "2    Central District         j  20115  49029  0.410267\n",
       "7       Columbia City         j  11587  26486  0.437476\n",
       "11        Laurelhurst         j  23079  50942  0.453045\n",
       "15           Montlake         j   6266  13006  0.481778\n",
       "19          Northgate         j  11591  27569  0.420436\n",
       "23  Phinney-Greenwood         j  18297  42934  0.426166\n",
       "27         Queen Anne         j   7791  18491  0.421340\n",
       "31            Ravenna         j  22990  51239  0.448682"
      ]
     },
     "execution_count": 57,
     "metadata": {},
     "output_type": "execute_result"
    }
   ],
   "source": [
    "#Select juveniles\n",
    "bksjuv = bksage.loc[bksage['ageletter']=='j']\n",
    "bksjuv.head(8)\n"
   ]
  },
  {
   "cell_type": "code",
   "execution_count": 58,
   "metadata": {},
   "outputs": [],
   "source": [
    "#Save csv file\n",
    "bksjuv.to_csv('SPL-juvenilePercent.csv', mode = 'w', index=False)"
   ]
  },
  {
   "cell_type": "markdown",
   "metadata": {},
   "source": [
    "## Compare ISBNs"
   ]
  },
  {
   "cell_type": "code",
   "execution_count": 59,
   "metadata": {},
   "outputs": [],
   "source": [
    "#Open LFL raw book data and open SPL data if needed\n",
    "dflfl = pd.read_csv('../bookData/bookData.csv')\n",
    "dfbook = pd.read_csv('SPL-dfbook.csv',encoding='utf-8')"
   ]
  },
  {
   "cell_type": "code",
   "execution_count": 60,
   "metadata": {},
   "outputs": [],
   "source": [
    "#Pare down to neighborhood and isbn columns\n",
    "lfl = dflfl[['neighborhood','isbn','yrpub']].copy()\n",
    "spl = dfbook[['neighborhood','isbn']].copy()"
   ]
  },
  {
   "cell_type": "code",
   "execution_count": 61,
   "metadata": {},
   "outputs": [],
   "source": [
    "#remove duplicate LFL books within each neighborhood. 22 entries are removed leaving 991 rows\n",
    "lfl = lfl.drop_duplicates(subset=['neighborhood','isbn'], keep='first')"
   ]
  },
  {
   "cell_type": "code",
   "execution_count": 62,
   "metadata": {},
   "outputs": [],
   "source": [
    "#Convert isbn variable to string\n",
    "spl['isbn'] = spl['isbn'].astype('str')"
   ]
  },
  {
   "cell_type": "code",
   "execution_count": 63,
   "metadata": {},
   "outputs": [],
   "source": [
    "#The SPL data has many isbns all in the same column.  Parse them out.\n",
    "#I got this from https://stackoverflow.com/questions/50731229/split-cell-into-multiple-rows-in-pandas-dataframe\n",
    "#First get needed packages \n",
    "import numpy as np\n",
    "from itertools import chain"
   ]
  },
  {
   "cell_type": "code",
   "execution_count": 64,
   "metadata": {},
   "outputs": [],
   "source": [
    "# return list from series of comma-separated strings\n",
    "def chainer(s):\n",
    "    return list(chain.from_iterable(s.str.split(',')))\n",
    "\n",
    "# calculate lengths of splits\n",
    "lens = spl['isbn'].str.split(',').map(len)\n",
    "\n",
    "# create new dataframe, repeating or chaining as appropriate\n",
    "splisbn = pd.DataFrame({'neighborhood': np.repeat(spl['neighborhood'], lens),\n",
    "                    'isbn': chainer(spl['isbn'])})"
   ]
  },
  {
   "cell_type": "code",
   "execution_count": 65,
   "metadata": {},
   "outputs": [],
   "source": [
    "#The isbn column has apostrophes and an occasional 'b'. Remove them\n",
    "splisbn['isbn'] = splisbn['isbn'].str.replace(r\"[b\\',]\", '')"
   ]
  },
  {
   "cell_type": "code",
   "execution_count": 66,
   "metadata": {},
   "outputs": [],
   "source": [
    "#Reset the index\n",
    "splisbn.reset_index(drop=True,inplace=True)"
   ]
  },
  {
   "cell_type": "code",
   "execution_count": 67,
   "metadata": {},
   "outputs": [],
   "source": [
    "#Merge dataframes to get isbns present in lfl and spl. The new dataframe has a column renamed to splhood that shows a \n",
    "#value if the isbn is present at that library branch\n",
    "shared = pd.merge(lfl, splisbn, on='isbn', how='inner')\n",
    "shared.rename(columns={\"neighborhood_x\": \"neighborhood\", \"neighborhood_y\": \"splhood\"}, inplace=True)"
   ]
  },
  {
   "cell_type": "code",
   "execution_count": 68,
   "metadata": {},
   "outputs": [
    {
     "data": {
      "text/plain": [
       "83"
      ]
     },
     "execution_count": 68,
     "metadata": {},
     "output_type": "execute_result"
    }
   ],
   "source": [
    "len(shared)"
   ]
  },
  {
   "cell_type": "code",
   "execution_count": 69,
   "metadata": {},
   "outputs": [],
   "source": [
    "#Save file if you want\n",
    "shared.to_csv('isbn-matching.csv', mode = 'w', index=False)"
   ]
  },
  {
   "cell_type": "code",
   "execution_count": 70,
   "metadata": {},
   "outputs": [
    {
     "data": {
      "text/html": [
       "<div>\n",
       "<style scoped>\n",
       "    .dataframe tbody tr th:only-of-type {\n",
       "        vertical-align: middle;\n",
       "    }\n",
       "\n",
       "    .dataframe tbody tr th {\n",
       "        vertical-align: top;\n",
       "    }\n",
       "\n",
       "    .dataframe thead th {\n",
       "        text-align: right;\n",
       "    }\n",
       "</style>\n",
       "<table border=\"1\" class=\"dataframe\">\n",
       "  <thead>\n",
       "    <tr style=\"text-align: right;\">\n",
       "      <th></th>\n",
       "      <th>neighborhood</th>\n",
       "      <th>isbn</th>\n",
       "      <th>yrpub</th>\n",
       "      <th>splhood</th>\n",
       "    </tr>\n",
       "  </thead>\n",
       "  <tbody>\n",
       "    <tr>\n",
       "      <th>0</th>\n",
       "      <td>Columbia City</td>\n",
       "      <td>1101904429</td>\n",
       "      <td>2019</td>\n",
       "      <td>Queen Anne</td>\n",
       "    </tr>\n",
       "    <tr>\n",
       "      <th>1</th>\n",
       "      <td>Columbia City</td>\n",
       "      <td>1101904429</td>\n",
       "      <td>2019</td>\n",
       "      <td>Northgate</td>\n",
       "    </tr>\n",
       "    <tr>\n",
       "      <th>2</th>\n",
       "      <td>Columbia City</td>\n",
       "      <td>1101904429</td>\n",
       "      <td>2019</td>\n",
       "      <td>Montlake</td>\n",
       "    </tr>\n",
       "    <tr>\n",
       "      <th>3</th>\n",
       "      <td>Northgate</td>\n",
       "      <td>1487001835</td>\n",
       "      <td>2018</td>\n",
       "      <td>Northgate</td>\n",
       "    </tr>\n",
       "    <tr>\n",
       "      <th>4</th>\n",
       "      <td>Montlake</td>\n",
       "      <td>1631494139</td>\n",
       "      <td>2018</td>\n",
       "      <td>Phinney-Greenwood</td>\n",
       "    </tr>\n",
       "  </tbody>\n",
       "</table>\n",
       "</div>"
      ],
      "text/plain": [
       "    neighborhood        isbn yrpub            splhood\n",
       "0  Columbia City  1101904429  2019         Queen Anne\n",
       "1  Columbia City  1101904429  2019          Northgate\n",
       "2  Columbia City  1101904429  2019           Montlake\n",
       "3      Northgate  1487001835  2018          Northgate\n",
       "4       Montlake  1631494139  2018  Phinney-Greenwood"
      ]
     },
     "execution_count": 70,
     "metadata": {},
     "output_type": "execute_result"
    }
   ],
   "source": [
    "#The shared dataframe includes multiple rows for an isbn that is in an LFL if that isbn is found in multiple SPL branches\n",
    "shared.head()"
   ]
  },
  {
   "cell_type": "code",
   "execution_count": 71,
   "metadata": {},
   "outputs": [
    {
     "data": {
      "text/html": [
       "<div>\n",
       "<style scoped>\n",
       "    .dataframe tbody tr th:only-of-type {\n",
       "        vertical-align: middle;\n",
       "    }\n",
       "\n",
       "    .dataframe tbody tr th {\n",
       "        vertical-align: top;\n",
       "    }\n",
       "\n",
       "    .dataframe thead th {\n",
       "        text-align: right;\n",
       "    }\n",
       "</style>\n",
       "<table border=\"1\" class=\"dataframe\">\n",
       "  <thead>\n",
       "    <tr style=\"text-align: right;\">\n",
       "      <th></th>\n",
       "      <th>isbn</th>\n",
       "      <th>splhood</th>\n",
       "    </tr>\n",
       "  </thead>\n",
       "  <tbody>\n",
       "    <tr>\n",
       "      <th>29</th>\n",
       "      <td>198480183X</td>\n",
       "      <td>9</td>\n",
       "    </tr>\n",
       "    <tr>\n",
       "      <th>14</th>\n",
       "      <td>1501187597</td>\n",
       "      <td>7</td>\n",
       "    </tr>\n",
       "    <tr>\n",
       "      <th>2</th>\n",
       "      <td>067989067X</td>\n",
       "      <td>7</td>\n",
       "    </tr>\n",
       "    <tr>\n",
       "      <th>7</th>\n",
       "      <td>144248845X</td>\n",
       "      <td>7</td>\n",
       "    </tr>\n",
       "    <tr>\n",
       "      <th>25</th>\n",
       "      <td>1641290110</td>\n",
       "      <td>5</td>\n",
       "    </tr>\n",
       "  </tbody>\n",
       "</table>\n",
       "</div>"
      ],
      "text/plain": [
       "          isbn  splhood\n",
       "29  198480183X        9\n",
       "14  1501187597        7\n",
       "2   067989067X        7\n",
       "7   144248845X        7\n",
       "25  1641290110        5"
      ]
     },
     "execution_count": 71,
     "metadata": {},
     "output_type": "execute_result"
    }
   ],
   "source": [
    "#Count the branches for each isbn. One book is in all branches and Central District includes two branches so 9.\n",
    "sharedbooks = shared.groupby(['isbn'])['splhood'].count().reset_index()\n",
    "sharedbooks.sort_values(by='splhood', ascending=False, inplace=True)\n",
    "sharedbooks.head()"
   ]
  },
  {
   "cell_type": "code",
   "execution_count": 72,
   "metadata": {},
   "outputs": [
    {
     "data": {
      "image/png": "[encoded data removed]",
      "text/plain": [
       "<Figure size 576x360 with 1 Axes>"
      ]
     },
     "metadata": {},
     "output_type": "display_data"
    }
   ],
   "source": [
    "# Histogram of the number of ISBNs existing in an LFL that are also represented in one or more SPL library branches\n",
    "sns.set(style='white', palette=\"deep\", font_scale=1.1, rc={\"figure.figsize\": [8, 5]})\n",
    "\n",
    "#SPL\n",
    "p1= sns.distplot(\n",
    "    sharedbooks['splhood'], norm_hist=False, kde=False, bins=7, color='black', hist_kws={\"alpha\": 1}).set(xlabel='Number of public library branches', ylabel='Number of ISBNs ')\n"
   ]
  },
  {
   "cell_type": "code",
   "execution_count": 73,
   "metadata": {},
   "outputs": [
    {
     "data": {
      "text/plain": [
       "30"
      ]
     },
     "execution_count": 73,
     "metadata": {},
     "output_type": "execute_result"
    }
   ],
   "source": [
    "#Count isbns that are present in at least one SPL branches\n",
    "len(sharedbooks)"
   ]
  },
  {
   "cell_type": "code",
   "execution_count": 74,
   "metadata": {},
   "outputs": [
    {
     "data": {
      "text/html": [
       "<div>\n",
       "<style scoped>\n",
       "    .dataframe tbody tr th:only-of-type {\n",
       "        vertical-align: middle;\n",
       "    }\n",
       "\n",
       "    .dataframe tbody tr th {\n",
       "        vertical-align: top;\n",
       "    }\n",
       "\n",
       "    .dataframe thead th {\n",
       "        text-align: right;\n",
       "    }\n",
       "</style>\n",
       "<table border=\"1\" class=\"dataframe\">\n",
       "  <thead>\n",
       "    <tr style=\"text-align: right;\">\n",
       "      <th></th>\n",
       "      <th>splhood</th>\n",
       "      <th>neighborhood</th>\n",
       "      <th>isbn</th>\n",
       "      <th>yrpub</th>\n",
       "    </tr>\n",
       "  </thead>\n",
       "  <tbody>\n",
       "    <tr>\n",
       "      <th>0</th>\n",
       "      <td>Laurelhurst</td>\n",
       "      <td>1</td>\n",
       "      <td>1</td>\n",
       "      <td>1</td>\n",
       "    </tr>\n",
       "    <tr>\n",
       "      <th>1</th>\n",
       "      <td>Northgate</td>\n",
       "      <td>2</td>\n",
       "      <td>2</td>\n",
       "      <td>2</td>\n",
       "    </tr>\n",
       "    <tr>\n",
       "      <th>2</th>\n",
       "      <td>Phinney-Greenwood</td>\n",
       "      <td>2</td>\n",
       "      <td>2</td>\n",
       "      <td>2</td>\n",
       "    </tr>\n",
       "    <tr>\n",
       "      <th>3</th>\n",
       "      <td>Queen Anne</td>\n",
       "      <td>1</td>\n",
       "      <td>1</td>\n",
       "      <td>1</td>\n",
       "    </tr>\n",
       "    <tr>\n",
       "      <th>4</th>\n",
       "      <td>Ravenna</td>\n",
       "      <td>3</td>\n",
       "      <td>3</td>\n",
       "      <td>3</td>\n",
       "    </tr>\n",
       "  </tbody>\n",
       "</table>\n",
       "</div>"
      ],
      "text/plain": [
       "             splhood  neighborhood  isbn  yrpub\n",
       "0        Laurelhurst             1     1      1\n",
       "1          Northgate             2     2      2\n",
       "2  Phinney-Greenwood             2     2      2\n",
       "3         Queen Anne             1     1      1\n",
       "4            Ravenna             3     3      3"
      ]
     },
     "execution_count": 74,
     "metadata": {},
     "output_type": "execute_result"
    }
   ],
   "source": [
    "#Count times the LFL books are in the nearby branch. Only five neighborhoods had books in LFLs that were present \n",
    "#in the nearby public library branch\n",
    "samehood= shared[shared['splhood']==shared['neighborhood']].groupby(['splhood']).count().reset_index()\n",
    "samehood.head(10)"
   ]
  },
  {
   "cell_type": "code",
   "execution_count": 75,
   "metadata": {
    "scrolled": false
   },
   "outputs": [
    {
     "data": {
      "text/html": [
       "<div>\n",
       "<style scoped>\n",
       "    .dataframe tbody tr th:only-of-type {\n",
       "        vertical-align: middle;\n",
       "    }\n",
       "\n",
       "    .dataframe tbody tr th {\n",
       "        vertical-align: top;\n",
       "    }\n",
       "\n",
       "    .dataframe thead th {\n",
       "        text-align: right;\n",
       "    }\n",
       "</style>\n",
       "<table border=\"1\" class=\"dataframe\">\n",
       "  <thead>\n",
       "    <tr style=\"text-align: right;\">\n",
       "      <th></th>\n",
       "      <th>neighborhood</th>\n",
       "      <th>isbn</th>\n",
       "      <th>yrpub</th>\n",
       "      <th>splhood</th>\n",
       "    </tr>\n",
       "  </thead>\n",
       "  <tbody>\n",
       "    <tr>\n",
       "      <th>3</th>\n",
       "      <td>Northgate</td>\n",
       "      <td>1487001835</td>\n",
       "      <td>2018</td>\n",
       "      <td>Northgate</td>\n",
       "    </tr>\n",
       "    <tr>\n",
       "      <th>22</th>\n",
       "      <td>Phinney-Greenwood</td>\n",
       "      <td>1641290110</td>\n",
       "      <td>2018</td>\n",
       "      <td>Phinney-Greenwood</td>\n",
       "    </tr>\n",
       "    <tr>\n",
       "      <th>29</th>\n",
       "      <td>Queen Anne</td>\n",
       "      <td>144248845X</td>\n",
       "      <td>2014</td>\n",
       "      <td>Queen Anne</td>\n",
       "    </tr>\n",
       "    <tr>\n",
       "      <th>34</th>\n",
       "      <td>Northgate</td>\n",
       "      <td>1472906500</td>\n",
       "      <td>2014</td>\n",
       "      <td>Northgate</td>\n",
       "    </tr>\n",
       "    <tr>\n",
       "      <th>46</th>\n",
       "      <td>Ravenna</td>\n",
       "      <td>1603093680</td>\n",
       "      <td>2015</td>\n",
       "      <td>Ravenna</td>\n",
       "    </tr>\n",
       "    <tr>\n",
       "      <th>49</th>\n",
       "      <td>Ravenna</td>\n",
       "      <td>1338068474</td>\n",
       "      <td>2018</td>\n",
       "      <td>Ravenna</td>\n",
       "    </tr>\n",
       "    <tr>\n",
       "      <th>54</th>\n",
       "      <td>Phinney-Greenwood</td>\n",
       "      <td>198480183X</td>\n",
       "      <td>2018</td>\n",
       "      <td>Phinney-Greenwood</td>\n",
       "    </tr>\n",
       "    <tr>\n",
       "      <th>68</th>\n",
       "      <td>Laurelhurst</td>\n",
       "      <td>1335474625</td>\n",
       "      <td>2018</td>\n",
       "      <td>Laurelhurst</td>\n",
       "    </tr>\n",
       "    <tr>\n",
       "      <th>74</th>\n",
       "      <td>Ravenna</td>\n",
       "      <td>1606840355</td>\n",
       "      <td>2010</td>\n",
       "      <td>Ravenna</td>\n",
       "    </tr>\n",
       "  </tbody>\n",
       "</table>\n",
       "</div>"
      ],
      "text/plain": [
       "         neighborhood        isbn yrpub            splhood\n",
       "3           Northgate  1487001835  2018          Northgate\n",
       "22  Phinney-Greenwood  1641290110  2018  Phinney-Greenwood\n",
       "29         Queen Anne  144248845X  2014         Queen Anne\n",
       "34          Northgate  1472906500  2014          Northgate\n",
       "46            Ravenna  1603093680  2015            Ravenna\n",
       "49            Ravenna  1338068474  2018            Ravenna\n",
       "54  Phinney-Greenwood  198480183X  2018  Phinney-Greenwood\n",
       "68        Laurelhurst  1335474625  2018        Laurelhurst\n",
       "74            Ravenna  1606840355  2010            Ravenna"
      ]
     },
     "execution_count": 75,
     "metadata": {},
     "output_type": "execute_result"
    }
   ],
   "source": [
    "#See what year the shared books were published\n",
    "years = shared[shared['splhood']==shared['neighborhood']]\n",
    "years.head(10)"
   ]
  },
  {
   "cell_type": "markdown",
   "metadata": {},
   "source": [
    "## Get all the isbns from May and July to compare\n",
    "That is get all the ISBNs available at SPL"
   ]
  },
  {
   "cell_type": "code",
   "execution_count": 85,
   "metadata": {},
   "outputs": [],
   "source": [
    "#IF RUNNING AGAIN, OPEN EXISTING FILE AND GO TO ANALYZE ISBN SECTION\n",
    "splallisbn2 = pd.read_csv('SPL-isbn-clean.csv',encoding='utf-8')"
   ]
  },
  {
   "cell_type": "code",
   "execution_count": 76,
   "metadata": {},
   "outputs": [
    {
     "name": "stdout",
     "output_type": "stream",
     "text": [
      "May ISBNs:  1324806  July ISBNs:  1486646\n"
     ]
    }
   ],
   "source": [
    "#Use previous json files\n",
    "\n",
    "#Get count of all SPL isbns for May\n",
    "with open(\"SPL-bibCOUNTS-May2019.json\", \"r\") as read_file: \n",
    "    may = json.load(read_file)\n",
    "\n",
    "maylist=[]\n",
    "for c in may:  \n",
    "            maylist.append(c['count_BibNum'])\n",
    "\n",
    "#Get count of all SPL isbns for July \n",
    "with open(\"SPL-bibCOUNTS-July2019.json\", \"r\") as read_file: \n",
    "    july = json.load(read_file)\n",
    "\n",
    "julylist=[]\n",
    "for c in july:  \n",
    "            julylist.append(c['count_BibNum'])\n",
    "        \n",
    "#Convert the dictionaries to a dataframes\n",
    "bibctsMay = pd.DataFrame(maylist, columns=['bibcount'])\n",
    "bibctsMay = pd.to_numeric(bibctsMay['bibcount'])\n",
    "\n",
    "bibctsJuly = pd.DataFrame(julylist, columns=['bibcount'])\n",
    "bibctsJuly = pd.to_numeric(bibctsJuly['bibcount'])\n",
    "\n",
    "#Sum the lists\n",
    "bibMay = bibctsMay.sum()\n",
    "bibJuly = bibctsJuly.sum()\n",
    "\n",
    "print(\"May ISBNs: \", bibMay, \" July ISBNs: \", bibJuly)"
   ]
  },
  {
   "cell_type": "code",
   "execution_count": null,
   "metadata": {
    "scrolled": true
   },
   "outputs": [],
   "source": [
    "#Get isbns from SPL-\n",
    "#Dates of data:\n",
    "coldate1 = '\"2019-05-01T00:00:00.000\"'\n",
    "coldate2 = '\"2019-07-01T00:00:00.000\"'\n",
    "\n",
    "#Collect data\n",
    "s=requests.get('https://data.seattle.gov/resource/6vkj-f5xf.json?$select=isbn&$where=reportdate='+coldate1+'&$limit='+str(bibMay)) \n",
    "m=json.loads(s.text)\n",
    "\n",
    "t=requests.get('https://data.seattle.gov/resource/6vkj-f5xf.json?$select=isbn&$where=reportdate='+coldate2+'&$limit='+str(bibJuly)) \n",
    "j=json.loads(t.text)\n",
    "               \n",
    "print(len(m),\" \",len(j))"
   ]
  },
  {
   "cell_type": "code",
   "execution_count": 12,
   "metadata": {},
   "outputs": [],
   "source": [
    "#Save the files - Saving them to a non Github folder since they are really big and need to get cleaned up\n",
    "with open('C:/Users/Andre/Documents/Research/Free_little_lib/DataAnalysis/SPL/SPL-may2019-isbns.json', \"w\") as write_file:\n",
    "    json.dump(m, write_file)\n",
    "with open('C:/Users/Andre/Documents/Research/Free_little_lib/DataAnalysis/SPL/SPL-july2019-isbns.json', \"w\") as write_file:\n",
    "    json.dump(j, write_file)"
   ]
  },
  {
   "cell_type": "code",
   "execution_count": 13,
   "metadata": {},
   "outputs": [],
   "source": [
    "#Create a dataframe for spl data and combine the json files- There are blank entries in here.\n",
    "metadata=open('C:/Users/Andre/Documents/Research/Free_little_lib/DataAnalysis/SPL/SPL-isbn.csv', 'w', newline='', encoding='utf-8')\n",
    "csv.writer(metadata).writerow(['isbn'])\n",
    "\n",
    "for i in m:\n",
    "    csv.writer(metadata).writerow([i])\n",
    "\n",
    "for i in j:\n",
    "    csv.writer(metadata).writerow([i])\n",
    "  \n",
    "metadata.close() #Close the output file, release all locks\n",
    "\n",
    "#Open up the same file as a dataframe.\n",
    "splallisbn = pd.read_csv('C:/Users/Andre/Documents/Research/Free_little_lib/DataAnalysis/SPL/SPL-isbn.csv',encoding='utf-8')"
   ]
  },
  {
   "cell_type": "code",
   "execution_count": 80,
   "metadata": {},
   "outputs": [],
   "source": [
    "#Convert isbn variable to string\n",
    "splallisbn['isbn'] = splallisbn['isbn'].astype('str')"
   ]
  },
  {
   "cell_type": "code",
   "execution_count": 81,
   "metadata": {},
   "outputs": [],
   "source": [
    "#The SPL data has many isbns all in the same column.  Parse them out.\n",
    "#I got this from https://stackoverflow.com/questions/50731229/split-cell-into-multiple-rows-in-pandas-dataframe\n",
    "#First get needed packages \n",
    "import numpy as np\n",
    "from itertools import chain\n",
    "\n",
    "# return list from series of comma-separated strings\n",
    "def chainer(s):\n",
    "    return list(chain.from_iterable(s.str.split(',')))\n",
    "\n",
    "# calculate lengths of splits\n",
    "lens = splallisbn['isbn'].str.split(',').map(len)\n",
    "\n",
    "# create new dataframe, repeating or chaining as appropriate\n",
    "splallisbn2 = pd.DataFrame({'isbn': chainer(splallisbn['isbn'])})\n",
    "\n",
    "#The isbn column has apostrophes and an occasional 'b'. Remove them\n",
    "splallisbn2['isbn'] = splallisbn2['isbn'].str.replace(r\"[b\\',]\", '')\n",
    "#Turns out it also has \"isn:\" and some curly brackets. Remove them\n",
    "splallisbn2['isbn'] = splallisbn2['isbn'].str.replace(r\"[isn: /{/},]\", '')\n",
    "\n",
    "#Reset the index\n",
    "splallisbn2.reset_index(drop=True,inplace=True)\n",
    "\n",
    "#Cull duplicates- This takes it from 5 million isbns to 800K\n",
    "splallisbn2 = splallisbn2.drop_duplicates()\n"
   ]
  },
  {
   "cell_type": "code",
   "execution_count": 82,
   "metadata": {},
   "outputs": [],
   "source": [
    "#Remove the blank entry\n",
    "\n",
    "splallisbn2 = splallisbn2[splallisbn2.isbn != '']\n"
   ]
  },
  {
   "cell_type": "code",
   "execution_count": 27,
   "metadata": {},
   "outputs": [],
   "source": [
    "#Save file\n",
    "splallisbn2.to_csv('SPL-isbn-clean.csv', mode = 'w', index=False)"
   ]
  },
  {
   "cell_type": "code",
   "execution_count": 30,
   "metadata": {
    "scrolled": true
   },
   "outputs": [
    {
     "name": "stdout",
     "output_type": "stream",
     "text": [
      "<class 'pandas.core.frame.DataFrame'>\n",
      "Int64Index: 798714 entries, 0 to 5351027\n",
      "Data columns (total 1 columns):\n",
      " #   Column  Non-Null Count   Dtype \n",
      "---  ------  --------------   ----- \n",
      " 0   isbn    798714 non-null  object\n",
      "dtypes: object(1)\n",
      "memory usage: 12.2+ MB\n"
     ]
    }
   ],
   "source": [
    "splallisbn2.info()"
   ]
  },
  {
   "cell_type": "markdown",
   "metadata": {},
   "source": [
    "### Analyze ISBNs"
   ]
  },
  {
   "cell_type": "code",
   "execution_count": 2,
   "metadata": {},
   "outputs": [],
   "source": [
    "#open spl data if needed\n",
    "splallisbn2 = pd.read_csv('SPL-isbn-clean.csv')"
   ]
  },
  {
   "cell_type": "code",
   "execution_count": 3,
   "metadata": {},
   "outputs": [],
   "source": [
    "#Open LFL raw book data\n",
    "dflfl = pd.read_csv('../bookData/bookData.csv')\n",
    "\n",
    "#Pare down to isbn columns\n",
    "lfl1 = dflfl[['title','yrpub','isbn','age','type']].copy()\n",
    "#Remove duplicates\n",
    "lfl = lfl1.drop_duplicates() #removes 10 rows\n"
   ]
  },
  {
   "cell_type": "code",
   "execution_count": 4,
   "metadata": {},
   "outputs": [],
   "source": [
    "#Merge dataframes to get isbns present in lfl and spl.\n",
    "shared2 = pd.merge(lfl, splallisbn2, on='isbn', how='inner')\n",
    "shared2 = shared2.sort_values(by=['yrpub'])\n",
    "#Reset the index\n",
    "shared2.reset_index(drop=True,inplace=True)\n",
    "shared2['count'] = 1"
   ]
  },
  {
   "cell_type": "code",
   "execution_count": 5,
   "metadata": {},
   "outputs": [
    {
     "name": "stdout",
     "output_type": "stream",
     "text": [
      "Earliest:  1954 Last:  118    2019\n",
      "Name: yrpub, dtype: object\n"
     ]
    }
   ],
   "source": [
    "print('Earliest: ', shared2['yrpub'][0], 'Last: ', shared2['yrpub'].tail(1)) #Note, tail outputs the index value too."
   ]
  },
  {
   "cell_type": "code",
   "execution_count": 6,
   "metadata": {},
   "outputs": [
    {
     "name": "stdout",
     "output_type": "stream",
     "text": [
      "Total books shared by all of SPL and LFLs: 119\n"
     ]
    }
   ],
   "source": [
    "print('Total books shared by all of SPL and LFLs:',len(shared2))"
   ]
  },
  {
   "cell_type": "code",
   "execution_count": 89,
   "metadata": {},
   "outputs": [
    {
     "data": {
      "image/png": "[encoded data removed]",
      "text/plain": [
       "<Figure size 576x360 with 1 Axes>"
      ]
     },
     "metadata": {},
     "output_type": "display_data"
    }
   ],
   "source": [
    "p=sns.distplot(shared2['yrpub'], bins=21, kde=False).set(xlabel='Year Published', ylabel='Count')"
   ]
  },
  {
   "cell_type": "code",
   "execution_count": 90,
   "metadata": {},
   "outputs": [],
   "source": [
    "#Get a cumulative percent\n",
    "sharedcumu = shared2.sort_values(by=['yrpub'], ascending=False)\n",
    "#Reset the index\n",
    "sharedcumu.reset_index(drop=True,inplace=True)\n",
    "#Add a count column and calculate cumulative percent (probably a better way to do this)\n",
    "sharedcumu['count'] = 1\n",
    "sharedcumu['cumulative']=sharedcumu['count'].cumsum()/sharedcumu['count'].sum()"
   ]
  },
  {
   "cell_type": "code",
   "execution_count": 91,
   "metadata": {},
   "outputs": [
    {
     "data": {
      "text/html": [
       "<div>\n",
       "<style scoped>\n",
       "    .dataframe tbody tr th:only-of-type {\n",
       "        vertical-align: middle;\n",
       "    }\n",
       "\n",
       "    .dataframe tbody tr th {\n",
       "        vertical-align: top;\n",
       "    }\n",
       "\n",
       "    .dataframe thead th {\n",
       "        text-align: right;\n",
       "    }\n",
       "</style>\n",
       "<table border=\"1\" class=\"dataframe\">\n",
       "  <thead>\n",
       "    <tr style=\"text-align: right;\">\n",
       "      <th></th>\n",
       "      <th>title</th>\n",
       "      <th>yrpub</th>\n",
       "      <th>isbn</th>\n",
       "      <th>age</th>\n",
       "      <th>type</th>\n",
       "      <th>count</th>\n",
       "      <th>cumulative</th>\n",
       "    </tr>\n",
       "  </thead>\n",
       "  <tbody>\n",
       "    <tr>\n",
       "      <th>0</th>\n",
       "      <td>Message from the Shadows: Selected Stories</td>\n",
       "      <td>2019</td>\n",
       "      <td>1939810159</td>\n",
       "      <td>Adult</td>\n",
       "      <td>Fiction</td>\n",
       "      <td>1</td>\n",
       "      <td>0.008403</td>\n",
       "    </tr>\n",
       "    <tr>\n",
       "      <th>1</th>\n",
       "      <td>The Moth Presents Occasional Magic: True Stori...</td>\n",
       "      <td>2019</td>\n",
       "      <td>1101904429</td>\n",
       "      <td>Adult</td>\n",
       "      <td>Nonfiction</td>\n",
       "      <td>1</td>\n",
       "      <td>0.016807</td>\n",
       "    </tr>\n",
       "    <tr>\n",
       "      <th>2</th>\n",
       "      <td>Maternal Desire: On Children, Love, and the In...</td>\n",
       "      <td>2019</td>\n",
       "      <td>1501198270</td>\n",
       "      <td>Adult</td>\n",
       "      <td>Nonfiction</td>\n",
       "      <td>1</td>\n",
       "      <td>0.025210</td>\n",
       "    </tr>\n",
       "    <tr>\n",
       "      <th>3</th>\n",
       "      <td>Waking the Witch: Reflections on Women, Magic,...</td>\n",
       "      <td>2019</td>\n",
       "      <td>1982100702</td>\n",
       "      <td>Adult</td>\n",
       "      <td>Nonfiction</td>\n",
       "      <td>1</td>\n",
       "      <td>0.033613</td>\n",
       "    </tr>\n",
       "    <tr>\n",
       "      <th>4</th>\n",
       "      <td>Pretty Revenge</td>\n",
       "      <td>2019</td>\n",
       "      <td>1982122102</td>\n",
       "      <td>Adult</td>\n",
       "      <td>Fiction</td>\n",
       "      <td>1</td>\n",
       "      <td>0.042017</td>\n",
       "    </tr>\n",
       "    <tr>\n",
       "      <th>...</th>\n",
       "      <td>...</td>\n",
       "      <td>...</td>\n",
       "      <td>...</td>\n",
       "      <td>...</td>\n",
       "      <td>...</td>\n",
       "      <td>...</td>\n",
       "      <td>...</td>\n",
       "    </tr>\n",
       "    <tr>\n",
       "      <th>106</th>\n",
       "      <td>I'm a Stranger Here Myself: Notes on Returning...</td>\n",
       "      <td>2000</td>\n",
       "      <td>076790382X</td>\n",
       "      <td>Adult</td>\n",
       "      <td>Nonfiction</td>\n",
       "      <td>1</td>\n",
       "      <td>0.899160</td>\n",
       "    </tr>\n",
       "    <tr>\n",
       "      <th>107</th>\n",
       "      <td>Civil War On Sunday (Magic Tree House #21)</td>\n",
       "      <td>2000</td>\n",
       "      <td>067989067X</td>\n",
       "      <td>Childrens</td>\n",
       "      <td>Fiction</td>\n",
       "      <td>1</td>\n",
       "      <td>0.907563</td>\n",
       "    </tr>\n",
       "    <tr>\n",
       "      <th>108</th>\n",
       "      <td>Daughter of Fortune: A Novel</td>\n",
       "      <td>1999</td>\n",
       "      <td>006019491X</td>\n",
       "      <td>Adult</td>\n",
       "      <td>Fiction</td>\n",
       "      <td>1</td>\n",
       "      <td>0.915966</td>\n",
       "    </tr>\n",
       "    <tr>\n",
       "      <th>109</th>\n",
       "      <td>A Home at the End of the World: A Novel</td>\n",
       "      <td>1998</td>\n",
       "      <td>9780312202316</td>\n",
       "      <td>Adult</td>\n",
       "      <td>Fiction</td>\n",
       "      <td>1</td>\n",
       "      <td>0.924370</td>\n",
       "    </tr>\n",
       "    <tr>\n",
       "      <th>110</th>\n",
       "      <td>Step-By-Step Pillows &amp; Cushions (Do-It-Yoursel...</td>\n",
       "      <td>1998</td>\n",
       "      <td>069620732X</td>\n",
       "      <td>Adult</td>\n",
       "      <td>Nonfiction</td>\n",
       "      <td>1</td>\n",
       "      <td>0.932773</td>\n",
       "    </tr>\n",
       "  </tbody>\n",
       "</table>\n",
       "<p>111 rows × 7 columns</p>\n",
       "</div>"
      ],
      "text/plain": [
       "                                                 title yrpub           isbn  \\\n",
       "0           Message from the Shadows: Selected Stories  2019     1939810159   \n",
       "1    The Moth Presents Occasional Magic: True Stori...  2019     1101904429   \n",
       "2    Maternal Desire: On Children, Love, and the In...  2019     1501198270   \n",
       "3    Waking the Witch: Reflections on Women, Magic,...  2019     1982100702   \n",
       "4                                       Pretty Revenge  2019     1982122102   \n",
       "..                                                 ...   ...            ...   \n",
       "106  I'm a Stranger Here Myself: Notes on Returning...  2000     076790382X   \n",
       "107         Civil War On Sunday (Magic Tree House #21)  2000     067989067X   \n",
       "108                       Daughter of Fortune: A Novel  1999     006019491X   \n",
       "109            A Home at the End of the World: A Novel  1998  9780312202316   \n",
       "110  Step-By-Step Pillows & Cushions (Do-It-Yoursel...  1998     069620732X   \n",
       "\n",
       "           age        type  count  cumulative  \n",
       "0        Adult     Fiction      1    0.008403  \n",
       "1        Adult  Nonfiction      1    0.016807  \n",
       "2        Adult  Nonfiction      1    0.025210  \n",
       "3        Adult  Nonfiction      1    0.033613  \n",
       "4        Adult     Fiction      1    0.042017  \n",
       "..         ...         ...    ...         ...  \n",
       "106      Adult  Nonfiction      1    0.899160  \n",
       "107  Childrens     Fiction      1    0.907563  \n",
       "108      Adult     Fiction      1    0.915966  \n",
       "109      Adult     Fiction      1    0.924370  \n",
       "110      Adult  Nonfiction      1    0.932773  \n",
       "\n",
       "[111 rows x 7 columns]"
      ]
     },
     "execution_count": 91,
     "metadata": {},
     "output_type": "execute_result"
    }
   ],
   "source": [
    "#Looks like 90% of the books in LFLs and in all of SPL were published 2000 and later. \n",
    "sharedcumu.head(111)"
   ]
  },
  {
   "cell_type": "code",
   "execution_count": 92,
   "metadata": {},
   "outputs": [
    {
     "data": {
      "text/html": [
       "<div>\n",
       "<style scoped>\n",
       "    .dataframe tbody tr th:only-of-type {\n",
       "        vertical-align: middle;\n",
       "    }\n",
       "\n",
       "    .dataframe tbody tr th {\n",
       "        vertical-align: top;\n",
       "    }\n",
       "\n",
       "    .dataframe thead th {\n",
       "        text-align: right;\n",
       "    }\n",
       "</style>\n",
       "<table border=\"1\" class=\"dataframe\">\n",
       "  <thead>\n",
       "    <tr style=\"text-align: right;\">\n",
       "      <th></th>\n",
       "      <th>index</th>\n",
       "      <th>age</th>\n",
       "      <th>count</th>\n",
       "      <th>percent</th>\n",
       "    </tr>\n",
       "  </thead>\n",
       "  <tbody>\n",
       "    <tr>\n",
       "      <th>0</th>\n",
       "      <td>0</td>\n",
       "      <td>Adult</td>\n",
       "      <td>89</td>\n",
       "      <td>0.747899</td>\n",
       "    </tr>\n",
       "    <tr>\n",
       "      <th>1</th>\n",
       "      <td>1</td>\n",
       "      <td>Childrens</td>\n",
       "      <td>21</td>\n",
       "      <td>0.176471</td>\n",
       "    </tr>\n",
       "    <tr>\n",
       "      <th>2</th>\n",
       "      <td>2</td>\n",
       "      <td>Young Adult</td>\n",
       "      <td>9</td>\n",
       "      <td>0.075630</td>\n",
       "    </tr>\n",
       "  </tbody>\n",
       "</table>\n",
       "</div>"
      ],
      "text/plain": [
       "   index          age  count   percent\n",
       "0      0        Adult     89  0.747899\n",
       "1      1    Childrens     21  0.176471\n",
       "2      2  Young Adult      9  0.075630"
      ]
     },
     "execution_count": 92,
     "metadata": {},
     "output_type": "execute_result"
    }
   ],
   "source": [
    "#Groups by age\n",
    "sharedage = shared2.groupby(['age'])['count'].count().reset_index() #total of each category\n",
    "#Sort high to low\n",
    "sharedage = sharedage.sort_values(by='count', ascending=False).reset_index()\n",
    "sharedage['percent'] = sharedage['count']/sharedage['count'].sum()\n",
    "sharedage.head()"
   ]
  },
  {
   "cell_type": "code",
   "execution_count": 93,
   "metadata": {},
   "outputs": [
    {
     "data": {
      "text/html": [
       "<div>\n",
       "<style scoped>\n",
       "    .dataframe tbody tr th:only-of-type {\n",
       "        vertical-align: middle;\n",
       "    }\n",
       "\n",
       "    .dataframe tbody tr th {\n",
       "        vertical-align: top;\n",
       "    }\n",
       "\n",
       "    .dataframe thead th {\n",
       "        text-align: right;\n",
       "    }\n",
       "</style>\n",
       "<table border=\"1\" class=\"dataframe\">\n",
       "  <thead>\n",
       "    <tr style=\"text-align: right;\">\n",
       "      <th></th>\n",
       "      <th>index</th>\n",
       "      <th>type</th>\n",
       "      <th>count</th>\n",
       "      <th>percent</th>\n",
       "    </tr>\n",
       "  </thead>\n",
       "  <tbody>\n",
       "    <tr>\n",
       "      <th>0</th>\n",
       "      <td>0</td>\n",
       "      <td>Fiction</td>\n",
       "      <td>76</td>\n",
       "      <td>0.638655</td>\n",
       "    </tr>\n",
       "    <tr>\n",
       "      <th>1</th>\n",
       "      <td>1</td>\n",
       "      <td>Nonfiction</td>\n",
       "      <td>43</td>\n",
       "      <td>0.361345</td>\n",
       "    </tr>\n",
       "  </tbody>\n",
       "</table>\n",
       "</div>"
      ],
      "text/plain": [
       "   index        type  count   percent\n",
       "0      0     Fiction     76  0.638655\n",
       "1      1  Nonfiction     43  0.361345"
      ]
     },
     "execution_count": 93,
     "metadata": {},
     "output_type": "execute_result"
    }
   ],
   "source": [
    "#Groups by type\n",
    "sharedtype = shared2.groupby(['type'])['count'].count().reset_index() #total of each category\n",
    "#Sort high to low\n",
    "sharedtype = sharedtype.sort_values(by='count', ascending=False).reset_index()\n",
    "sharedtype['percent'] = sharedtype['count']/sharedtype['count'].sum()\n",
    "sharedtype.head()"
   ]
  },
  {
   "cell_type": "code",
   "execution_count": 94,
   "metadata": {},
   "outputs": [],
   "source": []
  }
 ],
 "metadata": {
  "kernelspec": {
   "display_name": "Python 3",
   "language": "python",
   "name": "python3"
  },
  "language_info": {
   "codemirror_mode": {
    "name": "ipython",
    "version": 3
   },
   "file_extension": ".py",
   "mimetype": "text/x-python",
   "name": "python",
   "nbconvert_exporter": "python",
   "pygments_lexer": "ipython3",
   "version": "3.8.10"
  }
 },
 "nbformat": 4,
 "nbformat_minor": 2
}
