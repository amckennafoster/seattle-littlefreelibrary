{
 "cells": [
  {
   "cell_type": "markdown",
   "metadata": {},
   "source": [
    "# Pull census data for the neighborhoods in Seattle\n",
    "Use this link to find tables: https://api.census.gov/data/2018/acs/acs5/variables.html\n",
    "\n",
    "This notebook retreives the data and also does some of the correlation calculations for income, diversity and education with the number of LFLs"
   ]
  },
  {
   "cell_type": "code",
   "execution_count": 14,
   "metadata": {},
   "outputs": [],
   "source": [
    "import pandas as pd\n",
    "import censusdata\n",
    "import csv\n",
    "import numpy as np\n",
    "import seaborn as sns\n",
    "import matplotlib.pyplot as plt\n",
    "import scipy\n",
    "from scipy import stats"
   ]
  },
  {
   "cell_type": "code",
   "execution_count": 89,
   "metadata": {},
   "outputs": [],
   "source": []
  },
  {
   "cell_type": "code",
   "execution_count": 33,
   "metadata": {},
   "outputs": [],
   "source": [
    "sample = censusdata.search('acs5', 2018,'concept', 'household income')"
   ]
  },
  {
   "cell_type": "code",
   "execution_count": 34,
   "metadata": {},
   "outputs": [
    {
     "name": "stdout",
     "output_type": "stream",
     "text": [
      "('B19001A_001E', 'HOUSEHOLD INCOME IN THE PAST 12 MONTHS (IN 2018 INFLATION-ADJUSTED DOLLARS) (WHITE ALONE HOUSEHOLDER)', 'Estimate!!Total')\n"
     ]
    }
   ],
   "source": [
    "print(sample[0])"
   ]
  },
  {
   "cell_type": "code",
   "execution_count": 9,
   "metadata": {},
   "outputs": [],
   "source": [
    "sample = censusdata.search('acs5', 2018,'concept', 'population')"
   ]
  },
  {
   "cell_type": "code",
   "execution_count": 15,
   "metadata": {},
   "outputs": [
    {
     "name": "stdout",
     "output_type": "stream",
     "text": [
      "[('B00001_001E', 'UNWEIGHTED SAMPLE COUNT OF THE POPULATION', 'Estimate!!Total'), ('B01003_001E', 'TOTAL POPULATION', 'Estimate!!Total'), ('B05006PR_001E', 'PLACE OF BIRTH FOR THE FOREIGN-BORN POPULATION IN PUERTO RICO', 'Estimate!!Total'), ('B05006PR_002E', 'PLACE OF BIRTH FOR THE FOREIGN-BORN POPULATION IN PUERTO RICO', 'Estimate!!Total!!Europe'), ('B05006PR_003E', 'PLACE OF BIRTH FOR THE FOREIGN-BORN POPULATION IN PUERTO RICO', 'Estimate!!Total!!Europe!!Northern Europe')]\n"
     ]
    }
   ],
   "source": [
    "print(sample[:5])"
   ]
  },
  {
   "cell_type": "code",
   "execution_count": 9,
   "metadata": {},
   "outputs": [],
   "source": [
    "states = censusdata.geographies(censusdata.censusgeo([('state', '*')]), 'acs5', 2018)"
   ]
  },
  {
   "cell_type": "code",
   "execution_count": 16,
   "metadata": {},
   "outputs": [
    {
     "name": "stdout",
     "output_type": "stream",
     "text": [
      "Summary level: 040, state:53\n"
     ]
    }
   ],
   "source": [
    "print(states['Washington'])"
   ]
  },
  {
   "cell_type": "code",
   "execution_count": 17,
   "metadata": {},
   "outputs": [],
   "source": [
    "counties = censusdata.geographies(censusdata.censusgeo([('state', '53'), ('county', '*')]), 'acs5', 2018)"
   ]
  },
  {
   "cell_type": "code",
   "execution_count": 20,
   "metadata": {},
   "outputs": [
    {
     "name": "stdout",
     "output_type": "stream",
     "text": [
      "Summary level: 050, state:53> county:033\n"
     ]
    }
   ],
   "source": [
    "print(counties['King County, Washington'])"
   ]
  },
  {
   "cell_type": "markdown",
   "metadata": {},
   "source": [
    "## Collect Population Data for King County"
   ]
  },
  {
   "cell_type": "code",
   "execution_count": 16,
   "metadata": {},
   "outputs": [],
   "source": [
    "data = censusdata.download('acs5', 2018,\n",
    "           censusdata.censusgeo([('state', '53'),\n",
    "                                 ('county', '033'),\n",
    "                                 ('tract', '*')]),\n",
    "                                  ['B01003_001E'])"
   ]
  },
  {
   "cell_type": "code",
   "execution_count": 17,
   "metadata": {},
   "outputs": [],
   "source": [
    "df = data"
   ]
  },
  {
   "cell_type": "code",
   "execution_count": 23,
   "metadata": {},
   "outputs": [],
   "source": [
    "df = df.reset_index()\n",
    "df = df.rename(columns={\"index\": \"tract\", \"B01003_001E\":\"pop\"})\n",
    "df.head()"
   ]
  },
  {
   "cell_type": "code",
   "execution_count": 25,
   "metadata": {},
   "outputs": [],
   "source": [
    "#convert object type to string\n",
    "df['tract']= df['tract'].astype(str)"
   ]
  },
  {
   "cell_type": "code",
   "execution_count": 27,
   "metadata": {},
   "outputs": [],
   "source": [
    "#Split out uneeded info\n",
    "df[['tract']] = df['tract'].str.split(',').str[0] #Get the first value\n",
    "df[['tract']] = df['tract'].str.split(' ').str[2] #Remove the words so only tract number remains"
   ]
  },
  {
   "cell_type": "code",
   "execution_count": 29,
   "metadata": {},
   "outputs": [],
   "source": [
    "#convert object type to float\n",
    "df['tract']= df['tract'].astype(float)"
   ]
  },
  {
   "cell_type": "code",
   "execution_count": 30,
   "metadata": {},
   "outputs": [
    {
     "data": {
      "text/html": [
       "<div>\n",
       "<style scoped>\n",
       "    .dataframe tbody tr th:only-of-type {\n",
       "        vertical-align: middle;\n",
       "    }\n",
       "\n",
       "    .dataframe tbody tr th {\n",
       "        vertical-align: top;\n",
       "    }\n",
       "\n",
       "    .dataframe thead th {\n",
       "        text-align: right;\n",
       "    }\n",
       "</style>\n",
       "<table border=\"1\" class=\"dataframe\">\n",
       "  <thead>\n",
       "    <tr style=\"text-align: right;\">\n",
       "      <th></th>\n",
       "      <th>tract</th>\n",
       "      <th>B01003_001E</th>\n",
       "    </tr>\n",
       "  </thead>\n",
       "  <tbody>\n",
       "    <tr>\n",
       "      <th>0</th>\n",
       "      <td>323.09</td>\n",
       "      <td>8249</td>\n",
       "    </tr>\n",
       "    <tr>\n",
       "      <th>1</th>\n",
       "      <td>317.04</td>\n",
       "      <td>5728</td>\n",
       "    </tr>\n",
       "    <tr>\n",
       "      <th>2</th>\n",
       "      <td>323.13</td>\n",
       "      <td>6551</td>\n",
       "    </tr>\n",
       "    <tr>\n",
       "      <th>3</th>\n",
       "      <td>323.19</td>\n",
       "      <td>5941</td>\n",
       "    </tr>\n",
       "    <tr>\n",
       "      <th>4</th>\n",
       "      <td>323.21</td>\n",
       "      <td>6365</td>\n",
       "    </tr>\n",
       "  </tbody>\n",
       "</table>\n",
       "</div>"
      ],
      "text/plain": [
       "    tract  B01003_001E\n",
       "0  323.09         8249\n",
       "1  317.04         5728\n",
       "2  323.13         6551\n",
       "3  323.19         5941\n",
       "4  323.21         6365"
      ]
     },
     "execution_count": 30,
     "metadata": {},
     "output_type": "execute_result"
    }
   ],
   "source": [
    "#There may be missing values listed as -666666. Delete those.\n",
    "df = df[df['B01003_001E'] >= 0]\n",
    "df.head()"
   ]
  },
  {
   "cell_type": "code",
   "execution_count": 34,
   "metadata": {},
   "outputs": [
    {
     "data": {
      "text/html": [
       "<div>\n",
       "<style scoped>\n",
       "    .dataframe tbody tr th:only-of-type {\n",
       "        vertical-align: middle;\n",
       "    }\n",
       "\n",
       "    .dataframe tbody tr th {\n",
       "        vertical-align: top;\n",
       "    }\n",
       "\n",
       "    .dataframe thead th {\n",
       "        text-align: right;\n",
       "    }\n",
       "</style>\n",
       "<table border=\"1\" class=\"dataframe\">\n",
       "  <thead>\n",
       "    <tr style=\"text-align: right;\">\n",
       "      <th></th>\n",
       "      <th>tract</th>\n",
       "      <th>B01003_001E</th>\n",
       "    </tr>\n",
       "  </thead>\n",
       "  <tbody>\n",
       "    <tr>\n",
       "      <th>237</th>\n",
       "      <td>1.00</td>\n",
       "      <td>7985</td>\n",
       "    </tr>\n",
       "    <tr>\n",
       "      <th>105</th>\n",
       "      <td>2.00</td>\n",
       "      <td>8498</td>\n",
       "    </tr>\n",
       "    <tr>\n",
       "      <th>124</th>\n",
       "      <td>3.00</td>\n",
       "      <td>2991</td>\n",
       "    </tr>\n",
       "    <tr>\n",
       "      <th>45</th>\n",
       "      <td>4.01</td>\n",
       "      <td>6560</td>\n",
       "    </tr>\n",
       "    <tr>\n",
       "      <th>99</th>\n",
       "      <td>4.02</td>\n",
       "      <td>5419</td>\n",
       "    </tr>\n",
       "  </tbody>\n",
       "</table>\n",
       "</div>"
      ],
      "text/plain": [
       "     tract  B01003_001E\n",
       "237   1.00         7985\n",
       "105   2.00         8498\n",
       "124   3.00         2991\n",
       "45    4.01         6560\n",
       "99    4.02         5419"
      ]
     },
     "execution_count": 34,
     "metadata": {},
     "output_type": "execute_result"
    }
   ],
   "source": [
    "df = df.sort_values(by=['tract'])\n",
    "df.head()"
   ]
  },
  {
   "cell_type": "code",
   "execution_count": 35,
   "metadata": {},
   "outputs": [],
   "source": [
    "df.to_csv('pop-by-tract.csv', mode = 'w', index=False)"
   ]
  },
  {
   "cell_type": "markdown",
   "metadata": {},
   "source": [
    "## Collect income data for King County"
   ]
  },
  {
   "cell_type": "code",
   "execution_count": 36,
   "metadata": {},
   "outputs": [],
   "source": [
    "data = censusdata.download('acs5', 2018,\n",
    "           censusdata.censusgeo([('state', '53'),\n",
    "                                 ('county', '033'),\n",
    "                                 ('tract', '*')]),\n",
    "                                  ['B19013_001E'])"
   ]
  },
  {
   "cell_type": "code",
   "execution_count": 41,
   "metadata": {},
   "outputs": [
    {
     "data": {
      "text/html": [
       "<div>\n",
       "<style scoped>\n",
       "    .dataframe tbody tr th:only-of-type {\n",
       "        vertical-align: middle;\n",
       "    }\n",
       "\n",
       "    .dataframe tbody tr th {\n",
       "        vertical-align: top;\n",
       "    }\n",
       "\n",
       "    .dataframe thead th {\n",
       "        text-align: right;\n",
       "    }\n",
       "</style>\n",
       "<table border=\"1\" class=\"dataframe\">\n",
       "  <thead>\n",
       "    <tr style=\"text-align: right;\">\n",
       "      <th></th>\n",
       "      <th>B19013_001E</th>\n",
       "      <th>tract</th>\n",
       "    </tr>\n",
       "  </thead>\n",
       "  <tbody>\n",
       "    <tr>\n",
       "      <th>Census Tract 323.09, King County, Washington: Summary level: 140, state:53&gt; county:033&gt; tract:032309</th>\n",
       "      <td>118770</td>\n",
       "      <td>Census Tract 323.09, King County, Washington: ...</td>\n",
       "    </tr>\n",
       "    <tr>\n",
       "      <th>Census Tract 317.04, King County, Washington: Summary level: 140, state:53&gt; county:033&gt; tract:031704</th>\n",
       "      <td>102639</td>\n",
       "      <td>Census Tract 317.04, King County, Washington: ...</td>\n",
       "    </tr>\n",
       "    <tr>\n",
       "      <th>Census Tract 323.13, King County, Washington: Summary level: 140, state:53&gt; county:033&gt; tract:032313</th>\n",
       "      <td>119250</td>\n",
       "      <td>Census Tract 323.13, King County, Washington: ...</td>\n",
       "    </tr>\n",
       "    <tr>\n",
       "      <th>Census Tract 323.19, King County, Washington: Summary level: 140, state:53&gt; county:033&gt; tract:032319</th>\n",
       "      <td>72569</td>\n",
       "      <td>Census Tract 323.19, King County, Washington: ...</td>\n",
       "    </tr>\n",
       "    <tr>\n",
       "      <th>Census Tract 323.21, King County, Washington: Summary level: 140, state:53&gt; county:033&gt; tract:032321</th>\n",
       "      <td>210341</td>\n",
       "      <td>Census Tract 323.21, King County, Washington: ...</td>\n",
       "    </tr>\n",
       "  </tbody>\n",
       "</table>\n",
       "</div>"
      ],
      "text/plain": [
       "                                                    B19013_001E  \\\n",
       "Census Tract 323.09, King County, Washington: S...       118770   \n",
       "Census Tract 317.04, King County, Washington: S...       102639   \n",
       "Census Tract 323.13, King County, Washington: S...       119250   \n",
       "Census Tract 323.19, King County, Washington: S...        72569   \n",
       "Census Tract 323.21, King County, Washington: S...       210341   \n",
       "\n",
       "                                                                                                tract  \n",
       "Census Tract 323.09, King County, Washington: S...  Census Tract 323.09, King County, Washington: ...  \n",
       "Census Tract 317.04, King County, Washington: S...  Census Tract 317.04, King County, Washington: ...  \n",
       "Census Tract 323.13, King County, Washington: S...  Census Tract 323.13, King County, Washington: ...  \n",
       "Census Tract 323.19, King County, Washington: S...  Census Tract 323.19, King County, Washington: ...  \n",
       "Census Tract 323.21, King County, Washington: S...  Census Tract 323.21, King County, Washington: ...  "
      ]
     },
     "execution_count": 41,
     "metadata": {},
     "output_type": "execute_result"
    }
   ],
   "source": [
    "data.head()"
   ]
  },
  {
   "cell_type": "code",
   "execution_count": 40,
   "metadata": {},
   "outputs": [],
   "source": [
    "data['tract']=data.index"
   ]
  },
  {
   "cell_type": "code",
   "execution_count": 57,
   "metadata": {},
   "outputs": [],
   "source": [
    "df = data"
   ]
  },
  {
   "cell_type": "code",
   "execution_count": 59,
   "metadata": {},
   "outputs": [],
   "source": [
    "#convert object type to string\n",
    "df['tract']= df['tract'].astype(str)"
   ]
  },
  {
   "cell_type": "code",
   "execution_count": 60,
   "metadata": {},
   "outputs": [],
   "source": [
    "#Split out uneeded info\n",
    "df[['tract']] = df['tract'].str.split(',').str[0] #Get the first value\n",
    "df[['tract']] = df['tract'].str.split(' ').str[2] #Remove the words so only tract number remains"
   ]
  },
  {
   "cell_type": "code",
   "execution_count": 78,
   "metadata": {},
   "outputs": [],
   "source": [
    "#convert object type to float\n",
    "df['tract']= df['tract'].astype(float)"
   ]
  },
  {
   "cell_type": "code",
   "execution_count": 12,
   "metadata": {},
   "outputs": [
    {
     "data": {
      "text/html": [
       "<div>\n",
       "<style scoped>\n",
       "    .dataframe tbody tr th:only-of-type {\n",
       "        vertical-align: middle;\n",
       "    }\n",
       "\n",
       "    .dataframe tbody tr th {\n",
       "        vertical-align: top;\n",
       "    }\n",
       "\n",
       "    .dataframe thead th {\n",
       "        text-align: right;\n",
       "    }\n",
       "</style>\n",
       "<table border=\"1\" class=\"dataframe\">\n",
       "  <thead>\n",
       "    <tr style=\"text-align: right;\">\n",
       "      <th></th>\n",
       "      <th>household_income</th>\n",
       "      <th>tract</th>\n",
       "    </tr>\n",
       "  </thead>\n",
       "  <tbody>\n",
       "    <tr>\n",
       "      <th>0</th>\n",
       "      <td>118770</td>\n",
       "      <td>323.09</td>\n",
       "    </tr>\n",
       "    <tr>\n",
       "      <th>1</th>\n",
       "      <td>102639</td>\n",
       "      <td>317.04</td>\n",
       "    </tr>\n",
       "    <tr>\n",
       "      <th>2</th>\n",
       "      <td>119250</td>\n",
       "      <td>323.13</td>\n",
       "    </tr>\n",
       "    <tr>\n",
       "      <th>3</th>\n",
       "      <td>72569</td>\n",
       "      <td>323.19</td>\n",
       "    </tr>\n",
       "    <tr>\n",
       "      <th>4</th>\n",
       "      <td>210341</td>\n",
       "      <td>323.21</td>\n",
       "    </tr>\n",
       "  </tbody>\n",
       "</table>\n",
       "</div>"
      ],
      "text/plain": [
       "   household_income   tract\n",
       "0            118770  323.09\n",
       "1            102639  317.04\n",
       "2            119250  323.13\n",
       "3             72569  323.19\n",
       "4            210341  323.21"
      ]
     },
     "execution_count": 12,
     "metadata": {},
     "output_type": "execute_result"
    }
   ],
   "source": [
    "#There may be missing values listed as -666666. Delete those.\n",
    "df = df[df['B19013_001E'] >= 0]\n",
    "df.rename(columns={'B19013_001E':'household_income'}, inplace=True)\n",
    "df.head()"
   ]
  },
  {
   "cell_type": "code",
   "execution_count": null,
   "metadata": {},
   "outputs": [],
   "source": [
    "df.to_csv('seattle-census-tract-acs5-2018.csv', mode = 'w', index=False)"
   ]
  },
  {
   "cell_type": "code",
   "execution_count": 16,
   "metadata": {},
   "outputs": [],
   "source": [
    "#Open the full tract file if needed\n",
    "df = pd.read_csv('seattle-census-tract-acs5-2018.csv',encoding='utf-8')"
   ]
  },
  {
   "cell_type": "markdown",
   "metadata": {},
   "source": [
    "### Regression for income and LFLs per population for all of Seattle\n",
    "This merges population and lfl number data for tracts with the income data"
   ]
  },
  {
   "cell_type": "code",
   "execution_count": 38,
   "metadata": {},
   "outputs": [],
   "source": [
    "from sklearn.linear_model import LinearRegression"
   ]
  },
  {
   "cell_type": "code",
   "execution_count": 22,
   "metadata": {},
   "outputs": [],
   "source": [
    "#Open the file if needed\n",
    "dfinc = pd.read_csv('seattle-census-tract-acs5-2018.csv',encoding='utf-8')\n",
    "lflvtract = pd.read_csv('census-tracts-lfl-counts.csv',encoding='utf-8')\n",
    "pop = pd.read_csv('pop-by-tract.csv',encoding='utf-8')"
   ]
  },
  {
   "cell_type": "code",
   "execution_count": 61,
   "metadata": {},
   "outputs": [
    {
     "data": {
      "text/html": [
       "<div>\n",
       "<style scoped>\n",
       "    .dataframe tbody tr th:only-of-type {\n",
       "        vertical-align: middle;\n",
       "    }\n",
       "\n",
       "    .dataframe tbody tr th {\n",
       "        vertical-align: top;\n",
       "    }\n",
       "\n",
       "    .dataframe thead th {\n",
       "        text-align: right;\n",
       "    }\n",
       "</style>\n",
       "<table border=\"1\" class=\"dataframe\">\n",
       "  <thead>\n",
       "    <tr style=\"text-align: right;\">\n",
       "      <th></th>\n",
       "      <th>household_income</th>\n",
       "      <th>tract</th>\n",
       "      <th>pop</th>\n",
       "    </tr>\n",
       "  </thead>\n",
       "  <tbody>\n",
       "    <tr>\n",
       "      <th>0</th>\n",
       "      <td>118770</td>\n",
       "      <td>323.09</td>\n",
       "      <td>8249</td>\n",
       "    </tr>\n",
       "    <tr>\n",
       "      <th>1</th>\n",
       "      <td>102639</td>\n",
       "      <td>317.04</td>\n",
       "      <td>5728</td>\n",
       "    </tr>\n",
       "    <tr>\n",
       "      <th>2</th>\n",
       "      <td>119250</td>\n",
       "      <td>323.13</td>\n",
       "      <td>6551</td>\n",
       "    </tr>\n",
       "    <tr>\n",
       "      <th>3</th>\n",
       "      <td>72569</td>\n",
       "      <td>323.19</td>\n",
       "      <td>5941</td>\n",
       "    </tr>\n",
       "    <tr>\n",
       "      <th>4</th>\n",
       "      <td>210341</td>\n",
       "      <td>323.21</td>\n",
       "      <td>6365</td>\n",
       "    </tr>\n",
       "  </tbody>\n",
       "</table>\n",
       "</div>"
      ],
      "text/plain": [
       "   household_income   tract   pop\n",
       "0            118770  323.09  8249\n",
       "1            102639  317.04  5728\n",
       "2            119250  323.13  6551\n",
       "3             72569  323.19  5941\n",
       "4            210341  323.21  6365"
      ]
     },
     "execution_count": 61,
     "metadata": {},
     "output_type": "execute_result"
    }
   ],
   "source": [
    "#Merge with the population dataframe\n",
    "dfregr = pd.merge(dfinc, pop, on='tract', how='inner')\n",
    "dfregr.head()"
   ]
  },
  {
   "cell_type": "markdown",
   "metadata": {},
   "source": [
    "Want to compare LFL density to income *when LFLs are present*\n",
    "We are not trying to figure out if income predicts the presences of LFLs"
   ]
  },
  {
   "cell_type": "code",
   "execution_count": 62,
   "metadata": {},
   "outputs": [
    {
     "name": "stdout",
     "output_type": "stream",
     "text": [
      "263 tracts did not have any LFLs and were removed\n"
     ]
    }
   ],
   "source": [
    "#Merge with the lfl number dataset. Inner merge removes neighborhoods with no LFLs\n",
    "original = len(dfregr)\n",
    "dfregr = pd.merge(dfregr, lflvtract, on='tract', how='inner')\n",
    "lflpresent = len(dfregr)\n",
    "print(original-lflpresent,'tracts did not have any LFLs and were removed')"
   ]
  },
  {
   "cell_type": "code",
   "execution_count": 63,
   "metadata": {},
   "outputs": [
    {
     "data": {
      "text/plain": [
       "135"
      ]
     },
     "execution_count": 63,
     "metadata": {},
     "output_type": "execute_result"
    }
   ],
   "source": [
    "len(dfregr) #All tracts still represented"
   ]
  },
  {
   "cell_type": "code",
   "execution_count": 64,
   "metadata": {},
   "outputs": [],
   "source": [
    "#Create a density column\n",
    "dfregr['lflperpop'] = dfregr['numlfls']/dfregr['pop']"
   ]
  },
  {
   "cell_type": "code",
   "execution_count": 65,
   "metadata": {},
   "outputs": [
    {
     "data": {
      "text/plain": [
       "134"
      ]
     },
     "execution_count": 65,
     "metadata": {},
     "output_type": "execute_result"
    }
   ],
   "source": [
    "#There are two tracts with no income (-666666666) so remove those\n",
    "dfregr = dfregr[dfregr['household_income'] >= 0]\n",
    "len(dfregr)"
   ]
  },
  {
   "cell_type": "code",
   "execution_count": 66,
   "metadata": {},
   "outputs": [
    {
     "data": {
      "text/plain": [
       "[(0.0, 0.005)]"
      ]
     },
     "execution_count": 66,
     "metadata": {},
     "output_type": "execute_result"
    },
    {
     "data": {
      "image/png": "[encoded data removed]",
      "text/plain": [
       "<Figure size 432x288 with 1 Axes>"
      ]
     },
     "metadata": {
      "needs_background": "light"
     },
     "output_type": "display_data"
    }
   ],
   "source": [
    "ax = sns.scatterplot(x=\"household_income\", y=\"lflperpop\", data=dfregr)\n",
    "ax.set(ylim=(0, 0.005))"
   ]
  },
  {
   "cell_type": "code",
   "execution_count": 67,
   "metadata": {},
   "outputs": [],
   "source": [
    "x = dfregr[['household_income']]\n",
    "y = dfregr[['lflperpop']]"
   ]
  },
  {
   "cell_type": "code",
   "execution_count": 68,
   "metadata": {},
   "outputs": [
    {
     "name": "stdout",
     "output_type": "stream",
     "text": [
      "coefficient of determination: 0.22804078863785715\n",
      "intercept: [-0.00018629]\n",
      "slope: [[7.64326001e-09]]\n"
     ]
    }
   ],
   "source": [
    "model = LinearRegression().fit(x, y)\n",
    "r_sq = model.score(x, y)\n",
    "print('coefficient of determination:', r_sq)\n",
    "print('intercept:', model.intercept_)\n",
    "print('slope:', model.coef_)"
   ]
  },
  {
   "cell_type": "markdown",
   "metadata": {},
   "source": [
    "### Check for Normality"
   ]
  },
  {
   "cell_type": "code",
   "execution_count": 69,
   "metadata": {},
   "outputs": [],
   "source": [
    "#Create list of values to check - standardized number of lfls\n",
    "lflperpop = dfregr['lflperpop']"
   ]
  },
  {
   "cell_type": "code",
   "execution_count": 70,
   "metadata": {},
   "outputs": [
    {
     "data": {
      "image/png": "[encoded data removed]",
      "text/plain": [
       "<Figure size 432x288 with 1 Axes>"
      ]
     },
     "metadata": {
      "needs_background": "light"
     },
     "output_type": "display_data"
    }
   ],
   "source": [
    "plt.hist(lflperpop)\n",
    "plt.show()"
   ]
  },
  {
   "cell_type": "code",
   "execution_count": 71,
   "metadata": {},
   "outputs": [],
   "source": [
    "#Create list of values to check - income\n",
    "income = dfregr['household_income']"
   ]
  },
  {
   "cell_type": "code",
   "execution_count": 72,
   "metadata": {},
   "outputs": [
    {
     "data": {
      "image/png": "[encoded data removed]",
      "text/plain": [
       "<Figure size 432x288 with 1 Axes>"
      ]
     },
     "metadata": {
      "needs_background": "light"
     },
     "output_type": "display_data"
    }
   ],
   "source": [
    "plt.hist(income)\n",
    "plt.show()"
   ]
  },
  {
   "cell_type": "markdown",
   "metadata": {},
   "source": [
    "#### Because the number of lfls per pop is not normally distributed, use Spearman's correlation coefficient\n",
    "n is 396 \n",
    "https://www.ncbi.nlm.nih.gov/pmc/articles/PMC3576830/#:~:text=In%20summary%2C%20correlation%20coefficients%20are,otherwise%20use%20Spearman's%20correlation%20coefficient."
   ]
  },
  {
   "cell_type": "markdown",
   "metadata": {},
   "source": [
    "### Use SciPy to calculate spearman with p value for trend"
   ]
  },
  {
   "cell_type": "code",
   "execution_count": 16,
   "metadata": {},
   "outputs": [
    {
     "name": "stdout",
     "output_type": "stream",
     "text": [
      "Spearmans correlation coefficient: 0.502  p-value: 0.000000\n"
     ]
    }
   ],
   "source": [
    "#The %.3f' sets the number of decimal places. Degrees of freedom for Spearman's is n-2\n",
    "coef, p = stats.spearmanr(dfregr['household_income'],dfregr['lflperpop'])\n",
    "print('Spearmans correlation coefficient: %.3f' % coef,' p-value: %.6f' % p)"
   ]
  },
  {
   "cell_type": "markdown",
   "metadata": {},
   "source": [
    "0.5 is considered moderate correlation. So moderate positive correlation, n = 134, df=132"
   ]
  },
  {
   "cell_type": "markdown",
   "metadata": {},
   "source": [
    "## Collect diversity numbers"
   ]
  },
  {
   "cell_type": "code",
   "execution_count": 29,
   "metadata": {},
   "outputs": [
    {
     "name": "stdout",
     "output_type": "stream",
     "text": [
      "('B05009_001E', 'AGE AND NATIVITY OF OWN CHILDREN UNDER 18 YEARS IN FAMILIES AND SUBFAMILIES BY NUMBER AND NATIVITY OF PARENTS', 'Estimate!!Total')\n"
     ]
    }
   ],
   "source": [
    "sample = censusdata.search('acs5', 2018,'concept', 'families')\n",
    "print(sample[0])"
   ]
  },
  {
   "cell_type": "code",
   "execution_count": 58,
   "metadata": {},
   "outputs": [],
   "source": [
    "# This gets data for total, white, african american, american indian, asian, hawaiian, other, and three combineation categories.\n",
    "#https://api.census.gov/data/2016/acs/acs5/groups/B02001.html\n",
    "divdata = censusdata.download('acs5', 2016,\n",
    "           censusdata.censusgeo([('state', '53'),\n",
    "                                 ('county', '033'),\n",
    "                                 ('tract', '*')]),\n",
    "                                  ['B02001_001E',\n",
    "                                   'B02001_002E', \n",
    "                                   'B02001_003E',\n",
    "                                   'B02001_004E',\n",
    "                                   'B02001_005E',\n",
    "                                   'B02001_006E',\n",
    "                                   'B02001_007E',\n",
    "                                  'B02001_008E',\n",
    "                                  'B02001_009E',\n",
    "                                  'B02001_010E'])"
   ]
  },
  {
   "cell_type": "code",
   "execution_count": 55,
   "metadata": {},
   "outputs": [
    {
     "data": {
      "text/html": [
       "<div>\n",
       "<style scoped>\n",
       "    .dataframe tbody tr th:only-of-type {\n",
       "        vertical-align: middle;\n",
       "    }\n",
       "\n",
       "    .dataframe tbody tr th {\n",
       "        vertical-align: top;\n",
       "    }\n",
       "\n",
       "    .dataframe thead th {\n",
       "        text-align: right;\n",
       "    }\n",
       "</style>\n",
       "<table border=\"1\" class=\"dataframe\">\n",
       "  <thead>\n",
       "    <tr style=\"text-align: right;\">\n",
       "      <th></th>\n",
       "      <th>B02001_002E</th>\n",
       "      <th>B02001_003E</th>\n",
       "      <th>B02001_004E</th>\n",
       "      <th>B02001_005E</th>\n",
       "      <th>B02001_006E</th>\n",
       "      <th>B02001_007E</th>\n",
       "      <th>B02001_008E</th>\n",
       "      <th>B02001_009E</th>\n",
       "      <th>B02001_010E</th>\n",
       "    </tr>\n",
       "  </thead>\n",
       "  <tbody>\n",
       "    <tr>\n",
       "      <th>Census Tract 1, King County, Washington: Summary level: 140, state:53&gt; county:033&gt; tract:000100</th>\n",
       "      <td>4437</td>\n",
       "      <td>1010</td>\n",
       "      <td>60</td>\n",
       "      <td>767</td>\n",
       "      <td>122</td>\n",
       "      <td>346</td>\n",
       "      <td>519</td>\n",
       "      <td>64</td>\n",
       "      <td>455</td>\n",
       "    </tr>\n",
       "    <tr>\n",
       "      <th>Census Tract 2, King County, Washington: Summary level: 140, state:53&gt; county:033&gt; tract:000200</th>\n",
       "      <td>4831</td>\n",
       "      <td>681</td>\n",
       "      <td>84</td>\n",
       "      <td>1396</td>\n",
       "      <td>0</td>\n",
       "      <td>281</td>\n",
       "      <td>629</td>\n",
       "      <td>28</td>\n",
       "      <td>601</td>\n",
       "    </tr>\n",
       "    <tr>\n",
       "      <th>Census Tract 3, King County, Washington: Summary level: 140, state:53&gt; county:033&gt; tract:000300</th>\n",
       "      <td>2208</td>\n",
       "      <td>112</td>\n",
       "      <td>31</td>\n",
       "      <td>194</td>\n",
       "      <td>112</td>\n",
       "      <td>0</td>\n",
       "      <td>173</td>\n",
       "      <td>24</td>\n",
       "      <td>149</td>\n",
       "    </tr>\n",
       "    <tr>\n",
       "      <th>Census Tract 4.01, King County, Washington: Summary level: 140, state:53&gt; county:033&gt; tract:000401</th>\n",
       "      <td>3772</td>\n",
       "      <td>997</td>\n",
       "      <td>38</td>\n",
       "      <td>1040</td>\n",
       "      <td>0</td>\n",
       "      <td>0</td>\n",
       "      <td>411</td>\n",
       "      <td>0</td>\n",
       "      <td>411</td>\n",
       "    </tr>\n",
       "    <tr>\n",
       "      <th>Census Tract 4.02, King County, Washington: Summary level: 140, state:53&gt; county:033&gt; tract:000402</th>\n",
       "      <td>4168</td>\n",
       "      <td>284</td>\n",
       "      <td>24</td>\n",
       "      <td>324</td>\n",
       "      <td>42</td>\n",
       "      <td>57</td>\n",
       "      <td>266</td>\n",
       "      <td>0</td>\n",
       "      <td>266</td>\n",
       "    </tr>\n",
       "  </tbody>\n",
       "</table>\n",
       "</div>"
      ],
      "text/plain": [
       "                                                    B02001_002E  B02001_003E  \\\n",
       "Census Tract 1, King County, Washington: Summar...         4437         1010   \n",
       "Census Tract 2, King County, Washington: Summar...         4831          681   \n",
       "Census Tract 3, King County, Washington: Summar...         2208          112   \n",
       "Census Tract 4.01, King County, Washington: Sum...         3772          997   \n",
       "Census Tract 4.02, King County, Washington: Sum...         4168          284   \n",
       "\n",
       "                                                    B02001_004E  B02001_005E  \\\n",
       "Census Tract 1, King County, Washington: Summar...           60          767   \n",
       "Census Tract 2, King County, Washington: Summar...           84         1396   \n",
       "Census Tract 3, King County, Washington: Summar...           31          194   \n",
       "Census Tract 4.01, King County, Washington: Sum...           38         1040   \n",
       "Census Tract 4.02, King County, Washington: Sum...           24          324   \n",
       "\n",
       "                                                    B02001_006E  B02001_007E  \\\n",
       "Census Tract 1, King County, Washington: Summar...          122          346   \n",
       "Census Tract 2, King County, Washington: Summar...            0          281   \n",
       "Census Tract 3, King County, Washington: Summar...          112            0   \n",
       "Census Tract 4.01, King County, Washington: Sum...            0            0   \n",
       "Census Tract 4.02, King County, Washington: Sum...           42           57   \n",
       "\n",
       "                                                    B02001_008E  B02001_009E  \\\n",
       "Census Tract 1, King County, Washington: Summar...          519           64   \n",
       "Census Tract 2, King County, Washington: Summar...          629           28   \n",
       "Census Tract 3, King County, Washington: Summar...          173           24   \n",
       "Census Tract 4.01, King County, Washington: Sum...          411            0   \n",
       "Census Tract 4.02, King County, Washington: Sum...          266            0   \n",
       "\n",
       "                                                    B02001_010E  \n",
       "Census Tract 1, King County, Washington: Summar...          455  \n",
       "Census Tract 2, King County, Washington: Summar...          601  \n",
       "Census Tract 3, King County, Washington: Summar...          149  \n",
       "Census Tract 4.01, King County, Washington: Sum...          411  \n",
       "Census Tract 4.02, King County, Washington: Sum...          266  "
      ]
     },
     "execution_count": 55,
     "metadata": {},
     "output_type": "execute_result"
    }
   ],
   "source": [
    "divdata.head()"
   ]
  },
  {
   "cell_type": "code",
   "execution_count": 59,
   "metadata": {},
   "outputs": [
    {
     "data": {
      "text/html": [
       "<div>\n",
       "<style scoped>\n",
       "    .dataframe tbody tr th:only-of-type {\n",
       "        vertical-align: middle;\n",
       "    }\n",
       "\n",
       "    .dataframe tbody tr th {\n",
       "        vertical-align: top;\n",
       "    }\n",
       "\n",
       "    .dataframe thead th {\n",
       "        text-align: right;\n",
       "    }\n",
       "</style>\n",
       "<table border=\"1\" class=\"dataframe\">\n",
       "  <thead>\n",
       "    <tr style=\"text-align: right;\">\n",
       "      <th></th>\n",
       "      <th>tot</th>\n",
       "      <th>wh</th>\n",
       "      <th>afam</th>\n",
       "      <th>amin</th>\n",
       "      <th>as</th>\n",
       "      <th>hw</th>\n",
       "      <th>ot</th>\n",
       "      <th>combo1</th>\n",
       "      <th>combo2</th>\n",
       "      <th>combo3</th>\n",
       "      <th>tract</th>\n",
       "    </tr>\n",
       "  </thead>\n",
       "  <tbody>\n",
       "    <tr>\n",
       "      <th>Census Tract 1, King County, Washington: Summary level: 140, state:53&gt; county:033&gt; tract:000100</th>\n",
       "      <td>7261</td>\n",
       "      <td>4437</td>\n",
       "      <td>1010</td>\n",
       "      <td>60</td>\n",
       "      <td>767</td>\n",
       "      <td>122</td>\n",
       "      <td>346</td>\n",
       "      <td>519</td>\n",
       "      <td>64</td>\n",
       "      <td>455</td>\n",
       "      <td>1.00</td>\n",
       "    </tr>\n",
       "    <tr>\n",
       "      <th>Census Tract 2, King County, Washington: Summary level: 140, state:53&gt; county:033&gt; tract:000200</th>\n",
       "      <td>7902</td>\n",
       "      <td>4831</td>\n",
       "      <td>681</td>\n",
       "      <td>84</td>\n",
       "      <td>1396</td>\n",
       "      <td>0</td>\n",
       "      <td>281</td>\n",
       "      <td>629</td>\n",
       "      <td>28</td>\n",
       "      <td>601</td>\n",
       "      <td>2.00</td>\n",
       "    </tr>\n",
       "    <tr>\n",
       "      <th>Census Tract 3, King County, Washington: Summary level: 140, state:53&gt; county:033&gt; tract:000300</th>\n",
       "      <td>2830</td>\n",
       "      <td>2208</td>\n",
       "      <td>112</td>\n",
       "      <td>31</td>\n",
       "      <td>194</td>\n",
       "      <td>112</td>\n",
       "      <td>0</td>\n",
       "      <td>173</td>\n",
       "      <td>24</td>\n",
       "      <td>149</td>\n",
       "      <td>3.00</td>\n",
       "    </tr>\n",
       "    <tr>\n",
       "      <th>Census Tract 4.01, King County, Washington: Summary level: 140, state:53&gt; county:033&gt; tract:000401</th>\n",
       "      <td>6258</td>\n",
       "      <td>3772</td>\n",
       "      <td>997</td>\n",
       "      <td>38</td>\n",
       "      <td>1040</td>\n",
       "      <td>0</td>\n",
       "      <td>0</td>\n",
       "      <td>411</td>\n",
       "      <td>0</td>\n",
       "      <td>411</td>\n",
       "      <td>4.01</td>\n",
       "    </tr>\n",
       "    <tr>\n",
       "      <th>Census Tract 4.02, King County, Washington: Summary level: 140, state:53&gt; county:033&gt; tract:000402</th>\n",
       "      <td>5165</td>\n",
       "      <td>4168</td>\n",
       "      <td>284</td>\n",
       "      <td>24</td>\n",
       "      <td>324</td>\n",
       "      <td>42</td>\n",
       "      <td>57</td>\n",
       "      <td>266</td>\n",
       "      <td>0</td>\n",
       "      <td>266</td>\n",
       "      <td>4.02</td>\n",
       "    </tr>\n",
       "  </tbody>\n",
       "</table>\n",
       "</div>"
      ],
      "text/plain": [
       "                                                     tot    wh  afam  amin  \\\n",
       "Census Tract 1, King County, Washington: Summar...  7261  4437  1010    60   \n",
       "Census Tract 2, King County, Washington: Summar...  7902  4831   681    84   \n",
       "Census Tract 3, King County, Washington: Summar...  2830  2208   112    31   \n",
       "Census Tract 4.01, King County, Washington: Sum...  6258  3772   997    38   \n",
       "Census Tract 4.02, King County, Washington: Sum...  5165  4168   284    24   \n",
       "\n",
       "                                                      as   hw   ot  combo1  \\\n",
       "Census Tract 1, King County, Washington: Summar...   767  122  346     519   \n",
       "Census Tract 2, King County, Washington: Summar...  1396    0  281     629   \n",
       "Census Tract 3, King County, Washington: Summar...   194  112    0     173   \n",
       "Census Tract 4.01, King County, Washington: Sum...  1040    0    0     411   \n",
       "Census Tract 4.02, King County, Washington: Sum...   324   42   57     266   \n",
       "\n",
       "                                                    combo2  combo3  tract  \n",
       "Census Tract 1, King County, Washington: Summar...      64     455   1.00  \n",
       "Census Tract 2, King County, Washington: Summar...      28     601   2.00  \n",
       "Census Tract 3, King County, Washington: Summar...      24     149   3.00  \n",
       "Census Tract 4.01, King County, Washington: Sum...       0     411   4.01  \n",
       "Census Tract 4.02, King County, Washington: Sum...       0     266   4.02  "
      ]
     },
     "execution_count": 59,
     "metadata": {},
     "output_type": "execute_result"
    }
   ],
   "source": [
    "#Create a new dataframe in case something gets messed up\n",
    "df = divdata\n",
    "\n",
    "#Rename columns and parse index\n",
    "df['tract']=df.index\n",
    "#convert object type to string\n",
    "df['tract']= df['tract'].astype(str)\n",
    "#Split out uneeded info\n",
    "df[['tract']] = df['tract'].str.split(',').str[0] #Get the first value\n",
    "df[['tract']] = df['tract'].str.split(' ').str[2] #Remove the words so only tract number remains\n",
    "#convert object type to float\n",
    "df['tract']= df['tract'].astype(float)\n",
    "df.rename(columns={'B02001_001E':'tot','B02001_002E':'wh',\n",
    "                        'B02001_003E':'afam',\n",
    "                        'B02001_004E':'amin',\n",
    "                        'B02001_005E':'as',\n",
    "                        'B02001_006E':'hw',\n",
    "                        'B02001_007E':'ot',\n",
    "                       'B02001_008E':'combo1',\n",
    "                        'B02001_009E':'combo2',\n",
    "                        'B02001_010E':'combo3'}, inplace=True)\n",
    "\n",
    "#Drop any rows that have a zero for tot column\n",
    "df.drop(df[df['tot'] == 0].index, inplace = True) \n",
    "\n",
    "df.head()"
   ]
  },
  {
   "cell_type": "code",
   "execution_count": 60,
   "metadata": {},
   "outputs": [
    {
     "data": {
      "text/html": [
       "<div>\n",
       "<style scoped>\n",
       "    .dataframe tbody tr th:only-of-type {\n",
       "        vertical-align: middle;\n",
       "    }\n",
       "\n",
       "    .dataframe tbody tr th {\n",
       "        vertical-align: top;\n",
       "    }\n",
       "\n",
       "    .dataframe thead th {\n",
       "        text-align: right;\n",
       "    }\n",
       "</style>\n",
       "<table border=\"1\" class=\"dataframe\">\n",
       "  <thead>\n",
       "    <tr style=\"text-align: right;\">\n",
       "      <th></th>\n",
       "      <th>tot</th>\n",
       "      <th>wh</th>\n",
       "      <th>afam</th>\n",
       "      <th>amin</th>\n",
       "      <th>as</th>\n",
       "      <th>hw</th>\n",
       "      <th>ot</th>\n",
       "      <th>combo1</th>\n",
       "      <th>combo2</th>\n",
       "      <th>combo3</th>\n",
       "      <th>tract</th>\n",
       "    </tr>\n",
       "  </thead>\n",
       "  <tbody>\n",
       "    <tr>\n",
       "      <th>0</th>\n",
       "      <td>7261</td>\n",
       "      <td>4437</td>\n",
       "      <td>1010</td>\n",
       "      <td>60</td>\n",
       "      <td>767</td>\n",
       "      <td>122</td>\n",
       "      <td>346</td>\n",
       "      <td>519</td>\n",
       "      <td>64</td>\n",
       "      <td>455</td>\n",
       "      <td>1.00</td>\n",
       "    </tr>\n",
       "    <tr>\n",
       "      <th>1</th>\n",
       "      <td>7902</td>\n",
       "      <td>4831</td>\n",
       "      <td>681</td>\n",
       "      <td>84</td>\n",
       "      <td>1396</td>\n",
       "      <td>0</td>\n",
       "      <td>281</td>\n",
       "      <td>629</td>\n",
       "      <td>28</td>\n",
       "      <td>601</td>\n",
       "      <td>2.00</td>\n",
       "    </tr>\n",
       "    <tr>\n",
       "      <th>2</th>\n",
       "      <td>2830</td>\n",
       "      <td>2208</td>\n",
       "      <td>112</td>\n",
       "      <td>31</td>\n",
       "      <td>194</td>\n",
       "      <td>112</td>\n",
       "      <td>0</td>\n",
       "      <td>173</td>\n",
       "      <td>24</td>\n",
       "      <td>149</td>\n",
       "      <td>3.00</td>\n",
       "    </tr>\n",
       "    <tr>\n",
       "      <th>3</th>\n",
       "      <td>6258</td>\n",
       "      <td>3772</td>\n",
       "      <td>997</td>\n",
       "      <td>38</td>\n",
       "      <td>1040</td>\n",
       "      <td>0</td>\n",
       "      <td>0</td>\n",
       "      <td>411</td>\n",
       "      <td>0</td>\n",
       "      <td>411</td>\n",
       "      <td>4.01</td>\n",
       "    </tr>\n",
       "    <tr>\n",
       "      <th>4</th>\n",
       "      <td>5165</td>\n",
       "      <td>4168</td>\n",
       "      <td>284</td>\n",
       "      <td>24</td>\n",
       "      <td>324</td>\n",
       "      <td>42</td>\n",
       "      <td>57</td>\n",
       "      <td>266</td>\n",
       "      <td>0</td>\n",
       "      <td>266</td>\n",
       "      <td>4.02</td>\n",
       "    </tr>\n",
       "  </tbody>\n",
       "</table>\n",
       "</div>"
      ],
      "text/plain": [
       "    tot    wh  afam  amin    as   hw   ot  combo1  combo2  combo3  tract\n",
       "0  7261  4437  1010    60   767  122  346     519      64     455   1.00\n",
       "1  7902  4831   681    84  1396    0  281     629      28     601   2.00\n",
       "2  2830  2208   112    31   194  112    0     173      24     149   3.00\n",
       "3  6258  3772   997    38  1040    0    0     411       0     411   4.01\n",
       "4  5165  4168   284    24   324   42   57     266       0     266   4.02"
      ]
     },
     "execution_count": 60,
     "metadata": {},
     "output_type": "execute_result"
    }
   ],
   "source": [
    "df = df.reset_index()\n",
    "df = df.drop(columns=['index'])\n",
    "df.head()"
   ]
  },
  {
   "cell_type": "markdown",
   "metadata": {},
   "source": [
    "#### Calculate simpsons index (gini index is 1-simpsons)\n",
    "Simpsons is the sum of the squared category proportions. Lower value is more diverse. Gini-Simpsons, higher value more diverse"
   ]
  },
  {
   "cell_type": "code",
   "execution_count": 69,
   "metadata": {},
   "outputs": [
    {
     "data": {
      "text/html": [
       "<div>\n",
       "<style scoped>\n",
       "    .dataframe tbody tr th:only-of-type {\n",
       "        vertical-align: middle;\n",
       "    }\n",
       "\n",
       "    .dataframe tbody tr th {\n",
       "        vertical-align: top;\n",
       "    }\n",
       "\n",
       "    .dataframe thead th {\n",
       "        text-align: right;\n",
       "    }\n",
       "</style>\n",
       "<table border=\"1\" class=\"dataframe\">\n",
       "  <thead>\n",
       "    <tr style=\"text-align: right;\">\n",
       "      <th></th>\n",
       "      <th>tot</th>\n",
       "      <th>wh</th>\n",
       "      <th>afam</th>\n",
       "      <th>amin</th>\n",
       "      <th>as</th>\n",
       "      <th>hw</th>\n",
       "      <th>ot</th>\n",
       "      <th>combo1</th>\n",
       "      <th>combo2</th>\n",
       "      <th>combo3</th>\n",
       "      <th>tract</th>\n",
       "      <th>simpsons</th>\n",
       "      <th>gini-simp</th>\n",
       "    </tr>\n",
       "  </thead>\n",
       "  <tbody>\n",
       "    <tr>\n",
       "      <th>0</th>\n",
       "      <td>7261</td>\n",
       "      <td>4437</td>\n",
       "      <td>1010</td>\n",
       "      <td>60</td>\n",
       "      <td>767</td>\n",
       "      <td>122</td>\n",
       "      <td>346</td>\n",
       "      <td>519</td>\n",
       "      <td>64</td>\n",
       "      <td>455</td>\n",
       "      <td>1.00</td>\n",
       "      <td>0.415652</td>\n",
       "      <td>0.584348</td>\n",
       "    </tr>\n",
       "    <tr>\n",
       "      <th>1</th>\n",
       "      <td>7902</td>\n",
       "      <td>4831</td>\n",
       "      <td>681</td>\n",
       "      <td>84</td>\n",
       "      <td>1396</td>\n",
       "      <td>0</td>\n",
       "      <td>281</td>\n",
       "      <td>629</td>\n",
       "      <td>28</td>\n",
       "      <td>601</td>\n",
       "      <td>2.00</td>\n",
       "      <td>0.425914</td>\n",
       "      <td>0.574086</td>\n",
       "    </tr>\n",
       "    <tr>\n",
       "      <th>2</th>\n",
       "      <td>2830</td>\n",
       "      <td>2208</td>\n",
       "      <td>112</td>\n",
       "      <td>31</td>\n",
       "      <td>194</td>\n",
       "      <td>112</td>\n",
       "      <td>0</td>\n",
       "      <td>173</td>\n",
       "      <td>24</td>\n",
       "      <td>149</td>\n",
       "      <td>3.00</td>\n",
       "      <td>0.623263</td>\n",
       "      <td>0.376737</td>\n",
       "    </tr>\n",
       "    <tr>\n",
       "      <th>3</th>\n",
       "      <td>6258</td>\n",
       "      <td>3772</td>\n",
       "      <td>997</td>\n",
       "      <td>38</td>\n",
       "      <td>1040</td>\n",
       "      <td>0</td>\n",
       "      <td>0</td>\n",
       "      <td>411</td>\n",
       "      <td>0</td>\n",
       "      <td>411</td>\n",
       "      <td>4.01</td>\n",
       "      <td>0.424969</td>\n",
       "      <td>0.575031</td>\n",
       "    </tr>\n",
       "    <tr>\n",
       "      <th>4</th>\n",
       "      <td>5165</td>\n",
       "      <td>4168</td>\n",
       "      <td>284</td>\n",
       "      <td>24</td>\n",
       "      <td>324</td>\n",
       "      <td>42</td>\n",
       "      <td>57</td>\n",
       "      <td>266</td>\n",
       "      <td>0</td>\n",
       "      <td>266</td>\n",
       "      <td>4.02</td>\n",
       "      <td>0.663673</td>\n",
       "      <td>0.336327</td>\n",
       "    </tr>\n",
       "  </tbody>\n",
       "</table>\n",
       "</div>"
      ],
      "text/plain": [
       "    tot    wh  afam  amin    as   hw   ot  combo1  combo2  combo3  tract  \\\n",
       "0  7261  4437  1010    60   767  122  346     519      64     455   1.00   \n",
       "1  7902  4831   681    84  1396    0  281     629      28     601   2.00   \n",
       "2  2830  2208   112    31   194  112    0     173      24     149   3.00   \n",
       "3  6258  3772   997    38  1040    0    0     411       0     411   4.01   \n",
       "4  5165  4168   284    24   324   42   57     266       0     266   4.02   \n",
       "\n",
       "   simpsons  gini-simp  \n",
       "0  0.415652   0.584348  \n",
       "1  0.425914   0.574086  \n",
       "2  0.623263   0.376737  \n",
       "3  0.424969   0.575031  \n",
       "4  0.663673   0.336327  "
      ]
     },
     "execution_count": 69,
     "metadata": {},
     "output_type": "execute_result"
    }
   ],
   "source": [
    "def simpsons(row):\n",
    "    return (row['wh'] / row['tot'])**2 + (row['afam'] / row['tot'])**2 + (row['amin'] / row['tot'])**2 + (row['as'] / row['tot'])**2 + (row['hw'] / row['tot'])**2 + (row['ot'] / row['tot'])**2 + (row['combo1'] / row['tot'])**2 + (row['combo2'] / row['tot'])**2 + (row['combo3'] / row['tot'])**2\n",
    "\n",
    "df['simpsons'] = df.apply(simpsons, axis=1)\n",
    "df['gini-simp'] = 1 - df['simpsons']\n",
    "df.head()"
   ]
  },
  {
   "cell_type": "code",
   "execution_count": 70,
   "metadata": {},
   "outputs": [],
   "source": [
    "#Save file as csv\n",
    "df.to_csv('diversity-seattle-census-tract-acs5-2018.csv', mode = 'w', index=False)"
   ]
  },
  {
   "cell_type": "markdown",
   "metadata": {},
   "source": [
    "## Education Levels"
   ]
  },
  {
   "cell_type": "code",
   "execution_count": 23,
   "metadata": {},
   "outputs": [],
   "source": [
    "data = censusdata.download('acs5', 2018,\n",
    "           censusdata.censusgeo([('state', '53'),\n",
    "                                 ('county', '033'),\n",
    "                                 ('tract', '*')]),\n",
    "                                  ['B06009_005E', 'B06009_006E'])"
   ]
  },
  {
   "cell_type": "code",
   "execution_count": 24,
   "metadata": {},
   "outputs": [],
   "source": [
    "data['tract']=data.index\n",
    "df = data"
   ]
  },
  {
   "cell_type": "code",
   "execution_count": 28,
   "metadata": {},
   "outputs": [
    {
     "data": {
      "text/html": [
       "<div>\n",
       "<style scoped>\n",
       "    .dataframe tbody tr th:only-of-type {\n",
       "        vertical-align: middle;\n",
       "    }\n",
       "\n",
       "    .dataframe tbody tr th {\n",
       "        vertical-align: top;\n",
       "    }\n",
       "\n",
       "    .dataframe thead th {\n",
       "        text-align: right;\n",
       "    }\n",
       "</style>\n",
       "<table border=\"1\" class=\"dataframe\">\n",
       "  <thead>\n",
       "    <tr style=\"text-align: right;\">\n",
       "      <th></th>\n",
       "      <th>tract</th>\n",
       "      <th>collegePlus</th>\n",
       "    </tr>\n",
       "  </thead>\n",
       "  <tbody>\n",
       "    <tr>\n",
       "      <th>Census Tract 323.09, King County, Washington: Summary level: 140, state:53&gt; county:033&gt; tract:032309</th>\n",
       "      <td>Census Tract 323.09, King County, Washington: ...</td>\n",
       "      <td>4949</td>\n",
       "    </tr>\n",
       "    <tr>\n",
       "      <th>Census Tract 317.04, King County, Washington: Summary level: 140, state:53&gt; county:033&gt; tract:031704</th>\n",
       "      <td>Census Tract 317.04, King County, Washington: ...</td>\n",
       "      <td>893</td>\n",
       "    </tr>\n",
       "    <tr>\n",
       "      <th>Census Tract 323.13, King County, Washington: Summary level: 140, state:53&gt; county:033&gt; tract:032313</th>\n",
       "      <td>Census Tract 323.13, King County, Washington: ...</td>\n",
       "      <td>3360</td>\n",
       "    </tr>\n",
       "    <tr>\n",
       "      <th>Census Tract 323.19, King County, Washington: Summary level: 140, state:53&gt; county:033&gt; tract:032319</th>\n",
       "      <td>Census Tract 323.19, King County, Washington: ...</td>\n",
       "      <td>2069</td>\n",
       "    </tr>\n",
       "    <tr>\n",
       "      <th>Census Tract 323.21, King County, Washington: Summary level: 140, state:53&gt; county:033&gt; tract:032321</th>\n",
       "      <td>Census Tract 323.21, King County, Washington: ...</td>\n",
       "      <td>3353</td>\n",
       "    </tr>\n",
       "  </tbody>\n",
       "</table>\n",
       "</div>"
      ],
      "text/plain": [
       "                                                                                                tract  \\\n",
       "Census Tract 323.09, King County, Washington: S...  Census Tract 323.09, King County, Washington: ...   \n",
       "Census Tract 317.04, King County, Washington: S...  Census Tract 317.04, King County, Washington: ...   \n",
       "Census Tract 323.13, King County, Washington: S...  Census Tract 323.13, King County, Washington: ...   \n",
       "Census Tract 323.19, King County, Washington: S...  Census Tract 323.19, King County, Washington: ...   \n",
       "Census Tract 323.21, King County, Washington: S...  Census Tract 323.21, King County, Washington: ...   \n",
       "\n",
       "                                                    collegePlus  \n",
       "Census Tract 323.09, King County, Washington: S...         4949  \n",
       "Census Tract 317.04, King County, Washington: S...          893  \n",
       "Census Tract 323.13, King County, Washington: S...         3360  \n",
       "Census Tract 323.19, King County, Washington: S...         2069  \n",
       "Census Tract 323.21, King County, Washington: S...         3353  "
      ]
     },
     "execution_count": 28,
     "metadata": {},
     "output_type": "execute_result"
    }
   ],
   "source": [
    "df['collegePlus'] = df['B06009_005E'] + df['B06009_006E']\n",
    "df.drop(columns=['B06009_005E','B06009_006E'], inplace=True)\n",
    "df.head()"
   ]
  },
  {
   "cell_type": "code",
   "execution_count": 29,
   "metadata": {},
   "outputs": [],
   "source": [
    "#convert object type to string\n",
    "df['tract']= df['tract'].astype(str)"
   ]
  },
  {
   "cell_type": "code",
   "execution_count": 30,
   "metadata": {},
   "outputs": [],
   "source": [
    "#Split out uneeded info\n",
    "df[['tract']] = df['tract'].str.split(',').str[0] #Get the first value\n",
    "df[['tract']] = df['tract'].str.split(' ').str[2] #Remove the words so only tract number remains"
   ]
  },
  {
   "cell_type": "code",
   "execution_count": 31,
   "metadata": {},
   "outputs": [],
   "source": [
    "#convert object type to float\n",
    "df['tract']= df['tract'].astype(float)"
   ]
  },
  {
   "cell_type": "code",
   "execution_count": 33,
   "metadata": {},
   "outputs": [
    {
     "data": {
      "text/html": [
       "<div>\n",
       "<style scoped>\n",
       "    .dataframe tbody tr th:only-of-type {\n",
       "        vertical-align: middle;\n",
       "    }\n",
       "\n",
       "    .dataframe tbody tr th {\n",
       "        vertical-align: top;\n",
       "    }\n",
       "\n",
       "    .dataframe thead th {\n",
       "        text-align: right;\n",
       "    }\n",
       "</style>\n",
       "<table border=\"1\" class=\"dataframe\">\n",
       "  <thead>\n",
       "    <tr style=\"text-align: right;\">\n",
       "      <th></th>\n",
       "      <th>tract</th>\n",
       "      <th>collegePlus</th>\n",
       "    </tr>\n",
       "  </thead>\n",
       "  <tbody>\n",
       "    <tr>\n",
       "      <th>Census Tract 323.09, King County, Washington: Summary level: 140, state:53&gt; county:033&gt; tract:032309</th>\n",
       "      <td>323.09</td>\n",
       "      <td>4949</td>\n",
       "    </tr>\n",
       "    <tr>\n",
       "      <th>Census Tract 317.04, King County, Washington: Summary level: 140, state:53&gt; county:033&gt; tract:031704</th>\n",
       "      <td>317.04</td>\n",
       "      <td>893</td>\n",
       "    </tr>\n",
       "    <tr>\n",
       "      <th>Census Tract 323.13, King County, Washington: Summary level: 140, state:53&gt; county:033&gt; tract:032313</th>\n",
       "      <td>323.13</td>\n",
       "      <td>3360</td>\n",
       "    </tr>\n",
       "    <tr>\n",
       "      <th>Census Tract 323.19, King County, Washington: Summary level: 140, state:53&gt; county:033&gt; tract:032319</th>\n",
       "      <td>323.19</td>\n",
       "      <td>2069</td>\n",
       "    </tr>\n",
       "    <tr>\n",
       "      <th>Census Tract 323.21, King County, Washington: Summary level: 140, state:53&gt; county:033&gt; tract:032321</th>\n",
       "      <td>323.21</td>\n",
       "      <td>3353</td>\n",
       "    </tr>\n",
       "  </tbody>\n",
       "</table>\n",
       "</div>"
      ],
      "text/plain": [
       "                                                     tract  collegePlus\n",
       "Census Tract 323.09, King County, Washington: S...  323.09         4949\n",
       "Census Tract 317.04, King County, Washington: S...  317.04          893\n",
       "Census Tract 323.13, King County, Washington: S...  323.13         3360\n",
       "Census Tract 323.19, King County, Washington: S...  323.19         2069\n",
       "Census Tract 323.21, King County, Washington: S...  323.21         3353"
      ]
     },
     "execution_count": 33,
     "metadata": {},
     "output_type": "execute_result"
    }
   ],
   "source": [
    "#There may be missing values listed as -666666. Delete those.\n",
    "df = df[df['collegePlus'] >= 0]\n",
    "df.head()"
   ]
  },
  {
   "cell_type": "code",
   "execution_count": 34,
   "metadata": {},
   "outputs": [
    {
     "data": {
      "text/html": [
       "<div>\n",
       "<style scoped>\n",
       "    .dataframe tbody tr th:only-of-type {\n",
       "        vertical-align: middle;\n",
       "    }\n",
       "\n",
       "    .dataframe tbody tr th {\n",
       "        vertical-align: top;\n",
       "    }\n",
       "\n",
       "    .dataframe thead th {\n",
       "        text-align: right;\n",
       "    }\n",
       "</style>\n",
       "<table border=\"1\" class=\"dataframe\">\n",
       "  <thead>\n",
       "    <tr style=\"text-align: right;\">\n",
       "      <th></th>\n",
       "      <th>tract</th>\n",
       "      <th>collegePlus</th>\n",
       "    </tr>\n",
       "  </thead>\n",
       "  <tbody>\n",
       "    <tr>\n",
       "      <th>0</th>\n",
       "      <td>323.09</td>\n",
       "      <td>4949</td>\n",
       "    </tr>\n",
       "    <tr>\n",
       "      <th>1</th>\n",
       "      <td>317.04</td>\n",
       "      <td>893</td>\n",
       "    </tr>\n",
       "    <tr>\n",
       "      <th>2</th>\n",
       "      <td>323.13</td>\n",
       "      <td>3360</td>\n",
       "    </tr>\n",
       "    <tr>\n",
       "      <th>3</th>\n",
       "      <td>323.19</td>\n",
       "      <td>2069</td>\n",
       "    </tr>\n",
       "    <tr>\n",
       "      <th>4</th>\n",
       "      <td>323.21</td>\n",
       "      <td>3353</td>\n",
       "    </tr>\n",
       "  </tbody>\n",
       "</table>\n",
       "</div>"
      ],
      "text/plain": [
       "    tract  collegePlus\n",
       "0  323.09         4949\n",
       "1  317.04          893\n",
       "2  323.13         3360\n",
       "3  323.19         2069\n",
       "4  323.21         3353"
      ]
     },
     "execution_count": 34,
     "metadata": {},
     "output_type": "execute_result"
    }
   ],
   "source": [
    "df = df.reset_index()\n",
    "df = df.drop(columns=['index'])\n",
    "df.head()"
   ]
  },
  {
   "cell_type": "code",
   "execution_count": 35,
   "metadata": {},
   "outputs": [],
   "source": [
    "df.to_csv('seattle-census-tract-acs5-2018-edu.csv', mode = 'w', index=False)"
   ]
  },
  {
   "cell_type": "code",
   "execution_count": 19,
   "metadata": {},
   "outputs": [],
   "source": [
    "#Open the edu tract file if needed\n",
    "#dfedu = df\n",
    "dfedu = pd.read_csv('seattle-census-tract-acs5-2018-edu.csv',encoding='utf-8')"
   ]
  },
  {
   "cell_type": "markdown",
   "metadata": {},
   "source": [
    "## Calculate correlation between number of lfls per pop and education level"
   ]
  },
  {
   "cell_type": "code",
   "execution_count": 98,
   "metadata": {},
   "outputs": [],
   "source": [
    "#Open census tract csv with the counts of lfls\n",
    "#I used QGIS to make a csv with the number of lfls per area for each census tract\n",
    "lflvtract = pd.read_csv('census-tracts-lfl-counts.csv',encoding='utf-8')\n",
    "\n",
    "#Open the edu tract file if needed\n",
    "\n",
    "dfedu = pd.read_csv('seattle-census-tract-acs5-2018-edu.csv',encoding='utf-8')"
   ]
  },
  {
   "cell_type": "code",
   "execution_count": 99,
   "metadata": {},
   "outputs": [
    {
     "data": {
      "text/html": [
       "<div>\n",
       "<style scoped>\n",
       "    .dataframe tbody tr th:only-of-type {\n",
       "        vertical-align: middle;\n",
       "    }\n",
       "\n",
       "    .dataframe tbody tr th {\n",
       "        vertical-align: top;\n",
       "    }\n",
       "\n",
       "    .dataframe thead th {\n",
       "        text-align: right;\n",
       "    }\n",
       "</style>\n",
       "<table border=\"1\" class=\"dataframe\">\n",
       "  <thead>\n",
       "    <tr style=\"text-align: right;\">\n",
       "      <th></th>\n",
       "      <th>tract</th>\n",
       "      <th>sqkm</th>\n",
       "      <th>numlfls</th>\n",
       "      <th>lflsperarea</th>\n",
       "      <th>collegePlus</th>\n",
       "    </tr>\n",
       "  </thead>\n",
       "  <tbody>\n",
       "    <tr>\n",
       "      <th>0</th>\n",
       "      <td>25.0</td>\n",
       "      <td>984.273577</td>\n",
       "      <td>6</td>\n",
       "      <td>0.006096</td>\n",
       "      <td>1919</td>\n",
       "    </tr>\n",
       "    <tr>\n",
       "      <th>1</th>\n",
       "      <td>26.0</td>\n",
       "      <td>1244.751088</td>\n",
       "      <td>4</td>\n",
       "      <td>0.003213</td>\n",
       "      <td>2686</td>\n",
       "    </tr>\n",
       "    <tr>\n",
       "      <th>2</th>\n",
       "      <td>56.0</td>\n",
       "      <td>2984.606709</td>\n",
       "      <td>1</td>\n",
       "      <td>0.000335</td>\n",
       "      <td>3808</td>\n",
       "    </tr>\n",
       "    <tr>\n",
       "      <th>3</th>\n",
       "      <td>68.0</td>\n",
       "      <td>718.069864</td>\n",
       "      <td>10</td>\n",
       "      <td>0.013926</td>\n",
       "      <td>2034</td>\n",
       "    </tr>\n",
       "    <tr>\n",
       "      <th>4</th>\n",
       "      <td>60.0</td>\n",
       "      <td>1313.478957</td>\n",
       "      <td>3</td>\n",
       "      <td>0.002284</td>\n",
       "      <td>3295</td>\n",
       "    </tr>\n",
       "  </tbody>\n",
       "</table>\n",
       "</div>"
      ],
      "text/plain": [
       "   tract         sqkm  numlfls  lflsperarea  collegePlus\n",
       "0   25.0   984.273577        6     0.006096         1919\n",
       "1   26.0  1244.751088        4     0.003213         2686\n",
       "2   56.0  2984.606709        1     0.000335         3808\n",
       "3   68.0   718.069864       10     0.013926         2034\n",
       "4   60.0  1313.478957        3     0.002284         3295"
      ]
     },
     "execution_count": 99,
     "metadata": {},
     "output_type": "execute_result"
    }
   ],
   "source": [
    "#Merge with the lfl number dataset\n",
    "dfedulfl = pd.merge(lflvtract, dfedu, on='tract', how='inner')\n",
    "dfedulfl.head()"
   ]
  },
  {
   "cell_type": "code",
   "execution_count": 100,
   "metadata": {},
   "outputs": [],
   "source": [
    "#Open the population data\n",
    "pop = pd.read_csv('pop-by-tract.csv',encoding='utf-8')"
   ]
  },
  {
   "cell_type": "code",
   "execution_count": 101,
   "metadata": {},
   "outputs": [
    {
     "data": {
      "text/html": [
       "<div>\n",
       "<style scoped>\n",
       "    .dataframe tbody tr th:only-of-type {\n",
       "        vertical-align: middle;\n",
       "    }\n",
       "\n",
       "    .dataframe tbody tr th {\n",
       "        vertical-align: top;\n",
       "    }\n",
       "\n",
       "    .dataframe thead th {\n",
       "        text-align: right;\n",
       "    }\n",
       "</style>\n",
       "<table border=\"1\" class=\"dataframe\">\n",
       "  <thead>\n",
       "    <tr style=\"text-align: right;\">\n",
       "      <th></th>\n",
       "      <th>tract</th>\n",
       "      <th>sqkm</th>\n",
       "      <th>numlfls</th>\n",
       "      <th>lflsperarea</th>\n",
       "      <th>collegePlus</th>\n",
       "      <th>pop</th>\n",
       "    </tr>\n",
       "  </thead>\n",
       "  <tbody>\n",
       "    <tr>\n",
       "      <th>0</th>\n",
       "      <td>25.0</td>\n",
       "      <td>984.273577</td>\n",
       "      <td>6</td>\n",
       "      <td>0.006096</td>\n",
       "      <td>1919</td>\n",
       "      <td>3357</td>\n",
       "    </tr>\n",
       "    <tr>\n",
       "      <th>1</th>\n",
       "      <td>26.0</td>\n",
       "      <td>1244.751088</td>\n",
       "      <td>4</td>\n",
       "      <td>0.003213</td>\n",
       "      <td>2686</td>\n",
       "      <td>5268</td>\n",
       "    </tr>\n",
       "    <tr>\n",
       "      <th>2</th>\n",
       "      <td>56.0</td>\n",
       "      <td>2984.606709</td>\n",
       "      <td>1</td>\n",
       "      <td>0.000335</td>\n",
       "      <td>3808</td>\n",
       "      <td>6954</td>\n",
       "    </tr>\n",
       "    <tr>\n",
       "      <th>3</th>\n",
       "      <td>68.0</td>\n",
       "      <td>718.069864</td>\n",
       "      <td>10</td>\n",
       "      <td>0.013926</td>\n",
       "      <td>2034</td>\n",
       "      <td>3356</td>\n",
       "    </tr>\n",
       "    <tr>\n",
       "      <th>4</th>\n",
       "      <td>60.0</td>\n",
       "      <td>1313.478957</td>\n",
       "      <td>3</td>\n",
       "      <td>0.002284</td>\n",
       "      <td>3295</td>\n",
       "      <td>5915</td>\n",
       "    </tr>\n",
       "  </tbody>\n",
       "</table>\n",
       "</div>"
      ],
      "text/plain": [
       "   tract         sqkm  numlfls  lflsperarea  collegePlus   pop\n",
       "0   25.0   984.273577        6     0.006096         1919  3357\n",
       "1   26.0  1244.751088        4     0.003213         2686  5268\n",
       "2   56.0  2984.606709        1     0.000335         3808  6954\n",
       "3   68.0   718.069864       10     0.013926         2034  3356\n",
       "4   60.0  1313.478957        3     0.002284         3295  5915"
      ]
     },
     "execution_count": 101,
     "metadata": {},
     "output_type": "execute_result"
    }
   ],
   "source": [
    "#Merge with the population dataframe\n",
    "dfedulfl = pd.merge(dfedulfl, pop, on='tract', how='inner')\n",
    "dfedulfl.head()"
   ]
  },
  {
   "cell_type": "code",
   "execution_count": 102,
   "metadata": {},
   "outputs": [],
   "source": [
    "dfedulfl['lflperpop']=dfedulfl['numlfls']/dfedulfl['pop']"
   ]
  },
  {
   "cell_type": "code",
   "execution_count": 103,
   "metadata": {},
   "outputs": [
    {
     "data": {
      "text/plain": [
       "[(0.0, 0.005)]"
      ]
     },
     "execution_count": 103,
     "metadata": {},
     "output_type": "execute_result"
    },
    {
     "data": {
      "image/png": "[encoded data removed]",
      "text/plain": [
       "<Figure size 432x288 with 1 Axes>"
      ]
     },
     "metadata": {
      "needs_background": "light"
     },
     "output_type": "display_data"
    }
   ],
   "source": [
    "ax = sns.scatterplot(x=\"collegePlus\", y=\"lflperpop\", data=dfedulfl)\n",
    "ax.set(ylim=(0, 0.005))"
   ]
  },
  {
   "cell_type": "code",
   "execution_count": 104,
   "metadata": {},
   "outputs": [],
   "source": [
    "#Create list of values to check\n",
    "edu = dfedulfl['collegePlus']"
   ]
  },
  {
   "cell_type": "code",
   "execution_count": 105,
   "metadata": {},
   "outputs": [
    {
     "data": {
      "image/png": "[encoded data removed]",
      "text/plain": [
       "<Figure size 432x288 with 1 Axes>"
      ]
     },
     "metadata": {
      "needs_background": "light"
     },
     "output_type": "display_data"
    }
   ],
   "source": [
    "plt.hist(edu)\n",
    "plt.show()"
   ]
  },
  {
   "cell_type": "code",
   "execution_count": 106,
   "metadata": {},
   "outputs": [],
   "source": [
    "#Create list of values to check - income\n",
    "lflperpop = dfedulfl['lflperpop']"
   ]
  },
  {
   "cell_type": "code",
   "execution_count": 107,
   "metadata": {},
   "outputs": [
    {
     "data": {
      "image/png": "[encoded data removed]",
      "text/plain": [
       "<Figure size 432x288 with 1 Axes>"
      ]
     },
     "metadata": {
      "needs_background": "light"
     },
     "output_type": "display_data"
    }
   ],
   "source": [
    "plt.hist(lflperpop)\n",
    "plt.show()"
   ]
  },
  {
   "cell_type": "markdown",
   "metadata": {},
   "source": [
    "Neither are normal most likely so use Spearman's"
   ]
  },
  {
   "cell_type": "code",
   "execution_count": 108,
   "metadata": {},
   "outputs": [
    {
     "data": {
      "text/plain": [
       "135"
      ]
     },
     "execution_count": 108,
     "metadata": {},
     "output_type": "execute_result"
    }
   ],
   "source": [
    "len(dfedulfl)"
   ]
  },
  {
   "cell_type": "code",
   "execution_count": 30,
   "metadata": {},
   "outputs": [
    {
     "name": "stdout",
     "output_type": "stream",
     "text": [
      "Spearmans correlation coefficient: 0.147  p-value: 0.087899\n"
     ]
    }
   ],
   "source": [
    "#Use SciPy\n",
    "#The %.3f' sets the number of decimal places\n",
    "coef, p = stats.spearmanr(dfedulfl['collegePlus'],dfedulfl['lflperpop'])\n",
    "print('Spearmans correlation coefficient: %.3f' % coef,' p-value: %.6f' % p)"
   ]
  },
  {
   "cell_type": "markdown",
   "metadata": {},
   "source": [
    "A value of 0.15 is very weakly positively correlated. Not significant. n=135 so df=133"
   ]
  },
  {
   "cell_type": "markdown",
   "metadata": {},
   "source": [
    "## Calculate correlation between number of lfls per pop and diversity"
   ]
  },
  {
   "cell_type": "code",
   "execution_count": 75,
   "metadata": {},
   "outputs": [],
   "source": [
    "#Open census tract csv with the counts of lfls\n",
    "#I used QGIS to make a csv with the number of lfls per area for each census tract\n",
    "lflvtract = pd.read_csv('census-tracts-lfl-counts.csv',encoding='utf-8')\n",
    "\n",
    "#Open the diversity tract file if needed\n",
    "dfdiv = pd.read_csv('diversity-seattle-census-tract-acs5-2018.csv',encoding='utf-8')\n",
    "\n",
    "#Open the population data if needed\n",
    "pop = pd.read_csv('pop-by-tract.csv',encoding='utf-8')"
   ]
  },
  {
   "cell_type": "code",
   "execution_count": 76,
   "metadata": {},
   "outputs": [
    {
     "data": {
      "text/html": [
       "<div>\n",
       "<style scoped>\n",
       "    .dataframe tbody tr th:only-of-type {\n",
       "        vertical-align: middle;\n",
       "    }\n",
       "\n",
       "    .dataframe tbody tr th {\n",
       "        vertical-align: top;\n",
       "    }\n",
       "\n",
       "    .dataframe thead th {\n",
       "        text-align: right;\n",
       "    }\n",
       "</style>\n",
       "<table border=\"1\" class=\"dataframe\">\n",
       "  <thead>\n",
       "    <tr style=\"text-align: right;\">\n",
       "      <th></th>\n",
       "      <th>tract</th>\n",
       "      <th>sqkm</th>\n",
       "      <th>numlfls</th>\n",
       "      <th>lflsperarea</th>\n",
       "      <th>tot</th>\n",
       "      <th>wh</th>\n",
       "      <th>afam</th>\n",
       "      <th>amin</th>\n",
       "      <th>as</th>\n",
       "      <th>hw</th>\n",
       "      <th>ot</th>\n",
       "      <th>combo1</th>\n",
       "      <th>combo2</th>\n",
       "      <th>combo3</th>\n",
       "      <th>simpsons</th>\n",
       "      <th>gini-simp</th>\n",
       "    </tr>\n",
       "  </thead>\n",
       "  <tbody>\n",
       "    <tr>\n",
       "      <th>0</th>\n",
       "      <td>25.0</td>\n",
       "      <td>984.273577</td>\n",
       "      <td>6</td>\n",
       "      <td>0.006096</td>\n",
       "      <td>3001</td>\n",
       "      <td>2645</td>\n",
       "      <td>28</td>\n",
       "      <td>9</td>\n",
       "      <td>125</td>\n",
       "      <td>0</td>\n",
       "      <td>25</td>\n",
       "      <td>169</td>\n",
       "      <td>0</td>\n",
       "      <td>169</td>\n",
       "      <td>0.785061</td>\n",
       "      <td>0.214939</td>\n",
       "    </tr>\n",
       "    <tr>\n",
       "      <th>1</th>\n",
       "      <td>26.0</td>\n",
       "      <td>1244.751088</td>\n",
       "      <td>4</td>\n",
       "      <td>0.003213</td>\n",
       "      <td>5011</td>\n",
       "      <td>4173</td>\n",
       "      <td>117</td>\n",
       "      <td>26</td>\n",
       "      <td>392</td>\n",
       "      <td>0</td>\n",
       "      <td>27</td>\n",
       "      <td>276</td>\n",
       "      <td>10</td>\n",
       "      <td>266</td>\n",
       "      <td>0.706079</td>\n",
       "      <td>0.293921</td>\n",
       "    </tr>\n",
       "    <tr>\n",
       "      <th>2</th>\n",
       "      <td>56.0</td>\n",
       "      <td>2984.606709</td>\n",
       "      <td>1</td>\n",
       "      <td>0.000335</td>\n",
       "      <td>6623</td>\n",
       "      <td>5916</td>\n",
       "      <td>18</td>\n",
       "      <td>36</td>\n",
       "      <td>244</td>\n",
       "      <td>0</td>\n",
       "      <td>75</td>\n",
       "      <td>334</td>\n",
       "      <td>0</td>\n",
       "      <td>334</td>\n",
       "      <td>0.804506</td>\n",
       "      <td>0.195494</td>\n",
       "    </tr>\n",
       "    <tr>\n",
       "      <th>3</th>\n",
       "      <td>68.0</td>\n",
       "      <td>718.069864</td>\n",
       "      <td>10</td>\n",
       "      <td>0.013926</td>\n",
       "      <td>3333</td>\n",
       "      <td>2893</td>\n",
       "      <td>31</td>\n",
       "      <td>0</td>\n",
       "      <td>185</td>\n",
       "      <td>0</td>\n",
       "      <td>56</td>\n",
       "      <td>168</td>\n",
       "      <td>8</td>\n",
       "      <td>160</td>\n",
       "      <td>0.761702</td>\n",
       "      <td>0.238298</td>\n",
       "    </tr>\n",
       "    <tr>\n",
       "      <th>4</th>\n",
       "      <td>60.0</td>\n",
       "      <td>1313.478957</td>\n",
       "      <td>3</td>\n",
       "      <td>0.002284</td>\n",
       "      <td>5598</td>\n",
       "      <td>4699</td>\n",
       "      <td>45</td>\n",
       "      <td>0</td>\n",
       "      <td>405</td>\n",
       "      <td>2</td>\n",
       "      <td>46</td>\n",
       "      <td>401</td>\n",
       "      <td>15</td>\n",
       "      <td>386</td>\n",
       "      <td>0.719863</td>\n",
       "      <td>0.280137</td>\n",
       "    </tr>\n",
       "  </tbody>\n",
       "</table>\n",
       "</div>"
      ],
      "text/plain": [
       "   tract         sqkm  numlfls  lflsperarea   tot    wh  afam  amin   as  hw  \\\n",
       "0   25.0   984.273577        6     0.006096  3001  2645    28     9  125   0   \n",
       "1   26.0  1244.751088        4     0.003213  5011  4173   117    26  392   0   \n",
       "2   56.0  2984.606709        1     0.000335  6623  5916    18    36  244   0   \n",
       "3   68.0   718.069864       10     0.013926  3333  2893    31     0  185   0   \n",
       "4   60.0  1313.478957        3     0.002284  5598  4699    45     0  405   2   \n",
       "\n",
       "   ot  combo1  combo2  combo3  simpsons  gini-simp  \n",
       "0  25     169       0     169  0.785061   0.214939  \n",
       "1  27     276      10     266  0.706079   0.293921  \n",
       "2  75     334       0     334  0.804506   0.195494  \n",
       "3  56     168       8     160  0.761702   0.238298  \n",
       "4  46     401      15     386  0.719863   0.280137  "
      ]
     },
     "execution_count": 76,
     "metadata": {},
     "output_type": "execute_result"
    }
   ],
   "source": [
    "#Merge with the lfl number dataset\n",
    "dfdivlfl = pd.merge(lflvtract, dfdiv, on='tract', how='inner')\n",
    "dfdivlfl.head()"
   ]
  },
  {
   "cell_type": "code",
   "execution_count": 77,
   "metadata": {},
   "outputs": [
    {
     "data": {
      "text/html": [
       "<div>\n",
       "<style scoped>\n",
       "    .dataframe tbody tr th:only-of-type {\n",
       "        vertical-align: middle;\n",
       "    }\n",
       "\n",
       "    .dataframe tbody tr th {\n",
       "        vertical-align: top;\n",
       "    }\n",
       "\n",
       "    .dataframe thead th {\n",
       "        text-align: right;\n",
       "    }\n",
       "</style>\n",
       "<table border=\"1\" class=\"dataframe\">\n",
       "  <thead>\n",
       "    <tr style=\"text-align: right;\">\n",
       "      <th></th>\n",
       "      <th>tract</th>\n",
       "      <th>sqkm</th>\n",
       "      <th>numlfls</th>\n",
       "      <th>lflsperarea</th>\n",
       "      <th>tot</th>\n",
       "      <th>wh</th>\n",
       "      <th>afam</th>\n",
       "      <th>amin</th>\n",
       "      <th>as</th>\n",
       "      <th>hw</th>\n",
       "      <th>ot</th>\n",
       "      <th>combo1</th>\n",
       "      <th>combo2</th>\n",
       "      <th>combo3</th>\n",
       "      <th>simpsons</th>\n",
       "      <th>gini-simp</th>\n",
       "      <th>pop</th>\n",
       "    </tr>\n",
       "  </thead>\n",
       "  <tbody>\n",
       "    <tr>\n",
       "      <th>0</th>\n",
       "      <td>25.0</td>\n",
       "      <td>984.273577</td>\n",
       "      <td>6</td>\n",
       "      <td>0.006096</td>\n",
       "      <td>3001</td>\n",
       "      <td>2645</td>\n",
       "      <td>28</td>\n",
       "      <td>9</td>\n",
       "      <td>125</td>\n",
       "      <td>0</td>\n",
       "      <td>25</td>\n",
       "      <td>169</td>\n",
       "      <td>0</td>\n",
       "      <td>169</td>\n",
       "      <td>0.785061</td>\n",
       "      <td>0.214939</td>\n",
       "      <td>3357</td>\n",
       "    </tr>\n",
       "    <tr>\n",
       "      <th>1</th>\n",
       "      <td>26.0</td>\n",
       "      <td>1244.751088</td>\n",
       "      <td>4</td>\n",
       "      <td>0.003213</td>\n",
       "      <td>5011</td>\n",
       "      <td>4173</td>\n",
       "      <td>117</td>\n",
       "      <td>26</td>\n",
       "      <td>392</td>\n",
       "      <td>0</td>\n",
       "      <td>27</td>\n",
       "      <td>276</td>\n",
       "      <td>10</td>\n",
       "      <td>266</td>\n",
       "      <td>0.706079</td>\n",
       "      <td>0.293921</td>\n",
       "      <td>5268</td>\n",
       "    </tr>\n",
       "    <tr>\n",
       "      <th>2</th>\n",
       "      <td>56.0</td>\n",
       "      <td>2984.606709</td>\n",
       "      <td>1</td>\n",
       "      <td>0.000335</td>\n",
       "      <td>6623</td>\n",
       "      <td>5916</td>\n",
       "      <td>18</td>\n",
       "      <td>36</td>\n",
       "      <td>244</td>\n",
       "      <td>0</td>\n",
       "      <td>75</td>\n",
       "      <td>334</td>\n",
       "      <td>0</td>\n",
       "      <td>334</td>\n",
       "      <td>0.804506</td>\n",
       "      <td>0.195494</td>\n",
       "      <td>6954</td>\n",
       "    </tr>\n",
       "    <tr>\n",
       "      <th>3</th>\n",
       "      <td>68.0</td>\n",
       "      <td>718.069864</td>\n",
       "      <td>10</td>\n",
       "      <td>0.013926</td>\n",
       "      <td>3333</td>\n",
       "      <td>2893</td>\n",
       "      <td>31</td>\n",
       "      <td>0</td>\n",
       "      <td>185</td>\n",
       "      <td>0</td>\n",
       "      <td>56</td>\n",
       "      <td>168</td>\n",
       "      <td>8</td>\n",
       "      <td>160</td>\n",
       "      <td>0.761702</td>\n",
       "      <td>0.238298</td>\n",
       "      <td>3356</td>\n",
       "    </tr>\n",
       "    <tr>\n",
       "      <th>4</th>\n",
       "      <td>60.0</td>\n",
       "      <td>1313.478957</td>\n",
       "      <td>3</td>\n",
       "      <td>0.002284</td>\n",
       "      <td>5598</td>\n",
       "      <td>4699</td>\n",
       "      <td>45</td>\n",
       "      <td>0</td>\n",
       "      <td>405</td>\n",
       "      <td>2</td>\n",
       "      <td>46</td>\n",
       "      <td>401</td>\n",
       "      <td>15</td>\n",
       "      <td>386</td>\n",
       "      <td>0.719863</td>\n",
       "      <td>0.280137</td>\n",
       "      <td>5915</td>\n",
       "    </tr>\n",
       "  </tbody>\n",
       "</table>\n",
       "</div>"
      ],
      "text/plain": [
       "   tract         sqkm  numlfls  lflsperarea   tot    wh  afam  amin   as  hw  \\\n",
       "0   25.0   984.273577        6     0.006096  3001  2645    28     9  125   0   \n",
       "1   26.0  1244.751088        4     0.003213  5011  4173   117    26  392   0   \n",
       "2   56.0  2984.606709        1     0.000335  6623  5916    18    36  244   0   \n",
       "3   68.0   718.069864       10     0.013926  3333  2893    31     0  185   0   \n",
       "4   60.0  1313.478957        3     0.002284  5598  4699    45     0  405   2   \n",
       "\n",
       "   ot  combo1  combo2  combo3  simpsons  gini-simp   pop  \n",
       "0  25     169       0     169  0.785061   0.214939  3357  \n",
       "1  27     276      10     266  0.706079   0.293921  5268  \n",
       "2  75     334       0     334  0.804506   0.195494  6954  \n",
       "3  56     168       8     160  0.761702   0.238298  3356  \n",
       "4  46     401      15     386  0.719863   0.280137  5915  "
      ]
     },
     "execution_count": 77,
     "metadata": {},
     "output_type": "execute_result"
    }
   ],
   "source": [
    "#Merge with the population dataframe\n",
    "dfdivlfl = pd.merge(dfdivlfl, pop, on='tract', how='inner')\n",
    "dfdivlfl.head()"
   ]
  },
  {
   "cell_type": "code",
   "execution_count": 78,
   "metadata": {},
   "outputs": [],
   "source": [
    "#Calculate lfls per pop.\n",
    "dfdivlfl['lflperpop']=dfdivlfl['numlfls']/dfdivlfl['pop']\n",
    "#Take only the useful columns (here tot is the total number included in diversity calculation)\n",
    "dfdivlfl = dfdivlfl[['tract','tot','gini-simp','pop','lflperpop']].copy()"
   ]
  },
  {
   "cell_type": "code",
   "execution_count": 79,
   "metadata": {},
   "outputs": [
    {
     "data": {
      "text/plain": [
       "[(0.0, 0.005)]"
      ]
     },
     "execution_count": 79,
     "metadata": {},
     "output_type": "execute_result"
    },
    {
     "data": {
      "image/png": "[encoded data removed]",
      "text/plain": [
       "<Figure size 432x288 with 1 Axes>"
      ]
     },
     "metadata": {
      "needs_background": "light"
     },
     "output_type": "display_data"
    }
   ],
   "source": [
    "ax = sns.scatterplot(x=\"gini-simp\", y=\"lflperpop\", data=dfdivlfl)\n",
    "ax.set(ylim=(0, 0.005))"
   ]
  },
  {
   "cell_type": "code",
   "execution_count": 80,
   "metadata": {},
   "outputs": [
    {
     "data": {
      "image/png": "[encoded data removed]",
      "text/plain": [
       "<Figure size 432x288 with 1 Axes>"
      ]
     },
     "metadata": {
      "needs_background": "light"
     },
     "output_type": "display_data"
    }
   ],
   "source": [
    "#Create list of values to check\n",
    "div = dfdivlfl['gini-simp']\n",
    "plt.hist(div)\n",
    "plt.show()"
   ]
  },
  {
   "cell_type": "code",
   "execution_count": 81,
   "metadata": {},
   "outputs": [
    {
     "data": {
      "text/plain": [
       "135"
      ]
     },
     "execution_count": 81,
     "metadata": {},
     "output_type": "execute_result"
    }
   ],
   "source": [
    "len(dfdivlfl)"
   ]
  },
  {
   "cell_type": "code",
   "execution_count": 37,
   "metadata": {},
   "outputs": [
    {
     "name": "stdout",
     "output_type": "stream",
     "text": [
      "Spearmans correlation coefficient: -0.505  p-value: 0.000000\n"
     ]
    }
   ],
   "source": [
    "#Use SciPy\n",
    "#The %.3f' sets the number of decimal places\n",
    "coef, p = stats.spearmanr(dfdivlfl['gini-simp'],dfdivlfl['lflperpop'])\n",
    "print('Spearmans correlation coefficient: %.3f' % coef,' p-value: %.6f' % p)"
   ]
  },
  {
   "cell_type": "markdown",
   "metadata": {},
   "source": [
    "gini-simp is moderately and negatively (-0.5) correlated with lfls per population by tract. Suggesting as diversity decreases, the number of lfls increase. n=135, df=133"
   ]
  },
  {
   "cell_type": "markdown",
   "metadata": {},
   "source": [
    "## Set up avg median income and diversity tables"
   ]
  },
  {
   "cell_type": "markdown",
   "metadata": {},
   "source": [
    "#### We manually listed what census tracts match the neighborhood boundaries (Seattle's community reporting areas) in this study.\n",
    "We also got the population by census tract from here: https://www.census.gov/geographies/reference-files/2010/geo/2010-centers-population.html (divide the six number code by 100 to get the tract number"
   ]
  },
  {
   "cell_type": "code",
   "execution_count": 83,
   "metadata": {},
   "outputs": [],
   "source": [
    "#Open census tract csv\n",
    "hoodtracts = pd.read_csv('census-tracts-neighborhoods.csv',encoding='utf-8')"
   ]
  },
  {
   "cell_type": "code",
   "execution_count": 84,
   "metadata": {},
   "outputs": [],
   "source": [
    "#Open the median data if it's not already open\n",
    "medians = pd.read_csv('seattle-census-tract-acs5-2018.csv',encoding='utf-8')"
   ]
  },
  {
   "cell_type": "code",
   "execution_count": 85,
   "metadata": {},
   "outputs": [
    {
     "data": {
      "text/html": [
       "<div>\n",
       "<style scoped>\n",
       "    .dataframe tbody tr th:only-of-type {\n",
       "        vertical-align: middle;\n",
       "    }\n",
       "\n",
       "    .dataframe tbody tr th {\n",
       "        vertical-align: top;\n",
       "    }\n",
       "\n",
       "    .dataframe thead th {\n",
       "        text-align: right;\n",
       "    }\n",
       "</style>\n",
       "<table border=\"1\" class=\"dataframe\">\n",
       "  <thead>\n",
       "    <tr style=\"text-align: right;\">\n",
       "      <th></th>\n",
       "      <th>tract</th>\n",
       "      <th>neighborhood</th>\n",
       "      <th>household_income</th>\n",
       "    </tr>\n",
       "  </thead>\n",
       "  <tbody>\n",
       "    <tr>\n",
       "      <th>0</th>\n",
       "      <td>56.0</td>\n",
       "      <td>Queen Anne</td>\n",
       "      <td>170031</td>\n",
       "    </tr>\n",
       "    <tr>\n",
       "      <th>1</th>\n",
       "      <td>60.0</td>\n",
       "      <td>Queen Anne</td>\n",
       "      <td>113670</td>\n",
       "    </tr>\n",
       "    <tr>\n",
       "      <th>2</th>\n",
       "      <td>69.0</td>\n",
       "      <td>Queen Anne</td>\n",
       "      <td>127702</td>\n",
       "    </tr>\n",
       "    <tr>\n",
       "      <th>3</th>\n",
       "      <td>68.0</td>\n",
       "      <td>Queen Anne</td>\n",
       "      <td>116111</td>\n",
       "    </tr>\n",
       "    <tr>\n",
       "      <th>4</th>\n",
       "      <td>67.0</td>\n",
       "      <td>Queen Anne</td>\n",
       "      <td>112224</td>\n",
       "    </tr>\n",
       "  </tbody>\n",
       "</table>\n",
       "</div>"
      ],
      "text/plain": [
       "   tract neighborhood  household_income\n",
       "0   56.0   Queen Anne            170031\n",
       "1   60.0   Queen Anne            113670\n",
       "2   69.0   Queen Anne            127702\n",
       "3   68.0   Queen Anne            116111\n",
       "4   67.0   Queen Anne            112224"
      ]
     },
     "execution_count": 85,
     "metadata": {},
     "output_type": "execute_result"
    }
   ],
   "source": [
    "#Merge the dataframes\n",
    "dflfl = pd.merge(hoodtracts, medians, on='tract', how='inner')\n",
    "dflfl.head()"
   ]
  },
  {
   "cell_type": "code",
   "execution_count": 86,
   "metadata": {},
   "outputs": [],
   "source": [
    "#Open the population data\n",
    "pop = pd.read_csv('pop-by-tract.csv',encoding='utf-8')"
   ]
  },
  {
   "cell_type": "code",
   "execution_count": 87,
   "metadata": {},
   "outputs": [
    {
     "data": {
      "text/html": [
       "<div>\n",
       "<style scoped>\n",
       "    .dataframe tbody tr th:only-of-type {\n",
       "        vertical-align: middle;\n",
       "    }\n",
       "\n",
       "    .dataframe tbody tr th {\n",
       "        vertical-align: top;\n",
       "    }\n",
       "\n",
       "    .dataframe thead th {\n",
       "        text-align: right;\n",
       "    }\n",
       "</style>\n",
       "<table border=\"1\" class=\"dataframe\">\n",
       "  <thead>\n",
       "    <tr style=\"text-align: right;\">\n",
       "      <th></th>\n",
       "      <th>tract</th>\n",
       "      <th>neighborhood</th>\n",
       "      <th>household_income</th>\n",
       "      <th>pop</th>\n",
       "    </tr>\n",
       "  </thead>\n",
       "  <tbody>\n",
       "    <tr>\n",
       "      <th>0</th>\n",
       "      <td>56.0</td>\n",
       "      <td>Queen Anne</td>\n",
       "      <td>170031</td>\n",
       "      <td>6954</td>\n",
       "    </tr>\n",
       "    <tr>\n",
       "      <th>1</th>\n",
       "      <td>60.0</td>\n",
       "      <td>Queen Anne</td>\n",
       "      <td>113670</td>\n",
       "      <td>5915</td>\n",
       "    </tr>\n",
       "    <tr>\n",
       "      <th>2</th>\n",
       "      <td>69.0</td>\n",
       "      <td>Queen Anne</td>\n",
       "      <td>127702</td>\n",
       "      <td>5121</td>\n",
       "    </tr>\n",
       "    <tr>\n",
       "      <th>3</th>\n",
       "      <td>68.0</td>\n",
       "      <td>Queen Anne</td>\n",
       "      <td>116111</td>\n",
       "      <td>3356</td>\n",
       "    </tr>\n",
       "    <tr>\n",
       "      <th>4</th>\n",
       "      <td>67.0</td>\n",
       "      <td>Queen Anne</td>\n",
       "      <td>112224</td>\n",
       "      <td>9508</td>\n",
       "    </tr>\n",
       "  </tbody>\n",
       "</table>\n",
       "</div>"
      ],
      "text/plain": [
       "   tract neighborhood  household_income   pop\n",
       "0   56.0   Queen Anne            170031  6954\n",
       "1   60.0   Queen Anne            113670  5915\n",
       "2   69.0   Queen Anne            127702  5121\n",
       "3   68.0   Queen Anne            116111  3356\n",
       "4   67.0   Queen Anne            112224  9508"
      ]
     },
     "execution_count": 87,
     "metadata": {},
     "output_type": "execute_result"
    }
   ],
   "source": [
    "#Merge with the population dataframe\n",
    "dflfl = pd.merge(dflfl, pop, on='tract', how='inner')\n",
    "dflfl.head()"
   ]
  },
  {
   "cell_type": "code",
   "execution_count": 88,
   "metadata": {},
   "outputs": [],
   "source": [
    "#Open census tract csv with the counts of lfls\n",
    "#I used QGIS to make a csv with the number of lfls per area for each census tract. However, sq km column may be incorrect!!!\n",
    "lflvtract = pd.read_csv('census-tracts-lfl-counts.csv',encoding='utf-8')"
   ]
  },
  {
   "cell_type": "code",
   "execution_count": 89,
   "metadata": {},
   "outputs": [
    {
     "data": {
      "text/html": [
       "<div>\n",
       "<style scoped>\n",
       "    .dataframe tbody tr th:only-of-type {\n",
       "        vertical-align: middle;\n",
       "    }\n",
       "\n",
       "    .dataframe tbody tr th {\n",
       "        vertical-align: top;\n",
       "    }\n",
       "\n",
       "    .dataframe thead th {\n",
       "        text-align: right;\n",
       "    }\n",
       "</style>\n",
       "<table border=\"1\" class=\"dataframe\">\n",
       "  <thead>\n",
       "    <tr style=\"text-align: right;\">\n",
       "      <th></th>\n",
       "      <th>tract</th>\n",
       "      <th>sqkm</th>\n",
       "      <th>numlfls</th>\n",
       "      <th>lflsperarea</th>\n",
       "      <th>neighborhood</th>\n",
       "      <th>household_income</th>\n",
       "      <th>pop</th>\n",
       "    </tr>\n",
       "  </thead>\n",
       "  <tbody>\n",
       "    <tr>\n",
       "      <th>0</th>\n",
       "      <td>25.0</td>\n",
       "      <td>984.273577</td>\n",
       "      <td>6</td>\n",
       "      <td>0.006096</td>\n",
       "      <td>Ravenna</td>\n",
       "      <td>113472</td>\n",
       "      <td>3357</td>\n",
       "    </tr>\n",
       "    <tr>\n",
       "      <th>1</th>\n",
       "      <td>26.0</td>\n",
       "      <td>1244.751088</td>\n",
       "      <td>4</td>\n",
       "      <td>0.003213</td>\n",
       "      <td>Ravenna</td>\n",
       "      <td>115000</td>\n",
       "      <td>5268</td>\n",
       "    </tr>\n",
       "    <tr>\n",
       "      <th>2</th>\n",
       "      <td>56.0</td>\n",
       "      <td>2984.606709</td>\n",
       "      <td>1</td>\n",
       "      <td>0.000335</td>\n",
       "      <td>Queen Anne</td>\n",
       "      <td>170031</td>\n",
       "      <td>6954</td>\n",
       "    </tr>\n",
       "    <tr>\n",
       "      <th>3</th>\n",
       "      <td>68.0</td>\n",
       "      <td>718.069864</td>\n",
       "      <td>10</td>\n",
       "      <td>0.013926</td>\n",
       "      <td>Queen Anne</td>\n",
       "      <td>116111</td>\n",
       "      <td>3356</td>\n",
       "    </tr>\n",
       "    <tr>\n",
       "      <th>4</th>\n",
       "      <td>60.0</td>\n",
       "      <td>1313.478957</td>\n",
       "      <td>3</td>\n",
       "      <td>0.002284</td>\n",
       "      <td>Queen Anne</td>\n",
       "      <td>113670</td>\n",
       "      <td>5915</td>\n",
       "    </tr>\n",
       "  </tbody>\n",
       "</table>\n",
       "</div>"
      ],
      "text/plain": [
       "   tract         sqkm  numlfls  lflsperarea neighborhood  household_income  \\\n",
       "0   25.0   984.273577        6     0.006096      Ravenna            113472   \n",
       "1   26.0  1244.751088        4     0.003213      Ravenna            115000   \n",
       "2   56.0  2984.606709        1     0.000335   Queen Anne            170031   \n",
       "3   68.0   718.069864       10     0.013926   Queen Anne            116111   \n",
       "4   60.0  1313.478957        3     0.002284   Queen Anne            113670   \n",
       "\n",
       "    pop  \n",
       "0  3357  \n",
       "1  5268  \n",
       "2  6954  \n",
       "3  3356  \n",
       "4  5915  "
      ]
     },
     "execution_count": 89,
     "metadata": {},
     "output_type": "execute_result"
    }
   ],
   "source": [
    "#Merge with the lfl number dataset\n",
    "dflfl = pd.merge(lflvtract, dflfl, on='tract', how='inner')\n",
    "dflfl.head()"
   ]
  },
  {
   "cell_type": "code",
   "execution_count": 90,
   "metadata": {},
   "outputs": [],
   "source": [
    "dflfl['lflperpop'] = dflfl['numlfls']/dflfl['pop']"
   ]
  },
  {
   "cell_type": "code",
   "execution_count": 91,
   "metadata": {},
   "outputs": [
    {
     "data": {
      "text/plain": [
       "33"
      ]
     },
     "execution_count": 91,
     "metadata": {},
     "output_type": "execute_result"
    }
   ],
   "source": [
    "len(dflfl)"
   ]
  },
  {
   "cell_type": "code",
   "execution_count": 118,
   "metadata": {},
   "outputs": [
    {
     "data": {
      "text/html": [
       "<div>\n",
       "<style scoped>\n",
       "    .dataframe tbody tr th:only-of-type {\n",
       "        vertical-align: middle;\n",
       "    }\n",
       "\n",
       "    .dataframe tbody tr th {\n",
       "        vertical-align: top;\n",
       "    }\n",
       "\n",
       "    .dataframe thead th {\n",
       "        text-align: right;\n",
       "    }\n",
       "</style>\n",
       "<table border=\"1\" class=\"dataframe\">\n",
       "  <thead>\n",
       "    <tr style=\"text-align: right;\">\n",
       "      <th></th>\n",
       "      <th>tract</th>\n",
       "      <th>sqkm</th>\n",
       "      <th>numlfls</th>\n",
       "      <th>lflsperarea</th>\n",
       "      <th>neighborhood</th>\n",
       "      <th>household_income</th>\n",
       "      <th>pop</th>\n",
       "      <th>lflperpop</th>\n",
       "    </tr>\n",
       "  </thead>\n",
       "  <tbody>\n",
       "    <tr>\n",
       "      <th>0</th>\n",
       "      <td>25.0</td>\n",
       "      <td>984.273577</td>\n",
       "      <td>6</td>\n",
       "      <td>0.006096</td>\n",
       "      <td>Ravenna</td>\n",
       "      <td>113472</td>\n",
       "      <td>2802</td>\n",
       "      <td>0.002141</td>\n",
       "    </tr>\n",
       "    <tr>\n",
       "      <th>1</th>\n",
       "      <td>26.0</td>\n",
       "      <td>1244.751088</td>\n",
       "      <td>4</td>\n",
       "      <td>0.003213</td>\n",
       "      <td>Ravenna</td>\n",
       "      <td>115000</td>\n",
       "      <td>4660</td>\n",
       "      <td>0.000858</td>\n",
       "    </tr>\n",
       "    <tr>\n",
       "      <th>2</th>\n",
       "      <td>56.0</td>\n",
       "      <td>2984.606709</td>\n",
       "      <td>1</td>\n",
       "      <td>0.000335</td>\n",
       "      <td>Queen Anne</td>\n",
       "      <td>170031</td>\n",
       "      <td>6382</td>\n",
       "      <td>0.000157</td>\n",
       "    </tr>\n",
       "    <tr>\n",
       "      <th>3</th>\n",
       "      <td>68.0</td>\n",
       "      <td>718.069864</td>\n",
       "      <td>10</td>\n",
       "      <td>0.013926</td>\n",
       "      <td>Queen Anne</td>\n",
       "      <td>116111</td>\n",
       "      <td>2834</td>\n",
       "      <td>0.003529</td>\n",
       "    </tr>\n",
       "    <tr>\n",
       "      <th>4</th>\n",
       "      <td>60.0</td>\n",
       "      <td>1313.478957</td>\n",
       "      <td>3</td>\n",
       "      <td>0.002284</td>\n",
       "      <td>Queen Anne</td>\n",
       "      <td>113670</td>\n",
       "      <td>5150</td>\n",
       "      <td>0.000583</td>\n",
       "    </tr>\n",
       "  </tbody>\n",
       "</table>\n",
       "</div>"
      ],
      "text/plain": [
       "   tract         sqkm  numlfls  lflsperarea neighborhood  household_income  \\\n",
       "0   25.0   984.273577        6     0.006096      Ravenna            113472   \n",
       "1   26.0  1244.751088        4     0.003213      Ravenna            115000   \n",
       "2   56.0  2984.606709        1     0.000335   Queen Anne            170031   \n",
       "3   68.0   718.069864       10     0.013926   Queen Anne            116111   \n",
       "4   60.0  1313.478957        3     0.002284   Queen Anne            113670   \n",
       "\n",
       "    pop  lflperpop  \n",
       "0  2802   0.002141  \n",
       "1  4660   0.000858  \n",
       "2  6382   0.000157  \n",
       "3  2834   0.003529  \n",
       "4  5150   0.000583  "
      ]
     },
     "execution_count": 118,
     "metadata": {},
     "output_type": "execute_result"
    }
   ],
   "source": [
    "dflfl.head()"
   ]
  },
  {
   "cell_type": "code",
   "execution_count": 119,
   "metadata": {},
   "outputs": [],
   "source": [
    "#Save file as csv\n",
    "dflfl.to_csv('census-compiled-data.csv', mode = 'w', index=False)"
   ]
  },
  {
   "cell_type": "code",
   "execution_count": 122,
   "metadata": {},
   "outputs": [
    {
     "data": {
      "text/plain": [
       "[(0, 0.005)]"
      ]
     },
     "execution_count": 122,
     "metadata": {},
     "output_type": "execute_result"
    },
    {
     "data": {
      "image/png": "[encoded data removed]",
      "text/plain": [
       "<Figure size 432x288 with 1 Axes>"
      ]
     },
     "metadata": {
      "needs_background": "light"
     },
     "output_type": "display_data"
    }
   ],
   "source": [
    "#Chart income vs lfl density for tracts in study neighborhoods\n",
    "ax = sns.scatterplot(x=\"household_income\", y=\"lflperpop\", data=dflfl)\n",
    "ax.set(ylim=(0, 0.005))"
   ]
  },
  {
   "cell_type": "markdown",
   "metadata": {},
   "source": [
    "#### I used this site for the linear regression: https://realpython.com/linear-regression-in-python/#python-packages-for-linear-regression\n",
    "\n",
    "The following is a regression only for neighborhoods in the study!"
   ]
  },
  {
   "cell_type": "code",
   "execution_count": 9,
   "metadata": {},
   "outputs": [],
   "source": [
    "from sklearn.linear_model import LinearRegression"
   ]
  },
  {
   "cell_type": "code",
   "execution_count": 11,
   "metadata": {},
   "outputs": [],
   "source": [
    "#Open the file if needed\n",
    "dflfl = pd.read_csv('census-compiled-data.csv',encoding='utf-8')"
   ]
  },
  {
   "cell_type": "code",
   "execution_count": 12,
   "metadata": {},
   "outputs": [],
   "source": [
    "x = dflfl[['household_income']]\n",
    "y = dflfl[['lflperpop']]"
   ]
  },
  {
   "cell_type": "code",
   "execution_count": 13,
   "metadata": {},
   "outputs": [
    {
     "name": "stdout",
     "output_type": "stream",
     "text": [
      "coefficient of determination: 0.12185556404062636\n",
      "intercept: [9.16328386e-05]\n",
      "slope: [[7.57601413e-09]]\n"
     ]
    }
   ],
   "source": [
    "model = LinearRegression().fit(x, y)\n",
    "r_sq = model.score(x, y)\n",
    "print('coefficient of determination:', r_sq)\n",
    "print('intercept:', model.intercept_)\n",
    "print('slope:', model.coef_)"
   ]
  },
  {
   "cell_type": "markdown",
   "metadata": {},
   "source": [
    "# Examine lfls and neighborhoods"
   ]
  },
  {
   "cell_type": "code",
   "execution_count": 8,
   "metadata": {},
   "outputs": [],
   "source": [
    "#Open the census compiled data if needed\n",
    "dflfl = pd.read_csv('census-compiled-data.csv',encoding='utf-8')"
   ]
  },
  {
   "cell_type": "code",
   "execution_count": 9,
   "metadata": {},
   "outputs": [],
   "source": [
    "dflflhood = dflfl.groupby('neighborhood').agg({'household_income': ['mean'], 'pop': ['sum'], 'numlfls':['sum']})\n",
    "# rename columns\n",
    "dflflhood.columns = ['avg-median-income', 'pop', 'numlfls']\n",
    "\n",
    "# reset index to get grouped columns back\n",
    "dflflhood = dflflhood.reset_index()"
   ]
  },
  {
   "cell_type": "code",
   "execution_count": 10,
   "metadata": {},
   "outputs": [
    {
     "data": {
      "text/html": [
       "<div>\n",
       "<style scoped>\n",
       "    .dataframe tbody tr th:only-of-type {\n",
       "        vertical-align: middle;\n",
       "    }\n",
       "\n",
       "    .dataframe tbody tr th {\n",
       "        vertical-align: top;\n",
       "    }\n",
       "\n",
       "    .dataframe thead th {\n",
       "        text-align: right;\n",
       "    }\n",
       "</style>\n",
       "<table border=\"1\" class=\"dataframe\">\n",
       "  <thead>\n",
       "    <tr style=\"text-align: right;\">\n",
       "      <th></th>\n",
       "      <th>neighborhood</th>\n",
       "      <th>avg-median-income</th>\n",
       "      <th>pop</th>\n",
       "      <th>numlfls</th>\n",
       "    </tr>\n",
       "  </thead>\n",
       "  <tbody>\n",
       "    <tr>\n",
       "      <th>0</th>\n",
       "      <td>Central District</td>\n",
       "      <td>98985.250000</td>\n",
       "      <td>16969</td>\n",
       "      <td>12</td>\n",
       "    </tr>\n",
       "    <tr>\n",
       "      <th>1</th>\n",
       "      <td>Columbia City</td>\n",
       "      <td>67992.000000</td>\n",
       "      <td>16883</td>\n",
       "      <td>9</td>\n",
       "    </tr>\n",
       "    <tr>\n",
       "      <th>2</th>\n",
       "      <td>Laurelhurst</td>\n",
       "      <td>127971.500000</td>\n",
       "      <td>10479</td>\n",
       "      <td>11</td>\n",
       "    </tr>\n",
       "    <tr>\n",
       "      <th>3</th>\n",
       "      <td>Montlake</td>\n",
       "      <td>144488.500000</td>\n",
       "      <td>8644</td>\n",
       "      <td>8</td>\n",
       "    </tr>\n",
       "    <tr>\n",
       "      <th>4</th>\n",
       "      <td>Northgate</td>\n",
       "      <td>76682.000000</td>\n",
       "      <td>14057</td>\n",
       "      <td>13</td>\n",
       "    </tr>\n",
       "    <tr>\n",
       "      <th>5</th>\n",
       "      <td>Phinney-Greenwood</td>\n",
       "      <td>96876.333333</td>\n",
       "      <td>23948</td>\n",
       "      <td>20</td>\n",
       "    </tr>\n",
       "    <tr>\n",
       "      <th>6</th>\n",
       "      <td>Queen Anne</td>\n",
       "      <td>113987.571429</td>\n",
       "      <td>35004</td>\n",
       "      <td>20</td>\n",
       "    </tr>\n",
       "    <tr>\n",
       "      <th>7</th>\n",
       "      <td>Ravenna</td>\n",
       "      <td>101129.833333</td>\n",
       "      <td>24187</td>\n",
       "      <td>24</td>\n",
       "    </tr>\n",
       "  </tbody>\n",
       "</table>\n",
       "</div>"
      ],
      "text/plain": [
       "        neighborhood  avg-median-income    pop  numlfls\n",
       "0   Central District       98985.250000  16969       12\n",
       "1      Columbia City       67992.000000  16883        9\n",
       "2        Laurelhurst      127971.500000  10479       11\n",
       "3           Montlake      144488.500000   8644        8\n",
       "4          Northgate       76682.000000  14057       13\n",
       "5  Phinney-Greenwood       96876.333333  23948       20\n",
       "6         Queen Anne      113987.571429  35004       20\n",
       "7            Ravenna      101129.833333  24187       24"
      ]
     },
     "execution_count": 10,
     "metadata": {},
     "output_type": "execute_result"
    }
   ],
   "source": [
    "dflflhood.head(8)"
   ]
  },
  {
   "cell_type": "markdown",
   "metadata": {},
   "source": [
    "#### Diversity"
   ]
  },
  {
   "cell_type": "code",
   "execution_count": 13,
   "metadata": {},
   "outputs": [],
   "source": [
    "#If necessary. Open census tract csv with the counts of lfls\n",
    "#I used QGIS to make a csv with the number of lfls per area for each census tract\n",
    "lflvtract = pd.read_csv('censustracts-neighborhoods.csv',encoding='utf-8')"
   ]
  },
  {
   "cell_type": "code",
   "execution_count": 14,
   "metadata": {},
   "outputs": [],
   "source": [
    "#open up the diversity data\n",
    "dfdiv = pd.read_csv('diversity-seattle-census-tract-acs5-2018.csv',encoding='utf-8')"
   ]
  },
  {
   "cell_type": "code",
   "execution_count": 15,
   "metadata": {},
   "outputs": [
    {
     "data": {
      "text/html": [
       "<div>\n",
       "<style scoped>\n",
       "    .dataframe tbody tr th:only-of-type {\n",
       "        vertical-align: middle;\n",
       "    }\n",
       "\n",
       "    .dataframe tbody tr th {\n",
       "        vertical-align: top;\n",
       "    }\n",
       "\n",
       "    .dataframe thead th {\n",
       "        text-align: right;\n",
       "    }\n",
       "</style>\n",
       "<table border=\"1\" class=\"dataframe\">\n",
       "  <thead>\n",
       "    <tr style=\"text-align: right;\">\n",
       "      <th></th>\n",
       "      <th>tot</th>\n",
       "      <th>wh</th>\n",
       "      <th>afam</th>\n",
       "      <th>amin</th>\n",
       "      <th>as</th>\n",
       "      <th>hw</th>\n",
       "      <th>ot</th>\n",
       "      <th>combo1</th>\n",
       "      <th>combo2</th>\n",
       "      <th>combo3</th>\n",
       "      <th>tract</th>\n",
       "      <th>neighborhood</th>\n",
       "    </tr>\n",
       "  </thead>\n",
       "  <tbody>\n",
       "    <tr>\n",
       "      <th>0</th>\n",
       "      <td>6950</td>\n",
       "      <td>4335</td>\n",
       "      <td>525</td>\n",
       "      <td>30</td>\n",
       "      <td>1286</td>\n",
       "      <td>0</td>\n",
       "      <td>381</td>\n",
       "      <td>393</td>\n",
       "      <td>33</td>\n",
       "      <td>360</td>\n",
       "      <td>12.00</td>\n",
       "      <td>Northgate</td>\n",
       "    </tr>\n",
       "    <tr>\n",
       "      <th>1</th>\n",
       "      <td>3988</td>\n",
       "      <td>2893</td>\n",
       "      <td>189</td>\n",
       "      <td>25</td>\n",
       "      <td>406</td>\n",
       "      <td>1</td>\n",
       "      <td>137</td>\n",
       "      <td>337</td>\n",
       "      <td>78</td>\n",
       "      <td>259</td>\n",
       "      <td>17.01</td>\n",
       "      <td>Phinney-Greenwood</td>\n",
       "    </tr>\n",
       "    <tr>\n",
       "      <th>2</th>\n",
       "      <td>4493</td>\n",
       "      <td>3553</td>\n",
       "      <td>81</td>\n",
       "      <td>39</td>\n",
       "      <td>405</td>\n",
       "      <td>0</td>\n",
       "      <td>83</td>\n",
       "      <td>332</td>\n",
       "      <td>8</td>\n",
       "      <td>324</td>\n",
       "      <td>17.02</td>\n",
       "      <td>Phinney-Greenwood</td>\n",
       "    </tr>\n",
       "    <tr>\n",
       "      <th>3</th>\n",
       "      <td>4789</td>\n",
       "      <td>3504</td>\n",
       "      <td>214</td>\n",
       "      <td>5</td>\n",
       "      <td>805</td>\n",
       "      <td>12</td>\n",
       "      <td>35</td>\n",
       "      <td>214</td>\n",
       "      <td>15</td>\n",
       "      <td>199</td>\n",
       "      <td>19.00</td>\n",
       "      <td>Northgate</td>\n",
       "    </tr>\n",
       "    <tr>\n",
       "      <th>4</th>\n",
       "      <td>3647</td>\n",
       "      <td>3120</td>\n",
       "      <td>5</td>\n",
       "      <td>0</td>\n",
       "      <td>298</td>\n",
       "      <td>0</td>\n",
       "      <td>65</td>\n",
       "      <td>159</td>\n",
       "      <td>0</td>\n",
       "      <td>159</td>\n",
       "      <td>20.00</td>\n",
       "      <td>Northgate</td>\n",
       "    </tr>\n",
       "  </tbody>\n",
       "</table>\n",
       "</div>"
      ],
      "text/plain": [
       "    tot    wh  afam  amin    as  hw   ot  combo1  combo2  combo3  tract  \\\n",
       "0  6950  4335   525    30  1286   0  381     393      33     360  12.00   \n",
       "1  3988  2893   189    25   406   1  137     337      78     259  17.01   \n",
       "2  4493  3553    81    39   405   0   83     332       8     324  17.02   \n",
       "3  4789  3504   214     5   805  12   35     214      15     199  19.00   \n",
       "4  3647  3120     5     0   298   0   65     159       0     159  20.00   \n",
       "\n",
       "        neighborhood  \n",
       "0          Northgate  \n",
       "1  Phinney-Greenwood  \n",
       "2  Phinney-Greenwood  \n",
       "3          Northgate  \n",
       "4          Northgate  "
      ]
     },
     "execution_count": 15,
     "metadata": {},
     "output_type": "execute_result"
    }
   ],
   "source": [
    "#Merge with the lfl number dataset\n",
    "dflfldiv = pd.merge(dfdiv, lflvtract, on='tract', how='inner')\n",
    "dflfldiv = dflfldiv.drop(columns=['simpsons','gini-simp'])\n",
    "dflfldiv.head()"
   ]
  },
  {
   "cell_type": "code",
   "execution_count": 16,
   "metadata": {},
   "outputs": [],
   "source": [
    "dflfldiv = dflfldiv.groupby('neighborhood').agg({'tot': ['sum'], 'wh': ['sum'], 'afam':['sum'], 'amin':['sum'], 'as':['sum'], 'hw':['sum'], 'ot':['sum'], 'combo1':['sum'], 'combo2':['sum'], 'combo3':['sum']})\n",
    "# rename columns\n",
    "dflfldiv.columns = ['tot', 'wh', 'afam', 'amin', 'as', 'hw', 'ot', 'combo1', 'combo2', 'combo3']\n",
    "\n",
    "# reset index to get grouped columns back\n",
    "dflfldiv = dflfldiv.reset_index()"
   ]
  },
  {
   "cell_type": "code",
   "execution_count": 17,
   "metadata": {},
   "outputs": [
    {
     "data": {
      "text/html": [
       "<div>\n",
       "<style scoped>\n",
       "    .dataframe tbody tr th:only-of-type {\n",
       "        vertical-align: middle;\n",
       "    }\n",
       "\n",
       "    .dataframe tbody tr th {\n",
       "        vertical-align: top;\n",
       "    }\n",
       "\n",
       "    .dataframe thead th {\n",
       "        text-align: right;\n",
       "    }\n",
       "</style>\n",
       "<table border=\"1\" class=\"dataframe\">\n",
       "  <thead>\n",
       "    <tr style=\"text-align: right;\">\n",
       "      <th></th>\n",
       "      <th>neighborhood</th>\n",
       "      <th>tot</th>\n",
       "      <th>wh</th>\n",
       "      <th>afam</th>\n",
       "      <th>amin</th>\n",
       "      <th>as</th>\n",
       "      <th>hw</th>\n",
       "      <th>ot</th>\n",
       "      <th>combo1</th>\n",
       "      <th>combo2</th>\n",
       "      <th>combo3</th>\n",
       "    </tr>\n",
       "  </thead>\n",
       "  <tbody>\n",
       "    <tr>\n",
       "      <th>0</th>\n",
       "      <td>Central District</td>\n",
       "      <td>19498</td>\n",
       "      <td>13757</td>\n",
       "      <td>2675</td>\n",
       "      <td>134</td>\n",
       "      <td>1193</td>\n",
       "      <td>173</td>\n",
       "      <td>513</td>\n",
       "      <td>1053</td>\n",
       "      <td>38</td>\n",
       "      <td>1015</td>\n",
       "    </tr>\n",
       "    <tr>\n",
       "      <th>1</th>\n",
       "      <td>Columbia City</td>\n",
       "      <td>18983</td>\n",
       "      <td>6999</td>\n",
       "      <td>5152</td>\n",
       "      <td>159</td>\n",
       "      <td>4960</td>\n",
       "      <td>86</td>\n",
       "      <td>169</td>\n",
       "      <td>1458</td>\n",
       "      <td>0</td>\n",
       "      <td>1458</td>\n",
       "    </tr>\n",
       "    <tr>\n",
       "      <th>2</th>\n",
       "      <td>Laurelhurst</td>\n",
       "      <td>11010</td>\n",
       "      <td>8882</td>\n",
       "      <td>303</td>\n",
       "      <td>0</td>\n",
       "      <td>1289</td>\n",
       "      <td>13</td>\n",
       "      <td>45</td>\n",
       "      <td>478</td>\n",
       "      <td>0</td>\n",
       "      <td>478</td>\n",
       "    </tr>\n",
       "    <tr>\n",
       "      <th>3</th>\n",
       "      <td>Montlake</td>\n",
       "      <td>9546</td>\n",
       "      <td>8048</td>\n",
       "      <td>109</td>\n",
       "      <td>36</td>\n",
       "      <td>763</td>\n",
       "      <td>38</td>\n",
       "      <td>91</td>\n",
       "      <td>461</td>\n",
       "      <td>60</td>\n",
       "      <td>401</td>\n",
       "    </tr>\n",
       "    <tr>\n",
       "      <th>4</th>\n",
       "      <td>Northgate</td>\n",
       "      <td>15386</td>\n",
       "      <td>10959</td>\n",
       "      <td>744</td>\n",
       "      <td>35</td>\n",
       "      <td>2389</td>\n",
       "      <td>12</td>\n",
       "      <td>481</td>\n",
       "      <td>766</td>\n",
       "      <td>48</td>\n",
       "      <td>718</td>\n",
       "    </tr>\n",
       "    <tr>\n",
       "      <th>5</th>\n",
       "      <td>Phinney-Greenwood</td>\n",
       "      <td>25401</td>\n",
       "      <td>21431</td>\n",
       "      <td>424</td>\n",
       "      <td>85</td>\n",
       "      <td>1668</td>\n",
       "      <td>14</td>\n",
       "      <td>310</td>\n",
       "      <td>1469</td>\n",
       "      <td>94</td>\n",
       "      <td>1375</td>\n",
       "    </tr>\n",
       "    <tr>\n",
       "      <th>6</th>\n",
       "      <td>Queen Anne</td>\n",
       "      <td>39723</td>\n",
       "      <td>32290</td>\n",
       "      <td>350</td>\n",
       "      <td>182</td>\n",
       "      <td>4072</td>\n",
       "      <td>60</td>\n",
       "      <td>486</td>\n",
       "      <td>2283</td>\n",
       "      <td>187</td>\n",
       "      <td>2096</td>\n",
       "    </tr>\n",
       "    <tr>\n",
       "      <th>7</th>\n",
       "      <td>Ravenna</td>\n",
       "      <td>25957</td>\n",
       "      <td>20587</td>\n",
       "      <td>376</td>\n",
       "      <td>58</td>\n",
       "      <td>3135</td>\n",
       "      <td>98</td>\n",
       "      <td>298</td>\n",
       "      <td>1405</td>\n",
       "      <td>85</td>\n",
       "      <td>1320</td>\n",
       "    </tr>\n",
       "  </tbody>\n",
       "</table>\n",
       "</div>"
      ],
      "text/plain": [
       "        neighborhood    tot     wh  afam  amin    as   hw   ot  combo1  \\\n",
       "0   Central District  19498  13757  2675   134  1193  173  513    1053   \n",
       "1      Columbia City  18983   6999  5152   159  4960   86  169    1458   \n",
       "2        Laurelhurst  11010   8882   303     0  1289   13   45     478   \n",
       "3           Montlake   9546   8048   109    36   763   38   91     461   \n",
       "4          Northgate  15386  10959   744    35  2389   12  481     766   \n",
       "5  Phinney-Greenwood  25401  21431   424    85  1668   14  310    1469   \n",
       "6         Queen Anne  39723  32290   350   182  4072   60  486    2283   \n",
       "7            Ravenna  25957  20587   376    58  3135   98  298    1405   \n",
       "\n",
       "   combo2  combo3  \n",
       "0      38    1015  \n",
       "1       0    1458  \n",
       "2       0     478  \n",
       "3      60     401  \n",
       "4      48     718  \n",
       "5      94    1375  \n",
       "6     187    2096  \n",
       "7      85    1320  "
      ]
     },
     "execution_count": 17,
     "metadata": {},
     "output_type": "execute_result"
    }
   ],
   "source": [
    "dflfldiv.head(8)"
   ]
  },
  {
   "cell_type": "code",
   "execution_count": 18,
   "metadata": {},
   "outputs": [
    {
     "data": {
      "text/html": [
       "<div>\n",
       "<style scoped>\n",
       "    .dataframe tbody tr th:only-of-type {\n",
       "        vertical-align: middle;\n",
       "    }\n",
       "\n",
       "    .dataframe tbody tr th {\n",
       "        vertical-align: top;\n",
       "    }\n",
       "\n",
       "    .dataframe thead th {\n",
       "        text-align: right;\n",
       "    }\n",
       "</style>\n",
       "<table border=\"1\" class=\"dataframe\">\n",
       "  <thead>\n",
       "    <tr style=\"text-align: right;\">\n",
       "      <th></th>\n",
       "      <th>neighborhood</th>\n",
       "      <th>tot</th>\n",
       "      <th>wh</th>\n",
       "      <th>afam</th>\n",
       "      <th>amin</th>\n",
       "      <th>as</th>\n",
       "      <th>hw</th>\n",
       "      <th>ot</th>\n",
       "      <th>combo1</th>\n",
       "      <th>combo2</th>\n",
       "      <th>combo3</th>\n",
       "      <th>simpsons</th>\n",
       "      <th>gini-simp</th>\n",
       "    </tr>\n",
       "  </thead>\n",
       "  <tbody>\n",
       "    <tr>\n",
       "      <th>0</th>\n",
       "      <td>Central District</td>\n",
       "      <td>19498</td>\n",
       "      <td>13757</td>\n",
       "      <td>2675</td>\n",
       "      <td>134</td>\n",
       "      <td>1193</td>\n",
       "      <td>173</td>\n",
       "      <td>513</td>\n",
       "      <td>1053</td>\n",
       "      <td>38</td>\n",
       "      <td>1015</td>\n",
       "      <td>0.526829</td>\n",
       "      <td>0.473171</td>\n",
       "    </tr>\n",
       "    <tr>\n",
       "      <th>1</th>\n",
       "      <td>Columbia City</td>\n",
       "      <td>18983</td>\n",
       "      <td>6999</td>\n",
       "      <td>5152</td>\n",
       "      <td>159</td>\n",
       "      <td>4960</td>\n",
       "      <td>86</td>\n",
       "      <td>169</td>\n",
       "      <td>1458</td>\n",
       "      <td>0</td>\n",
       "      <td>1458</td>\n",
       "      <td>0.289836</td>\n",
       "      <td>0.710164</td>\n",
       "    </tr>\n",
       "    <tr>\n",
       "      <th>2</th>\n",
       "      <td>Laurelhurst</td>\n",
       "      <td>11010</td>\n",
       "      <td>8882</td>\n",
       "      <td>303</td>\n",
       "      <td>0</td>\n",
       "      <td>1289</td>\n",
       "      <td>13</td>\n",
       "      <td>45</td>\n",
       "      <td>478</td>\n",
       "      <td>0</td>\n",
       "      <td>478</td>\n",
       "      <td>0.669051</td>\n",
       "      <td>0.330949</td>\n",
       "    </tr>\n",
       "    <tr>\n",
       "      <th>3</th>\n",
       "      <td>Montlake</td>\n",
       "      <td>9546</td>\n",
       "      <td>8048</td>\n",
       "      <td>109</td>\n",
       "      <td>36</td>\n",
       "      <td>763</td>\n",
       "      <td>38</td>\n",
       "      <td>91</td>\n",
       "      <td>461</td>\n",
       "      <td>60</td>\n",
       "      <td>401</td>\n",
       "      <td>0.721553</td>\n",
       "      <td>0.278447</td>\n",
       "    </tr>\n",
       "    <tr>\n",
       "      <th>4</th>\n",
       "      <td>Northgate</td>\n",
       "      <td>15386</td>\n",
       "      <td>10959</td>\n",
       "      <td>744</td>\n",
       "      <td>35</td>\n",
       "      <td>2389</td>\n",
       "      <td>12</td>\n",
       "      <td>481</td>\n",
       "      <td>766</td>\n",
       "      <td>48</td>\n",
       "      <td>718</td>\n",
       "      <td>0.539426</td>\n",
       "      <td>0.460574</td>\n",
       "    </tr>\n",
       "    <tr>\n",
       "      <th>5</th>\n",
       "      <td>Phinney-Greenwood</td>\n",
       "      <td>25401</td>\n",
       "      <td>21431</td>\n",
       "      <td>424</td>\n",
       "      <td>85</td>\n",
       "      <td>1668</td>\n",
       "      <td>14</td>\n",
       "      <td>310</td>\n",
       "      <td>1469</td>\n",
       "      <td>94</td>\n",
       "      <td>1375</td>\n",
       "      <td>0.722881</td>\n",
       "      <td>0.277119</td>\n",
       "    </tr>\n",
       "    <tr>\n",
       "      <th>6</th>\n",
       "      <td>Queen Anne</td>\n",
       "      <td>39723</td>\n",
       "      <td>32290</td>\n",
       "      <td>350</td>\n",
       "      <td>182</td>\n",
       "      <td>4072</td>\n",
       "      <td>60</td>\n",
       "      <td>486</td>\n",
       "      <td>2283</td>\n",
       "      <td>187</td>\n",
       "      <td>2096</td>\n",
       "      <td>0.677641</td>\n",
       "      <td>0.322359</td>\n",
       "    </tr>\n",
       "    <tr>\n",
       "      <th>7</th>\n",
       "      <td>Ravenna</td>\n",
       "      <td>25957</td>\n",
       "      <td>20587</td>\n",
       "      <td>376</td>\n",
       "      <td>58</td>\n",
       "      <td>3135</td>\n",
       "      <td>98</td>\n",
       "      <td>298</td>\n",
       "      <td>1405</td>\n",
       "      <td>85</td>\n",
       "      <td>1320</td>\n",
       "      <td>0.649513</td>\n",
       "      <td>0.350487</td>\n",
       "    </tr>\n",
       "  </tbody>\n",
       "</table>\n",
       "</div>"
      ],
      "text/plain": [
       "        neighborhood    tot     wh  afam  amin    as   hw   ot  combo1  \\\n",
       "0   Central District  19498  13757  2675   134  1193  173  513    1053   \n",
       "1      Columbia City  18983   6999  5152   159  4960   86  169    1458   \n",
       "2        Laurelhurst  11010   8882   303     0  1289   13   45     478   \n",
       "3           Montlake   9546   8048   109    36   763   38   91     461   \n",
       "4          Northgate  15386  10959   744    35  2389   12  481     766   \n",
       "5  Phinney-Greenwood  25401  21431   424    85  1668   14  310    1469   \n",
       "6         Queen Anne  39723  32290   350   182  4072   60  486    2283   \n",
       "7            Ravenna  25957  20587   376    58  3135   98  298    1405   \n",
       "\n",
       "   combo2  combo3  simpsons  gini-simp  \n",
       "0      38    1015  0.526829   0.473171  \n",
       "1       0    1458  0.289836   0.710164  \n",
       "2       0     478  0.669051   0.330949  \n",
       "3      60     401  0.721553   0.278447  \n",
       "4      48     718  0.539426   0.460574  \n",
       "5      94    1375  0.722881   0.277119  \n",
       "6     187    2096  0.677641   0.322359  \n",
       "7      85    1320  0.649513   0.350487  "
      ]
     },
     "execution_count": 18,
     "metadata": {},
     "output_type": "execute_result"
    }
   ],
   "source": [
    "#Calculate Simpsons and gini\n",
    "def simpsons(row):\n",
    "    return (row['wh'] / row['tot'])**2 + (row['afam'] / row['tot'])**2 + (row['amin'] / row['tot'])**2 + (row['as'] / row['tot'])**2 + (row['hw'] / row['tot'])**2 + (row['ot'] / row['tot'])**2 + (row['combo1'] / row['tot'])**2 + (row['combo2'] / row['tot'])**2 + (row['combo3'] / row['tot'])**2\n",
    "\n",
    "dflfldiv['simpsons'] = dflfldiv.apply(simpsons, axis=1)\n",
    "dflfldiv['gini-simp'] = 1 - dflfldiv['simpsons']\n",
    "dflfldiv.head(8)"
   ]
  },
  {
   "cell_type": "code",
   "execution_count": 19,
   "metadata": {},
   "outputs": [],
   "source": [
    "#Save file as csv\n",
    "dflfldiv.to_csv('census-lflhood-compiled-data.csv', mode = 'w', index=False)"
   ]
  },
  {
   "cell_type": "code",
   "execution_count": 20,
   "metadata": {},
   "outputs": [
    {
     "data": {
      "text/html": [
       "<div>\n",
       "<style scoped>\n",
       "    .dataframe tbody tr th:only-of-type {\n",
       "        vertical-align: middle;\n",
       "    }\n",
       "\n",
       "    .dataframe tbody tr th {\n",
       "        vertical-align: top;\n",
       "    }\n",
       "\n",
       "    .dataframe thead th {\n",
       "        text-align: right;\n",
       "    }\n",
       "</style>\n",
       "<table border=\"1\" class=\"dataframe\">\n",
       "  <thead>\n",
       "    <tr style=\"text-align: right;\">\n",
       "      <th></th>\n",
       "      <th>neighborhood</th>\n",
       "      <th>avg-median-income</th>\n",
       "      <th>pop</th>\n",
       "      <th>numlfls</th>\n",
       "      <th>tot</th>\n",
       "      <th>wh</th>\n",
       "      <th>afam</th>\n",
       "      <th>amin</th>\n",
       "      <th>as</th>\n",
       "      <th>hw</th>\n",
       "      <th>ot</th>\n",
       "      <th>combo1</th>\n",
       "      <th>combo2</th>\n",
       "      <th>combo3</th>\n",
       "      <th>simpsons</th>\n",
       "      <th>gini-simp</th>\n",
       "    </tr>\n",
       "  </thead>\n",
       "  <tbody>\n",
       "    <tr>\n",
       "      <th>0</th>\n",
       "      <td>Central District</td>\n",
       "      <td>98985.25</td>\n",
       "      <td>16969</td>\n",
       "      <td>12</td>\n",
       "      <td>19498</td>\n",
       "      <td>13757</td>\n",
       "      <td>2675</td>\n",
       "      <td>134</td>\n",
       "      <td>1193</td>\n",
       "      <td>173</td>\n",
       "      <td>513</td>\n",
       "      <td>1053</td>\n",
       "      <td>38</td>\n",
       "      <td>1015</td>\n",
       "      <td>0.526829</td>\n",
       "      <td>0.473171</td>\n",
       "    </tr>\n",
       "    <tr>\n",
       "      <th>1</th>\n",
       "      <td>Columbia City</td>\n",
       "      <td>67992.00</td>\n",
       "      <td>16883</td>\n",
       "      <td>9</td>\n",
       "      <td>18983</td>\n",
       "      <td>6999</td>\n",
       "      <td>5152</td>\n",
       "      <td>159</td>\n",
       "      <td>4960</td>\n",
       "      <td>86</td>\n",
       "      <td>169</td>\n",
       "      <td>1458</td>\n",
       "      <td>0</td>\n",
       "      <td>1458</td>\n",
       "      <td>0.289836</td>\n",
       "      <td>0.710164</td>\n",
       "    </tr>\n",
       "    <tr>\n",
       "      <th>2</th>\n",
       "      <td>Laurelhurst</td>\n",
       "      <td>127971.50</td>\n",
       "      <td>10479</td>\n",
       "      <td>11</td>\n",
       "      <td>11010</td>\n",
       "      <td>8882</td>\n",
       "      <td>303</td>\n",
       "      <td>0</td>\n",
       "      <td>1289</td>\n",
       "      <td>13</td>\n",
       "      <td>45</td>\n",
       "      <td>478</td>\n",
       "      <td>0</td>\n",
       "      <td>478</td>\n",
       "      <td>0.669051</td>\n",
       "      <td>0.330949</td>\n",
       "    </tr>\n",
       "    <tr>\n",
       "      <th>3</th>\n",
       "      <td>Montlake</td>\n",
       "      <td>144488.50</td>\n",
       "      <td>8644</td>\n",
       "      <td>8</td>\n",
       "      <td>9546</td>\n",
       "      <td>8048</td>\n",
       "      <td>109</td>\n",
       "      <td>36</td>\n",
       "      <td>763</td>\n",
       "      <td>38</td>\n",
       "      <td>91</td>\n",
       "      <td>461</td>\n",
       "      <td>60</td>\n",
       "      <td>401</td>\n",
       "      <td>0.721553</td>\n",
       "      <td>0.278447</td>\n",
       "    </tr>\n",
       "    <tr>\n",
       "      <th>4</th>\n",
       "      <td>Northgate</td>\n",
       "      <td>76682.00</td>\n",
       "      <td>14057</td>\n",
       "      <td>13</td>\n",
       "      <td>15386</td>\n",
       "      <td>10959</td>\n",
       "      <td>744</td>\n",
       "      <td>35</td>\n",
       "      <td>2389</td>\n",
       "      <td>12</td>\n",
       "      <td>481</td>\n",
       "      <td>766</td>\n",
       "      <td>48</td>\n",
       "      <td>718</td>\n",
       "      <td>0.539426</td>\n",
       "      <td>0.460574</td>\n",
       "    </tr>\n",
       "  </tbody>\n",
       "</table>\n",
       "</div>"
      ],
      "text/plain": [
       "       neighborhood  avg-median-income    pop  numlfls    tot     wh  afam  \\\n",
       "0  Central District           98985.25  16969       12  19498  13757  2675   \n",
       "1     Columbia City           67992.00  16883        9  18983   6999  5152   \n",
       "2       Laurelhurst          127971.50  10479       11  11010   8882   303   \n",
       "3          Montlake          144488.50   8644        8   9546   8048   109   \n",
       "4         Northgate           76682.00  14057       13  15386  10959   744   \n",
       "\n",
       "   amin    as   hw   ot  combo1  combo2  combo3  simpsons  gini-simp  \n",
       "0   134  1193  173  513    1053      38    1015  0.526829   0.473171  \n",
       "1   159  4960   86  169    1458       0    1458  0.289836   0.710164  \n",
       "2     0  1289   13   45     478       0     478  0.669051   0.330949  \n",
       "3    36   763   38   91     461      60     401  0.721553   0.278447  \n",
       "4    35  2389   12  481     766      48     718  0.539426   0.460574  "
      ]
     },
     "execution_count": 20,
     "metadata": {},
     "output_type": "execute_result"
    }
   ],
   "source": [
    "#Merge diversity and income tables\n",
    "dfsocioecon = pd.merge(dflflhood, dflfldiv, on='neighborhood', how='inner')\n",
    "dfsocioecon.head()"
   ]
  },
  {
   "cell_type": "code",
   "execution_count": 21,
   "metadata": {},
   "outputs": [],
   "source": [
    "#Save file\n",
    "dfsocioecon.to_csv('socioeconomic-by-neighborhood.csv', mode = 'w', index=False)"
   ]
  },
  {
   "cell_type": "code",
   "execution_count": null,
   "metadata": {},
   "outputs": [],
   "source": []
  }
 ],
 "metadata": {
  "kernelspec": {
   "display_name": "Python 3",
   "language": "python",
   "name": "python3"
  },
  "language_info": {
   "codemirror_mode": {
    "name": "ipython",
    "version": 3
   },
   "file_extension": ".py",
   "mimetype": "text/x-python",
   "name": "python",
   "nbconvert_exporter": "python",
   "pygments_lexer": "ipython3",
   "version": "3.9.1"
  }
 },
 "nbformat": 4,
 "nbformat_minor": 2
}
