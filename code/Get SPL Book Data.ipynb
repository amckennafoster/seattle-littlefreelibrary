{
 "cells": [
  {
   "cell_type": "code",
   "execution_count": 1,
   "metadata": {},
   "outputs": [],
   "source": [
    "#import the required libraries\n",
    "import os\n",
    "import csv\n",
    "import requests\n",
    "import json as json\n",
    "import pandas as pd\n",
    "from pandas.io.json import json_normalize\n",
    "import datetime\n",
    "import numpy as np\n",
    "import matplotlib.pyplot as plt\n",
    "from matplotlib import cm\n",
    "import seaborn as sns\n"
   ]
  },
  {
   "cell_type": "code",
   "execution_count": null,
   "metadata": {},
   "outputs": [],
   "source": [
    "#Counts the number of books from 11/1/2019. Over 1.4 million\n",
    "https://data.seattle.gov/resource/6vkj-f5xf.json?$select=count(BibNum)&reportdate=2019-11-01T00:00:00.000\n",
    "#get list of neighborhoods\n",
    "https://data.seattle.gov/resource/6vkj-f5xf.json?$query=select distinct ItemLocation\n",
    "#See number by a neightborhood\n",
    "https://data.seattle.gov/resource/6vkj-f5xf.json?$select=count(BibNum)&ItemLocation=cen\n",
    "#I think we need: col, mon, qna, GWD or gwd? (I think gwd), nga, uni AND net, mgm (Madrona Sally Goaldman for central).\n",
    "#None in Laurelhusrt\n",
    "#This returns counts by location:\n",
    "https://data.seattle.gov/resource/6vkj-f5xf.json?$select=ItemLocation,count(BibNum)&$group=ItemLocation\n",
    "\n",
    "#Not sure if this works    \n",
    "https://data.seattle.gov/resource/6vkj-f5xf.json?$query=select count(BibNum) where ItemLocation=col OR ItemLocation=mon\n",
    "    \n",
    "    "
   ]
  },
  {
   "cell_type": "markdown",
   "metadata": {},
   "source": [
    "## Open json file"
   ]
  },
  {
   "cell_type": "code",
   "execution_count": 5,
   "metadata": {},
   "outputs": [],
   "source": [
    "#Open up the same file for reading\n",
    "with open(\"SPL-bibCOUNTS-2019-12-07.json\", \"r\") as read_file: #Replace this with the filename of your choice\n",
    "    j = json.load(read_file)\n",
    "count=len(d)"
   ]
  },
  {
   "cell_type": "markdown",
   "metadata": {},
   "source": [
    "## Get the number of books in branches\n",
    "col, mon, qna, GWD or gwd? (I think gwd), nga, uni AND net, mgm (Madrona Sally Goaldman for central).\n",
    "None in Laurelhusrt"
   ]
  },
  {
   "cell_type": "code",
   "execution_count": 19,
   "metadata": {},
   "outputs": [],
   "source": [
    "#This gets the recent ones\n",
    "r=requests.get('https://data.seattle.gov/resource/6vkj-f5xf.json?$select=ItemLocation,count(BibNum)&$where=reportdate=\"2019-12-01T00:00:00.000\"&$group=ItemLocation') #build string according to SOCRATA's convention to get public data assets\n",
    "#THis one gets all:\n",
    "#r=requests.get('https://data.seattle.gov/resource/6vkj-f5xf.json?$select=ItemLocation,count(BibNum)&$group=ItemLocation') #build string according to SOCRATA's convention to get public data assets\n",
    "j=json.loads(r.text) #parse the json into a list named j"
   ]
  },
  {
   "cell_type": "markdown",
   "metadata": {},
   "source": [
    "## Save the json file"
   ]
  },
  {
   "cell_type": "code",
   "execution_count": 20,
   "metadata": {},
   "outputs": [],
   "source": [
    "#j[0] #view the first record\n",
    "with open('SPL-bibCOUNTS-'+str(datetime.datetime.now().strftime(\"%Y-%m-%d\"))+'.json', \"w\") as write_file:\n",
    "    json.dump(j, write_file)\n",
    "d = j\n",
    "count = len(d)"
   ]
  },
  {
   "cell_type": "markdown",
   "metadata": {},
   "source": [
    "## Get the count of books in your branches\n",
    "The variable is totalbooks"
   ]
  },
  {
   "cell_type": "code",
   "execution_count": 21,
   "metadata": {},
   "outputs": [
    {
     "name": "stdout",
     "output_type": "stream",
     "text": [
      "List built: 8 elements\n"
     ]
    }
   ],
   "source": [
    "#col, mon, qna, GWD or gwd? (I think gwd), nga, uni AND net, mgm\n",
    "d = j #create a json file to mess with\n",
    "\n",
    "branches=[] #dim list as a empty list\n",
    "\n",
    "for c in d:  #d is the dictionary of parsed json\n",
    "        if c['ItemLocation']=='col':\n",
    "            branches.append(c['count_BibNum'])\n",
    "        if c['ItemLocation']=='mon':\n",
    "            branches.append(c['count_BibNum'])\n",
    "        if c['ItemLocation']=='qna':\n",
    "            branches.append(c['count_BibNum'])\n",
    "        if c['ItemLocation']=='gwd':\n",
    "            branches.append(c['count_BibNum'])\n",
    "        if c['ItemLocation']=='nga':\n",
    "            branches.append(c['count_BibNum'])\n",
    "        if c['ItemLocation']=='uni':\n",
    "            branches.append(c['count_BibNum'])\n",
    "        if c['ItemLocation']=='net':\n",
    "            branches.append(c['count_BibNum'])\n",
    "        if c['ItemLocation']=='mgm':\n",
    "            branches.append(c['count_BibNum'])\n",
    "\n",
    "print(\"List built:\", len(branches),\"elements\") #print how many elements are in dtlist"
   ]
  },
  {
   "cell_type": "code",
   "execution_count": 22,
   "metadata": {},
   "outputs": [
    {
     "data": {
      "text/plain": [
       "0    33865\n",
       "1    51887\n",
       "2    10416\n",
       "3    16389\n",
       "4    61275\n",
       "5    33788\n",
       "6    23810\n",
       "7    29451\n",
       "Name: bibcount, dtype: int64"
      ]
     },
     "execution_count": 22,
     "metadata": {},
     "output_type": "execute_result"
    }
   ],
   "source": [
    "#Convert the dictionary to a dataframe\n",
    "bibcts = pd.DataFrame(branches, columns=['bibcount'])\n",
    "bibcts = pd.to_numeric(bibcts['bibcount'])\n",
    "bibcts.head(10)"
   ]
  },
  {
   "cell_type": "code",
   "execution_count": 23,
   "metadata": {},
   "outputs": [
    {
     "data": {
      "text/plain": [
       "260881"
      ]
     },
     "execution_count": 23,
     "metadata": {},
     "output_type": "execute_result"
    }
   ],
   "source": [
    "totalbooks=bibcts.sum()\n",
    "totalbooks"
   ]
  },
  {
   "cell_type": "markdown",
   "metadata": {},
   "source": [
    "# Retrieve Recent Records"
   ]
  },
  {
   "cell_type": "markdown",
   "metadata": {},
   "source": [
    "## Open previous json"
   ]
  },
  {
   "cell_type": "code",
   "execution_count": 27,
   "metadata": {},
   "outputs": [],
   "source": [
    "#Open up the  for reading\n",
    "with open(\"SPL-Data-2019-12-07.json\", \"r\") as read_file: #Replace this with the filename of your choice\n",
    "    l = json.load(read_file)\n",
    "count=len(l)\n",
    "count"
   ]
  },
  {
   "cell_type": "markdown",
   "metadata": {},
   "source": [
    "## Collect the data"
   ]
  },
  {
   "cell_type": "code",
   "execution_count": 24,
   "metadata": {},
   "outputs": [],
   "source": [
    "#col, mon, qna, GWD or gwd? (I think gwd), nga, uni AND net, mgm\n",
    "#This works in browser: https://data.seattle.gov/resource/6vkj-f5xf.json?$where=ItemLocation= 'col' or ItemLocation='mon' or ItemLocation='qna' or ItemLocation='gwd' or ItemLocation='mgm' or ItemLocation='nga' or ItemLocation='uni' or ItemLocation='net' and reportdate='2019-11-01T00:00:00.000'&$limit=\n",
    "#This gets the recent ones\n",
    "s=requests.get('https://data.seattle.gov/resource/6vkj-f5xf.json?$where=ItemLocation= \"col\" or ItemLocation=\"mon\" or ItemLocation=\"qna\" or ItemLocation=\"gwd\" or ItemLocation=\"mgm\" or ItemLocation=\"nga\" or ItemLocation=\"uni\" or ItemLocation=\"net\"and reportdate=\"2019-12-01T00:00:00.000\"&$limit='+str(totalbooks)) #build string according to SOCRATA's convention to get public data assets\n",
    "#THis one gets all:\n",
    "#r=requests.get('https://data.seattle.gov/resource/6vkj-f5xf.json?$select=ItemLocation,count(BibNum)&$group=ItemLocation') #build string according to SOCRATA's convention to get public data assets\n",
    "l=json.loads(s.text) #parse the json into a list named j"
   ]
  },
  {
   "cell_type": "markdown",
   "metadata": {},
   "source": [
    "## Save the json file"
   ]
  },
  {
   "cell_type": "code",
   "execution_count": 26,
   "metadata": {},
   "outputs": [],
   "source": [
    "with open('SPL-Data-'+str(datetime.datetime.now().strftime(\"%Y-%m-%d\"))+'.json', \"w\") as write_file:\n",
    "    json.dump(l, write_file)\n",
    "\n",
    "count = len(l)\n",
    "count"
   ]
  },
  {
   "cell_type": "code",
   "execution_count": 22,
   "metadata": {},
   "outputs": [
    {
     "data": {
      "text/plain": [
       "[{'bibnum': '3170898',\n",
       "  'title': 'Baseball world series / Matt Christopher.',\n",
       "  'author': 'Christopher, Matt, 1917-1997',\n",
       "  'isbn': '0316220469, 9780316220460',\n",
       "  'publicationyear': '2014.',\n",
       "  'publisher': 'Little, Brown and Company,',\n",
       "  'subjects': 'Little League World Series Baseball Juvenile fiction, Baseball Fiction, Cousins Juvenile fiction, Friendship Juvenile fiction',\n",
       "  'itemtype': 'jcbk',\n",
       "  'itemcollection': 'ncfic',\n",
       "  'floatingitem': 'NA',\n",
       "  'itemlocation': 'gwd',\n",
       "  'reportdate': '2019-12-01T00:00:00.000',\n",
       "  'itemcount': '1'},\n",
       " {'bibnum': '1969431',\n",
       "  'title': 'Spot can count / Eric Hill.',\n",
       "  'author': 'Hill, Eric, 1927-2014',\n",
       "  'isbn': '0399234543',\n",
       "  'publicationyear': '[1999]',\n",
       "  'publisher': \"G.P. Putnam's Sons,\",\n",
       "  'subjects': 'Dogs Fiction, Domestic animals Juvenile fiction, Counting Fiction, Toy and movable books Juvenile fiction',\n",
       "  'itemtype': 'jcbk',\n",
       "  'itemcollection': 'ncspec',\n",
       "  'floatingitem': 'NA',\n",
       "  'itemlocation': 'nga',\n",
       "  'reportdate': '2019-12-01T00:00:00.000',\n",
       "  'itemcount': '1'},\n",
       " {'bibnum': '2400278',\n",
       "  'title': 'Vanishing Seattle / Clark Humphrey.',\n",
       "  'author': 'Humphrey, Clark',\n",
       "  'isbn': '0738548693, 9780738548692',\n",
       "  'publicationyear': '[2006]',\n",
       "  'publisher': 'Arcadia Pub.,',\n",
       "  'subjects': 'Seattle Wash History, Seattle Wash Pictorial works',\n",
       "  'itemtype': 'acbk',\n",
       "  'itemcollection': 'nanf',\n",
       "  'floatingitem': 'NA',\n",
       "  'itemlocation': 'col',\n",
       "  'reportdate': '2019-12-01T00:00:00.000',\n",
       "  'itemcount': '1'},\n",
       " {'bibnum': '3449506',\n",
       "  'title': 'Hollow kingdom : a novel / Kira Jane Buxton.',\n",
       "  'author': 'Buxton, Kira Jane',\n",
       "  'isbn': '1538745828, 9781538745823',\n",
       "  'publicationyear': '2019.',\n",
       "  'publisher': 'Grand Central Publishing,',\n",
       "  'subjects': 'Crows Fiction',\n",
       "  'itemtype': 'acbk',\n",
       "  'itemcollection': 'nafic',\n",
       "  'floatingitem': 'NA',\n",
       "  'itemlocation': 'uni',\n",
       "  'reportdate': '2019-12-01T00:00:00.000',\n",
       "  'itemcount': '1'},\n",
       " {'bibnum': '3409626',\n",
       "  'title': 'The messy middle : finding your way through the hardest and most crucial part of any bold venture / Scott Belsky.',\n",
       "  'author': 'Belsky, Scott',\n",
       "  'isbn': '0525540385, 0735218072, 9780525540380, 9780735218079',\n",
       "  'publicationyear': '[2018]',\n",
       "  'publisher': 'Portfolio/Penguin, an imprint of Penguin Random House LLC,',\n",
       "  'subjects': 'New business enterprises, Entrepreneurship, Success in business',\n",
       "  'itemtype': 'acbk',\n",
       "  'itemcollection': 'nanf',\n",
       "  'floatingitem': 'NA',\n",
       "  'itemlocation': 'gwd',\n",
       "  'reportdate': '2019-12-01T00:00:00.000',\n",
       "  'itemcount': '1'},\n",
       " {'bibnum': '3069032',\n",
       "  'title': 'Water! Water! Water! / written and illustrated by Nancy Elizabeth Wallace.',\n",
       "  'author': 'Wallace, Nancy Elizabeth',\n",
       "  'isbn': '1477847308, 9781477847305',\n",
       "  'publicationyear': '[2014]',\n",
       "  'publisher': 'Two Lions,',\n",
       "  'subjects': 'Warthog Juvenile fiction, Water Juvenile fiction, Friendship Juvenile fiction',\n",
       "  'itemtype': 'jcbk',\n",
       "  'itemcollection': 'ncpic',\n",
       "  'floatingitem': 'NA',\n",
       "  'itemlocation': 'gwd',\n",
       "  'reportdate': '2019-12-01T00:00:00.000',\n",
       "  'itemcount': '1'},\n",
       " {'bibnum': '3220504',\n",
       "  'title': \"Pete's dragon / Disney ; a Whitaker Entertainment production ; directed by David Lowery ; screenplay by David Lowery & Toby Halbrooks ; produced by Jim Whitaker.\",\n",
       "  'isbn': '631662929X, 9786316629296',\n",
       "  'publicationyear': '[2016]',\n",
       "  'publisher': 'Walt Disney Studios Home Entertainment,',\n",
       "  'subjects': 'Orphans Juvenile drama, Dragons Juvenile drama, Friendship Juvenile drama, Feature films, Childrens films, Fantasy films, Action and adventure films, Fiction films, Video recordings for the hearing impaired, Video recordings for people with visual disabilities',\n",
       "  'itemtype': 'jcdvd',\n",
       "  'itemcollection': 'ncdvd',\n",
       "  'floatingitem': 'Floating',\n",
       "  'itemlocation': 'qna',\n",
       "  'reportdate': '2019-12-01T00:00:00.000',\n",
       "  'itemcount': '1'},\n",
       " {'bibnum': '3468162',\n",
       "  'title': 'The undying : pain, vulnerability, mortality, medicine, art, time, dreams, data, exhaustion, cancer, and care / Anne Boyer.',\n",
       "  'author': 'Boyer, Anne, 1973-',\n",
       "  'isbn': '0374279349, 9780374279349',\n",
       "  'publicationyear': '2019.',\n",
       "  'publisher': 'Farrar, Straus and Giroux,',\n",
       "  'subjects': 'Boyer Anne 1973 Health, Breast Cancer Patients United States Biography, Women authors American Biography, Women artists United States Biography, Cancer Psychological aspects, Mortality Psychological aspects, Literature Psychology, Autobiographies',\n",
       "  'itemtype': 'acbk',\n",
       "  'itemcollection': 'nanf',\n",
       "  'floatingitem': 'NA',\n",
       "  'itemlocation': 'nga',\n",
       "  'reportdate': '2019-12-01T00:00:00.000',\n",
       "  'itemcount': '1'},\n",
       " {'bibnum': '3278660',\n",
       "  'title': 'Your guide to the national parks : the complete guide to all 59 National Parks / by Michael Joseph Oswald.',\n",
       "  'author': 'Oswald, Michael Joseph',\n",
       "  'isbn': '1621280675, 9781621280675',\n",
       "  'publicationyear': '[2017]',\n",
       "  'publisher': 'Stone Road Press,',\n",
       "  'subjects': 'Parks United States Guidebooks, Outdoor recreation United States Guidebooks, National parks and reserves United States Guidebooks, United States Guidebooks',\n",
       "  'itemtype': 'acbk',\n",
       "  'itemcollection': 'nanf',\n",
       "  'floatingitem': 'NA',\n",
       "  'itemlocation': 'col',\n",
       "  'reportdate': '2019-12-01T00:00:00.000',\n",
       "  'itemcount': '1'}]"
      ]
     },
     "execution_count": 22,
     "metadata": {},
     "output_type": "execute_result"
    }
   ],
   "source": [
    "l[0:9]"
   ]
  },
  {
   "cell_type": "markdown",
   "metadata": {},
   "source": [
    "# Create CSV\n",
    "dataframe is df"
   ]
  },
  {
   "cell_type": "code",
   "execution_count": 25,
   "metadata": {},
   "outputs": [
    {
     "name": "stdout",
     "output_type": "stream",
     "text": [
      "The resulting dataframe has 260881  rows\n"
     ]
    }
   ],
   "source": [
    "metadata=open('SPL-Data-'+str(datetime.datetime.now().strftime(\"%Y-%m-%d\"))+'.csv', 'w', newline='', encoding='utf-8')\n",
    "csv.writer(metadata).writerow(['bibnum','title','author','isbn','publicationyear','itemtype','itemcollection','itemlocation'])\n",
    "\n",
    "for i in l:\n",
    "    csv.writer(metadata).writerow([i['bibnum'],\n",
    "        i.get('title'),\n",
    "        i.get('author'),\n",
    "        i.get('isbn'),\n",
    "        i.get('publicationyear'),\n",
    "        i.get('itemtype'),\n",
    "        i['itemcollection'],\n",
    "        i['itemlocation']])                                   \n",
    "        #i.get('isbn'), #For any of these .get(), adding \",'N/A'\" will fill the null cells with 'N/A'. However, metadata assessment counts non nulls\n",
    "                                   \n",
    "\n",
    "metadata.close() #Close the output file, release all locks\n",
    "\n",
    "#Open up the same file as a dataframe. Encode cp1252 avoids a utf-8 error.\n",
    "df = pd.read_csv('SPL-Data-'+str(datetime.datetime.now().strftime(\"%Y-%m-%d\"))+'.csv',encoding='utf-8')\n",
    "\n",
    "print('The resulting dataframe has',len(df),' rows')"
   ]
  },
  {
   "cell_type": "code",
   "execution_count": 40,
   "metadata": {},
   "outputs": [
    {
     "data": {
      "text/html": [
       "<div>\n",
       "<style scoped>\n",
       "    .dataframe tbody tr th:only-of-type {\n",
       "        vertical-align: middle;\n",
       "    }\n",
       "\n",
       "    .dataframe tbody tr th {\n",
       "        vertical-align: top;\n",
       "    }\n",
       "\n",
       "    .dataframe thead th {\n",
       "        text-align: right;\n",
       "    }\n",
       "</style>\n",
       "<table border=\"1\" class=\"dataframe\">\n",
       "  <thead>\n",
       "    <tr style=\"text-align: right;\">\n",
       "      <th></th>\n",
       "      <th>bibnum</th>\n",
       "      <th>title</th>\n",
       "      <th>author</th>\n",
       "      <th>isbn</th>\n",
       "      <th>publicationyear</th>\n",
       "      <th>itemtype</th>\n",
       "      <th>itemcollection</th>\n",
       "      <th>itemlocation</th>\n",
       "    </tr>\n",
       "  </thead>\n",
       "  <tbody>\n",
       "    <tr>\n",
       "      <th>0</th>\n",
       "      <td>3170898</td>\n",
       "      <td>Baseball world series / Matt Christopher.</td>\n",
       "      <td>Christopher, Matt, 1917-1997</td>\n",
       "      <td>0316220469, 9780316220460</td>\n",
       "      <td>2014.</td>\n",
       "      <td>jcbk</td>\n",
       "      <td>ncfic</td>\n",
       "      <td>gwd</td>\n",
       "    </tr>\n",
       "  </tbody>\n",
       "</table>\n",
       "</div>"
      ],
      "text/plain": [
       "    bibnum                                      title  \\\n",
       "0  3170898  Baseball world series / Matt Christopher.   \n",
       "\n",
       "                         author                       isbn publicationyear  \\\n",
       "0  Christopher, Matt, 1917-1997  0316220469, 9780316220460           2014.   \n",
       "\n",
       "  itemtype itemcollection itemlocation  \n",
       "0     jcbk          ncfic          gwd  "
      ]
     },
     "execution_count": 40,
     "metadata": {},
     "output_type": "execute_result"
    }
   ],
   "source": [
    "df.head(1)"
   ]
  },
  {
   "cell_type": "markdown",
   "metadata": {},
   "source": [
    "## Open data dictionary file to map fiction/nonfiction and media type"
   ]
  },
  {
   "cell_type": "code",
   "execution_count": 32,
   "metadata": {},
   "outputs": [
    {
     "data": {
      "text/html": [
       "<div>\n",
       "<style scoped>\n",
       "    .dataframe tbody tr th:only-of-type {\n",
       "        vertical-align: middle;\n",
       "    }\n",
       "\n",
       "    .dataframe tbody tr th {\n",
       "        vertical-align: top;\n",
       "    }\n",
       "\n",
       "    .dataframe thead th {\n",
       "        text-align: right;\n",
       "    }\n",
       "</style>\n",
       "<table border=\"1\" class=\"dataframe\">\n",
       "  <thead>\n",
       "    <tr style=\"text-align: right;\">\n",
       "      <th></th>\n",
       "      <th>itemtype</th>\n",
       "      <th>format</th>\n",
       "    </tr>\n",
       "  </thead>\n",
       "  <tbody>\n",
       "    <tr>\n",
       "      <th>0</th>\n",
       "      <td>acart</td>\n",
       "      <td>Art</td>\n",
       "    </tr>\n",
       "    <tr>\n",
       "      <th>1</th>\n",
       "      <td>acphoto</td>\n",
       "      <td>Art</td>\n",
       "    </tr>\n",
       "  </tbody>\n",
       "</table>\n",
       "</div>"
      ],
      "text/plain": [
       "  itemtype format\n",
       "0    acart    Art\n",
       "1  acphoto    Art"
      ]
     },
     "execution_count": 32,
     "metadata": {},
     "output_type": "execute_result"
    }
   ],
   "source": [
    "dftype = pd.read_csv('SPL-datadict-type.csv',encoding='utf-8')\n",
    "dftype.head(2)"
   ]
  },
  {
   "cell_type": "code",
   "execution_count": 34,
   "metadata": {},
   "outputs": [],
   "source": [
    "#Create a new dataframe with the data dictionary info. Inner join is intersection so removes rows with no partner in other dataframe\n",
    "dfall = pd.merge(df, dftype, on='itemtype', how='inner')"
   ]
  },
  {
   "cell_type": "code",
   "execution_count": 42,
   "metadata": {},
   "outputs": [
    {
     "data": {
      "text/html": [
       "<div>\n",
       "<style scoped>\n",
       "    .dataframe tbody tr th:only-of-type {\n",
       "        vertical-align: middle;\n",
       "    }\n",
       "\n",
       "    .dataframe tbody tr th {\n",
       "        vertical-align: top;\n",
       "    }\n",
       "\n",
       "    .dataframe thead th {\n",
       "        text-align: right;\n",
       "    }\n",
       "</style>\n",
       "<table border=\"1\" class=\"dataframe\">\n",
       "  <thead>\n",
       "    <tr style=\"text-align: right;\">\n",
       "      <th></th>\n",
       "      <th>itemcollection</th>\n",
       "      <th>type</th>\n",
       "    </tr>\n",
       "  </thead>\n",
       "  <tbody>\n",
       "    <tr>\n",
       "      <th>0</th>\n",
       "      <td>ncenf</td>\n",
       "      <td>Nonfiction</td>\n",
       "    </tr>\n",
       "    <tr>\n",
       "      <th>1</th>\n",
       "      <td>cabob</td>\n",
       "      <td>NaN</td>\n",
       "    </tr>\n",
       "  </tbody>\n",
       "</table>\n",
       "</div>"
      ],
      "text/plain": [
       "  itemcollection        type\n",
       "0          ncenf  Nonfiction\n",
       "1          cabob         NaN"
      ]
     },
     "execution_count": 42,
     "metadata": {},
     "output_type": "execute_result"
    }
   ],
   "source": [
    "dfcol = pd.read_csv('SPL-datadict-collection.csv',encoding='utf-8')\n",
    "dfcol.head(2)"
   ]
  },
  {
   "cell_type": "code",
   "execution_count": 44,
   "metadata": {},
   "outputs": [],
   "source": [
    "#Create a new dataframe with the data dictionary info. Inner join is intersection so removes rows with no partner in other dataframe\n",
    "dfall = pd.merge(dfall, dfcol, on='itemcollection', how='inner')"
   ]
  },
  {
   "cell_type": "code",
   "execution_count": 47,
   "metadata": {},
   "outputs": [
    {
     "name": "stdout",
     "output_type": "stream",
     "text": [
      "<class 'pandas.core.frame.DataFrame'>\n",
      "Int64Index: 260881 entries, 0 to 260880\n",
      "Data columns (total 10 columns):\n",
      "bibnum             260881 non-null int64\n",
      "title              260877 non-null object\n",
      "author             220170 non-null object\n",
      "isbn               226298 non-null object\n",
      "publicationyear    260694 non-null object\n",
      "itemtype           260881 non-null object\n",
      "itemcollection     260881 non-null object\n",
      "itemlocation       260881 non-null object\n",
      "format             260863 non-null object\n",
      "type               260105 non-null object\n",
      "dtypes: int64(1), object(9)\n",
      "memory usage: 21.9+ MB\n"
     ]
    }
   ],
   "source": [
    "dfall.info()"
   ]
  },
  {
   "cell_type": "markdown",
   "metadata": {},
   "source": [
    "## Pare down to books"
   ]
  },
  {
   "cell_type": "code",
   "execution_count": 168,
   "metadata": {},
   "outputs": [],
   "source": [
    "dfbook = dfall.loc[dfall['format']=='Book']\n"
   ]
  },
  {
   "cell_type": "code",
   "execution_count": 164,
   "metadata": {},
   "outputs": [
    {
     "name": "stdout",
     "output_type": "stream",
     "text": [
      "<class 'pandas.core.frame.DataFrame'>\n",
      "Int64Index: 209154 entries, 0 to 260872\n",
      "Data columns (total 10 columns):\n",
      "bibnum             209154 non-null int64\n",
      "title              209150 non-null object\n",
      "author             199910 non-null object\n",
      "isbn               208093 non-null object\n",
      "publicationyear    208991 non-null object\n",
      "itemtype           209154 non-null object\n",
      "itemcollection     209154 non-null object\n",
      "itemlocation       209154 non-null object\n",
      "format             209154 non-null object\n",
      "type               208659 non-null object\n",
      "dtypes: int64(1), object(9)\n",
      "memory usage: 17.6+ MB\n"
     ]
    }
   ],
   "source": [
    "dfbook.info()"
   ]
  },
  {
   "cell_type": "markdown",
   "metadata": {},
   "source": [
    "## Add neighborhood column"
   ]
  },
  {
   "cell_type": "code",
   "execution_count": 169,
   "metadata": {},
   "outputs": [
    {
     "data": {
      "text/html": [
       "<div>\n",
       "<style scoped>\n",
       "    .dataframe tbody tr th:only-of-type {\n",
       "        vertical-align: middle;\n",
       "    }\n",
       "\n",
       "    .dataframe tbody tr th {\n",
       "        vertical-align: top;\n",
       "    }\n",
       "\n",
       "    .dataframe thead th {\n",
       "        text-align: right;\n",
       "    }\n",
       "</style>\n",
       "<table border=\"1\" class=\"dataframe\">\n",
       "  <thead>\n",
       "    <tr style=\"text-align: right;\">\n",
       "      <th></th>\n",
       "      <th>itemlocation</th>\n",
       "      <th>neighborhood</th>\n",
       "      <th>count</th>\n",
       "    </tr>\n",
       "  </thead>\n",
       "  <tbody>\n",
       "    <tr>\n",
       "      <th>0</th>\n",
       "      <td>col</td>\n",
       "      <td>Columbia City</td>\n",
       "      <td>1</td>\n",
       "    </tr>\n",
       "    <tr>\n",
       "      <th>1</th>\n",
       "      <td>mon</td>\n",
       "      <td>Montlake</td>\n",
       "      <td>1</td>\n",
       "    </tr>\n",
       "  </tbody>\n",
       "</table>\n",
       "</div>"
      ],
      "text/plain": [
       "  itemlocation   neighborhood  count\n",
       "0          col  Columbia City      1\n",
       "1          mon       Montlake      1"
      ]
     },
     "execution_count": 169,
     "metadata": {},
     "output_type": "execute_result"
    }
   ],
   "source": [
    "dfhood = pd.read_csv('neighborhoods.csv',encoding='utf-8')\n",
    "dfhood.head(2)"
   ]
  },
  {
   "cell_type": "code",
   "execution_count": 170,
   "metadata": {},
   "outputs": [
    {
     "data": {
      "text/html": [
       "<div>\n",
       "<style scoped>\n",
       "    .dataframe tbody tr th:only-of-type {\n",
       "        vertical-align: middle;\n",
       "    }\n",
       "\n",
       "    .dataframe tbody tr th {\n",
       "        vertical-align: top;\n",
       "    }\n",
       "\n",
       "    .dataframe thead th {\n",
       "        text-align: right;\n",
       "    }\n",
       "</style>\n",
       "<table border=\"1\" class=\"dataframe\">\n",
       "  <thead>\n",
       "    <tr style=\"text-align: right;\">\n",
       "      <th></th>\n",
       "      <th>bibnum</th>\n",
       "      <th>title</th>\n",
       "      <th>author</th>\n",
       "      <th>isbn</th>\n",
       "      <th>publicationyear</th>\n",
       "      <th>itemtype</th>\n",
       "      <th>itemcollection</th>\n",
       "      <th>itemlocation</th>\n",
       "      <th>format</th>\n",
       "      <th>type</th>\n",
       "      <th>neighborhood</th>\n",
       "      <th>count</th>\n",
       "    </tr>\n",
       "  </thead>\n",
       "  <tbody>\n",
       "    <tr>\n",
       "      <th>0</th>\n",
       "      <td>3170898</td>\n",
       "      <td>Baseball world series / Matt Christopher.</td>\n",
       "      <td>Christopher, Matt, 1917-1997</td>\n",
       "      <td>0316220469, 9780316220460</td>\n",
       "      <td>2014.</td>\n",
       "      <td>jcbk</td>\n",
       "      <td>ncfic</td>\n",
       "      <td>gwd</td>\n",
       "      <td>Book</td>\n",
       "      <td>Fiction</td>\n",
       "      <td>Phinney-Greenwood</td>\n",
       "      <td>1</td>\n",
       "    </tr>\n",
       "    <tr>\n",
       "      <th>1</th>\n",
       "      <td>3104433</td>\n",
       "      <td>Thor's serpents / K.L. Armstrong, M.A. Marr.</td>\n",
       "      <td>Armstrong, Kelley</td>\n",
       "      <td>0316204951, 9780316204934, 9780316204958</td>\n",
       "      <td>2015.</td>\n",
       "      <td>jcbk</td>\n",
       "      <td>ncfic</td>\n",
       "      <td>gwd</td>\n",
       "      <td>Book</td>\n",
       "      <td>Fiction</td>\n",
       "      <td>Phinney-Greenwood</td>\n",
       "      <td>1</td>\n",
       "    </tr>\n",
       "    <tr>\n",
       "      <th>2</th>\n",
       "      <td>3236757</td>\n",
       "      <td>The goldfish boy / Lisa Thompson.</td>\n",
       "      <td>Thompson, Lisa (Lisa Anne), 1973-</td>\n",
       "      <td>1338053922, 9781338053920</td>\n",
       "      <td>[2017]</td>\n",
       "      <td>jcbk</td>\n",
       "      <td>ncfic</td>\n",
       "      <td>gwd</td>\n",
       "      <td>Book</td>\n",
       "      <td>Fiction</td>\n",
       "      <td>Phinney-Greenwood</td>\n",
       "      <td>1</td>\n",
       "    </tr>\n",
       "    <tr>\n",
       "      <th>3</th>\n",
       "      <td>3338931</td>\n",
       "      <td>Winterhouse / Ben Guterson ; with illustration...</td>\n",
       "      <td>Guterson, Ben</td>\n",
       "      <td>1250123887, 9781250123886</td>\n",
       "      <td>2018.</td>\n",
       "      <td>jcbk</td>\n",
       "      <td>ncfic</td>\n",
       "      <td>gwd</td>\n",
       "      <td>Book</td>\n",
       "      <td>Fiction</td>\n",
       "      <td>Phinney-Greenwood</td>\n",
       "      <td>1</td>\n",
       "    </tr>\n",
       "    <tr>\n",
       "      <th>4</th>\n",
       "      <td>3280467</td>\n",
       "      <td>Thornhill / Pam Smy.</td>\n",
       "      <td>Smy, Pam</td>\n",
       "      <td>162672654X, 9781626726543</td>\n",
       "      <td>2017.</td>\n",
       "      <td>jcbk</td>\n",
       "      <td>ncfic</td>\n",
       "      <td>gwd</td>\n",
       "      <td>Book</td>\n",
       "      <td>Fiction</td>\n",
       "      <td>Phinney-Greenwood</td>\n",
       "      <td>1</td>\n",
       "    </tr>\n",
       "  </tbody>\n",
       "</table>\n",
       "</div>"
      ],
      "text/plain": [
       "    bibnum                                              title  \\\n",
       "0  3170898          Baseball world series / Matt Christopher.   \n",
       "1  3104433       Thor's serpents / K.L. Armstrong, M.A. Marr.   \n",
       "2  3236757                  The goldfish boy / Lisa Thompson.   \n",
       "3  3338931  Winterhouse / Ben Guterson ; with illustration...   \n",
       "4  3280467                               Thornhill / Pam Smy.   \n",
       "\n",
       "                              author  \\\n",
       "0       Christopher, Matt, 1917-1997   \n",
       "1                  Armstrong, Kelley   \n",
       "2  Thompson, Lisa (Lisa Anne), 1973-   \n",
       "3                      Guterson, Ben   \n",
       "4                           Smy, Pam   \n",
       "\n",
       "                                       isbn publicationyear itemtype  \\\n",
       "0                 0316220469, 9780316220460           2014.     jcbk   \n",
       "1  0316204951, 9780316204934, 9780316204958           2015.     jcbk   \n",
       "2                 1338053922, 9781338053920          [2017]     jcbk   \n",
       "3                 1250123887, 9781250123886           2018.     jcbk   \n",
       "4                 162672654X, 9781626726543           2017.     jcbk   \n",
       "\n",
       "  itemcollection itemlocation format     type       neighborhood  count  \n",
       "0          ncfic          gwd   Book  Fiction  Phinney-Greenwood      1  \n",
       "1          ncfic          gwd   Book  Fiction  Phinney-Greenwood      1  \n",
       "2          ncfic          gwd   Book  Fiction  Phinney-Greenwood      1  \n",
       "3          ncfic          gwd   Book  Fiction  Phinney-Greenwood      1  \n",
       "4          ncfic          gwd   Book  Fiction  Phinney-Greenwood      1  "
      ]
     },
     "execution_count": 170,
     "metadata": {},
     "output_type": "execute_result"
    }
   ],
   "source": [
    "#Create a new dataframe with the data dictionary info. Inner join is intersection so removes rows with no partner in other dataframe\n",
    "dfbook = pd.merge(dfbook, dfhood, on='itemlocation', how='inner')\n",
    "dfbook.head()"
   ]
  },
  {
   "cell_type": "markdown",
   "metadata": {},
   "source": [
    "# Start Analysis\n",
    "on dataframe dbook"
   ]
  },
  {
   "cell_type": "code",
   "execution_count": 143,
   "metadata": {},
   "outputs": [],
   "source": [
    "#Get a csv of the unique year values to look at problem values\n",
    "dfyears = dfbook.publicationyear.unique()\n",
    "dfyears = pd.DataFrame(dfyears)\n",
    "dfyears.to_csv('SPLyears.csv', mode = 'w', index=False)"
   ]
  },
  {
   "cell_type": "code",
   "execution_count": 136,
   "metadata": {},
   "outputs": [
    {
     "name": "stderr",
     "output_type": "stream",
     "text": [
      "C:\\Users\\Andre\\Anaconda3\\lib\\site-packages\\ipykernel_launcher.py:2: SettingWithCopyWarning: \n",
      "A value is trying to be set on a copy of a slice from a DataFrame.\n",
      "Try using .loc[row_indexer,col_indexer] = value instead\n",
      "\n",
      "See the caveats in the documentation: http://pandas.pydata.org/pandas-docs/stable/indexing.html#indexing-view-versus-copy\n",
      "  \n",
      "C:\\Users\\Andre\\Anaconda3\\lib\\site-packages\\ipykernel_launcher.py:3: SettingWithCopyWarning: \n",
      "A value is trying to be set on a copy of a slice from a DataFrame.\n",
      "Try using .loc[row_indexer,col_indexer] = value instead\n",
      "\n",
      "See the caveats in the documentation: http://pandas.pydata.org/pandas-docs/stable/indexing.html#indexing-view-versus-copy\n",
      "  This is separate from the ipykernel package so we can avoid doing imports until\n",
      "C:\\Users\\Andre\\Anaconda3\\lib\\site-packages\\ipykernel_launcher.py:5: SettingWithCopyWarning: \n",
      "A value is trying to be set on a copy of a slice from a DataFrame.\n",
      "Try using .loc[row_indexer,col_indexer] = value instead\n",
      "\n",
      "See the caveats in the documentation: http://pandas.pydata.org/pandas-docs/stable/indexing.html#indexing-view-versus-copy\n",
      "  \"\"\"\n"
     ]
    }
   ],
   "source": [
    "#Make sure all values are string (?) then get rid of all '[c', 'Â©' and then the rest of the brackets \n",
    "dfbook['publicationyear']= dfbook['publicationyear'].astype(str)\n",
    "dfbook['publicationyear'] =  dfbook['publicationyear'].apply(lambda x: x.replace('[c',''),'')\n",
    "#dfbook['publicationyear'] =  dfbook['publicationyear'].apply(lambda x: x.replace('Â©',''),'')\n",
    "dfbook['publicationyear'] =  dfbook['publicationyear'].apply(lambda x: x.replace('[','').replace(']','')) \n",
    "#dfbook['publicationyear'] = preg_replace(\"/(©|&copy;|&#169;)/\", \"\", dfbook['publicationyear'])\n",
    "#dfbook['publicationyear'] = str_replace(array('©'), array(''), dfbook['publicationyear'])"
   ]
  },
  {
   "cell_type": "code",
   "execution_count": 137,
   "metadata": {},
   "outputs": [
    {
     "data": {
      "text/plain": [
       "0    2014\n",
       "1    2015\n",
       "2    1994\n",
       "3    2008\n",
       "4    2017\n",
       "Name: publicationyear, dtype: object"
      ]
     },
     "execution_count": 137,
     "metadata": {},
     "output_type": "execute_result"
    }
   ],
   "source": [
    "#The year values are very difficult- lots of non numeric characters.\n",
    "#Use: https://realpython.com/python-data-cleaning-numpy-pandas/#combining-str-methods-with-numpy-to-clean-columns\n",
    "\n",
    "#reg expression: r'^(\\d{4})'  This takes the first four numeric digits.  Everything else goes to NaN\n",
    "extr = dfbook['publicationyear'].str.extract(r'^(\\d{4})', expand=False)\n",
    "extr.head()"
   ]
  },
  {
   "cell_type": "code",
   "execution_count": 138,
   "metadata": {},
   "outputs": [
    {
     "name": "stderr",
     "output_type": "stream",
     "text": [
      "C:\\Users\\Andre\\Anaconda3\\lib\\site-packages\\ipykernel_launcher.py:2: SettingWithCopyWarning: \n",
      "A value is trying to be set on a copy of a slice from a DataFrame.\n",
      "Try using .loc[row_indexer,col_indexer] = value instead\n",
      "\n",
      "See the caveats in the documentation: http://pandas.pydata.org/pandas-docs/stable/indexing.html#indexing-view-versus-copy\n",
      "  \n"
     ]
    },
    {
     "data": {
      "text/plain": [
       "dtype('float64')"
      ]
     },
     "execution_count": 138,
     "metadata": {},
     "output_type": "execute_result"
    }
   ],
   "source": [
    "#Convert to numeric and show datatype\n",
    "dfbook['publicationyear'] = pd.to_numeric(extr)\n",
    "dfbook['publicationyear'].dtype"
   ]
  },
  {
   "cell_type": "code",
   "execution_count": 139,
   "metadata": {},
   "outputs": [
    {
     "data": {
      "text/plain": [
       "0.1675703070464825"
      ]
     },
     "execution_count": 139,
     "metadata": {},
     "output_type": "execute_result"
    }
   ],
   "source": [
    "#What percent are Nan?\n",
    "dfbook['publicationyear'].isnull().sum() / len(dfbook)"
   ]
  },
  {
   "cell_type": "code",
   "execution_count": null,
   "metadata": {},
   "outputs": [],
   "source": []
  },
  {
   "cell_type": "code",
   "execution_count": 155,
   "metadata": {},
   "outputs": [],
   "source": []
  },
  {
   "cell_type": "code",
   "execution_count": 156,
   "metadata": {},
   "outputs": [
    {
     "data": {
      "text/plain": [
       "[Text(0, 0.5, 'Count'), Text(0.5, 0, 'Year Published')]"
      ]
     },
     "execution_count": 156,
     "metadata": {},
     "output_type": "execute_result"
    },
    {
     "data": {
      "image/png": "[encoded data removed]",
      "text/plain": [
       "<Figure size 576x360 with 1 Axes>"
      ]
     },
     "metadata": {},
     "output_type": "display_data"
    }
   ],
   "source": [
    "#Histogram of year published using mtlabplot\n",
    "#yrhist = bks['yrpub'].plot.hist(bins=50)\n",
    "#Same thing using seaborn\n",
    "sns.set(style='whitegrid', palette=\"deep\", font_scale=1.1, rc={\"figure.figsize\": [8, 5]})\n",
    "sns.distplot(\n",
    "    dfbook['publicationyear'], norm_hist=False, kde=False, bins=100, hist_kws={\"alpha\": 1}\n",
    ").set(xlabel='Year Published', ylabel='Count')"
   ]
  },
  {
   "cell_type": "markdown",
   "metadata": {},
   "source": [
    "# Set up a dataframe with SPL data by neighborhood\n",
    "fiction/nonfiction, percent childrens, There is no Laurelhurst branch!!"
   ]
  },
  {
   "cell_type": "code",
   "execution_count": 158,
   "metadata": {},
   "outputs": [
    {
     "data": {
      "text/plain": [
       "array(['Fiction', nan, 'Nonfiction', 'Language', 'Reference'],\n",
       "      dtype=object)"
      ]
     },
     "execution_count": 158,
     "metadata": {},
     "output_type": "execute_result"
    }
   ],
   "source": [
    "dfbook.type.unique()"
   ]
  },
  {
   "cell_type": "code",
   "execution_count": null,
   "metadata": {},
   "outputs": [],
   "source": []
  },
  {
   "cell_type": "code",
   "execution_count": 177,
   "metadata": {},
   "outputs": [
    {
     "data": {
      "text/html": [
       "<div>\n",
       "<style scoped>\n",
       "    .dataframe tbody tr th:only-of-type {\n",
       "        vertical-align: middle;\n",
       "    }\n",
       "\n",
       "    .dataframe tbody tr th {\n",
       "        vertical-align: top;\n",
       "    }\n",
       "\n",
       "    .dataframe thead th {\n",
       "        text-align: right;\n",
       "    }\n",
       "</style>\n",
       "<table border=\"1\" class=\"dataframe\">\n",
       "  <thead>\n",
       "    <tr style=\"text-align: right;\">\n",
       "      <th></th>\n",
       "      <th>neighborhood</th>\n",
       "      <th>type</th>\n",
       "      <th>count</th>\n",
       "      <th>total</th>\n",
       "      <th>percent</th>\n",
       "    </tr>\n",
       "  </thead>\n",
       "  <tbody>\n",
       "    <tr>\n",
       "      <th>0</th>\n",
       "      <td>Central District</td>\n",
       "      <td>Fiction</td>\n",
       "      <td>6885</td>\n",
       "      <td>9679</td>\n",
       "      <td>0.711334</td>\n",
       "    </tr>\n",
       "    <tr>\n",
       "      <th>3</th>\n",
       "      <td>Columbia City</td>\n",
       "      <td>Fiction</td>\n",
       "      <td>18519</td>\n",
       "      <td>33417</td>\n",
       "      <td>0.554179</td>\n",
       "    </tr>\n",
       "    <tr>\n",
       "      <th>7</th>\n",
       "      <td>Montlake</td>\n",
       "      <td>Fiction</td>\n",
       "      <td>10656</td>\n",
       "      <td>16966</td>\n",
       "      <td>0.628080</td>\n",
       "    </tr>\n",
       "    <tr>\n",
       "      <th>10</th>\n",
       "      <td>Northgate</td>\n",
       "      <td>Fiction</td>\n",
       "      <td>20272</td>\n",
       "      <td>33916</td>\n",
       "      <td>0.597712</td>\n",
       "    </tr>\n",
       "    <tr>\n",
       "      <th>14</th>\n",
       "      <td>Phinney-Greenwood</td>\n",
       "      <td>Fiction</td>\n",
       "      <td>29032</td>\n",
       "      <td>53296</td>\n",
       "      <td>0.544731</td>\n",
       "    </tr>\n",
       "    <tr>\n",
       "      <th>18</th>\n",
       "      <td>Queen Anne</td>\n",
       "      <td>Fiction</td>\n",
       "      <td>13147</td>\n",
       "      <td>23297</td>\n",
       "      <td>0.564322</td>\n",
       "    </tr>\n",
       "    <tr>\n",
       "      <th>21</th>\n",
       "      <td>Ravenna</td>\n",
       "      <td>Fiction</td>\n",
       "      <td>20989</td>\n",
       "      <td>38088</td>\n",
       "      <td>0.551066</td>\n",
       "    </tr>\n",
       "  </tbody>\n",
       "</table>\n",
       "</div>"
      ],
      "text/plain": [
       "         neighborhood     type  count  total   percent\n",
       "0    Central District  Fiction   6885   9679  0.711334\n",
       "3       Columbia City  Fiction  18519  33417  0.554179\n",
       "7            Montlake  Fiction  10656  16966  0.628080\n",
       "10          Northgate  Fiction  20272  33916  0.597712\n",
       "14  Phinney-Greenwood  Fiction  29032  53296  0.544731\n",
       "18         Queen Anne  Fiction  13147  23297  0.564322\n",
       "21            Ravenna  Fiction  20989  38088  0.551066"
      ]
     },
     "execution_count": 177,
     "metadata": {},
     "output_type": "execute_result"
    }
   ],
   "source": [
    "#Set up a dataframe with the percent fiction\n",
    "\n",
    "#Groups count by Neighborhood, and type, calculates percent\n",
    "bksfiction = dfbook.groupby(['neighborhood', 'type'])['count'].sum().reset_index() #total of each category\n",
    "bksfiction['total'] = bksfiction.groupby('neighborhood')['count'].transform('sum') #Inserts total count for the neighborhood for each type in each neighborhood \n",
    "bksfiction['percent'] = bksfiction['count']/bksfiction['total']\n",
    "\n",
    "\n",
    "#Select fiction\n",
    "fic = bksfiction.loc[bksfiction['type']=='Fiction']\n",
    "fic.head(8)"
   ]
  },
  {
   "cell_type": "code",
   "execution_count": 178,
   "metadata": {},
   "outputs": [],
   "source": [
    "#Save csv file for further testing: \n",
    "dfbook.to_csv('SPL-dfbook.csv', mode = 'w', index=False)"
   ]
  },
  {
   "cell_type": "code",
   "execution_count": null,
   "metadata": {},
   "outputs": [],
   "source": []
  }
 ],
 "metadata": {
  "kernelspec": {
   "display_name": "Python 3",
   "language": "python",
   "name": "python3"
  },
  "language_info": {
   "codemirror_mode": {
    "name": "ipython",
    "version": 3
   },
   "file_extension": ".py",
   "mimetype": "text/x-python",
   "name": "python",
   "nbconvert_exporter": "python",
   "pygments_lexer": "ipython3",
   "version": "3.7.3"
  }
 },
 "nbformat": 4,
 "nbformat_minor": 2
}
