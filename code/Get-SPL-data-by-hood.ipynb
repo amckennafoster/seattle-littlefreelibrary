{
 "cells": [
  {
   "cell_type": "code",
   "execution_count": 1,
   "metadata": {},
   "outputs": [],
   "source": [
    "#import the required libraries\n",
    "import os\n",
    "import csv\n",
    "import requests\n",
    "import json as json\n",
    "import pandas as pd\n",
    "from pandas.io.json import json_normalize\n",
    "import datetime\n",
    "import numpy as np\n",
    "import matplotlib.pyplot as plt\n",
    "from matplotlib import cm\n",
    "import seaborn as sns\n"
   ]
  },
  {
   "cell_type": "markdown",
   "metadata": {},
   "source": [
    "## The following are api calls that provide some useful information"
   ]
  },
  {
   "cell_type": "code",
   "execution_count": null,
   "metadata": {},
   "outputs": [],
   "source": [
    "#Counts the number of books from 11/1/2019. Over 1.4 million\n",
    "https://data.seattle.gov/resource/6vkj-f5xf.json?$select=count(BibNum)&reportdate=2019-11-01T00:00:00.000\n",
    "#get list of neighborhoods\n",
    "https://data.seattle.gov/resource/6vkj-f5xf.json?$query=select distinct ItemLocation\n",
    "#See number by a neightborhood\n",
    "https://data.seattle.gov/resource/6vkj-f5xf.json?$select=count(BibNum)&ItemLocation=cen\n",
    "#I think we need: col, mon, qna, GWD or gwd? (I think gwd), nga, uni AND net, mgm (Madrona Sally Goaldman for central).\n",
    "#None in Laurelhusrt\n",
    "#This returns counts by location:\n",
    "https://data.seattle.gov/resource/6vkj-f5xf.json?$select=ItemLocation,count(BibNum)&$group=ItemLocation\n",
    "\n",
    "#Not sure if this works    \n",
    "https://data.seattle.gov/resource/6vkj-f5xf.json?$query=select count(BibNum) where ItemLocation=col OR ItemLocation=mon\n",
    "    \n",
    "    "
   ]
  },
  {
   "cell_type": "markdown",
   "metadata": {},
   "source": [
    "## Open json file"
   ]
  },
  {
   "cell_type": "code",
   "execution_count": 5,
   "metadata": {},
   "outputs": [],
   "source": [
    "#Open up the same file for reading\n",
    "with open(\"SPL-bibCOUNTS-2019-12-07.json\", \"r\") as read_file: #Replace this with the filename of your choice\n",
    "    j = json.load(read_file)\n",
    "count=len(d)"
   ]
  },
  {
   "cell_type": "markdown",
   "metadata": {},
   "source": [
    "## Get the number of books in branches\n",
    "col, mon, qna, GWD or gwd? (I think gwd), nga, uni AND net, mgm (Madrona Sally Goaldman for central).\n",
    "None in Laurelhusrt"
   ]
  },
  {
   "cell_type": "code",
   "execution_count": 2,
   "metadata": {},
   "outputs": [],
   "source": [
    "#This gets the recent ones for the neighborhoods and the date\n",
    "r=requests.get('https://data.seattle.gov/resource/6vkj-f5xf.json?$select=ItemLocation,count(BibNum)&$where=reportdate=\"2019-07-01T00:00:00.000\"&$group=ItemLocation') #build string according to SOCRATA's convention to get public data assets\n",
    "#THis one gets all:\n",
    "#r=requests.get('https://data.seattle.gov/resource/6vkj-f5xf.json?$select=ItemLocation,count(BibNum)&$group=ItemLocation') #build string according to SOCRATA's convention to get public data assets\n",
    "j=json.loads(r.text) #parse the json into a list named j"
   ]
  },
  {
   "cell_type": "markdown",
   "metadata": {},
   "source": [
    "## Save the json file"
   ]
  },
  {
   "cell_type": "code",
   "execution_count": 3,
   "metadata": {},
   "outputs": [],
   "source": [
    "#j[0] #view the first record\n",
    "with open('SPL-bibCOUNTS-'+str(datetime.datetime.now().strftime(\"%Y-%m-%d\"))+'.json', \"w\") as write_file:\n",
    "    json.dump(j, write_file)\n",
    "d = j\n",
    "count = len(d)"
   ]
  },
  {
   "cell_type": "markdown",
   "metadata": {},
   "source": [
    "## Get the count of books in your branches\n",
    "The variable is totalbooks"
   ]
  },
  {
   "cell_type": "code",
   "execution_count": 4,
   "metadata": {},
   "outputs": [
    {
     "name": "stdout",
     "output_type": "stream",
     "text": [
      "List built: 8 elements\n"
     ]
    }
   ],
   "source": [
    "#col, mon, qna, GWD or gwd? (I think gwd), nga, uni AND net, mgm\n",
    "d = j #create a json file to mess with\n",
    "\n",
    "branches=[] #dim list as a empty list\n",
    "\n",
    "for c in d:  #d is the dictionary of parsed json\n",
    "        if c['ItemLocation']=='col':\n",
    "            branches.append(c['count_BibNum'])\n",
    "        if c['ItemLocation']=='mgm':\n",
    "            branches.append(c['count_BibNum'])\n",
    "        if c['ItemLocation']=='qna':\n",
    "            branches.append(c['count_BibNum'])\n",
    "        if c['ItemLocation']=='gwd':\n",
    "            branches.append(c['count_BibNum'])\n",
    "        if c['ItemLocation']=='nga':\n",
    "            branches.append(c['count_BibNum'])\n",
    "        if c['ItemLocation']=='uni':\n",
    "            branches.append(c['count_BibNum'])\n",
    "        if c['ItemLocation']=='net':\n",
    "            branches.append(c['count_BibNum'])\n",
    "        if c['ItemLocation']=='mon':\n",
    "            branches.append(c['count_BibNum'])\n",
    "\n",
    "print(\"List built:\", len(branches),\"elements\") #print how many elements are in dtlist"
   ]
  },
  {
   "cell_type": "code",
   "execution_count": 5,
   "metadata": {},
   "outputs": [
    {
     "data": {
      "text/plain": [
       "0    32701\n",
       "1    16425\n",
       "2    34801\n",
       "3    30166\n",
       "4    24466\n",
       "5    52418\n",
       "6    60672\n",
       "7    10463\n",
       "Name: bibcount, dtype: int64"
      ]
     },
     "execution_count": 5,
     "metadata": {},
     "output_type": "execute_result"
    }
   ],
   "source": [
    "#Convert the dictionary to a dataframe\n",
    "bibcts = pd.DataFrame(branches, columns=['bibcount'])\n",
    "bibcts = pd.to_numeric(bibcts['bibcount'])\n",
    "bibcts.head(10)"
   ]
  },
  {
   "cell_type": "code",
   "execution_count": 6,
   "metadata": {},
   "outputs": [
    {
     "data": {
      "text/plain": [
       "262112"
      ]
     },
     "execution_count": 6,
     "metadata": {},
     "output_type": "execute_result"
    }
   ],
   "source": [
    "maybooks=bibcts[0:4].sum()\n",
    "julybooks=bibcts[5:7].sum()\n",
    "maybooks\n",
    "julybooks"
   ]
  },
  {
   "cell_type": "markdown",
   "metadata": {},
   "source": [
    "# Retrieve Recent Records"
   ]
  },
  {
   "cell_type": "markdown",
   "metadata": {},
   "source": [
    "## Open previous json"
   ]
  },
  {
   "cell_type": "code",
   "execution_count": 2,
   "metadata": {},
   "outputs": [
    {
     "data": {
      "text/plain": [
       "262112"
      ]
     },
     "execution_count": 2,
     "metadata": {},
     "output_type": "execute_result"
    }
   ],
   "source": [
    "#Open up the  for reading\n",
    "with open(\"SPL-Data-2019-07-01.json\", \"r\") as read_file: #Replace this with the filename of your choice\n",
    "    l = json.load(read_file)\n",
    "count=len(l)\n",
    "count"
   ]
  },
  {
   "cell_type": "markdown",
   "metadata": {},
   "source": [
    "## Collect the data\n",
    "\n",
    "### Need to create two json files and then combine them. Should get from May (Central, Columbia, QA, Northgate, Laurelhust, Phinney) and then July ( Montlake, Ravenna)."
   ]
  },
  {
   "cell_type": "code",
   "execution_count": 7,
   "metadata": {},
   "outputs": [],
   "source": [
    "#col, mon, qna, GWD or gwd? (I think gwd), nga, uni AND net, mgm\n",
    "#This works in browser: https://data.seattle.gov/resource/6vkj-f5xf.json?$where=ItemLocation= 'col' or ItemLocation='mon' or ItemLocation='qna' or ItemLocation='gwd' or ItemLocation='mgm' or ItemLocation='nga' or ItemLocation='uni' or ItemLocation='net' and reportdate='2019-11-01T00:00:00.000'&$limit=\n",
    "#This gets the recent ones\n",
    "s=requests.get('https://data.seattle.gov/resource/6vkj-f5xf.json?$where=ItemLocation= \"col\" or ItemLocation=\"qna\" or ItemLocation=\"gwd\" or ItemLocation=\"mgm\" or ItemLocation=\"nga\" and reportdate=\"2019-05-01T00:00:00.000\"&$limit='+str(totalbooks)) #build string according to SOCRATA's convention to get public data assets\n",
    "t=requests.get('https://data.seattle.gov/resource/6vkj-f5xf.json?$where=ItemLocation= \"mon\" or ItemLocation=\"uni\" or ItemLocation=\"net\"and reportdate=\"2019-07-01T00:00:00.000\"&$limit='+str(totalbooks)) #build string according to SOCRATA's convention to get public data assets\n",
    "\n",
    "#Check this: https://stackoverflow.com/questions/42078161/python-appending-json-object-to-exisiting-json-object\n",
    "\n",
    "#THis one gets all:\n",
    "#r=requests.get('https://data.seattle.gov/resource/6vkj-f5xf.json?$select=ItemLocation,count(BibNum)&$group=ItemLocation') #build string according to SOCRATA's convention to get public data assets\n",
    "l=json.loads(s.text) #parse the json into a list named j"
   ]
  },
  {
   "cell_type": "markdown",
   "metadata": {},
   "source": [
    "## Save the json file"
   ]
  },
  {
   "cell_type": "code",
   "execution_count": 8,
   "metadata": {},
   "outputs": [
    {
     "data": {
      "text/plain": [
       "262112"
      ]
     },
     "execution_count": 8,
     "metadata": {},
     "output_type": "execute_result"
    }
   ],
   "source": [
    "with open('SPL-Data-'+str(datetime.datetime.now().strftime(\"%Y-%m-%d\"))+'.json', \"w\") as write_file:\n",
    "    json.dump(l, write_file)\n",
    "\n",
    "count = len(l)\n",
    "count"
   ]
  },
  {
   "cell_type": "code",
   "execution_count": 3,
   "metadata": {},
   "outputs": [
    {
     "data": {
      "text/plain": [
       "[{'bibnum': '2357485',\n",
       "  'title': 'Bleach. 9, Fourteen days for conspiracy / [story and art by Tite Kubo ; English adaptation, Lance Caselman ; translation, Joe Yamazaki ; touch-up art & lettering, Andy Ristaino].',\n",
       "  'author': 'Kubo, Tite',\n",
       "  'isbn': '1415638640, 1591169240, 9781591169246',\n",
       "  'publicationyear': '2005.',\n",
       "  'publisher': 'Viz,',\n",
       "  'subjects': 'Spirits Comic books strips etc, Good and evil Comic books strips etc, Fantasy comics, Graphic novels',\n",
       "  'itemtype': 'acbk',\n",
       "  'itemcollection': 'nycomic',\n",
       "  'floatingitem': 'NA',\n",
       "  'itemlocation': 'uni',\n",
       "  'reportdate': '2018-07-01T00:00:00.000',\n",
       "  'itemcount': '1'},\n",
       " {'bibnum': '2974270',\n",
       "  'title': 'Urban sketching : the complete guide to techniques / Thomas Thorspecken.',\n",
       "  'author': 'Thorspecken, Thomas',\n",
       "  'isbn': '1438003412, 9781438003412',\n",
       "  'publicationyear': '2014.',\n",
       "  'publisher': \"Barron's Educational Series, Inc., ;\",\n",
       "  'subjects': 'Drawing Technique, Cities and towns in art, City and town life in art',\n",
       "  'itemtype': 'acbk',\n",
       "  'itemcollection': 'nanf',\n",
       "  'floatingitem': 'NA',\n",
       "  'itemlocation': 'gwd',\n",
       "  'reportdate': '2018-07-01T00:00:00.000',\n",
       "  'itemcount': '1'},\n",
       " {'bibnum': '2266039',\n",
       "  'title': 'Arrested development. Season one / 20th Century Fox Television ; Imagine Television ; The Hurwitz Company ; producer, Barbara Feldman ; writers, Brad Copeland ... [and others] ; directed by Jay Chandrasekhar .. [and others]..',\n",
       "  'publicationyear': '[2004]',\n",
       "  'publisher': '20th Century Fox Home Entertainment,',\n",
       "  'subjects': 'Credit cards Drama, Upper class families Drama, Liquidity Economics Drama, Television series, Fiction television programs, Television comedies, Video recordings for the hearing impaired',\n",
       "  'itemtype': 'acdvd',\n",
       "  'itemcollection': 'nadvd',\n",
       "  'floatingitem': 'Floating',\n",
       "  'itemlocation': 'gwd',\n",
       "  'reportdate': '2018-07-01T00:00:00.000',\n",
       "  'itemcount': '1'},\n",
       " {'bibnum': '2932477',\n",
       "  'title': 'The hive / Gill Hornby.',\n",
       "  'author': 'Hornby, Gill',\n",
       "  'isbn': '0316234796, 9780316234795',\n",
       "  'publicationyear': '2013.',\n",
       "  'publisher': 'Little, Brown and Company,',\n",
       "  'subjects': 'Female friendship Fiction, Schools Fiction, Mother and child Fiction',\n",
       "  'itemtype': 'acbk',\n",
       "  'itemcollection': 'nafic',\n",
       "  'floatingitem': 'NA',\n",
       "  'itemlocation': 'nga',\n",
       "  'reportdate': '2018-07-01T00:00:00.000',\n",
       "  'itemcount': '1'},\n",
       " {'bibnum': '2884463',\n",
       "  'title': \"Yes, let's / by Galen Goodwin Longstreth ; illustrated by Maris Wicks.\",\n",
       "  'author': 'Longstreth, Galen Goodwin',\n",
       "  'isbn': '1933718870, 9781933718873',\n",
       "  'publicationyear': '2013.',\n",
       "  'publisher': 'Tanglewood Publishing,',\n",
       "  'subjects': 'Stories in rhyme Juvenile fiction, Family life Fiction, Outdoor life Juvenile fiction',\n",
       "  'itemtype': 'jcbk',\n",
       "  'itemcollection': 'ncnew',\n",
       "  'floatingitem': 'NA',\n",
       "  'itemlocation': 'nga',\n",
       "  'reportdate': '2018-07-01T00:00:00.000',\n",
       "  'itemcount': '1'},\n",
       " {'bibnum': '2979458',\n",
       "  'title': 'Earringology : how to make dangles, drops, chandeliers & more / Candie Cooper.',\n",
       "  'author': 'Cooper, Candie, 1979-',\n",
       "  'isbn': '1454708182, 9781454708186',\n",
       "  'publicationyear': '[2014]',\n",
       "  'publisher': 'Lark Books,',\n",
       "  'subjects': 'Beadwork, Earrings, Jewelry making',\n",
       "  'itemtype': 'acbk',\n",
       "  'itemcollection': 'nanf',\n",
       "  'floatingitem': 'NA',\n",
       "  'itemlocation': 'gwd',\n",
       "  'reportdate': '2018-07-01T00:00:00.000',\n",
       "  'itemcount': '1'},\n",
       " {'bibnum': '2053254',\n",
       "  'title': 'The pleasure principle / Gary Numan.',\n",
       "  'author': 'Numan, Gary, 1958-',\n",
       "  'publicationyear': '[1999?]',\n",
       "  'publisher': 'Beggars Banquet,',\n",
       "  'subjects': 'Popular music 1971 1980, Rock music 1971 1980',\n",
       "  'itemtype': 'accd',\n",
       "  'itemcollection': 'nacd',\n",
       "  'floatingitem': 'Floating',\n",
       "  'itemlocation': 'gwd',\n",
       "  'reportdate': '2018-07-01T00:00:00.000',\n",
       "  'itemcount': '1'},\n",
       " {'bibnum': '3042111',\n",
       "  'title': \"I'm not moving / written by Wiley Blevins ; illustrated by Mattia Cerato.\",\n",
       "  'author': 'Blevins, Wiley',\n",
       "  'isbn': '1939656087, 9781939656087',\n",
       "  'publicationyear': '[2015]',\n",
       "  'publisher': 'Red Chair Press,',\n",
       "  'subjects': 'Moving Household Juvenile fiction, Change Juvenile fiction, Adjustment Psychology in children Juvenile fiction',\n",
       "  'itemtype': 'jcbk',\n",
       "  'itemcollection': 'ncpic',\n",
       "  'floatingitem': 'NA',\n",
       "  'itemlocation': 'nga',\n",
       "  'reportdate': '2018-07-01T00:00:00.000',\n",
       "  'itemcount': '1'},\n",
       " {'bibnum': '2679502',\n",
       "  'title': \"The vigilante's bride / Yvonne Harris.\",\n",
       "  'author': 'Harris, Yvonne L.',\n",
       "  'isbn': '0764208047, 9780764208041',\n",
       "  'publicationyear': '2010.',\n",
       "  'publisher': 'Bethany House,',\n",
       "  'subjects': 'Mail order brides Fiction, Cowboys Fiction, Montana Fiction, Christian fiction, Western stories, Love stories',\n",
       "  'itemtype': 'acbk',\n",
       "  'itemcollection': 'nafic',\n",
       "  'floatingitem': 'NA',\n",
       "  'itemlocation': 'nga',\n",
       "  'reportdate': '2018-07-01T00:00:00.000',\n",
       "  'itemcount': '1'}]"
      ]
     },
     "execution_count": 3,
     "metadata": {},
     "output_type": "execute_result"
    }
   ],
   "source": [
    "l[0:9]   #IT LOOKS LIKE THE YEAR FOR THE REPORT IS 2018!!!!"
   ]
  },
  {
   "cell_type": "markdown",
   "metadata": {},
   "source": [
    "# Create CSV\n",
    "dataframe is df"
   ]
  },
  {
   "cell_type": "code",
   "execution_count": 4,
   "metadata": {},
   "outputs": [],
   "source": [
    "#Open a csv if already exists:\n",
    "df = pd.read_csv('SPL-Data-2019-07-01.csv',encoding='utf-8')"
   ]
  },
  {
   "cell_type": "code",
   "execution_count": 10,
   "metadata": {},
   "outputs": [
    {
     "name": "stdout",
     "output_type": "stream",
     "text": [
      "The resulting dataframe has 262112  rows\n"
     ]
    }
   ],
   "source": [
    "metadata=open('SPL-Data-'+str(datetime.datetime.now().strftime(\"%Y-%m-%d\"))+'.csv', 'w', newline='', encoding='utf-8')\n",
    "csv.writer(metadata).writerow(['bibnum','title','author','isbn','publicationyear','itemtype','itemcollection','itemlocation'])\n",
    "\n",
    "for i in l:\n",
    "    csv.writer(metadata).writerow([i['bibnum'],\n",
    "        i.get('title'),\n",
    "        i.get('author'),\n",
    "        i.get('isbn'),\n",
    "        i.get('publicationyear'),\n",
    "        i.get('itemtype'),\n",
    "        i['itemcollection'],\n",
    "        i['itemlocation']])                                   \n",
    "        #i.get('isbn'), #For any of these .get(), adding \",'N/A'\" will fill the null cells with 'N/A'. However, metadata assessment counts non nulls\n",
    "                                   \n",
    "\n",
    "metadata.close() #Close the output file, release all locks\n",
    "\n",
    "#Open up the same file as a dataframe. Encode cp1252 avoids a utf-8 error.\n",
    "df = pd.read_csv('SPL-Data-'+str(datetime.datetime.now().strftime(\"%Y-%m-%d\"))+'.csv',encoding='utf-8')\n",
    "\n",
    "print('The resulting dataframe has',len(df),' rows')"
   ]
  },
  {
   "cell_type": "code",
   "execution_count": 11,
   "metadata": {},
   "outputs": [
    {
     "data": {
      "text/html": [
       "<div>\n",
       "<style scoped>\n",
       "    .dataframe tbody tr th:only-of-type {\n",
       "        vertical-align: middle;\n",
       "    }\n",
       "\n",
       "    .dataframe tbody tr th {\n",
       "        vertical-align: top;\n",
       "    }\n",
       "\n",
       "    .dataframe thead th {\n",
       "        text-align: right;\n",
       "    }\n",
       "</style>\n",
       "<table border=\"1\" class=\"dataframe\">\n",
       "  <thead>\n",
       "    <tr style=\"text-align: right;\">\n",
       "      <th></th>\n",
       "      <th>bibnum</th>\n",
       "      <th>title</th>\n",
       "      <th>author</th>\n",
       "      <th>isbn</th>\n",
       "      <th>publicationyear</th>\n",
       "      <th>itemtype</th>\n",
       "      <th>itemcollection</th>\n",
       "      <th>itemlocation</th>\n",
       "    </tr>\n",
       "  </thead>\n",
       "  <tbody>\n",
       "    <tr>\n",
       "      <th>0</th>\n",
       "      <td>2357485</td>\n",
       "      <td>Bleach. 9, Fourteen days for conspiracy / [sto...</td>\n",
       "      <td>Kubo, Tite</td>\n",
       "      <td>1415638640, 1591169240, 9781591169246</td>\n",
       "      <td>2005.</td>\n",
       "      <td>acbk</td>\n",
       "      <td>nycomic</td>\n",
       "      <td>uni</td>\n",
       "    </tr>\n",
       "  </tbody>\n",
       "</table>\n",
       "</div>"
      ],
      "text/plain": [
       "    bibnum                                              title      author  \\\n",
       "0  2357485  Bleach. 9, Fourteen days for conspiracy / [sto...  Kubo, Tite   \n",
       "\n",
       "                                    isbn publicationyear itemtype  \\\n",
       "0  1415638640, 1591169240, 9781591169246           2005.     acbk   \n",
       "\n",
       "  itemcollection itemlocation  \n",
       "0        nycomic          uni  "
      ]
     },
     "execution_count": 11,
     "metadata": {},
     "output_type": "execute_result"
    }
   ],
   "source": [
    "df.head(1)"
   ]
  },
  {
   "cell_type": "markdown",
   "metadata": {},
   "source": [
    "## Open data dictionary file to map fiction/nonfiction and media type"
   ]
  },
  {
   "cell_type": "code",
   "execution_count": 4,
   "metadata": {},
   "outputs": [
    {
     "data": {
      "text/html": [
       "<div>\n",
       "<style scoped>\n",
       "    .dataframe tbody tr th:only-of-type {\n",
       "        vertical-align: middle;\n",
       "    }\n",
       "\n",
       "    .dataframe tbody tr th {\n",
       "        vertical-align: top;\n",
       "    }\n",
       "\n",
       "    .dataframe thead th {\n",
       "        text-align: right;\n",
       "    }\n",
       "</style>\n",
       "<table border=\"1\" class=\"dataframe\">\n",
       "  <thead>\n",
       "    <tr style=\"text-align: right;\">\n",
       "      <th></th>\n",
       "      <th>itemtype</th>\n",
       "      <th>format</th>\n",
       "    </tr>\n",
       "  </thead>\n",
       "  <tbody>\n",
       "    <tr>\n",
       "      <th>0</th>\n",
       "      <td>acart</td>\n",
       "      <td>Art</td>\n",
       "    </tr>\n",
       "    <tr>\n",
       "      <th>1</th>\n",
       "      <td>acphoto</td>\n",
       "      <td>Art</td>\n",
       "    </tr>\n",
       "  </tbody>\n",
       "</table>\n",
       "</div>"
      ],
      "text/plain": [
       "  itemtype format\n",
       "0    acart    Art\n",
       "1  acphoto    Art"
      ]
     },
     "execution_count": 4,
     "metadata": {},
     "output_type": "execute_result"
    }
   ],
   "source": [
    "dftype = pd.read_csv('SPL-datadict-type.csv',encoding='utf-8')\n",
    "dftype.head(2)"
   ]
  },
  {
   "cell_type": "code",
   "execution_count": 5,
   "metadata": {},
   "outputs": [],
   "source": [
    "#Create a new dataframe with the data dictionary info. Inner join is intersection so removes rows with no partner in other dataframe\n",
    "dfall = pd.merge(df, dftype, on='itemtype', how='inner')"
   ]
  },
  {
   "cell_type": "code",
   "execution_count": 6,
   "metadata": {},
   "outputs": [
    {
     "data": {
      "text/html": [
       "<div>\n",
       "<style scoped>\n",
       "    .dataframe tbody tr th:only-of-type {\n",
       "        vertical-align: middle;\n",
       "    }\n",
       "\n",
       "    .dataframe tbody tr th {\n",
       "        vertical-align: top;\n",
       "    }\n",
       "\n",
       "    .dataframe thead th {\n",
       "        text-align: right;\n",
       "    }\n",
       "</style>\n",
       "<table border=\"1\" class=\"dataframe\">\n",
       "  <thead>\n",
       "    <tr style=\"text-align: right;\">\n",
       "      <th></th>\n",
       "      <th>itemcollection</th>\n",
       "      <th>type</th>\n",
       "    </tr>\n",
       "  </thead>\n",
       "  <tbody>\n",
       "    <tr>\n",
       "      <th>0</th>\n",
       "      <td>ncenf</td>\n",
       "      <td>Nonfiction</td>\n",
       "    </tr>\n",
       "    <tr>\n",
       "      <th>1</th>\n",
       "      <td>cabob</td>\n",
       "      <td>NaN</td>\n",
       "    </tr>\n",
       "  </tbody>\n",
       "</table>\n",
       "</div>"
      ],
      "text/plain": [
       "  itemcollection        type\n",
       "0          ncenf  Nonfiction\n",
       "1          cabob         NaN"
      ]
     },
     "execution_count": 6,
     "metadata": {},
     "output_type": "execute_result"
    }
   ],
   "source": [
    "dfcol = pd.read_csv('SPL-datadict-collection.csv',encoding='utf-8')\n",
    "dfcol.head(2)"
   ]
  },
  {
   "cell_type": "code",
   "execution_count": 7,
   "metadata": {},
   "outputs": [],
   "source": [
    "#Create a new dataframe with the data dictionary info. Inner join is intersection so removes rows with no partner in other dataframe\n",
    "dfall = pd.merge(dfall, dfcol, on='itemcollection', how='inner')"
   ]
  },
  {
   "cell_type": "code",
   "execution_count": 8,
   "metadata": {},
   "outputs": [
    {
     "name": "stdout",
     "output_type": "stream",
     "text": [
      "<class 'pandas.core.frame.DataFrame'>\n",
      "Int64Index: 260881 entries, 0 to 260880\n",
      "Data columns (total 10 columns):\n",
      "bibnum             260881 non-null int64\n",
      "title              260877 non-null object\n",
      "author             220170 non-null object\n",
      "isbn               226298 non-null object\n",
      "publicationyear    260694 non-null object\n",
      "itemtype           260881 non-null object\n",
      "itemcollection     260881 non-null object\n",
      "itemlocation       260881 non-null object\n",
      "format             260863 non-null object\n",
      "type               260105 non-null object\n",
      "dtypes: int64(1), object(9)\n",
      "memory usage: 21.9+ MB\n"
     ]
    }
   ],
   "source": [
    "dfall.info()"
   ]
  },
  {
   "cell_type": "markdown",
   "metadata": {},
   "source": [
    "## Pare down to books"
   ]
  },
  {
   "cell_type": "code",
   "execution_count": 15,
   "metadata": {},
   "outputs": [],
   "source": [
    "dfbook = dfall.loc[dfall['format']=='Book']\n"
   ]
  },
  {
   "cell_type": "code",
   "execution_count": 16,
   "metadata": {},
   "outputs": [
    {
     "name": "stdout",
     "output_type": "stream",
     "text": [
      "<class 'pandas.core.frame.DataFrame'>\n",
      "Int64Index: 209154 entries, 0 to 260872\n",
      "Data columns (total 10 columns):\n",
      "bibnum             209154 non-null int64\n",
      "title              209150 non-null object\n",
      "author             199910 non-null object\n",
      "isbn               208093 non-null object\n",
      "publicationyear    208991 non-null object\n",
      "itemtype           209154 non-null object\n",
      "itemcollection     209154 non-null object\n",
      "itemlocation       209154 non-null object\n",
      "format             209154 non-null object\n",
      "type               208659 non-null object\n",
      "dtypes: int64(1), object(9)\n",
      "memory usage: 17.6+ MB\n"
     ]
    }
   ],
   "source": [
    "dfbook.info()"
   ]
  },
  {
   "cell_type": "markdown",
   "metadata": {},
   "source": [
    "## Add neighborhood column"
   ]
  },
  {
   "cell_type": "code",
   "execution_count": 17,
   "metadata": {},
   "outputs": [
    {
     "data": {
      "text/html": [
       "<div>\n",
       "<style scoped>\n",
       "    .dataframe tbody tr th:only-of-type {\n",
       "        vertical-align: middle;\n",
       "    }\n",
       "\n",
       "    .dataframe tbody tr th {\n",
       "        vertical-align: top;\n",
       "    }\n",
       "\n",
       "    .dataframe thead th {\n",
       "        text-align: right;\n",
       "    }\n",
       "</style>\n",
       "<table border=\"1\" class=\"dataframe\">\n",
       "  <thead>\n",
       "    <tr style=\"text-align: right;\">\n",
       "      <th></th>\n",
       "      <th>itemlocation</th>\n",
       "      <th>neighborhood</th>\n",
       "      <th>count</th>\n",
       "    </tr>\n",
       "  </thead>\n",
       "  <tbody>\n",
       "    <tr>\n",
       "      <th>0</th>\n",
       "      <td>col</td>\n",
       "      <td>Columbia City</td>\n",
       "      <td>1</td>\n",
       "    </tr>\n",
       "    <tr>\n",
       "      <th>1</th>\n",
       "      <td>mon</td>\n",
       "      <td>Montlake</td>\n",
       "      <td>1</td>\n",
       "    </tr>\n",
       "  </tbody>\n",
       "</table>\n",
       "</div>"
      ],
      "text/plain": [
       "  itemlocation   neighborhood  count\n",
       "0          col  Columbia City      1\n",
       "1          mon       Montlake      1"
      ]
     },
     "execution_count": 17,
     "metadata": {},
     "output_type": "execute_result"
    }
   ],
   "source": [
    "dfhood = pd.read_csv('neighborhoods.csv',encoding='utf-8')\n",
    "dfhood.head(2)"
   ]
  },
  {
   "cell_type": "code",
   "execution_count": 18,
   "metadata": {},
   "outputs": [
    {
     "data": {
      "text/html": [
       "<div>\n",
       "<style scoped>\n",
       "    .dataframe tbody tr th:only-of-type {\n",
       "        vertical-align: middle;\n",
       "    }\n",
       "\n",
       "    .dataframe tbody tr th {\n",
       "        vertical-align: top;\n",
       "    }\n",
       "\n",
       "    .dataframe thead th {\n",
       "        text-align: right;\n",
       "    }\n",
       "</style>\n",
       "<table border=\"1\" class=\"dataframe\">\n",
       "  <thead>\n",
       "    <tr style=\"text-align: right;\">\n",
       "      <th></th>\n",
       "      <th>bibnum</th>\n",
       "      <th>title</th>\n",
       "      <th>author</th>\n",
       "      <th>isbn</th>\n",
       "      <th>publicationyear</th>\n",
       "      <th>itemtype</th>\n",
       "      <th>itemcollection</th>\n",
       "      <th>itemlocation</th>\n",
       "      <th>format</th>\n",
       "      <th>type</th>\n",
       "      <th>neighborhood</th>\n",
       "      <th>count</th>\n",
       "    </tr>\n",
       "  </thead>\n",
       "  <tbody>\n",
       "    <tr>\n",
       "      <th>0</th>\n",
       "      <td>3170898</td>\n",
       "      <td>Baseball world series / Matt Christopher.</td>\n",
       "      <td>Christopher, Matt, 1917-1997</td>\n",
       "      <td>0316220469, 9780316220460</td>\n",
       "      <td>2014.</td>\n",
       "      <td>jcbk</td>\n",
       "      <td>ncfic</td>\n",
       "      <td>gwd</td>\n",
       "      <td>Book</td>\n",
       "      <td>Fiction</td>\n",
       "      <td>Phinney-Greenwood</td>\n",
       "      <td>1</td>\n",
       "    </tr>\n",
       "    <tr>\n",
       "      <th>1</th>\n",
       "      <td>3104433</td>\n",
       "      <td>Thor's serpents / K.L. Armstrong, M.A. Marr.</td>\n",
       "      <td>Armstrong, Kelley</td>\n",
       "      <td>0316204951, 9780316204934, 9780316204958</td>\n",
       "      <td>2015.</td>\n",
       "      <td>jcbk</td>\n",
       "      <td>ncfic</td>\n",
       "      <td>gwd</td>\n",
       "      <td>Book</td>\n",
       "      <td>Fiction</td>\n",
       "      <td>Phinney-Greenwood</td>\n",
       "      <td>1</td>\n",
       "    </tr>\n",
       "    <tr>\n",
       "      <th>2</th>\n",
       "      <td>3236757</td>\n",
       "      <td>The goldfish boy / Lisa Thompson.</td>\n",
       "      <td>Thompson, Lisa (Lisa Anne), 1973-</td>\n",
       "      <td>1338053922, 9781338053920</td>\n",
       "      <td>[2017]</td>\n",
       "      <td>jcbk</td>\n",
       "      <td>ncfic</td>\n",
       "      <td>gwd</td>\n",
       "      <td>Book</td>\n",
       "      <td>Fiction</td>\n",
       "      <td>Phinney-Greenwood</td>\n",
       "      <td>1</td>\n",
       "    </tr>\n",
       "    <tr>\n",
       "      <th>3</th>\n",
       "      <td>3338931</td>\n",
       "      <td>Winterhouse / Ben Guterson ; with illustration...</td>\n",
       "      <td>Guterson, Ben</td>\n",
       "      <td>1250123887, 9781250123886</td>\n",
       "      <td>2018.</td>\n",
       "      <td>jcbk</td>\n",
       "      <td>ncfic</td>\n",
       "      <td>gwd</td>\n",
       "      <td>Book</td>\n",
       "      <td>Fiction</td>\n",
       "      <td>Phinney-Greenwood</td>\n",
       "      <td>1</td>\n",
       "    </tr>\n",
       "    <tr>\n",
       "      <th>4</th>\n",
       "      <td>3280467</td>\n",
       "      <td>Thornhill / Pam Smy.</td>\n",
       "      <td>Smy, Pam</td>\n",
       "      <td>162672654X, 9781626726543</td>\n",
       "      <td>2017.</td>\n",
       "      <td>jcbk</td>\n",
       "      <td>ncfic</td>\n",
       "      <td>gwd</td>\n",
       "      <td>Book</td>\n",
       "      <td>Fiction</td>\n",
       "      <td>Phinney-Greenwood</td>\n",
       "      <td>1</td>\n",
       "    </tr>\n",
       "  </tbody>\n",
       "</table>\n",
       "</div>"
      ],
      "text/plain": [
       "    bibnum                                              title  \\\n",
       "0  3170898          Baseball world series / Matt Christopher.   \n",
       "1  3104433       Thor's serpents / K.L. Armstrong, M.A. Marr.   \n",
       "2  3236757                  The goldfish boy / Lisa Thompson.   \n",
       "3  3338931  Winterhouse / Ben Guterson ; with illustration...   \n",
       "4  3280467                               Thornhill / Pam Smy.   \n",
       "\n",
       "                              author  \\\n",
       "0       Christopher, Matt, 1917-1997   \n",
       "1                  Armstrong, Kelley   \n",
       "2  Thompson, Lisa (Lisa Anne), 1973-   \n",
       "3                      Guterson, Ben   \n",
       "4                           Smy, Pam   \n",
       "\n",
       "                                       isbn publicationyear itemtype  \\\n",
       "0                 0316220469, 9780316220460           2014.     jcbk   \n",
       "1  0316204951, 9780316204934, 9780316204958           2015.     jcbk   \n",
       "2                 1338053922, 9781338053920          [2017]     jcbk   \n",
       "3                 1250123887, 9781250123886           2018.     jcbk   \n",
       "4                 162672654X, 9781626726543           2017.     jcbk   \n",
       "\n",
       "  itemcollection itemlocation format     type       neighborhood  count  \n",
       "0          ncfic          gwd   Book  Fiction  Phinney-Greenwood      1  \n",
       "1          ncfic          gwd   Book  Fiction  Phinney-Greenwood      1  \n",
       "2          ncfic          gwd   Book  Fiction  Phinney-Greenwood      1  \n",
       "3          ncfic          gwd   Book  Fiction  Phinney-Greenwood      1  \n",
       "4          ncfic          gwd   Book  Fiction  Phinney-Greenwood      1  "
      ]
     },
     "execution_count": 18,
     "metadata": {},
     "output_type": "execute_result"
    }
   ],
   "source": [
    "#Create a new dataframe with the data dictionary info. Inner join is intersection so removes rows with no partner in other dataframe\n",
    "dfbook = pd.merge(dfbook, dfhood, on='itemlocation', how='inner')\n",
    "dfbook.head()"
   ]
  },
  {
   "cell_type": "code",
   "execution_count": null,
   "metadata": {},
   "outputs": [],
   "source": []
  },
  {
   "cell_type": "markdown",
   "metadata": {},
   "source": [
    "# Start Analysis\n",
    "on dataframe dbook"
   ]
  },
  {
   "cell_type": "code",
   "execution_count": 13,
   "metadata": {},
   "outputs": [],
   "source": [
    "#Open a previous CSV THEN SKIP TO ANALYSIS\n",
    "dfbook = pd.read_csv('SPL-dfbook.csv',encoding='utf-8')"
   ]
  },
  {
   "cell_type": "code",
   "execution_count": 19,
   "metadata": {},
   "outputs": [],
   "source": [
    "#Get a csv of the unique year values to look at problem values\n",
    "dfyears = dfbook.publicationyear.unique()\n",
    "dfyears = pd.DataFrame(dfyears)\n",
    "dfyears.to_csv('SPLyears.csv', mode = 'w', index=False)"
   ]
  },
  {
   "cell_type": "code",
   "execution_count": 20,
   "metadata": {},
   "outputs": [],
   "source": [
    "#Make sure all values are string (?) then get rid of all '[c', 'Â©' and then the rest of the brackets \n",
    "dfbook['publicationyear']= dfbook['publicationyear'].astype(str)\n",
    "dfbook['publicationyear'] =  dfbook['publicationyear'].apply(lambda x: x.replace('[c',''),'')\n",
    "#dfbook['publicationyear'] =  dfbook['publicationyear'].apply(lambda x: x.replace('Â©',''),'')\n",
    "dfbook['publicationyear'] =  dfbook['publicationyear'].apply(lambda x: x.replace('[','').replace(']','')) \n",
    "#dfbook['publicationyear'] = preg_replace(\"/(©|&copy;|&#169;)/\", \"\", dfbook['publicationyear'])\n",
    "#dfbook['publicationyear'] = str_replace(array('©'), array(''), dfbook['publicationyear'])"
   ]
  },
  {
   "cell_type": "code",
   "execution_count": 21,
   "metadata": {},
   "outputs": [
    {
     "data": {
      "text/plain": [
       "0    2014\n",
       "1    2015\n",
       "2    2017\n",
       "3    2018\n",
       "4    2017\n",
       "Name: publicationyear, dtype: object"
      ]
     },
     "execution_count": 21,
     "metadata": {},
     "output_type": "execute_result"
    }
   ],
   "source": [
    "#The year values are very difficult- lots of non numeric characters.\n",
    "#Use: https://realpython.com/python-data-cleaning-numpy-pandas/#combining-str-methods-with-numpy-to-clean-columns\n",
    "\n",
    "#reg expression: r'^(\\d{4})'  This takes the first four numeric digits.  Everything else goes to NaN\n",
    "extr = dfbook['publicationyear'].str.extract(r'^(\\d{4})', expand=False)\n",
    "extr.head()"
   ]
  },
  {
   "cell_type": "code",
   "execution_count": 22,
   "metadata": {},
   "outputs": [
    {
     "data": {
      "text/plain": [
       "dtype('float64')"
      ]
     },
     "execution_count": 22,
     "metadata": {},
     "output_type": "execute_result"
    }
   ],
   "source": [
    "#Convert to numeric and show datatype\n",
    "dfbook['publicationyear'] = pd.to_numeric(extr)\n",
    "dfbook['publicationyear'].dtype"
   ]
  },
  {
   "cell_type": "code",
   "execution_count": 23,
   "metadata": {},
   "outputs": [
    {
     "data": {
      "text/plain": [
       "0.1675703070464825"
      ]
     },
     "execution_count": 23,
     "metadata": {},
     "output_type": "execute_result"
    }
   ],
   "source": [
    "#What percent are Nan?\n",
    "dfbook['publicationyear'].isnull().sum() / len(dfbook)"
   ]
  },
  {
   "cell_type": "markdown",
   "metadata": {},
   "source": [
    "## Histogram of years"
   ]
  },
  {
   "cell_type": "code",
   "execution_count": 38,
   "metadata": {},
   "outputs": [],
   "source": [
    "#Open LFL year data\n",
    "lflyear = pd.read_csv('LFL-books-years.csv',encoding='utf-8')"
   ]
  },
  {
   "cell_type": "code",
   "execution_count": null,
   "metadata": {},
   "outputs": [],
   "source": []
  },
  {
   "cell_type": "code",
   "execution_count": 32,
   "metadata": {},
   "outputs": [
    {
     "data": {
      "text/plain": [
       "174091"
      ]
     },
     "execution_count": 32,
     "metadata": {},
     "output_type": "execute_result"
    }
   ],
   "source": [
    "#Set up a dataset with years going back as far as LFLs\n",
    "dfbookyr = dfbook.loc[dfbook['publicationyear']>1927]\n",
    "print(len(dfbookyr))\n",
    "dfbookyr.head()"
   ]
  },
  {
   "cell_type": "code",
   "execution_count": 44,
   "metadata": {},
   "outputs": [
    {
     "data": {
      "text/plain": [
       "(1900, 2020)"
      ]
     },
     "execution_count": 44,
     "metadata": {},
     "output_type": "execute_result"
    },
    {
     "data": {
      "image/png": "[encoded data removed]",
      "text/plain": [
       "<Figure size 576x360 with 1 Axes>"
      ]
     },
     "metadata": {},
     "output_type": "display_data"
    }
   ],
   "source": [
    "#'Density' Histogram of year published using mtlabplot (change kde to false for counts, or to get rid of gaussian line, change norm_hist to True)\n",
    "#yrhist = bks['yrpub'].plot.hist(bins=50)\n",
    "#Same thing using seaborn\n",
    "sns.set(style='whitegrid', palette=\"deep\", font_scale=1.1, rc={\"figure.figsize\": [8, 5]})\n",
    "\n",
    "#SPL\n",
    "p1= sns.distplot(\n",
    "    dfbookyr['publicationyear'], norm_hist=False, kde=True, bins=92, hist_kws={\"alpha\": 1}).set(xlabel='Year Published', ylabel='Percent')\n",
    "#LFL\n",
    "p1= sns.distplot(\n",
    "    lflyear['yrpub'], norm_hist=True, kde=False, bins=92, hist_kws={\"alpha\": 1}).set(xlabel='Year Published', ylabel='Percent')\n",
    "\n",
    "plt.legend(labels=['SPL','LFL'])\n",
    "plt.xlim(1900, 2020)"
   ]
  },
  {
   "cell_type": "code",
   "execution_count": 25,
   "metadata": {},
   "outputs": [
    {
     "name": "stderr",
     "output_type": "stream",
     "text": [
      "C:\\Users\\Andre\\Anaconda3\\lib\\site-packages\\numpy\\lib\\histograms.py:824: RuntimeWarning: invalid value encountered in greater_equal\n",
      "  keep = (tmp_a >= first_edge)\n",
      "C:\\Users\\Andre\\Anaconda3\\lib\\site-packages\\numpy\\lib\\histograms.py:825: RuntimeWarning: invalid value encountered in less_equal\n",
      "  keep &= (tmp_a <= last_edge)\n"
     ]
    },
    {
     "data": {
      "text/plain": [
       "[Text(0, 0.5, 'Count'), Text(0.5, 0, 'Year Published')]"
      ]
     },
     "execution_count": 25,
     "metadata": {},
     "output_type": "execute_result"
    },
    {
     "data": {
      "image/png": "[encoded data removed]",
      "text/plain": [
       "<Figure size 576x360 with 1 Axes>"
      ]
     },
     "metadata": {},
     "output_type": "display_data"
    }
   ],
   "source": [
    "#Histogram of year published using mtlabplot\n",
    "#yrhist = bks['yrpub'].plot.hist(bins=50)\n",
    "#Same thing using seaborn\n",
    "sns.set(style='whitegrid', palette=\"deep\", font_scale=1.1, rc={\"figure.figsize\": [8, 5]})\n",
    "sns.distplot(\n",
    "    dfbook['publicationyear'], norm_hist=False, kde=False, bins=100, hist_kws={\"alpha\": 1}\n",
    ").set(xlabel='Year Published', ylabel='Count')"
   ]
  },
  {
   "cell_type": "markdown",
   "metadata": {},
   "source": [
    "# Set up a dataframe with SPL data by neighborhood\n",
    "fiction/nonfiction, percent childrens, There is no Laurelhurst branch!!"
   ]
  },
  {
   "cell_type": "code",
   "execution_count": 45,
   "metadata": {},
   "outputs": [
    {
     "data": {
      "text/plain": [
       "array(['Fiction', nan, 'Nonfiction', 'Language', 'Reference'],\n",
       "      dtype=object)"
      ]
     },
     "execution_count": 45,
     "metadata": {},
     "output_type": "execute_result"
    }
   ],
   "source": [
    "dfbook.type.unique()"
   ]
  },
  {
   "cell_type": "code",
   "execution_count": null,
   "metadata": {},
   "outputs": [],
   "source": []
  },
  {
   "cell_type": "code",
   "execution_count": 46,
   "metadata": {},
   "outputs": [
    {
     "data": {
      "text/html": [
       "<div>\n",
       "<style scoped>\n",
       "    .dataframe tbody tr th:only-of-type {\n",
       "        vertical-align: middle;\n",
       "    }\n",
       "\n",
       "    .dataframe tbody tr th {\n",
       "        vertical-align: top;\n",
       "    }\n",
       "\n",
       "    .dataframe thead th {\n",
       "        text-align: right;\n",
       "    }\n",
       "</style>\n",
       "<table border=\"1\" class=\"dataframe\">\n",
       "  <thead>\n",
       "    <tr style=\"text-align: right;\">\n",
       "      <th></th>\n",
       "      <th>neighborhood</th>\n",
       "      <th>type</th>\n",
       "      <th>count</th>\n",
       "      <th>total</th>\n",
       "      <th>percent</th>\n",
       "    </tr>\n",
       "  </thead>\n",
       "  <tbody>\n",
       "    <tr>\n",
       "      <th>0</th>\n",
       "      <td>Central District</td>\n",
       "      <td>Fiction</td>\n",
       "      <td>6885</td>\n",
       "      <td>9679</td>\n",
       "      <td>0.711334</td>\n",
       "    </tr>\n",
       "    <tr>\n",
       "      <th>3</th>\n",
       "      <td>Columbia City</td>\n",
       "      <td>Fiction</td>\n",
       "      <td>18519</td>\n",
       "      <td>33417</td>\n",
       "      <td>0.554179</td>\n",
       "    </tr>\n",
       "    <tr>\n",
       "      <th>7</th>\n",
       "      <td>Montlake</td>\n",
       "      <td>Fiction</td>\n",
       "      <td>10656</td>\n",
       "      <td>16966</td>\n",
       "      <td>0.628080</td>\n",
       "    </tr>\n",
       "    <tr>\n",
       "      <th>10</th>\n",
       "      <td>Northgate</td>\n",
       "      <td>Fiction</td>\n",
       "      <td>20272</td>\n",
       "      <td>33916</td>\n",
       "      <td>0.597712</td>\n",
       "    </tr>\n",
       "    <tr>\n",
       "      <th>14</th>\n",
       "      <td>Phinney-Greenwood</td>\n",
       "      <td>Fiction</td>\n",
       "      <td>29032</td>\n",
       "      <td>53296</td>\n",
       "      <td>0.544731</td>\n",
       "    </tr>\n",
       "    <tr>\n",
       "      <th>18</th>\n",
       "      <td>Queen Anne</td>\n",
       "      <td>Fiction</td>\n",
       "      <td>13147</td>\n",
       "      <td>23297</td>\n",
       "      <td>0.564322</td>\n",
       "    </tr>\n",
       "    <tr>\n",
       "      <th>21</th>\n",
       "      <td>Ravenna</td>\n",
       "      <td>Fiction</td>\n",
       "      <td>20989</td>\n",
       "      <td>38088</td>\n",
       "      <td>0.551066</td>\n",
       "    </tr>\n",
       "  </tbody>\n",
       "</table>\n",
       "</div>"
      ],
      "text/plain": [
       "         neighborhood     type  count  total   percent\n",
       "0    Central District  Fiction   6885   9679  0.711334\n",
       "3       Columbia City  Fiction  18519  33417  0.554179\n",
       "7            Montlake  Fiction  10656  16966  0.628080\n",
       "10          Northgate  Fiction  20272  33916  0.597712\n",
       "14  Phinney-Greenwood  Fiction  29032  53296  0.544731\n",
       "18         Queen Anne  Fiction  13147  23297  0.564322\n",
       "21            Ravenna  Fiction  20989  38088  0.551066"
      ]
     },
     "execution_count": 46,
     "metadata": {},
     "output_type": "execute_result"
    }
   ],
   "source": [
    "#Set up a dataframe with the percent fiction\n",
    "\n",
    "#Groups count by Neighborhood, and type, calculates percent\n",
    "bksfiction = dfbook.groupby(['neighborhood', 'type'])['count'].sum().reset_index() #total of each category\n",
    "bksfiction['total'] = bksfiction.groupby('neighborhood')['count'].transform('sum') #Inserts total count for the neighborhood for each type in each neighborhood \n",
    "bksfiction['percent'] = bksfiction['count']/bksfiction['total']\n",
    "\n",
    "\n",
    "#Select fiction\n",
    "fic = bksfiction.loc[bksfiction['type']=='Fiction']\n",
    "fic.head(8)"
   ]
  },
  {
   "cell_type": "code",
   "execution_count": 24,
   "metadata": {},
   "outputs": [],
   "source": [
    "#Save csv file for further testing: \n",
    "dfbook.to_csv('SPL-dfbook.csv', mode = 'w', index=False)"
   ]
  },
  {
   "cell_type": "code",
   "execution_count": null,
   "metadata": {},
   "outputs": [],
   "source": []
  }
 ],
 "metadata": {
  "kernelspec": {
   "display_name": "Python 3",
   "language": "python",
   "name": "python3"
  },
  "language_info": {
   "codemirror_mode": {
    "name": "ipython",
    "version": 3
   },
   "file_extension": ".py",
   "mimetype": "text/x-python",
   "name": "python",
   "nbconvert_exporter": "python",
   "pygments_lexer": "ipython3",
   "version": "3.8.0"
  }
 },
 "nbformat": 4,
 "nbformat_minor": 2
}
