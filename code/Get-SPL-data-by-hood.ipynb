{
 "cells": [
  {
   "cell_type": "code",
   "execution_count": 1,
   "metadata": {},
   "outputs": [],
   "source": [
    "#import the required libraries\n",
    "import os\n",
    "import csv\n",
    "import requests\n",
    "import json as json\n",
    "import pandas as pd\n",
    "from pandas.io.json import json_normalize\n",
    "import datetime\n",
    "import numpy as np\n",
    "import matplotlib.pyplot as plt\n",
    "#is this needed?\n",
    "%matplotlib inline \n",
    "from matplotlib import cm\n",
    "import seaborn as sns\n"
   ]
  },
  {
   "cell_type": "markdown",
   "metadata": {},
   "source": [
    "## The following are api calls that provide some useful information"
   ]
  },
  {
   "cell_type": "code",
   "execution_count": null,
   "metadata": {},
   "outputs": [],
   "source": [
    "#Counts the number of books from 11/1/2019. Over 1.4 million\n",
    "https://data.seattle.gov/resource/6vkj-f5xf.json?$select=count(BibNum)&reportdate=2019-11-01T00:00:00.000\n",
    "#get list of neighborhoods\n",
    "https://data.seattle.gov/resource/6vkj-f5xf.json?$query=select distinct ItemLocation\n",
    "#See number by a neightborhood\n",
    "https://data.seattle.gov/resource/6vkj-f5xf.json?$select=count(BibNum)&ItemLocation=cen\n",
    "#I think we need: col, mon, qna, GWD or gwd? (I think gwd), nga, uni AND net, mgm (Madrona Sally Goaldman for central).\n",
    "#None in Laurelhusrt\n",
    "#This returns counts by location:\n",
    "https://data.seattle.gov/resource/6vkj-f5xf.json?$select=ItemLocation,count(BibNum)&$group=ItemLocation\n",
    "\n",
    "#Not sure if this works    \n",
    "https://data.seattle.gov/resource/6vkj-f5xf.json?$query=select count(BibNum) where ItemLocation=col OR ItemLocation=mon\n",
    "    \n",
    "    "
   ]
  },
  {
   "cell_type": "markdown",
   "metadata": {},
   "source": [
    "## Open json file"
   ]
  },
  {
   "cell_type": "code",
   "execution_count": 5,
   "metadata": {},
   "outputs": [],
   "source": [
    "#Open up the files for reading\n",
    "with open(\"SPL-bibCOUNTS-May2019.json\", \"r\") as read_file: #Replace this with the filename of your choice\n",
    "    jmay = json.load(read_file)\n",
    "with open(\"SPL-bibCOUNTS-July2019.json\", \"r\") as read_file: #Replace this with the filename of your choice\n",
    "    jjuly = json.load(read_file)\n"
   ]
  },
  {
   "cell_type": "markdown",
   "metadata": {},
   "source": [
    "## Get the number of books in branches\n",
    "col, mon, qna, GWD or gwd? (I think gwd), nga, uni AND net, mgm (Madrona Sally Goaldman for central).\n",
    "Use Uni for Laurelhusrt"
   ]
  },
  {
   "cell_type": "code",
   "execution_count": 7,
   "metadata": {},
   "outputs": [],
   "source": [
    "#This gets the recent ones for the neighborhoods and the date\n",
    "coldate1 = '\"2019-05-01T00:00:00.000\"'\n",
    "coldate2 = '\"2019-07-01T00:00:00.000\"'\n",
    "may=requests.get('https://data.seattle.gov/resource/6vkj-f5xf.json?$select=ItemLocation,count(BibNum)&$where=reportdate='+coldate1+'&$group=ItemLocation') #build string according to SOCRATA's convention to get public data assets\n",
    "july=requests.get('https://data.seattle.gov/resource/6vkj-f5xf.json?$select=ItemLocation,count(BibNum)&$where=reportdate='+coldate2+'&$group=ItemLocation') #build string according to SOCRATA's convention to get public data assets\n",
    "\n",
    "#THis one gets all:\n",
    "#r=requests.get('https://data.seattle.gov/resource/6vkj-f5xf.json?$select=ItemLocation,count(BibNum)&$group=ItemLocation') #build string according to SOCRATA's convention to get public data assets\n",
    "jmay=json.loads(may.text) #parse the json into a list\n",
    "jjuly=json.loads(july.text) #parse the json into a list\n"
   ]
  },
  {
   "cell_type": "code",
   "execution_count": 8,
   "metadata": {},
   "outputs": [
    {
     "name": "stdout",
     "output_type": "stream",
     "text": [
      "65\n",
      "33\n",
      "32\n"
     ]
    }
   ],
   "source": [
    "test = jmay +jjuly\n",
    "print(len(test))\n",
    "print(len(jmay))\n",
    "print(len(jjuly))"
   ]
  },
  {
   "cell_type": "code",
   "execution_count": 9,
   "metadata": {},
   "outputs": [
    {
     "data": {
      "text/plain": [
       "{'ItemLocation': 'col', 'count_BibNum': '32701'}"
      ]
     },
     "execution_count": 9,
     "metadata": {},
     "output_type": "execute_result"
    }
   ],
   "source": [
    "#jmay[0]\n",
    "jjuly[0]\n"
   ]
  },
  {
   "cell_type": "markdown",
   "metadata": {},
   "source": [
    "## Save the json files"
   ]
  },
  {
   "cell_type": "code",
   "execution_count": 10,
   "metadata": {},
   "outputs": [],
   "source": [
    "with open('SPL-bibCOUNTS-May2019.json', \"w\") as write_file:\n",
    "    json.dump(jmay, write_file)\n",
    "with open('SPL-bibCOUNTS-July2019.json', \"w\") as write_file:\n",
    "    json.dump(jjuly, write_file)"
   ]
  },
  {
   "cell_type": "markdown",
   "metadata": {},
   "source": [
    "## Get the count of books in your branches\n"
   ]
  },
  {
   "cell_type": "code",
   "execution_count": 11,
   "metadata": {},
   "outputs": [
    {
     "name": "stdout",
     "output_type": "stream",
     "text": [
      "List built: 6 elements\n",
      "List built: 3 elements\n"
     ]
    }
   ],
   "source": [
    "#col, mon, qna, GWD or gwd? (I think gwd), nga, uni AND net, mgm\n",
    "mayhoods = jmay #create a json file to mess with\n",
    "julyhoods = jjuly\n",
    "\n",
    "branches1=[] #dim list as a empty list\n",
    "\n",
    "for c in mayhoods:  #d is the dictionary of parsed json\n",
    "        if c['ItemLocation']=='col':\n",
    "            branches1.append(c['count_BibNum'])\n",
    "        if c['ItemLocation']=='mgm':\n",
    "            branches1.append(c['count_BibNum'])\n",
    "        if c['ItemLocation']=='qna':\n",
    "            branches1.append(c['count_BibNum'])\n",
    "        if c['ItemLocation']=='gwd':\n",
    "            branches1.append(c['count_BibNum'])\n",
    "        if c['ItemLocation']=='nga':\n",
    "            branches1.append(c['count_BibNum'])\n",
    "        if c['ItemLocation']=='uni':\n",
    "            branches1.append(c['count_BibNum'])\n",
    "\n",
    "            \n",
    "branches2=[] #dim list as a empty list\n",
    "\n",
    "for c in julyhoods:  #d is the dictionary of parsed json\n",
    "        if c['ItemLocation']=='uni':\n",
    "            branches2.append(c['count_BibNum'])\n",
    "        if c['ItemLocation']=='net':\n",
    "            branches2.append(c['count_BibNum'])\n",
    "        if c['ItemLocation']=='mon':\n",
    "            branches2.append(c['count_BibNum'])\n",
    "\n",
    "print(\"List built:\", len(branches1),\"elements\") #print how many elements are in lists\n",
    "print(\"List built:\", len(branches2),\"elements\")"
   ]
  },
  {
   "cell_type": "code",
   "execution_count": 12,
   "metadata": {},
   "outputs": [
    {
     "name": "stdout",
     "output_type": "stream",
     "text": [
      "0    31488\n",
      "1    34276\n",
      "2    30023\n",
      "3    51710\n",
      "4    23893\n",
      "5    10226\n",
      "Name: bibcount, dtype: int64\n",
      "0    16425\n",
      "1    30166\n",
      "2    60672\n",
      "Name: bibcount, dtype: int64\n"
     ]
    }
   ],
   "source": [
    "#Convert the dictionary to a dataframe\n",
    "bibctsmay = pd.DataFrame(branches1, columns=['bibcount'])\n",
    "bibctsmay = pd.to_numeric(bibctsmay['bibcount'])\n",
    "\n",
    "bibctsjuly = pd.DataFrame(branches2, columns=['bibcount'])\n",
    "bibctsjuly = pd.to_numeric(bibctsjuly['bibcount'])\n",
    "\n",
    "print(bibctsmay.head(10))\n",
    "print(bibctsjuly.head(10))\n"
   ]
  },
  {
   "cell_type": "code",
   "execution_count": 13,
   "metadata": {},
   "outputs": [
    {
     "name": "stdout",
     "output_type": "stream",
     "text": [
      "181616\n",
      "107263\n"
     ]
    }
   ],
   "source": [
    "#This is needed to get the totals for the next part which is gathering the actual data\n",
    "maybooks=bibctsmay.sum()\n",
    "julybooks=bibctsjuly.sum()\n",
    "print(maybooks)\n",
    "print(julybooks)"
   ]
  },
  {
   "cell_type": "markdown",
   "metadata": {},
   "source": [
    "# Retrieve Recent Records"
   ]
  },
  {
   "cell_type": "markdown",
   "metadata": {},
   "source": [
    "## Open previous json if alread gathered"
   ]
  },
  {
   "cell_type": "code",
   "execution_count": 2,
   "metadata": {},
   "outputs": [
    {
     "data": {
      "text/plain": [
       "262112"
      ]
     },
     "execution_count": 2,
     "metadata": {},
     "output_type": "execute_result"
    }
   ],
   "source": [
    "#Open up the  for reading\n",
    "with open(\"SPL-Study-Data.json\", \"r\") as read_file: #Replace this with the filename of your choice\n",
    "    l = json.load(read_file)\n",
    "count=len(l)\n",
    "count"
   ]
  },
  {
   "cell_type": "markdown",
   "metadata": {},
   "source": [
    "## Collect the data"
   ]
  },
  {
   "cell_type": "code",
   "execution_count": 14,
   "metadata": {},
   "outputs": [
    {
     "name": "stdout",
     "output_type": "stream",
     "text": [
      "288879\n"
     ]
    }
   ],
   "source": [
    "#col, mon, qna, GWD or gwd? (I think gwd), nga, uni AND net, mgm\n",
    "#This works in browser: https://data.seattle.gov/resource/6vkj-f5xf.json?$where=ItemLocation= 'col' or ItemLocation='mon' or ItemLocation='qna' or ItemLocation='gwd' or ItemLocation='mgm' or ItemLocation='nga' or ItemLocation='uni' or ItemLocation='net' and reportdate='2019-11-01T00:00:00.000'&$limit=\n",
    "#This gets the recent ones and limits the number to what was calculated above\n",
    "s=requests.get('https://data.seattle.gov/resource/6vkj-f5xf.json?$where=ItemLocation= \"col\" and reportdate=\"2019-05-01T00:00:00.000\" or ItemLocation=\"qna\" and reportdate=\"2019-05-01T00:00:00.000\" or ItemLocation=\"gwd\" and reportdate=\"2019-05-01T00:00:00.000\" or ItemLocation=\"mgm\" and reportdate=\"2019-05-01T00:00:00.000\" or ItemLocation=\"nga\" and reportdate=\"2019-05-01T00:00:00.000\" or ItemLocation=\"uni\" and reportdate=\"2019-05-01T00:00:00.000\"&$limit='+str(maybooks)) #build string according to SOCRATA's convention to get public data assets\n",
    "t=requests.get('https://data.seattle.gov/resource/6vkj-f5xf.json?$where=ItemLocation= \"mon\" and reportdate=\"2019-07-01T00:00:00.000\" or ItemLocation=\"uni\" and reportdate=\"2019-07-01T00:00:00.000\" or ItemLocation=\"net\" and reportdate=\"2019-07-01T00:00:00.000\"&$limit='+str(julybooks)) #build string according to SOCRATA's convention to get public data assets\n",
    "\n",
    "#Check this: https://stackoverflow.com/questions/42078161/python-appending-json-object-to-exisiting-json-object\n",
    "\n",
    "#THis one gets all:\n",
    "#r=requests.get('https://data.seattle.gov/resource/6vkj-f5xf.json?$select=ItemLocation,count(BibNum)&$group=ItemLocation') #build string according to SOCRATA's convention to get public data assets\n",
    "\n",
    "\n",
    "l=json.loads(s.text)\n",
    "m=json.loads(t.text)\n",
    "alldata= l + m\n",
    "print(len(alldata))\n"
   ]
  },
  {
   "cell_type": "markdown",
   "metadata": {},
   "source": [
    "## Save the json file"
   ]
  },
  {
   "cell_type": "code",
   "execution_count": 15,
   "metadata": {},
   "outputs": [],
   "source": [
    "with open('SPL-Study-Data.json', \"w\") as write_file:\n",
    "    json.dump(alldata, write_file)"
   ]
  },
  {
   "cell_type": "markdown",
   "metadata": {},
   "source": [
    "# Create CSV\n",
    "dataframe is df"
   ]
  },
  {
   "cell_type": "code",
   "execution_count": 16,
   "metadata": {},
   "outputs": [],
   "source": [
    "#Open a csv if already exists.  This is raw data\n",
    "df = pd.read_csv('SPL-Study-Data.csv',encoding='utf-8')"
   ]
  },
  {
   "cell_type": "code",
   "execution_count": 16,
   "metadata": {},
   "outputs": [
    {
     "name": "stdout",
     "output_type": "stream",
     "text": [
      "The resulting dataframe has 288879 rows\n"
     ]
    }
   ],
   "source": [
    "metadata=open('SPL-Study-Data.csv', 'w', newline='', encoding='utf-8')\n",
    "csv.writer(metadata).writerow(['bibnum','title','author','isbn','publicationyear','itemtype','itemcollection','itemlocation'])\n",
    "\n",
    "for i in alldata:\n",
    "    csv.writer(metadata).writerow([i['bibnum'],\n",
    "        i.get('title'),\n",
    "        i.get('author'),\n",
    "        i.get('isbn'),\n",
    "        i.get('publicationyear'),\n",
    "        i.get('itemtype'),\n",
    "        i['itemcollection'],\n",
    "        i['itemlocation']])\n",
    "       # i['reportdate']])                                   \n",
    "        #i.get('isbn'), #For any of these .get(), adding \",'N/A'\" will fill the null cells with 'N/A'. However, metadata assessment counts non nulls\n",
    "                                   \n",
    "\n",
    "metadata.close() #Close the output file, release all locks\n",
    "\n",
    "#Open up the same file as a dataframe. Encode cp1252 avoids a utf-8 error.  But here cp1252 produces an error!\n",
    "df = pd.read_csv('SPL-Study-Data.csv',encoding='utf-8')\n",
    "\n",
    "print('The resulting dataframe has',len(df),'rows')"
   ]
  },
  {
   "cell_type": "code",
   "execution_count": 17,
   "metadata": {},
   "outputs": [
    {
     "data": {
      "text/html": [
       "<div>\n",
       "<style scoped>\n",
       "    .dataframe tbody tr th:only-of-type {\n",
       "        vertical-align: middle;\n",
       "    }\n",
       "\n",
       "    .dataframe tbody tr th {\n",
       "        vertical-align: top;\n",
       "    }\n",
       "\n",
       "    .dataframe thead th {\n",
       "        text-align: right;\n",
       "    }\n",
       "</style>\n",
       "<table border=\"1\" class=\"dataframe\">\n",
       "  <thead>\n",
       "    <tr style=\"text-align: right;\">\n",
       "      <th></th>\n",
       "      <th>bibnum</th>\n",
       "      <th>title</th>\n",
       "      <th>author</th>\n",
       "      <th>isbn</th>\n",
       "      <th>publicationyear</th>\n",
       "      <th>itemtype</th>\n",
       "      <th>itemcollection</th>\n",
       "      <th>itemlocation</th>\n",
       "    </tr>\n",
       "  </thead>\n",
       "  <tbody>\n",
       "    <tr>\n",
       "      <th>0</th>\n",
       "      <td>3131733</td>\n",
       "      <td>Bats / Tedd Arnold.</td>\n",
       "      <td>Arnold, Tedd</td>\n",
       "      <td>0545778131, 1480679704, 9780545778138, 9781480...</td>\n",
       "      <td>[2015]</td>\n",
       "      <td>jcbk</td>\n",
       "      <td>ncenf</td>\n",
       "      <td>uni</td>\n",
       "    </tr>\n",
       "  </tbody>\n",
       "</table>\n",
       "</div>"
      ],
      "text/plain": [
       "    bibnum                title        author  \\\n",
       "0  3131733  Bats / Tedd Arnold.  Arnold, Tedd   \n",
       "\n",
       "                                                isbn publicationyear itemtype  \\\n",
       "0  0545778131, 1480679704, 9780545778138, 9781480...          [2015]     jcbk   \n",
       "\n",
       "  itemcollection itemlocation  \n",
       "0          ncenf          uni  "
      ]
     },
     "execution_count": 17,
     "metadata": {},
     "output_type": "execute_result"
    }
   ],
   "source": [
    "df.head(1)"
   ]
  },
  {
   "cell_type": "markdown",
   "metadata": {},
   "source": [
    "## Open data dictionary file to map fiction/nonfiction and media type"
   ]
  },
  {
   "cell_type": "code",
   "execution_count": 19,
   "metadata": {},
   "outputs": [
    {
     "data": {
      "text/html": [
       "<div>\n",
       "<style scoped>\n",
       "    .dataframe tbody tr th:only-of-type {\n",
       "        vertical-align: middle;\n",
       "    }\n",
       "\n",
       "    .dataframe tbody tr th {\n",
       "        vertical-align: top;\n",
       "    }\n",
       "\n",
       "    .dataframe thead th {\n",
       "        text-align: right;\n",
       "    }\n",
       "</style>\n",
       "<table border=\"1\" class=\"dataframe\">\n",
       "  <thead>\n",
       "    <tr style=\"text-align: right;\">\n",
       "      <th></th>\n",
       "      <th>itemtype</th>\n",
       "      <th>format</th>\n",
       "    </tr>\n",
       "  </thead>\n",
       "  <tbody>\n",
       "    <tr>\n",
       "      <th>0</th>\n",
       "      <td>acart</td>\n",
       "      <td>Art</td>\n",
       "    </tr>\n",
       "    <tr>\n",
       "      <th>1</th>\n",
       "      <td>acphoto</td>\n",
       "      <td>Art</td>\n",
       "    </tr>\n",
       "  </tbody>\n",
       "</table>\n",
       "</div>"
      ],
      "text/plain": [
       "  itemtype format\n",
       "0    acart    Art\n",
       "1  acphoto    Art"
      ]
     },
     "execution_count": 19,
     "metadata": {},
     "output_type": "execute_result"
    }
   ],
   "source": [
    "dftype = pd.read_csv('SPL-datadict-type.csv',encoding='utf-8')\n",
    "dftype.head(2)"
   ]
  },
  {
   "cell_type": "code",
   "execution_count": 20,
   "metadata": {},
   "outputs": [],
   "source": [
    "#Create a new dataframe with the data dictionary info. Inner join is intersection so removes rows with no partner in other dataframe\n",
    "dfall = pd.merge(df, dftype, on='itemtype', how='inner')"
   ]
  },
  {
   "cell_type": "code",
   "execution_count": 22,
   "metadata": {},
   "outputs": [
    {
     "data": {
      "text/html": [
       "<div>\n",
       "<style scoped>\n",
       "    .dataframe tbody tr th:only-of-type {\n",
       "        vertical-align: middle;\n",
       "    }\n",
       "\n",
       "    .dataframe tbody tr th {\n",
       "        vertical-align: top;\n",
       "    }\n",
       "\n",
       "    .dataframe thead th {\n",
       "        text-align: right;\n",
       "    }\n",
       "</style>\n",
       "<table border=\"1\" class=\"dataframe\">\n",
       "  <thead>\n",
       "    <tr style=\"text-align: right;\">\n",
       "      <th></th>\n",
       "      <th>itemcollection</th>\n",
       "      <th>type</th>\n",
       "    </tr>\n",
       "  </thead>\n",
       "  <tbody>\n",
       "    <tr>\n",
       "      <th>0</th>\n",
       "      <td>ncenf</td>\n",
       "      <td>Nonfiction</td>\n",
       "    </tr>\n",
       "    <tr>\n",
       "      <th>1</th>\n",
       "      <td>cabob</td>\n",
       "      <td>NaN</td>\n",
       "    </tr>\n",
       "  </tbody>\n",
       "</table>\n",
       "</div>"
      ],
      "text/plain": [
       "  itemcollection        type\n",
       "0          ncenf  Nonfiction\n",
       "1          cabob         NaN"
      ]
     },
     "execution_count": 22,
     "metadata": {},
     "output_type": "execute_result"
    }
   ],
   "source": [
    "dfcol = pd.read_csv('SPL-datadict-collection.csv',encoding='utf-8')\n",
    "dfcol.head(2)"
   ]
  },
  {
   "cell_type": "code",
   "execution_count": 23,
   "metadata": {},
   "outputs": [],
   "source": [
    "#Create a new dataframe with the data dictionary info. Inner join is intersection so removes rows with no partner in other dataframe\n",
    "dfall = pd.merge(dfall, dfcol, on='itemcollection', how='inner')"
   ]
  },
  {
   "cell_type": "code",
   "execution_count": 24,
   "metadata": {},
   "outputs": [
    {
     "name": "stdout",
     "output_type": "stream",
     "text": [
      "<class 'pandas.core.frame.DataFrame'>\n",
      "Int64Index: 288879 entries, 0 to 288878\n",
      "Data columns (total 10 columns):\n",
      "bibnum             288879 non-null int64\n",
      "title              288876 non-null object\n",
      "author             246647 non-null object\n",
      "isbn               253195 non-null object\n",
      "publicationyear    288621 non-null object\n",
      "itemtype           288879 non-null object\n",
      "itemcollection     288879 non-null object\n",
      "itemlocation       288879 non-null object\n",
      "format             288855 non-null object\n",
      "type               287944 non-null object\n",
      "dtypes: int64(1), object(9)\n",
      "memory usage: 24.2+ MB\n"
     ]
    }
   ],
   "source": [
    "dfall.info()"
   ]
  },
  {
   "cell_type": "markdown",
   "metadata": {},
   "source": [
    "## Pare down to books"
   ]
  },
  {
   "cell_type": "code",
   "execution_count": 25,
   "metadata": {},
   "outputs": [],
   "source": [
    "dfbook = dfall.loc[dfall['format']=='Book']\n"
   ]
  },
  {
   "cell_type": "code",
   "execution_count": 26,
   "metadata": {},
   "outputs": [
    {
     "name": "stdout",
     "output_type": "stream",
     "text": [
      "<class 'pandas.core.frame.DataFrame'>\n",
      "Int64Index: 235642 entries, 0 to 288844\n",
      "Data columns (total 10 columns):\n",
      "bibnum             235642 non-null int64\n",
      "title              235642 non-null object\n",
      "author             225599 non-null object\n",
      "isbn               234842 non-null object\n",
      "publicationyear    235443 non-null object\n",
      "itemtype           235642 non-null object\n",
      "itemcollection     235642 non-null object\n",
      "itemlocation       235642 non-null object\n",
      "format             235642 non-null object\n",
      "type               235255 non-null object\n",
      "dtypes: int64(1), object(9)\n",
      "memory usage: 19.8+ MB\n"
     ]
    }
   ],
   "source": [
    "dfbook.info()"
   ]
  },
  {
   "cell_type": "markdown",
   "metadata": {},
   "source": [
    "## Add neighborhood column"
   ]
  },
  {
   "cell_type": "code",
   "execution_count": 27,
   "metadata": {},
   "outputs": [
    {
     "data": {
      "text/html": [
       "<div>\n",
       "<style scoped>\n",
       "    .dataframe tbody tr th:only-of-type {\n",
       "        vertical-align: middle;\n",
       "    }\n",
       "\n",
       "    .dataframe tbody tr th {\n",
       "        vertical-align: top;\n",
       "    }\n",
       "\n",
       "    .dataframe thead th {\n",
       "        text-align: right;\n",
       "    }\n",
       "</style>\n",
       "<table border=\"1\" class=\"dataframe\">\n",
       "  <thead>\n",
       "    <tr style=\"text-align: right;\">\n",
       "      <th></th>\n",
       "      <th>itemlocation</th>\n",
       "      <th>neighborhood</th>\n",
       "      <th>count</th>\n",
       "    </tr>\n",
       "  </thead>\n",
       "  <tbody>\n",
       "    <tr>\n",
       "      <th>0</th>\n",
       "      <td>col</td>\n",
       "      <td>Columbia City</td>\n",
       "      <td>1</td>\n",
       "    </tr>\n",
       "    <tr>\n",
       "      <th>1</th>\n",
       "      <td>mon</td>\n",
       "      <td>Montlake</td>\n",
       "      <td>1</td>\n",
       "    </tr>\n",
       "  </tbody>\n",
       "</table>\n",
       "</div>"
      ],
      "text/plain": [
       "  itemlocation   neighborhood  count\n",
       "0          col  Columbia City      1\n",
       "1          mon       Montlake      1"
      ]
     },
     "execution_count": 27,
     "metadata": {},
     "output_type": "execute_result"
    }
   ],
   "source": [
    "dfhood = pd.read_csv('neighborhoods.csv',encoding='utf-8')\n",
    "dfhood.head(2)"
   ]
  },
  {
   "cell_type": "code",
   "execution_count": 28,
   "metadata": {},
   "outputs": [
    {
     "data": {
      "text/html": [
       "<div>\n",
       "<style scoped>\n",
       "    .dataframe tbody tr th:only-of-type {\n",
       "        vertical-align: middle;\n",
       "    }\n",
       "\n",
       "    .dataframe tbody tr th {\n",
       "        vertical-align: top;\n",
       "    }\n",
       "\n",
       "    .dataframe thead th {\n",
       "        text-align: right;\n",
       "    }\n",
       "</style>\n",
       "<table border=\"1\" class=\"dataframe\">\n",
       "  <thead>\n",
       "    <tr style=\"text-align: right;\">\n",
       "      <th></th>\n",
       "      <th>bibnum</th>\n",
       "      <th>title</th>\n",
       "      <th>author</th>\n",
       "      <th>isbn</th>\n",
       "      <th>publicationyear</th>\n",
       "      <th>itemtype</th>\n",
       "      <th>itemcollection</th>\n",
       "      <th>itemlocation</th>\n",
       "      <th>format</th>\n",
       "      <th>type</th>\n",
       "      <th>neighborhood</th>\n",
       "      <th>count</th>\n",
       "    </tr>\n",
       "  </thead>\n",
       "  <tbody>\n",
       "    <tr>\n",
       "      <th>0</th>\n",
       "      <td>3131733</td>\n",
       "      <td>Bats / Tedd Arnold.</td>\n",
       "      <td>Arnold, Tedd</td>\n",
       "      <td>0545778131, 1480679704, 9780545778138, 9781480...</td>\n",
       "      <td>[2015]</td>\n",
       "      <td>jcbk</td>\n",
       "      <td>ncenf</td>\n",
       "      <td>uni</td>\n",
       "      <td>Book</td>\n",
       "      <td>Nonfiction</td>\n",
       "      <td>Ravenna</td>\n",
       "      <td>1</td>\n",
       "    </tr>\n",
       "    <tr>\n",
       "      <th>1</th>\n",
       "      <td>3162791</td>\n",
       "      <td>Fresh delicious : poems from the farmer's mark...</td>\n",
       "      <td>Latham, Irene</td>\n",
       "      <td>1629791032, 9781629791036</td>\n",
       "      <td>[2016]</td>\n",
       "      <td>jcbk</td>\n",
       "      <td>ncenf</td>\n",
       "      <td>uni</td>\n",
       "      <td>Book</td>\n",
       "      <td>Nonfiction</td>\n",
       "      <td>Ravenna</td>\n",
       "      <td>1</td>\n",
       "    </tr>\n",
       "    <tr>\n",
       "      <th>2</th>\n",
       "      <td>3093916</td>\n",
       "      <td>The scoop on ice cream / by Bonnie Williams ; ...</td>\n",
       "      <td>Williams, Bonnie</td>\n",
       "      <td>1480663417, 1481409816, 1481409824, 9781480663...</td>\n",
       "      <td>2014.</td>\n",
       "      <td>jcbk</td>\n",
       "      <td>ncenf</td>\n",
       "      <td>uni</td>\n",
       "      <td>Book</td>\n",
       "      <td>Nonfiction</td>\n",
       "      <td>Ravenna</td>\n",
       "      <td>1</td>\n",
       "    </tr>\n",
       "    <tr>\n",
       "      <th>3</th>\n",
       "      <td>3278822</td>\n",
       "      <td>Race cars / designed and illustrated by David ...</td>\n",
       "      <td>West, David, 1956-</td>\n",
       "      <td>1625884036, 9781625884039</td>\n",
       "      <td>[2017]</td>\n",
       "      <td>jcbk</td>\n",
       "      <td>ncenf</td>\n",
       "      <td>uni</td>\n",
       "      <td>Book</td>\n",
       "      <td>Nonfiction</td>\n",
       "      <td>Ravenna</td>\n",
       "      <td>1</td>\n",
       "    </tr>\n",
       "    <tr>\n",
       "      <th>4</th>\n",
       "      <td>3025274</td>\n",
       "      <td>Lion, tiger, and bear / by Kate Ritchey ; with...</td>\n",
       "      <td>Ritchey, Kate</td>\n",
       "      <td>044848336X, 0448483378, 9780448483368, 9780448...</td>\n",
       "      <td>[2015]</td>\n",
       "      <td>jcbk</td>\n",
       "      <td>ncenf</td>\n",
       "      <td>uni</td>\n",
       "      <td>Book</td>\n",
       "      <td>Nonfiction</td>\n",
       "      <td>Ravenna</td>\n",
       "      <td>1</td>\n",
       "    </tr>\n",
       "  </tbody>\n",
       "</table>\n",
       "</div>"
      ],
      "text/plain": [
       "    bibnum                                              title  \\\n",
       "0  3131733                                Bats / Tedd Arnold.   \n",
       "1  3162791  Fresh delicious : poems from the farmer's mark...   \n",
       "2  3093916  The scoop on ice cream / by Bonnie Williams ; ...   \n",
       "3  3278822  Race cars / designed and illustrated by David ...   \n",
       "4  3025274  Lion, tiger, and bear / by Kate Ritchey ; with...   \n",
       "\n",
       "               author                                               isbn  \\\n",
       "0        Arnold, Tedd  0545778131, 1480679704, 9780545778138, 9781480...   \n",
       "1       Latham, Irene                          1629791032, 9781629791036   \n",
       "2    Williams, Bonnie  1480663417, 1481409816, 1481409824, 9781480663...   \n",
       "3  West, David, 1956-                          1625884036, 9781625884039   \n",
       "4       Ritchey, Kate  044848336X, 0448483378, 9780448483368, 9780448...   \n",
       "\n",
       "  publicationyear itemtype itemcollection itemlocation format        type  \\\n",
       "0          [2015]     jcbk          ncenf          uni   Book  Nonfiction   \n",
       "1          [2016]     jcbk          ncenf          uni   Book  Nonfiction   \n",
       "2           2014.     jcbk          ncenf          uni   Book  Nonfiction   \n",
       "3          [2017]     jcbk          ncenf          uni   Book  Nonfiction   \n",
       "4          [2015]     jcbk          ncenf          uni   Book  Nonfiction   \n",
       "\n",
       "  neighborhood  count  \n",
       "0      Ravenna      1  \n",
       "1      Ravenna      1  \n",
       "2      Ravenna      1  \n",
       "3      Ravenna      1  \n",
       "4      Ravenna      1  "
      ]
     },
     "execution_count": 28,
     "metadata": {},
     "output_type": "execute_result"
    }
   ],
   "source": [
    "#Create a new dataframe with the neighborhood info. Inner join is intersection so removes rows with no partner in other dataframe\n",
    "dfbook = pd.merge(dfbook, dfhood, on='itemlocation', how='inner')\n",
    "dfbook.head()"
   ]
  },
  {
   "cell_type": "code",
   "execution_count": 29,
   "metadata": {},
   "outputs": [
    {
     "data": {
      "text/plain": [
       "array(['jcbk', 'acbk', 'arbk', 'jrbk', 'bcbk', 'pkbknh'], dtype=object)"
      ]
     },
     "execution_count": 29,
     "metadata": {},
     "output_type": "execute_result"
    }
   ],
   "source": [
    "dfbook.itemtype.unique()"
   ]
  },
  {
   "cell_type": "code",
   "execution_count": 30,
   "metadata": {},
   "outputs": [],
   "source": []
  },
  {
   "cell_type": "markdown",
   "metadata": {},
   "source": [
    "## Clean book data"
   ]
  },
  {
   "cell_type": "markdown",
   "metadata": {},
   "source": [
    "## Deal with the book year data issues"
   ]
  },
  {
   "cell_type": "code",
   "execution_count": 32,
   "metadata": {},
   "outputs": [],
   "source": [
    "#Get a csv of the unique year values to look at problem values\n",
    "dfyears = dfbook.publicationyear.unique()\n",
    "dfyears = pd.DataFrame(dfyears)\n",
    "dfyears.to_csv('SPLyears.csv', mode = 'w', index=False)"
   ]
  },
  {
   "cell_type": "code",
   "execution_count": 33,
   "metadata": {},
   "outputs": [],
   "source": [
    "#Make sure all values are string (?) then get rid of all '[c', 'Â©' and then the rest of the brackets \n",
    "dfbook['publicationyear']= dfbook['publicationyear'].astype(str)\n",
    "dfbook['publicationyear'] =  dfbook['publicationyear'].apply(lambda x: x.replace('[c',''),'')\n",
    "#dfbook['publicationyear'] =  dfbook['publicationyear'].apply(lambda x: x.replace('Â©',''),'')\n",
    "dfbook['publicationyear'] =  dfbook['publicationyear'].apply(lambda x: x.replace('[','').replace(']','')) \n",
    "#dfbook['publicationyear'] = preg_replace(\"/(©|&copy;|&#169;)/\", \"\", dfbook['publicationyear'])\n",
    "#dfbook['publicationyear'] = str_replace(array('©'), array(''), dfbook['publicationyear'])"
   ]
  },
  {
   "cell_type": "code",
   "execution_count": 34,
   "metadata": {},
   "outputs": [],
   "source": [
    "#Create csv file to look at what date problems are left\n",
    "#The cleaning seems to do a very good job.  Any blanks appear to be blank at SPL too.\n",
    "dfbook.to_csv('SPL-book-data-cleaned.csv', mode = 'w', index=False)"
   ]
  },
  {
   "cell_type": "code",
   "execution_count": 35,
   "metadata": {},
   "outputs": [
    {
     "data": {
      "text/plain": [
       "0    2015\n",
       "1    2016\n",
       "2    2014\n",
       "3    2017\n",
       "4    2015\n",
       "Name: publicationyear, dtype: object"
      ]
     },
     "execution_count": 35,
     "metadata": {},
     "output_type": "execute_result"
    }
   ],
   "source": [
    "#The year values are very difficult- lots of non numeric characters.\n",
    "#Use: https://realpython.com/python-data-cleaning-numpy-pandas/#combining-str-methods-with-numpy-to-clean-columns\n",
    "\n",
    "#reg expression: r'^(\\d{4})'  This takes the first four numeric digits.  Everything else goes to NaN\n",
    "extr = dfbook['publicationyear'].str.extract(r'^(\\d{4})', expand=False)\n",
    "extr.head()"
   ]
  },
  {
   "cell_type": "code",
   "execution_count": 36,
   "metadata": {},
   "outputs": [
    {
     "data": {
      "text/plain": [
       "dtype('float64')"
      ]
     },
     "execution_count": 36,
     "metadata": {},
     "output_type": "execute_result"
    }
   ],
   "source": [
    "#Convert to numeric and show datatype\n",
    "dfbook['publicationyear'] = pd.to_numeric(extr)\n",
    "dfbook['publicationyear'].dtype"
   ]
  },
  {
   "cell_type": "code",
   "execution_count": 37,
   "metadata": {},
   "outputs": [
    {
     "data": {
      "text/plain": [
       "0.019092521706656707"
      ]
     },
     "execution_count": 37,
     "metadata": {},
     "output_type": "execute_result"
    }
   ],
   "source": [
    "#What percent are Nan?\n",
    "dfbook['publicationyear'].isnull().sum() / len(dfbook)"
   ]
  },
  {
   "cell_type": "code",
   "execution_count": 38,
   "metadata": {},
   "outputs": [],
   "source": [
    "#Save csv file: \n",
    "dfbook.to_csv('SPL-dfbook.csv', mode = 'w', index=False)"
   ]
  },
  {
   "cell_type": "markdown",
   "metadata": {},
   "source": [
    "## ANALSYS\n",
    "Should have a dfbook dataframe at this point"
   ]
  },
  {
   "cell_type": "code",
   "execution_count": null,
   "metadata": {},
   "outputs": [],
   "source": [
    "#Open a previous CSV\n",
    "dfbook = pd.read_csv('SPL-dfbook.csv',encoding='utf-8')"
   ]
  },
  {
   "cell_type": "markdown",
   "metadata": {},
   "source": [
    "### Histogram of years"
   ]
  },
  {
   "cell_type": "code",
   "execution_count": 39,
   "metadata": {},
   "outputs": [
    {
     "data": {
      "text/html": [
       "<div>\n",
       "<style scoped>\n",
       "    .dataframe tbody tr th:only-of-type {\n",
       "        vertical-align: middle;\n",
       "    }\n",
       "\n",
       "    .dataframe tbody tr th {\n",
       "        vertical-align: top;\n",
       "    }\n",
       "\n",
       "    .dataframe thead th {\n",
       "        text-align: right;\n",
       "    }\n",
       "</style>\n",
       "<table border=\"1\" class=\"dataframe\">\n",
       "  <thead>\n",
       "    <tr style=\"text-align: right;\">\n",
       "      <th></th>\n",
       "      <th>yrpub</th>\n",
       "      <th>count</th>\n",
       "      <th>neighborhood</th>\n",
       "      <th>collection</th>\n",
       "      <th>type</th>\n",
       "      <th>age</th>\n",
       "      <th>category1</th>\n",
       "      <th>category2</th>\n",
       "      <th>languages</th>\n",
       "      <th>originalLang</th>\n",
       "    </tr>\n",
       "  </thead>\n",
       "  <tbody>\n",
       "    <tr>\n",
       "      <th>0</th>\n",
       "      <td>2018</td>\n",
       "      <td>1</td>\n",
       "      <td>Central District</td>\n",
       "      <td>CentralDistrict4</td>\n",
       "      <td>Fiction</td>\n",
       "      <td>Adult</td>\n",
       "      <td>Thriller/Suspense</td>\n",
       "      <td>Null</td>\n",
       "      <td>English</td>\n",
       "      <td>English</td>\n",
       "    </tr>\n",
       "    <tr>\n",
       "      <th>1</th>\n",
       "      <td>1991</td>\n",
       "      <td>1</td>\n",
       "      <td>Laurelhurst</td>\n",
       "      <td>Laurelhurst2</td>\n",
       "      <td>Fiction</td>\n",
       "      <td>Adult</td>\n",
       "      <td>Cultural Studies</td>\n",
       "      <td>Null</td>\n",
       "      <td>English</td>\n",
       "      <td>English</td>\n",
       "    </tr>\n",
       "    <tr>\n",
       "      <th>2</th>\n",
       "      <td>2019</td>\n",
       "      <td>1</td>\n",
       "      <td>Central District</td>\n",
       "      <td>CentralDistrict1</td>\n",
       "      <td>Nonfiction</td>\n",
       "      <td>Adult</td>\n",
       "      <td>Cultural Studies</td>\n",
       "      <td>Null</td>\n",
       "      <td>English</td>\n",
       "      <td>English</td>\n",
       "    </tr>\n",
       "    <tr>\n",
       "      <th>3</th>\n",
       "      <td>1992</td>\n",
       "      <td>1</td>\n",
       "      <td>Central District</td>\n",
       "      <td>CentralDistrict1</td>\n",
       "      <td>Fiction</td>\n",
       "      <td>Adult</td>\n",
       "      <td>Novel</td>\n",
       "      <td>Null</td>\n",
       "      <td>English</td>\n",
       "      <td>English</td>\n",
       "    </tr>\n",
       "    <tr>\n",
       "      <th>4</th>\n",
       "      <td>2007</td>\n",
       "      <td>1</td>\n",
       "      <td>Central District</td>\n",
       "      <td>CentralDistrict1</td>\n",
       "      <td>Fiction</td>\n",
       "      <td>Adult</td>\n",
       "      <td>Religion</td>\n",
       "      <td>Null</td>\n",
       "      <td>English</td>\n",
       "      <td>English</td>\n",
       "    </tr>\n",
       "  </tbody>\n",
       "</table>\n",
       "</div>"
      ],
      "text/plain": [
       "   yrpub  count      neighborhood        collection        type    age  \\\n",
       "0   2018      1  Central District  CentralDistrict4     Fiction  Adult   \n",
       "1   1991      1       Laurelhurst      Laurelhurst2     Fiction  Adult   \n",
       "2   2019      1  Central District  CentralDistrict1  Nonfiction  Adult   \n",
       "3   1992      1  Central District  CentralDistrict1     Fiction  Adult   \n",
       "4   2007      1  Central District  CentralDistrict1     Fiction  Adult   \n",
       "\n",
       "           category1 category2 languages originalLang  \n",
       "0  Thriller/Suspense      Null   English      English  \n",
       "1   Cultural Studies      Null   English      English  \n",
       "2   Cultural Studies      Null   English      English  \n",
       "3              Novel      Null   English      English  \n",
       "4           Religion      Null   English      English  "
      ]
     },
     "execution_count": 39,
     "metadata": {},
     "output_type": "execute_result"
    }
   ],
   "source": [
    "#Open LFL year data\n",
    "lflyear = pd.read_csv('LFL-books-years.csv',encoding='utf-8')\n",
    "lflyear.head()"
   ]
  },
  {
   "cell_type": "code",
   "execution_count": null,
   "metadata": {},
   "outputs": [],
   "source": []
  },
  {
   "cell_type": "code",
   "execution_count": 40,
   "metadata": {},
   "outputs": [
    {
     "name": "stdout",
     "output_type": "stream",
     "text": [
      "231130\n"
     ]
    },
    {
     "data": {
      "text/html": [
       "<div>\n",
       "<style scoped>\n",
       "    .dataframe tbody tr th:only-of-type {\n",
       "        vertical-align: middle;\n",
       "    }\n",
       "\n",
       "    .dataframe tbody tr th {\n",
       "        vertical-align: top;\n",
       "    }\n",
       "\n",
       "    .dataframe thead th {\n",
       "        text-align: right;\n",
       "    }\n",
       "</style>\n",
       "<table border=\"1\" class=\"dataframe\">\n",
       "  <thead>\n",
       "    <tr style=\"text-align: right;\">\n",
       "      <th></th>\n",
       "      <th>bibnum</th>\n",
       "      <th>title</th>\n",
       "      <th>author</th>\n",
       "      <th>isbn</th>\n",
       "      <th>publicationyear</th>\n",
       "      <th>itemtype</th>\n",
       "      <th>itemcollection</th>\n",
       "      <th>itemlocation</th>\n",
       "      <th>format</th>\n",
       "      <th>type</th>\n",
       "      <th>neighborhood</th>\n",
       "      <th>count</th>\n",
       "    </tr>\n",
       "  </thead>\n",
       "  <tbody>\n",
       "    <tr>\n",
       "      <th>0</th>\n",
       "      <td>3131733</td>\n",
       "      <td>Bats / Tedd Arnold.</td>\n",
       "      <td>Arnold, Tedd</td>\n",
       "      <td>0545778131, 1480679704, 9780545778138, 9781480...</td>\n",
       "      <td>2015.0</td>\n",
       "      <td>jcbk</td>\n",
       "      <td>ncenf</td>\n",
       "      <td>uni</td>\n",
       "      <td>Book</td>\n",
       "      <td>Nonfiction</td>\n",
       "      <td>Ravenna</td>\n",
       "      <td>1</td>\n",
       "    </tr>\n",
       "    <tr>\n",
       "      <th>1</th>\n",
       "      <td>3162791</td>\n",
       "      <td>Fresh delicious : poems from the farmer's mark...</td>\n",
       "      <td>Latham, Irene</td>\n",
       "      <td>1629791032, 9781629791036</td>\n",
       "      <td>2016.0</td>\n",
       "      <td>jcbk</td>\n",
       "      <td>ncenf</td>\n",
       "      <td>uni</td>\n",
       "      <td>Book</td>\n",
       "      <td>Nonfiction</td>\n",
       "      <td>Ravenna</td>\n",
       "      <td>1</td>\n",
       "    </tr>\n",
       "    <tr>\n",
       "      <th>2</th>\n",
       "      <td>3093916</td>\n",
       "      <td>The scoop on ice cream / by Bonnie Williams ; ...</td>\n",
       "      <td>Williams, Bonnie</td>\n",
       "      <td>1480663417, 1481409816, 1481409824, 9781480663...</td>\n",
       "      <td>2014.0</td>\n",
       "      <td>jcbk</td>\n",
       "      <td>ncenf</td>\n",
       "      <td>uni</td>\n",
       "      <td>Book</td>\n",
       "      <td>Nonfiction</td>\n",
       "      <td>Ravenna</td>\n",
       "      <td>1</td>\n",
       "    </tr>\n",
       "    <tr>\n",
       "      <th>3</th>\n",
       "      <td>3278822</td>\n",
       "      <td>Race cars / designed and illustrated by David ...</td>\n",
       "      <td>West, David, 1956-</td>\n",
       "      <td>1625884036, 9781625884039</td>\n",
       "      <td>2017.0</td>\n",
       "      <td>jcbk</td>\n",
       "      <td>ncenf</td>\n",
       "      <td>uni</td>\n",
       "      <td>Book</td>\n",
       "      <td>Nonfiction</td>\n",
       "      <td>Ravenna</td>\n",
       "      <td>1</td>\n",
       "    </tr>\n",
       "    <tr>\n",
       "      <th>4</th>\n",
       "      <td>3025274</td>\n",
       "      <td>Lion, tiger, and bear / by Kate Ritchey ; with...</td>\n",
       "      <td>Ritchey, Kate</td>\n",
       "      <td>044848336X, 0448483378, 9780448483368, 9780448...</td>\n",
       "      <td>2015.0</td>\n",
       "      <td>jcbk</td>\n",
       "      <td>ncenf</td>\n",
       "      <td>uni</td>\n",
       "      <td>Book</td>\n",
       "      <td>Nonfiction</td>\n",
       "      <td>Ravenna</td>\n",
       "      <td>1</td>\n",
       "    </tr>\n",
       "  </tbody>\n",
       "</table>\n",
       "</div>"
      ],
      "text/plain": [
       "    bibnum                                              title  \\\n",
       "0  3131733                                Bats / Tedd Arnold.   \n",
       "1  3162791  Fresh delicious : poems from the farmer's mark...   \n",
       "2  3093916  The scoop on ice cream / by Bonnie Williams ; ...   \n",
       "3  3278822  Race cars / designed and illustrated by David ...   \n",
       "4  3025274  Lion, tiger, and bear / by Kate Ritchey ; with...   \n",
       "\n",
       "               author                                               isbn  \\\n",
       "0        Arnold, Tedd  0545778131, 1480679704, 9780545778138, 9781480...   \n",
       "1       Latham, Irene                          1629791032, 9781629791036   \n",
       "2    Williams, Bonnie  1480663417, 1481409816, 1481409824, 9781480663...   \n",
       "3  West, David, 1956-                          1625884036, 9781625884039   \n",
       "4       Ritchey, Kate  044848336X, 0448483378, 9780448483368, 9780448...   \n",
       "\n",
       "   publicationyear itemtype itemcollection itemlocation format        type  \\\n",
       "0           2015.0     jcbk          ncenf          uni   Book  Nonfiction   \n",
       "1           2016.0     jcbk          ncenf          uni   Book  Nonfiction   \n",
       "2           2014.0     jcbk          ncenf          uni   Book  Nonfiction   \n",
       "3           2017.0     jcbk          ncenf          uni   Book  Nonfiction   \n",
       "4           2015.0     jcbk          ncenf          uni   Book  Nonfiction   \n",
       "\n",
       "  neighborhood  count  \n",
       "0      Ravenna      1  \n",
       "1      Ravenna      1  \n",
       "2      Ravenna      1  \n",
       "3      Ravenna      1  \n",
       "4      Ravenna      1  "
      ]
     },
     "execution_count": 40,
     "metadata": {},
     "output_type": "execute_result"
    }
   ],
   "source": [
    "#Set up a dataset with years going back as far as LFLs\n",
    "dfbookyr = dfbook.loc[dfbook['publicationyear']>1927]\n",
    "print(len(dfbookyr))\n",
    "dfbookyr.head()"
   ]
  },
  {
   "cell_type": "code",
   "execution_count": 41,
   "metadata": {},
   "outputs": [
    {
     "data": {
      "text/plain": [
       "(1900, 2020)"
      ]
     },
     "execution_count": 41,
     "metadata": {},
     "output_type": "execute_result"
    },
    {
     "data": {
      "image/png": "[encoded data removed]",
      "text/plain": [
       "<Figure size 576x360 with 1 Axes>"
      ]
     },
     "metadata": {},
     "output_type": "display_data"
    }
   ],
   "source": [
    "#'Density' Histogram of year published using mtlabplot (change kde to false for counts, or to get rid of gaussian line, change norm_hist to True)\n",
    "#yrhist = bks['yrpub'].plot.hist(bins=50)\n",
    "#Same thing using seaborn\n",
    "sns.set(style='whitegrid', palette=\"deep\", font_scale=1.1, rc={\"figure.figsize\": [8, 5]})\n",
    "\n",
    "#SPL\n",
    "p1= sns.distplot(\n",
    "    dfbookyr['publicationyear'], norm_hist=False, kde=True, bins=92, hist_kws={\"alpha\": 1}).set(xlabel='Year Published', ylabel='Percent')\n",
    "#LFL\n",
    "p1= sns.distplot(\n",
    "    lflyear['yrpub'], norm_hist=True, kde=False, bins=92, hist_kws={\"alpha\": 1}).set(xlabel='Year Published', ylabel='Percent')\n",
    "\n",
    "plt.legend(labels=['SPL','LFL'])\n",
    "plt.xlim(1900, 2020)"
   ]
  },
  {
   "cell_type": "code",
   "execution_count": 11,
   "metadata": {},
   "outputs": [
    {
     "data": {
      "text/plain": [
       "(1900, 2020)"
      ]
     },
     "execution_count": 11,
     "metadata": {},
     "output_type": "execute_result"
    },
    {
     "data": {
      "image/png": "[encoded data removed]",
      "text/plain": [
       "<Figure size 576x360 with 1 Axes>"
      ]
     },
     "metadata": {},
     "output_type": "display_data"
    }
   ],
   "source": [
    "# BY NEIGHBORHOOD\n",
    "#'Density' Histogram of year published using mtlabplot (change kde to false for counts, or to get rid of gaussian line, change norm_hist to True)\n",
    "#yrhist = bks['yrpub'].plot.hist(bins=50)\n",
    "#Same thing using seaborn\n",
    "sns.set(style='whitegrid', palette=\"deep\", font_scale=1.1, rc={\"figure.figsize\": [8, 5]})\n",
    "\n",
    "hood = \"Columbia City\"\n",
    "\n",
    "#dfbookyrcol = dfbookyr[dfbookyr['itemlocation']=='col']\n",
    "dfbookyrcol = dfbookyr[dfbookyr['neighborhood']==hood]\n",
    "lflyearcol = lflyear[lflyear['neighborhood']==hood]\n",
    "\n",
    "#SPL\n",
    "p1= sns.distplot(\n",
    "    dfbookyrcol['publicationyear'], norm_hist=False, kde=True, bins=92, hist_kws={\"alpha\": 1}).set(xlabel='Year Published', ylabel='Percent')\n",
    "#LFL\n",
    "p1= sns.distplot(\n",
    "    lflyearcol['yrpub'], norm_hist=True, kde=False, bins=92, hist_kws={\"alpha\": 1}).set(xlabel='Year Published', ylabel='Percent')\n",
    "\n",
    "plt.legend(labels=['SPL','LFL'])\n",
    "plt.title(hood)\n",
    "plt.xlim(1900, 2020)"
   ]
  },
  {
   "cell_type": "code",
   "execution_count": 42,
   "metadata": {},
   "outputs": [
    {
     "data": {
      "text/plain": [
       "array(['Ravenna', 'Columbia City', 'Phinney-Greenwood', 'Queen Anne',\n",
       "       'Central District', 'Northgate', 'Montlake'], dtype=object)"
      ]
     },
     "execution_count": 42,
     "metadata": {},
     "output_type": "execute_result"
    }
   ],
   "source": [
    "dfbookyr.neighborhood.unique()"
   ]
  },
  {
   "cell_type": "code",
   "execution_count": 43,
   "metadata": {},
   "outputs": [
    {
     "data": {
      "text/html": [
       "<div>\n",
       "<style scoped>\n",
       "    .dataframe tbody tr th:only-of-type {\n",
       "        vertical-align: middle;\n",
       "    }\n",
       "\n",
       "    .dataframe tbody tr th {\n",
       "        vertical-align: top;\n",
       "    }\n",
       "\n",
       "    .dataframe thead th {\n",
       "        text-align: right;\n",
       "    }\n",
       "</style>\n",
       "<table border=\"1\" class=\"dataframe\">\n",
       "  <thead>\n",
       "    <tr style=\"text-align: right;\">\n",
       "      <th></th>\n",
       "      <th>neighborhood</th>\n",
       "    </tr>\n",
       "  </thead>\n",
       "  <tbody>\n",
       "    <tr>\n",
       "      <th>0</th>\n",
       "      <td>Ravenna</td>\n",
       "    </tr>\n",
       "    <tr>\n",
       "      <th>1</th>\n",
       "      <td>Columbia City</td>\n",
       "    </tr>\n",
       "    <tr>\n",
       "      <th>2</th>\n",
       "      <td>Phinney-Greenwood</td>\n",
       "    </tr>\n",
       "    <tr>\n",
       "      <th>3</th>\n",
       "      <td>Queen Anne</td>\n",
       "    </tr>\n",
       "    <tr>\n",
       "      <th>4</th>\n",
       "      <td>Central District</td>\n",
       "    </tr>\n",
       "  </tbody>\n",
       "</table>\n",
       "</div>"
      ],
      "text/plain": [
       "        neighborhood\n",
       "0            Ravenna\n",
       "1      Columbia City\n",
       "2  Phinney-Greenwood\n",
       "3         Queen Anne\n",
       "4   Central District"
      ]
     },
     "execution_count": 43,
     "metadata": {},
     "output_type": "execute_result"
    }
   ],
   "source": [
    "hoods = pd.DataFrame(dict(neighborhood=dfbookyr.neighborhood.unique()))\n",
    "hoods.head()\n"
   ]
  },
  {
   "cell_type": "code",
   "execution_count": 44,
   "metadata": {},
   "outputs": [
    {
     "name": "stdout",
     "output_type": "stream",
     "text": [
      "Ravenna\n",
      "Columbia City\n",
      "Phinney-Greenwood\n",
      "Queen Anne\n",
      "Central District\n",
      "Northgate\n",
      "Montlake\n"
     ]
    }
   ],
   "source": [
    "\n",
    "for h in hoods['neighborhood']:\n",
    "    hood=h\n",
    "    print(hood)\n"
   ]
  },
  {
   "cell_type": "code",
   "execution_count": 45,
   "metadata": {},
   "outputs": [
    {
     "data": {
      "image/png": "[encoded data removed]",
      "text/plain": [
       "<Figure size 1152x648 with 7 Axes>"
      ]
     },
     "metadata": {},
     "output_type": "display_data"
    }
   ],
   "source": [
    "# BY NEIGHBORHOOD\n",
    "#'Density' Histogram of year published using mtlabplot (change kde to false for counts, or to get rid of gaussian line, change norm_hist to True)\n",
    "#yrhist = bks['yrpub'].plot.hist(bins=50)\n",
    "#Same thing using seaborn\n",
    "sns.set(style='whitegrid', palette=\"deep\", font_scale=1.1, rc={\"figure.figsize\": [8, 5]})\n",
    "\n",
    "plt.rcParams[\"figure.figsize\"] = [16,9]\n",
    "\n",
    "# create a color palette\n",
    "palette = plt.get_cmap('tab20b')\n",
    "\n",
    "fig = plt.figure()\n",
    "fig.subplots_adjust(hspace=0.7, wspace=0.4)\n",
    "\n",
    "num=0\n",
    "for h in hoods['neighborhood']:\n",
    "    hood = h    \n",
    "    dfbookyrcol = dfbookyr[dfbookyr['neighborhood']==hood]\n",
    "    lflyearcol = lflyear[lflyear['neighborhood']==hood]\n",
    "    \n",
    "    num+=1\n",
    "    plt.subplot(4,2, num)\n",
    "    \n",
    "    #SPL\n",
    "    p1= sns.distplot(\n",
    "        dfbookyrcol['publicationyear'], norm_hist=False, kde=True, bins=92, hist_kws={\"alpha\": 1}).set(xlabel='Year Published', ylabel='Percent')\n",
    "    #LFL\n",
    "    p1= sns.distplot(\n",
    "        lflyearcol['yrpub'], norm_hist=True, kde=False, bins=92, hist_kws={\"alpha\": 1}).set(xlabel='Year Published', ylabel='Percent')\n",
    "\n",
    "    plt.legend(labels=['SPL','LFL'])\n",
    "    plt.title(hood)\n",
    "    plt.xlim(1900, 2020)"
   ]
  },
  {
   "cell_type": "markdown",
   "metadata": {},
   "source": [
    "# Set up a dataframe with SPL data by neighborhood\n",
    "fiction/nonfiction, percent childrens, There is no Laurelhurst branch!!"
   ]
  },
  {
   "cell_type": "code",
   "execution_count": 46,
   "metadata": {},
   "outputs": [
    {
     "data": {
      "text/plain": [
       "array(['Nonfiction', 'Fiction', 'Language', 'Reference', nan],\n",
       "      dtype=object)"
      ]
     },
     "execution_count": 46,
     "metadata": {},
     "output_type": "execute_result"
    }
   ],
   "source": [
    "dfbook.type.unique()"
   ]
  },
  {
   "cell_type": "markdown",
   "metadata": {},
   "source": [
    "### Percent Fiction"
   ]
  },
  {
   "cell_type": "code",
   "execution_count": 47,
   "metadata": {},
   "outputs": [
    {
     "data": {
      "text/html": [
       "<div>\n",
       "<style scoped>\n",
       "    .dataframe tbody tr th:only-of-type {\n",
       "        vertical-align: middle;\n",
       "    }\n",
       "\n",
       "    .dataframe tbody tr th {\n",
       "        vertical-align: top;\n",
       "    }\n",
       "\n",
       "    .dataframe thead th {\n",
       "        text-align: right;\n",
       "    }\n",
       "</style>\n",
       "<table border=\"1\" class=\"dataframe\">\n",
       "  <thead>\n",
       "    <tr style=\"text-align: right;\">\n",
       "      <th></th>\n",
       "      <th>neighborhood</th>\n",
       "      <th>type</th>\n",
       "      <th>count</th>\n",
       "      <th>total</th>\n",
       "      <th>percent</th>\n",
       "    </tr>\n",
       "  </thead>\n",
       "  <tbody>\n",
       "    <tr>\n",
       "      <th>0</th>\n",
       "      <td>Central District</td>\n",
       "      <td>Fiction</td>\n",
       "      <td>5485</td>\n",
       "      <td>7809</td>\n",
       "      <td>0.702395</td>\n",
       "    </tr>\n",
       "    <tr>\n",
       "      <th>3</th>\n",
       "      <td>Columbia City</td>\n",
       "      <td>Fiction</td>\n",
       "      <td>14870</td>\n",
       "      <td>26486</td>\n",
       "      <td>0.561429</td>\n",
       "    </tr>\n",
       "    <tr>\n",
       "      <th>7</th>\n",
       "      <td>Montlake</td>\n",
       "      <td>Fiction</td>\n",
       "      <td>7731</td>\n",
       "      <td>13001</td>\n",
       "      <td>0.594647</td>\n",
       "    </tr>\n",
       "    <tr>\n",
       "      <th>10</th>\n",
       "      <td>Northgate</td>\n",
       "      <td>Fiction</td>\n",
       "      <td>16174</td>\n",
       "      <td>27569</td>\n",
       "      <td>0.586673</td>\n",
       "    </tr>\n",
       "    <tr>\n",
       "      <th>14</th>\n",
       "      <td>Phinney-Greenwood</td>\n",
       "      <td>Fiction</td>\n",
       "      <td>22772</td>\n",
       "      <td>42934</td>\n",
       "      <td>0.530395</td>\n",
       "    </tr>\n",
       "    <tr>\n",
       "      <th>18</th>\n",
       "      <td>Queen Anne</td>\n",
       "      <td>Fiction</td>\n",
       "      <td>10197</td>\n",
       "      <td>18491</td>\n",
       "      <td>0.551457</td>\n",
       "    </tr>\n",
       "    <tr>\n",
       "      <th>22</th>\n",
       "      <td>Ravenna</td>\n",
       "      <td>Fiction</td>\n",
       "      <td>55198</td>\n",
       "      <td>98965</td>\n",
       "      <td>0.557753</td>\n",
       "    </tr>\n",
       "  </tbody>\n",
       "</table>\n",
       "</div>"
      ],
      "text/plain": [
       "         neighborhood     type  count  total   percent\n",
       "0    Central District  Fiction   5485   7809  0.702395\n",
       "3       Columbia City  Fiction  14870  26486  0.561429\n",
       "7            Montlake  Fiction   7731  13001  0.594647\n",
       "10          Northgate  Fiction  16174  27569  0.586673\n",
       "14  Phinney-Greenwood  Fiction  22772  42934  0.530395\n",
       "18         Queen Anne  Fiction  10197  18491  0.551457\n",
       "22            Ravenna  Fiction  55198  98965  0.557753"
      ]
     },
     "execution_count": 47,
     "metadata": {},
     "output_type": "execute_result"
    }
   ],
   "source": [
    "#Set up a dataframe with the percent fiction\n",
    "\n",
    "#Groups count by Neighborhood, and type, calculates percent\n",
    "bksfiction = dfbook.groupby(['neighborhood', 'type'])['count'].sum().reset_index() #total of each category\n",
    "bksfiction['total'] = bksfiction.groupby('neighborhood')['count'].transform('sum') #Inserts total count for the neighborhood for each type in each neighborhood \n",
    "bksfiction['percent'] = bksfiction['count']/bksfiction['total']\n",
    "\n",
    "\n",
    "#Select fiction\n",
    "fic = bksfiction.loc[bksfiction['type']=='Fiction']\n",
    "fic.head(8)"
   ]
  },
  {
   "cell_type": "code",
   "execution_count": 48,
   "metadata": {},
   "outputs": [
    {
     "name": "stdout",
     "output_type": "stream",
     "text": [
      "0.5629083335104461\n"
     ]
    }
   ],
   "source": [
    "fictionbks = fic['count'].sum()\n",
    "totalbks = fic['total'].sum()\n",
    "perfic = fictionbks/totalbks\n",
    "print(perfic)"
   ]
  },
  {
   "cell_type": "code",
   "execution_count": 49,
   "metadata": {},
   "outputs": [],
   "source": [
    "test = dfbook.copy()\n",
    "test['age'] = dfbook['itemtype'].str[:1]\n"
   ]
  },
  {
   "cell_type": "code",
   "execution_count": 50,
   "metadata": {},
   "outputs": [],
   "source": [
    "#Save csv file for further testing: \n",
    "fic.to_csv('SPL-fiction.csv', mode = 'w', index=False)"
   ]
  },
  {
   "cell_type": "markdown",
   "metadata": {},
   "source": [
    "### Percent Juvenile"
   ]
  },
  {
   "cell_type": "code",
   "execution_count": 51,
   "metadata": {},
   "outputs": [
    {
     "data": {
      "text/plain": [
       "array(['jcbk', 'acbk', 'arbk', 'jrbk', 'bcbk', 'pkbknh'], dtype=object)"
      ]
     },
     "execution_count": 51,
     "metadata": {},
     "output_type": "execute_result"
    }
   ],
   "source": [
    "dfbook.itemtype.unique()\n"
   ]
  },
  {
   "cell_type": "code",
   "execution_count": 52,
   "metadata": {},
   "outputs": [
    {
     "data": {
      "text/html": [
       "<div>\n",
       "<style scoped>\n",
       "    .dataframe tbody tr th:only-of-type {\n",
       "        vertical-align: middle;\n",
       "    }\n",
       "\n",
       "    .dataframe tbody tr th {\n",
       "        vertical-align: top;\n",
       "    }\n",
       "\n",
       "    .dataframe thead th {\n",
       "        text-align: right;\n",
       "    }\n",
       "</style>\n",
       "<table border=\"1\" class=\"dataframe\">\n",
       "  <thead>\n",
       "    <tr style=\"text-align: right;\">\n",
       "      <th></th>\n",
       "      <th>neighborhood</th>\n",
       "      <th>ageletter</th>\n",
       "      <th>count</th>\n",
       "      <th>total</th>\n",
       "      <th>percent</th>\n",
       "    </tr>\n",
       "  </thead>\n",
       "  <tbody>\n",
       "    <tr>\n",
       "      <th>0</th>\n",
       "      <td>Central District</td>\n",
       "      <td>a</td>\n",
       "      <td>3042</td>\n",
       "      <td>7809</td>\n",
       "      <td>0.389551</td>\n",
       "    </tr>\n",
       "    <tr>\n",
       "      <th>1</th>\n",
       "      <td>Central District</td>\n",
       "      <td>j</td>\n",
       "      <td>4706</td>\n",
       "      <td>7809</td>\n",
       "      <td>0.602638</td>\n",
       "    </tr>\n",
       "    <tr>\n",
       "      <th>2</th>\n",
       "      <td>Central District</td>\n",
       "      <td>p</td>\n",
       "      <td>61</td>\n",
       "      <td>7809</td>\n",
       "      <td>0.007811</td>\n",
       "    </tr>\n",
       "    <tr>\n",
       "      <th>3</th>\n",
       "      <td>Columbia City</td>\n",
       "      <td>a</td>\n",
       "      <td>14818</td>\n",
       "      <td>26486</td>\n",
       "      <td>0.559465</td>\n",
       "    </tr>\n",
       "    <tr>\n",
       "      <th>4</th>\n",
       "      <td>Columbia City</td>\n",
       "      <td>b</td>\n",
       "      <td>8</td>\n",
       "      <td>26486</td>\n",
       "      <td>0.000302</td>\n",
       "    </tr>\n",
       "  </tbody>\n",
       "</table>\n",
       "</div>"
      ],
      "text/plain": [
       "       neighborhood ageletter  count  total   percent\n",
       "0  Central District         a   3042   7809  0.389551\n",
       "1  Central District         j   4706   7809  0.602638\n",
       "2  Central District         p     61   7809  0.007811\n",
       "3     Columbia City         a  14818  26486  0.559465\n",
       "4     Columbia City         b      8  26486  0.000302"
      ]
     },
     "execution_count": 52,
     "metadata": {},
     "output_type": "execute_result"
    }
   ],
   "source": [
    "#Set up a dataframe with the juvenile books. Uses the dfbook dataframe saved before analysis\n",
    "\n",
    "#Groups count by Neighborhood, and itemtype, calculates percent\n",
    "bksage = dfbook.groupby(['neighborhood', 'itemtype'])['count'].sum().reset_index() #total of each category\n",
    "bksage['ageletter'] = bksage['itemtype'].str[:1] #selects first letter of itemtype code (a=adult and YA, j=juvenile)\n",
    "bksagelist = bksage.groupby(['neighborhood','ageletter'])['count'].apply(lambda x : x.astype(int).sum()) #sums up the a's and j's by neighborhood\n",
    "bksage = pd.DataFrame(bksagelist).reset_index()\n",
    "bksage['total'] = bksage.groupby('neighborhood')['count'].transform('sum') #Inserts total count for the neighborhood for each type in each neighborhood\n",
    "\n",
    "bksage['percent'] = bksage['count']/bksage['total']\n",
    "\n",
    "bksage.head()\n"
   ]
  },
  {
   "cell_type": "code",
   "execution_count": 53,
   "metadata": {},
   "outputs": [
    {
     "data": {
      "text/html": [
       "<div>\n",
       "<style scoped>\n",
       "    .dataframe tbody tr th:only-of-type {\n",
       "        vertical-align: middle;\n",
       "    }\n",
       "\n",
       "    .dataframe tbody tr th {\n",
       "        vertical-align: top;\n",
       "    }\n",
       "\n",
       "    .dataframe thead th {\n",
       "        text-align: right;\n",
       "    }\n",
       "</style>\n",
       "<table border=\"1\" class=\"dataframe\">\n",
       "  <thead>\n",
       "    <tr style=\"text-align: right;\">\n",
       "      <th></th>\n",
       "      <th>neighborhood</th>\n",
       "      <th>ageletter</th>\n",
       "      <th>count</th>\n",
       "      <th>total</th>\n",
       "      <th>percent</th>\n",
       "    </tr>\n",
       "  </thead>\n",
       "  <tbody>\n",
       "    <tr>\n",
       "      <th>1</th>\n",
       "      <td>Central District</td>\n",
       "      <td>j</td>\n",
       "      <td>4706</td>\n",
       "      <td>7809</td>\n",
       "      <td>0.602638</td>\n",
       "    </tr>\n",
       "    <tr>\n",
       "      <th>5</th>\n",
       "      <td>Columbia City</td>\n",
       "      <td>j</td>\n",
       "      <td>11587</td>\n",
       "      <td>26486</td>\n",
       "      <td>0.437476</td>\n",
       "    </tr>\n",
       "    <tr>\n",
       "      <th>9</th>\n",
       "      <td>Montlake</td>\n",
       "      <td>j</td>\n",
       "      <td>6266</td>\n",
       "      <td>13006</td>\n",
       "      <td>0.481778</td>\n",
       "    </tr>\n",
       "    <tr>\n",
       "      <th>13</th>\n",
       "      <td>Northgate</td>\n",
       "      <td>j</td>\n",
       "      <td>11591</td>\n",
       "      <td>27569</td>\n",
       "      <td>0.420436</td>\n",
       "    </tr>\n",
       "    <tr>\n",
       "      <th>17</th>\n",
       "      <td>Phinney-Greenwood</td>\n",
       "      <td>j</td>\n",
       "      <td>18297</td>\n",
       "      <td>42934</td>\n",
       "      <td>0.426166</td>\n",
       "    </tr>\n",
       "    <tr>\n",
       "      <th>21</th>\n",
       "      <td>Queen Anne</td>\n",
       "      <td>j</td>\n",
       "      <td>7791</td>\n",
       "      <td>18491</td>\n",
       "      <td>0.421340</td>\n",
       "    </tr>\n",
       "    <tr>\n",
       "      <th>25</th>\n",
       "      <td>Ravenna</td>\n",
       "      <td>j</td>\n",
       "      <td>39707</td>\n",
       "      <td>99347</td>\n",
       "      <td>0.399680</td>\n",
       "    </tr>\n",
       "  </tbody>\n",
       "</table>\n",
       "</div>"
      ],
      "text/plain": [
       "         neighborhood ageletter  count  total   percent\n",
       "1    Central District         j   4706   7809  0.602638\n",
       "5       Columbia City         j  11587  26486  0.437476\n",
       "9            Montlake         j   6266  13006  0.481778\n",
       "13          Northgate         j  11591  27569  0.420436\n",
       "17  Phinney-Greenwood         j  18297  42934  0.426166\n",
       "21         Queen Anne         j   7791  18491  0.421340\n",
       "25            Ravenna         j  39707  99347  0.399680"
      ]
     },
     "execution_count": 53,
     "metadata": {},
     "output_type": "execute_result"
    }
   ],
   "source": [
    "#Select juveniles\n",
    "bksjuv = bksage.loc[bksage['ageletter']=='j']\n",
    "bksjuv.head(8)\n"
   ]
  },
  {
   "cell_type": "code",
   "execution_count": 54,
   "metadata": {},
   "outputs": [],
   "source": [
    "#Save csv file for further testing: \n",
    "bksjuv.to_csv('SPL-juvenilePercent.csv', mode = 'w', index=False)"
   ]
  },
  {
   "cell_type": "code",
   "execution_count": null,
   "metadata": {},
   "outputs": [],
   "source": []
  },
  {
   "cell_type": "code",
   "execution_count": null,
   "metadata": {},
   "outputs": [],
   "source": []
  }
 ],
 "metadata": {
  "kernelspec": {
   "display_name": "Python 3",
   "language": "python",
   "name": "python3"
  },
  "language_info": {
   "codemirror_mode": {
    "name": "ipython",
    "version": 3
   },
   "file_extension": ".py",
   "mimetype": "text/x-python",
   "name": "python",
   "nbconvert_exporter": "python",
   "pygments_lexer": "ipython3",
   "version": "3.7.3"
  }
 },
 "nbformat": 4,
 "nbformat_minor": 2
}
